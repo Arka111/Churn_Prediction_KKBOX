{
 "cells": [
  {
   "cell_type": "code",
   "execution_count": 1,
   "metadata": {
    "collapsed": true
   },
   "outputs": [],
   "source": [
    "import os\n",
    "import pandas as pd\n",
    "from time import time\n",
    "from datetime import timedelta"
   ]
  },
  {
   "cell_type": "markdown",
   "metadata": {},
   "source": [
    "#### Retrieve eligible users for prediction"
   ]
  },
  {
   "cell_type": "code",
   "execution_count": 2,
   "metadata": {
    "collapsed": true
   },
   "outputs": [],
   "source": [
    "train_dir = os.path.join(os.pardir, 'data', 'raw', 'train.csv')\n",
    "s_users = pd.read_csv(train_dir, usecols = ['msno'])"
   ]
  },
  {
   "cell_type": "code",
   "execution_count": 3,
   "metadata": {
    "collapsed": true
   },
   "outputs": [],
   "source": [
    "current_users = s_users.msno.values"
   ]
  },
  {
   "cell_type": "markdown",
   "metadata": {},
   "source": [
    "#### Compute monthly activity"
   ]
  },
  {
   "cell_type": "code",
   "execution_count": 4,
   "metadata": {},
   "outputs": [
    {
     "name": "stdout",
     "output_type": "stream",
     "text": [
      "Number of rows =  392106544\n"
     ]
    }
   ],
   "source": [
    "# create file path and compute total number of lines\n",
    "user_log_dir = os.path.join(os.pardir, 'data', 'raw', 'user_logs.csv')\n",
    "Total_rows = sum(1 for line in open(user_log_dir))\n",
    "print('Number of rows = ', Total_rows)"
   ]
  },
  {
   "cell_type": "code",
   "execution_count": 5,
   "metadata": {
    "collapsed": true
   },
   "outputs": [],
   "source": [
    "# number of rows\n",
    "# Num_rows = 1e6\n",
    "Num_rows = 20e6"
   ]
  },
  {
   "cell_type": "code",
   "execution_count": 13,
   "metadata": {
    "collapsed": true
   },
   "outputs": [],
   "source": [
    "# USERS LOG IS SORTED BY CUSTOMER ID\n",
    "# create file iterator\n",
    "reader_iter = pd.read_csv(user_log_dir, index_col = 'date', parse_dates=['date'], chunksize=Num_rows,\\\n",
    "        usecols = ['msno', 'date', 'total_secs'])\n",
    "# NOTE: couldn't cast values to int32 to reduce space complexity. The reason being there are extremely high values\n",
    "# which requires 64 bits. This a floating point too"
   ]
  },
  {
   "cell_type": "code",
   "execution_count": 14,
   "metadata": {
    "collapsed": true
   },
   "outputs": [],
   "source": [
    "df_song_tot = pd.DataFrame(index= pd.MultiIndex( levels=[[]]*2, labels = [[]]*2, names=['msno', 'date']), \\\n",
    "                 columns=['total_secs']).astype('float64')\n",
    "# initialize varaible type to float64 to match data read"
   ]
  },
  {
   "cell_type": "code",
   "execution_count": 15,
   "metadata": {},
   "outputs": [
    {
     "name": "stdout",
     "output_type": "stream",
     "text": [
      "      100.0% done \t--- 0:35:23.197050 seconds ellapsed ---"
     ]
    }
   ],
   "source": [
    "# get start time of timer for processing time\n",
    "start_time = time()\n",
    "row_counter = 0\n",
    "\n",
    "for df_chunk in reader_iter:\n",
    "    \n",
    "    # keep track of progress\n",
    "    row_counter += df_chunk.shape[0]\n",
    "    \n",
    "    # keep only eligible users\n",
    "    df_chunk = df_chunk[df_chunk.msno.isin(current_users)]\n",
    "    \n",
    "    # discard extreme values\n",
    "    # we will take the average per month so even if we were to replace those missing values \n",
    "    # by the mean, it will not change our results!\n",
    "    df_chunk = df_chunk[(df_chunk.total_secs > 0) & (df_chunk.total_secs < 24*3600)]\n",
    "\n",
    "    # group by user and month\n",
    "    df_song_tot_chunk = df_chunk.groupby(['msno', pd.Grouper(level='date', freq='M')], sort = False).sum()\n",
    "    \n",
    "    # add last time serie to global time serie\n",
    "    df_song_tot = df_song_tot.add(df_song_tot_chunk, fill_value = 0)\n",
    "    \n",
    "    # print progress after each processed chunk\n",
    "    print('\\r {:10.1f}% done \\t--- {} seconds ellapsed ---'.format(row_counter/Total_rows*100,\\\n",
    "                                timedelta(seconds = time() - start_time)) ,end='', flush=True)"
   ]
  },
  {
   "cell_type": "markdown",
   "metadata": {
    "collapsed": true
   },
   "source": [
    "#### Pivot dates"
   ]
  },
  {
   "cell_type": "code",
   "execution_count": 56,
   "metadata": {
    "collapsed": true
   },
   "outputs": [],
   "source": [
    "df_unstack = df_song_tot.unstack(level='date', fill_value=0)"
   ]
  },
  {
   "cell_type": "code",
   "execution_count": 57,
   "metadata": {
    "collapsed": true
   },
   "outputs": [],
   "source": [
    "# save all data available (optional)\n",
    "# Totalfull_inter_dir = os.path.join(os.pardir, 'data', 'interim', 'song_total_fulldate_rawcount.p34')\n",
    "# df_unstack.to_pickle(Totalfull_inter_dir)"
   ]
  },
  {
   "cell_type": "code",
   "execution_count": 58,
   "metadata": {
    "collapsed": true
   },
   "outputs": [],
   "source": [
    "# recover only the last 6 months labels\n",
    "post_6_month = df_unstack.columns.get_level_values(level = 1).unique()[:-6]"
   ]
  },
  {
   "cell_type": "code",
   "execution_count": 59,
   "metadata": {
    "collapsed": true
   },
   "outputs": [],
   "source": [
    "# discard months prior to to 6 months\n",
    "df_unstack = df_unstack.drop(labels=post_6_month, axis = 1, level = 1)"
   ]
  },
  {
   "cell_type": "markdown",
   "metadata": {},
   "source": [
    "NOTE: There are users who have a membership but did not show any activity"
   ]
  },
  {
   "cell_type": "code",
   "execution_count": 60,
   "metadata": {},
   "outputs": [
    {
     "name": "stdout",
     "output_type": "stream",
     "text": [
      "Number of missing users = 123006\n"
     ]
    }
   ],
   "source": [
    "# number of eligible users who have no activity\n",
    "num_missing_users = len(current_users) - df_unstack.shape[0]\n",
    "print('Number of missing users =', num_missing_users)"
   ]
  },
  {
   "cell_type": "markdown",
   "metadata": {},
   "source": [
    "#### Convert count to average number of songs per month"
   ]
  },
  {
   "cell_type": "code",
   "execution_count": 61,
   "metadata": {
    "collapsed": true
   },
   "outputs": [],
   "source": [
    "# normalize count by number of days\n",
    "df_unstack = df_unstack.divide(df_unstack.columns.get_level_values(level = 1).daysinmonth)"
   ]
  },
  {
   "cell_type": "code",
   "execution_count": 62,
   "metadata": {
    "collapsed": true
   },
   "outputs": [],
   "source": [
    "# save on memory by converting float64 count to int32\n",
    "# We don't need fractions of a second precision, casting will floor floating point values\n",
    "df_unstack = df_unstack.astype('int32')"
   ]
  },
  {
   "cell_type": "code",
   "execution_count": 63,
   "metadata": {},
   "outputs": [
    {
     "data": {
      "text/html": [
       "<div>\n",
       "<style scoped>\n",
       "    .dataframe tbody tr th:only-of-type {\n",
       "        vertical-align: middle;\n",
       "    }\n",
       "\n",
       "    .dataframe tbody tr th {\n",
       "        vertical-align: top;\n",
       "    }\n",
       "\n",
       "    .dataframe thead tr th {\n",
       "        text-align: left;\n",
       "    }\n",
       "\n",
       "    .dataframe thead tr:last-of-type th {\n",
       "        text-align: right;\n",
       "    }\n",
       "</style>\n",
       "<table border=\"1\" class=\"dataframe\">\n",
       "  <thead>\n",
       "    <tr>\n",
       "      <th></th>\n",
       "      <th colspan=\"6\" halign=\"left\">total_secs</th>\n",
       "    </tr>\n",
       "    <tr>\n",
       "      <th>date</th>\n",
       "      <th>2016-09-30</th>\n",
       "      <th>2016-10-31</th>\n",
       "      <th>2016-11-30</th>\n",
       "      <th>2016-12-31</th>\n",
       "      <th>2017-01-31</th>\n",
       "      <th>2017-02-28</th>\n",
       "    </tr>\n",
       "    <tr>\n",
       "      <th>msno</th>\n",
       "      <th></th>\n",
       "      <th></th>\n",
       "      <th></th>\n",
       "      <th></th>\n",
       "      <th></th>\n",
       "      <th></th>\n",
       "    </tr>\n",
       "  </thead>\n",
       "  <tbody>\n",
       "    <tr>\n",
       "      <th>+++hVY1rZox/33YtvDgmKA2Frg/2qhkz12B9ylCvh8o=</th>\n",
       "      <td>0</td>\n",
       "      <td>0</td>\n",
       "      <td>4955</td>\n",
       "      <td>8284</td>\n",
       "      <td>5092</td>\n",
       "      <td>5590</td>\n",
       "    </tr>\n",
       "    <tr>\n",
       "      <th>+++l/EXNMLTijfLBa8p2TUVVVp2aFGSuUI/h7mLmthw=</th>\n",
       "      <td>5780</td>\n",
       "      <td>6152</td>\n",
       "      <td>4444</td>\n",
       "      <td>4999</td>\n",
       "      <td>6390</td>\n",
       "      <td>6750</td>\n",
       "    </tr>\n",
       "    <tr>\n",
       "      <th>+++snpr7pmobhLKUgSHTv/mpkqgBT0tQJ0zQj6qKrqc=</th>\n",
       "      <td>3940</td>\n",
       "      <td>4911</td>\n",
       "      <td>9647</td>\n",
       "      <td>5454</td>\n",
       "      <td>6959</td>\n",
       "      <td>4420</td>\n",
       "    </tr>\n",
       "    <tr>\n",
       "      <th>++/9R3sX37CjxbY/AaGvbwr3QkwElKBCtSvVzhCBDOk=</th>\n",
       "      <td>6816</td>\n",
       "      <td>4588</td>\n",
       "      <td>4312</td>\n",
       "      <td>4282</td>\n",
       "      <td>3420</td>\n",
       "      <td>2816</td>\n",
       "    </tr>\n",
       "    <tr>\n",
       "      <th>++/UDNo9DLrxT8QVGiDi1OnWfczAdEwThaVyD0fXO50=</th>\n",
       "      <td>1314</td>\n",
       "      <td>1361</td>\n",
       "      <td>980</td>\n",
       "      <td>1750</td>\n",
       "      <td>1669</td>\n",
       "      <td>1757</td>\n",
       "    </tr>\n",
       "  </tbody>\n",
       "</table>\n",
       "</div>"
      ],
      "text/plain": [
       "                                             total_secs                        \\\n",
       "date                                         2016-09-30 2016-10-31 2016-11-30   \n",
       "msno                                                                            \n",
       "+++hVY1rZox/33YtvDgmKA2Frg/2qhkz12B9ylCvh8o=          0          0       4955   \n",
       "+++l/EXNMLTijfLBa8p2TUVVVp2aFGSuUI/h7mLmthw=       5780       6152       4444   \n",
       "+++snpr7pmobhLKUgSHTv/mpkqgBT0tQJ0zQj6qKrqc=       3940       4911       9647   \n",
       "++/9R3sX37CjxbY/AaGvbwr3QkwElKBCtSvVzhCBDOk=       6816       4588       4312   \n",
       "++/UDNo9DLrxT8QVGiDi1OnWfczAdEwThaVyD0fXO50=       1314       1361        980   \n",
       "\n",
       "                                                                               \n",
       "date                                         2016-12-31 2017-01-31 2017-02-28  \n",
       "msno                                                                           \n",
       "+++hVY1rZox/33YtvDgmKA2Frg/2qhkz12B9ylCvh8o=       8284       5092       5590  \n",
       "+++l/EXNMLTijfLBa8p2TUVVVp2aFGSuUI/h7mLmthw=       4999       6390       6750  \n",
       "+++snpr7pmobhLKUgSHTv/mpkqgBT0tQJ0zQj6qKrqc=       5454       6959       4420  \n",
       "++/9R3sX37CjxbY/AaGvbwr3QkwElKBCtSvVzhCBDOk=       4282       3420       2816  \n",
       "++/UDNo9DLrxT8QVGiDi1OnWfczAdEwThaVyD0fXO50=       1750       1669       1757  "
      ]
     },
     "execution_count": 63,
     "metadata": {},
     "output_type": "execute_result"
    }
   ],
   "source": [
    "df_unstack.head()"
   ]
  },
  {
   "cell_type": "code",
   "execution_count": 64,
   "metadata": {
    "collapsed": true
   },
   "outputs": [],
   "source": [
    "# pickle this dataframe\n",
    "Total_proc_dir = os.path.join(os.pardir, 'data', 'processed', 'song_total.p34')\n",
    "df_unstack.to_pickle(Total_proc_dir)"
   ]
  },
  {
   "cell_type": "code",
   "execution_count": null,
   "metadata": {
    "collapsed": true
   },
   "outputs": [],
   "source": []
  }
 ],
 "metadata": {
  "kernelspec": {
   "display_name": "kkbox_churn_kernel",
   "language": "python",
   "name": "kkbox_churn"
  },
  "language_info": {
   "codemirror_mode": {
    "name": "ipython",
    "version": 3
   },
   "file_extension": ".py",
   "mimetype": "text/x-python",
   "name": "python",
   "nbconvert_exporter": "python",
   "pygments_lexer": "ipython3",
   "version": "3.6.4"
  }
 },
 "nbformat": 4,
 "nbformat_minor": 2
}
