{
 "cells": [
  {
   "cell_type": "code",
   "execution_count": 1,
   "metadata": {},
   "outputs": [],
   "source": [
    "import pandas as pd\n",
    "import numpy as np\n",
    "import os\n",
    "import matplotlib.pyplot as plt\n",
    "\n",
    "# keep matplotlib interactive\n",
    "%matplotlib notebook\n",
    "# %matplotlib inline\n",
    "\n",
    "# use ggplot style\n",
    "plt.style.use('ggplot')"
   ]
  },
  {
   "cell_type": "markdown",
   "metadata": {},
   "source": [
    "# Preface\n",
    "Prior to building a model, we first need to make sure categorical data are encoded then we need to split our data into a train and test set. Because of class imbalance we will need to use upsampling (SMOTE or ADASYN) or downsampling.\n"
   ]
  },
  {
   "cell_type": "markdown",
   "metadata": {},
   "source": [
    "### Activity log features"
   ]
  },
  {
   "cell_type": "code",
   "execution_count": 2,
   "metadata": {},
   "outputs": [],
   "source": [
    "# activity data\n",
    "act_pickle = ['song_length_full.p34', 'song_total_full.p34', 'song_unique_full.p34']"
   ]
  },
  {
   "cell_type": "code",
   "execution_count": 3,
   "metadata": {},
   "outputs": [],
   "source": [
    "# import our activity features\n",
    "activity_list = []\n",
    "\n",
    "for act in act_pickle:\n",
    "    proc_dir = os.path.join(os.pardir, 'data', 'processed', act)\n",
    "    df_proc = pd.read_pickle(proc_dir)\n",
    "    \n",
    "    # remove data from February 2017 (last month)\n",
    "    last_month = df_proc.columns.get_level_values(level = 1).unique()[-1]\n",
    "    df_proc = df_proc.drop(labels=last_month, axis = 1, level = 1)\n",
    "    \n",
    "    # collect activity dataframe\n",
    "    activity_list.append(df_proc)"
   ]
  },
  {
   "cell_type": "markdown",
   "metadata": {},
   "source": [
    "### Transaction features"
   ]
  },
  {
   "cell_type": "code",
   "execution_count": 4,
   "metadata": {},
   "outputs": [],
   "source": [
    "# import our transaction features\n",
    "trans_proc_dir = os.path.join(os.pardir, 'data', 'processed', 'transactions_February2017.p34')\n",
    "df_trans = pd.read_pickle(trans_proc_dir)"
   ]
  },
  {
   "cell_type": "code",
   "execution_count": 5,
   "metadata": {},
   "outputs": [],
   "source": [
    "# change pay_id to integer from boolean\n",
    "df_trans.pay_id = df_trans.pay_id.astype('int64')"
   ]
  },
  {
   "cell_type": "markdown",
   "metadata": {},
   "source": [
    "Encode payment ID and plan duration. Plan duration is an object type thus it will be encoded. Payment ID was an integer so we had to convert it to categorical."
   ]
  },
  {
   "cell_type": "code",
   "execution_count": 6,
   "metadata": {},
   "outputs": [],
   "source": [
    "# one-hot encoding scheme for plan duration\n",
    "df_trans = pd.get_dummies(df_trans, drop_first=True)"
   ]
  },
  {
   "cell_type": "code",
   "execution_count": 7,
   "metadata": {},
   "outputs": [],
   "source": [
    "activity_list.append(df_trans)"
   ]
  },
  {
   "cell_type": "markdown",
   "metadata": {},
   "source": [
    "### Prepare input matrice for model building"
   ]
  },
  {
   "cell_type": "code",
   "execution_count": 8,
   "metadata": {},
   "outputs": [],
   "source": [
    "# add target values\n",
    "# eligible users are provided in a csv file\n",
    "train_dir = os.path.join(os.pardir, 'data', 'raw', 'train.csv')\n",
    "s_users = pd.read_csv(train_dir, index_col='msno', dtype = {'is_churn' : np.bool})"
   ]
  },
  {
   "cell_type": "code",
   "execution_count": 9,
   "metadata": {},
   "outputs": [],
   "source": [
    "activity_list.append(s_users)"
   ]
  },
  {
   "cell_type": "code",
   "execution_count": 10,
   "metadata": {},
   "outputs": [],
   "source": [
    "# concatenate all features\n",
    "df_full = pd.concat(activity_list, axis = 1)"
   ]
  },
  {
   "cell_type": "code",
   "execution_count": 11,
   "metadata": {},
   "outputs": [],
   "source": [
    "# some eligible users do not have any activity features. That will create Nan values after concatenation.\n",
    "# Because all eligible users are included in transaction features\n",
    "df_full = df_full.fillna(value=0)"
   ]
  },
  {
   "cell_type": "code",
   "execution_count": 12,
   "metadata": {},
   "outputs": [],
   "source": [
    "# rename columns with tuple from multiIndex\n",
    "col_names = df_full.columns\n",
    "name_formatted = [ '_'.join([col[0], col[1].strftime('%b_%Y')]) if isinstance(col, tuple) else col for col in col_names ]\n",
    "df_full.columns = name_formatted"
   ]
  },
  {
   "cell_type": "code",
   "execution_count": 13,
   "metadata": {},
   "outputs": [
    {
     "data": {
      "text/html": [
       "<div>\n",
       "<style scoped>\n",
       "    .dataframe tbody tr th:only-of-type {\n",
       "        vertical-align: middle;\n",
       "    }\n",
       "\n",
       "    .dataframe tbody tr th {\n",
       "        vertical-align: top;\n",
       "    }\n",
       "\n",
       "    .dataframe thead th {\n",
       "        text-align: right;\n",
       "    }\n",
       "</style>\n",
       "<table border=\"1\" class=\"dataframe\">\n",
       "  <thead>\n",
       "    <tr style=\"text-align: right;\">\n",
       "      <th></th>\n",
       "      <th>num_25_Sep_2016</th>\n",
       "      <th>num_25_Oct_2016</th>\n",
       "      <th>num_25_Nov_2016</th>\n",
       "      <th>num_25_Dec_2016</th>\n",
       "      <th>num_25_Jan_2017</th>\n",
       "      <th>num_50_Sep_2016</th>\n",
       "      <th>num_50_Oct_2016</th>\n",
       "      <th>num_50_Nov_2016</th>\n",
       "      <th>num_50_Dec_2016</th>\n",
       "      <th>num_50_Jan_2017</th>\n",
       "      <th>...</th>\n",
       "      <th>auto_renew_ratio</th>\n",
       "      <th>uninterrupted_days</th>\n",
       "      <th>pay_id</th>\n",
       "      <th>plan_duration_180 - 269</th>\n",
       "      <th>plan_duration_270 - 364</th>\n",
       "      <th>plan_duration_30 - 89</th>\n",
       "      <th>plan_duration_365 - 485</th>\n",
       "      <th>plan_duration_8 - 29</th>\n",
       "      <th>plan_duration_90 - 179</th>\n",
       "      <th>is_churn</th>\n",
       "    </tr>\n",
       "  </thead>\n",
       "  <tbody>\n",
       "    <tr>\n",
       "      <th>+++hVY1rZox/33YtvDgmKA2Frg/2qhkz12B9ylCvh8o=</th>\n",
       "      <td>0.000000</td>\n",
       "      <td>0.000000</td>\n",
       "      <td>4.266667</td>\n",
       "      <td>6.225806</td>\n",
       "      <td>4.354839</td>\n",
       "      <td>0.000000</td>\n",
       "      <td>0.000000</td>\n",
       "      <td>2.366667</td>\n",
       "      <td>2.838710</td>\n",
       "      <td>2.225806</td>\n",
       "      <td>...</td>\n",
       "      <td>1.0</td>\n",
       "      <td>91</td>\n",
       "      <td>1</td>\n",
       "      <td>0</td>\n",
       "      <td>0</td>\n",
       "      <td>1</td>\n",
       "      <td>0</td>\n",
       "      <td>0</td>\n",
       "      <td>0</td>\n",
       "      <td>False</td>\n",
       "    </tr>\n",
       "    <tr>\n",
       "      <th>+++l/EXNMLTijfLBa8p2TUVVVp2aFGSuUI/h7mLmthw=</th>\n",
       "      <td>1.766667</td>\n",
       "      <td>1.032258</td>\n",
       "      <td>1.966667</td>\n",
       "      <td>1.387097</td>\n",
       "      <td>3.483871</td>\n",
       "      <td>0.933333</td>\n",
       "      <td>0.387097</td>\n",
       "      <td>0.766667</td>\n",
       "      <td>0.806452</td>\n",
       "      <td>1.161290</td>\n",
       "      <td>...</td>\n",
       "      <td>1.0</td>\n",
       "      <td>181</td>\n",
       "      <td>0</td>\n",
       "      <td>0</td>\n",
       "      <td>0</td>\n",
       "      <td>1</td>\n",
       "      <td>0</td>\n",
       "      <td>0</td>\n",
       "      <td>0</td>\n",
       "      <td>False</td>\n",
       "    </tr>\n",
       "    <tr>\n",
       "      <th>+++snpr7pmobhLKUgSHTv/mpkqgBT0tQJ0zQj6qKrqc=</th>\n",
       "      <td>5.466667</td>\n",
       "      <td>6.096774</td>\n",
       "      <td>3.666667</td>\n",
       "      <td>5.354839</td>\n",
       "      <td>9.322581</td>\n",
       "      <td>1.966667</td>\n",
       "      <td>2.709677</td>\n",
       "      <td>1.400000</td>\n",
       "      <td>2.354839</td>\n",
       "      <td>5.645161</td>\n",
       "      <td>...</td>\n",
       "      <td>1.0</td>\n",
       "      <td>762</td>\n",
       "      <td>1</td>\n",
       "      <td>0</td>\n",
       "      <td>0</td>\n",
       "      <td>1</td>\n",
       "      <td>0</td>\n",
       "      <td>0</td>\n",
       "      <td>0</td>\n",
       "      <td>False</td>\n",
       "    </tr>\n",
       "    <tr>\n",
       "      <th>++/9R3sX37CjxbY/AaGvbwr3QkwElKBCtSvVzhCBDOk=</th>\n",
       "      <td>0.000000</td>\n",
       "      <td>0.000000</td>\n",
       "      <td>0.000000</td>\n",
       "      <td>0.000000</td>\n",
       "      <td>0.000000</td>\n",
       "      <td>0.000000</td>\n",
       "      <td>0.000000</td>\n",
       "      <td>0.000000</td>\n",
       "      <td>0.000000</td>\n",
       "      <td>0.000000</td>\n",
       "      <td>...</td>\n",
       "      <td>1.0</td>\n",
       "      <td>337</td>\n",
       "      <td>1</td>\n",
       "      <td>0</td>\n",
       "      <td>0</td>\n",
       "      <td>1</td>\n",
       "      <td>0</td>\n",
       "      <td>0</td>\n",
       "      <td>0</td>\n",
       "      <td>False</td>\n",
       "    </tr>\n",
       "    <tr>\n",
       "      <th>++/UDNo9DLrxT8QVGiDi1OnWfczAdEwThaVyD0fXO50=</th>\n",
       "      <td>0.000000</td>\n",
       "      <td>0.000000</td>\n",
       "      <td>0.000000</td>\n",
       "      <td>0.000000</td>\n",
       "      <td>0.000000</td>\n",
       "      <td>0.000000</td>\n",
       "      <td>0.000000</td>\n",
       "      <td>0.000000</td>\n",
       "      <td>0.000000</td>\n",
       "      <td>0.000000</td>\n",
       "      <td>...</td>\n",
       "      <td>1.0</td>\n",
       "      <td>181</td>\n",
       "      <td>0</td>\n",
       "      <td>0</td>\n",
       "      <td>0</td>\n",
       "      <td>1</td>\n",
       "      <td>0</td>\n",
       "      <td>0</td>\n",
       "      <td>0</td>\n",
       "      <td>False</td>\n",
       "    </tr>\n",
       "  </tbody>\n",
       "</table>\n",
       "<p>5 rows × 68 columns</p>\n",
       "</div>"
      ],
      "text/plain": [
       "                                              num_25_Sep_2016  \\\n",
       "+++hVY1rZox/33YtvDgmKA2Frg/2qhkz12B9ylCvh8o=         0.000000   \n",
       "+++l/EXNMLTijfLBa8p2TUVVVp2aFGSuUI/h7mLmthw=         1.766667   \n",
       "+++snpr7pmobhLKUgSHTv/mpkqgBT0tQJ0zQj6qKrqc=         5.466667   \n",
       "++/9R3sX37CjxbY/AaGvbwr3QkwElKBCtSvVzhCBDOk=         0.000000   \n",
       "++/UDNo9DLrxT8QVGiDi1OnWfczAdEwThaVyD0fXO50=         0.000000   \n",
       "\n",
       "                                              num_25_Oct_2016  \\\n",
       "+++hVY1rZox/33YtvDgmKA2Frg/2qhkz12B9ylCvh8o=         0.000000   \n",
       "+++l/EXNMLTijfLBa8p2TUVVVp2aFGSuUI/h7mLmthw=         1.032258   \n",
       "+++snpr7pmobhLKUgSHTv/mpkqgBT0tQJ0zQj6qKrqc=         6.096774   \n",
       "++/9R3sX37CjxbY/AaGvbwr3QkwElKBCtSvVzhCBDOk=         0.000000   \n",
       "++/UDNo9DLrxT8QVGiDi1OnWfczAdEwThaVyD0fXO50=         0.000000   \n",
       "\n",
       "                                              num_25_Nov_2016  \\\n",
       "+++hVY1rZox/33YtvDgmKA2Frg/2qhkz12B9ylCvh8o=         4.266667   \n",
       "+++l/EXNMLTijfLBa8p2TUVVVp2aFGSuUI/h7mLmthw=         1.966667   \n",
       "+++snpr7pmobhLKUgSHTv/mpkqgBT0tQJ0zQj6qKrqc=         3.666667   \n",
       "++/9R3sX37CjxbY/AaGvbwr3QkwElKBCtSvVzhCBDOk=         0.000000   \n",
       "++/UDNo9DLrxT8QVGiDi1OnWfczAdEwThaVyD0fXO50=         0.000000   \n",
       "\n",
       "                                              num_25_Dec_2016  \\\n",
       "+++hVY1rZox/33YtvDgmKA2Frg/2qhkz12B9ylCvh8o=         6.225806   \n",
       "+++l/EXNMLTijfLBa8p2TUVVVp2aFGSuUI/h7mLmthw=         1.387097   \n",
       "+++snpr7pmobhLKUgSHTv/mpkqgBT0tQJ0zQj6qKrqc=         5.354839   \n",
       "++/9R3sX37CjxbY/AaGvbwr3QkwElKBCtSvVzhCBDOk=         0.000000   \n",
       "++/UDNo9DLrxT8QVGiDi1OnWfczAdEwThaVyD0fXO50=         0.000000   \n",
       "\n",
       "                                              num_25_Jan_2017  \\\n",
       "+++hVY1rZox/33YtvDgmKA2Frg/2qhkz12B9ylCvh8o=         4.354839   \n",
       "+++l/EXNMLTijfLBa8p2TUVVVp2aFGSuUI/h7mLmthw=         3.483871   \n",
       "+++snpr7pmobhLKUgSHTv/mpkqgBT0tQJ0zQj6qKrqc=         9.322581   \n",
       "++/9R3sX37CjxbY/AaGvbwr3QkwElKBCtSvVzhCBDOk=         0.000000   \n",
       "++/UDNo9DLrxT8QVGiDi1OnWfczAdEwThaVyD0fXO50=         0.000000   \n",
       "\n",
       "                                              num_50_Sep_2016  \\\n",
       "+++hVY1rZox/33YtvDgmKA2Frg/2qhkz12B9ylCvh8o=         0.000000   \n",
       "+++l/EXNMLTijfLBa8p2TUVVVp2aFGSuUI/h7mLmthw=         0.933333   \n",
       "+++snpr7pmobhLKUgSHTv/mpkqgBT0tQJ0zQj6qKrqc=         1.966667   \n",
       "++/9R3sX37CjxbY/AaGvbwr3QkwElKBCtSvVzhCBDOk=         0.000000   \n",
       "++/UDNo9DLrxT8QVGiDi1OnWfczAdEwThaVyD0fXO50=         0.000000   \n",
       "\n",
       "                                              num_50_Oct_2016  \\\n",
       "+++hVY1rZox/33YtvDgmKA2Frg/2qhkz12B9ylCvh8o=         0.000000   \n",
       "+++l/EXNMLTijfLBa8p2TUVVVp2aFGSuUI/h7mLmthw=         0.387097   \n",
       "+++snpr7pmobhLKUgSHTv/mpkqgBT0tQJ0zQj6qKrqc=         2.709677   \n",
       "++/9R3sX37CjxbY/AaGvbwr3QkwElKBCtSvVzhCBDOk=         0.000000   \n",
       "++/UDNo9DLrxT8QVGiDi1OnWfczAdEwThaVyD0fXO50=         0.000000   \n",
       "\n",
       "                                              num_50_Nov_2016  \\\n",
       "+++hVY1rZox/33YtvDgmKA2Frg/2qhkz12B9ylCvh8o=         2.366667   \n",
       "+++l/EXNMLTijfLBa8p2TUVVVp2aFGSuUI/h7mLmthw=         0.766667   \n",
       "+++snpr7pmobhLKUgSHTv/mpkqgBT0tQJ0zQj6qKrqc=         1.400000   \n",
       "++/9R3sX37CjxbY/AaGvbwr3QkwElKBCtSvVzhCBDOk=         0.000000   \n",
       "++/UDNo9DLrxT8QVGiDi1OnWfczAdEwThaVyD0fXO50=         0.000000   \n",
       "\n",
       "                                              num_50_Dec_2016  \\\n",
       "+++hVY1rZox/33YtvDgmKA2Frg/2qhkz12B9ylCvh8o=         2.838710   \n",
       "+++l/EXNMLTijfLBa8p2TUVVVp2aFGSuUI/h7mLmthw=         0.806452   \n",
       "+++snpr7pmobhLKUgSHTv/mpkqgBT0tQJ0zQj6qKrqc=         2.354839   \n",
       "++/9R3sX37CjxbY/AaGvbwr3QkwElKBCtSvVzhCBDOk=         0.000000   \n",
       "++/UDNo9DLrxT8QVGiDi1OnWfczAdEwThaVyD0fXO50=         0.000000   \n",
       "\n",
       "                                              num_50_Jan_2017    ...     \\\n",
       "+++hVY1rZox/33YtvDgmKA2Frg/2qhkz12B9ylCvh8o=         2.225806    ...      \n",
       "+++l/EXNMLTijfLBa8p2TUVVVp2aFGSuUI/h7mLmthw=         1.161290    ...      \n",
       "+++snpr7pmobhLKUgSHTv/mpkqgBT0tQJ0zQj6qKrqc=         5.645161    ...      \n",
       "++/9R3sX37CjxbY/AaGvbwr3QkwElKBCtSvVzhCBDOk=         0.000000    ...      \n",
       "++/UDNo9DLrxT8QVGiDi1OnWfczAdEwThaVyD0fXO50=         0.000000    ...      \n",
       "\n",
       "                                              auto_renew_ratio  \\\n",
       "+++hVY1rZox/33YtvDgmKA2Frg/2qhkz12B9ylCvh8o=               1.0   \n",
       "+++l/EXNMLTijfLBa8p2TUVVVp2aFGSuUI/h7mLmthw=               1.0   \n",
       "+++snpr7pmobhLKUgSHTv/mpkqgBT0tQJ0zQj6qKrqc=               1.0   \n",
       "++/9R3sX37CjxbY/AaGvbwr3QkwElKBCtSvVzhCBDOk=               1.0   \n",
       "++/UDNo9DLrxT8QVGiDi1OnWfczAdEwThaVyD0fXO50=               1.0   \n",
       "\n",
       "                                              uninterrupted_days  pay_id  \\\n",
       "+++hVY1rZox/33YtvDgmKA2Frg/2qhkz12B9ylCvh8o=                  91       1   \n",
       "+++l/EXNMLTijfLBa8p2TUVVVp2aFGSuUI/h7mLmthw=                 181       0   \n",
       "+++snpr7pmobhLKUgSHTv/mpkqgBT0tQJ0zQj6qKrqc=                 762       1   \n",
       "++/9R3sX37CjxbY/AaGvbwr3QkwElKBCtSvVzhCBDOk=                 337       1   \n",
       "++/UDNo9DLrxT8QVGiDi1OnWfczAdEwThaVyD0fXO50=                 181       0   \n",
       "\n",
       "                                              plan_duration_180 - 269  \\\n",
       "+++hVY1rZox/33YtvDgmKA2Frg/2qhkz12B9ylCvh8o=                        0   \n",
       "+++l/EXNMLTijfLBa8p2TUVVVp2aFGSuUI/h7mLmthw=                        0   \n",
       "+++snpr7pmobhLKUgSHTv/mpkqgBT0tQJ0zQj6qKrqc=                        0   \n",
       "++/9R3sX37CjxbY/AaGvbwr3QkwElKBCtSvVzhCBDOk=                        0   \n",
       "++/UDNo9DLrxT8QVGiDi1OnWfczAdEwThaVyD0fXO50=                        0   \n",
       "\n",
       "                                              plan_duration_270 - 364  \\\n",
       "+++hVY1rZox/33YtvDgmKA2Frg/2qhkz12B9ylCvh8o=                        0   \n",
       "+++l/EXNMLTijfLBa8p2TUVVVp2aFGSuUI/h7mLmthw=                        0   \n",
       "+++snpr7pmobhLKUgSHTv/mpkqgBT0tQJ0zQj6qKrqc=                        0   \n",
       "++/9R3sX37CjxbY/AaGvbwr3QkwElKBCtSvVzhCBDOk=                        0   \n",
       "++/UDNo9DLrxT8QVGiDi1OnWfczAdEwThaVyD0fXO50=                        0   \n",
       "\n",
       "                                              plan_duration_30 - 89  \\\n",
       "+++hVY1rZox/33YtvDgmKA2Frg/2qhkz12B9ylCvh8o=                      1   \n",
       "+++l/EXNMLTijfLBa8p2TUVVVp2aFGSuUI/h7mLmthw=                      1   \n",
       "+++snpr7pmobhLKUgSHTv/mpkqgBT0tQJ0zQj6qKrqc=                      1   \n",
       "++/9R3sX37CjxbY/AaGvbwr3QkwElKBCtSvVzhCBDOk=                      1   \n",
       "++/UDNo9DLrxT8QVGiDi1OnWfczAdEwThaVyD0fXO50=                      1   \n",
       "\n",
       "                                              plan_duration_365 - 485  \\\n",
       "+++hVY1rZox/33YtvDgmKA2Frg/2qhkz12B9ylCvh8o=                        0   \n",
       "+++l/EXNMLTijfLBa8p2TUVVVp2aFGSuUI/h7mLmthw=                        0   \n",
       "+++snpr7pmobhLKUgSHTv/mpkqgBT0tQJ0zQj6qKrqc=                        0   \n",
       "++/9R3sX37CjxbY/AaGvbwr3QkwElKBCtSvVzhCBDOk=                        0   \n",
       "++/UDNo9DLrxT8QVGiDi1OnWfczAdEwThaVyD0fXO50=                        0   \n",
       "\n",
       "                                              plan_duration_8 - 29  \\\n",
       "+++hVY1rZox/33YtvDgmKA2Frg/2qhkz12B9ylCvh8o=                     0   \n",
       "+++l/EXNMLTijfLBa8p2TUVVVp2aFGSuUI/h7mLmthw=                     0   \n",
       "+++snpr7pmobhLKUgSHTv/mpkqgBT0tQJ0zQj6qKrqc=                     0   \n",
       "++/9R3sX37CjxbY/AaGvbwr3QkwElKBCtSvVzhCBDOk=                     0   \n",
       "++/UDNo9DLrxT8QVGiDi1OnWfczAdEwThaVyD0fXO50=                     0   \n",
       "\n",
       "                                              plan_duration_90 - 179  is_churn  \n",
       "+++hVY1rZox/33YtvDgmKA2Frg/2qhkz12B9ylCvh8o=                       0     False  \n",
       "+++l/EXNMLTijfLBa8p2TUVVVp2aFGSuUI/h7mLmthw=                       0     False  \n",
       "+++snpr7pmobhLKUgSHTv/mpkqgBT0tQJ0zQj6qKrqc=                       0     False  \n",
       "++/9R3sX37CjxbY/AaGvbwr3QkwElKBCtSvVzhCBDOk=                       0     False  \n",
       "++/UDNo9DLrxT8QVGiDi1OnWfczAdEwThaVyD0fXO50=                       0     False  \n",
       "\n",
       "[5 rows x 68 columns]"
      ]
     },
     "execution_count": 13,
     "metadata": {},
     "output_type": "execute_result"
    }
   ],
   "source": [
    "df_full.head()"
   ]
  },
  {
   "cell_type": "code",
   "execution_count": 14,
   "metadata": {},
   "outputs": [
    {
     "name": "stdout",
     "output_type": "stream",
     "text": [
      "<class 'pandas.core.frame.DataFrame'>\n",
      "Index: 992931 entries, +++hVY1rZox/33YtvDgmKA2Frg/2qhkz12B9ylCvh8o= to zzzN9thH22os1dRS0VHReY/8FTfGHOi86//d+wGGFsQ=\n",
      "Data columns (total 68 columns):\n",
      "num_25_Sep_2016            992931 non-null float64\n",
      "num_25_Oct_2016            992931 non-null float64\n",
      "num_25_Nov_2016            992931 non-null float64\n",
      "num_25_Dec_2016            992931 non-null float64\n",
      "num_25_Jan_2017            992931 non-null float64\n",
      "num_50_Sep_2016            992931 non-null float64\n",
      "num_50_Oct_2016            992931 non-null float64\n",
      "num_50_Nov_2016            992931 non-null float64\n",
      "num_50_Dec_2016            992931 non-null float64\n",
      "num_50_Jan_2017            992931 non-null float64\n",
      "num_75_Sep_2016            992931 non-null float64\n",
      "num_75_Oct_2016            992931 non-null float64\n",
      "num_75_Nov_2016            992931 non-null float64\n",
      "num_75_Dec_2016            992931 non-null float64\n",
      "num_75_Jan_2017            992931 non-null float64\n",
      "num_985_Sep_2016           992931 non-null float64\n",
      "num_985_Oct_2016           992931 non-null float64\n",
      "num_985_Nov_2016           992931 non-null float64\n",
      "num_985_Dec_2016           992931 non-null float64\n",
      "num_985_Jan_2017           992931 non-null float64\n",
      "num_100_Sep_2016           992931 non-null float64\n",
      "num_100_Oct_2016           992931 non-null float64\n",
      "num_100_Nov_2016           992931 non-null float64\n",
      "num_100_Dec_2016           992931 non-null float64\n",
      "num_100_Jan_2017           992931 non-null float64\n",
      "cumnum_50_Sep_2016         992931 non-null float64\n",
      "cumnum_50_Oct_2016         992931 non-null float64\n",
      "cumnum_50_Nov_2016         992931 non-null float64\n",
      "cumnum_50_Dec_2016         992931 non-null float64\n",
      "cumnum_50_Jan_2017         992931 non-null float64\n",
      "cumnum_75_Sep_2016         992931 non-null float64\n",
      "cumnum_75_Oct_2016         992931 non-null float64\n",
      "cumnum_75_Nov_2016         992931 non-null float64\n",
      "cumnum_75_Dec_2016         992931 non-null float64\n",
      "cumnum_75_Jan_2017         992931 non-null float64\n",
      "cumnum_985_Sep_2016        992931 non-null float64\n",
      "cumnum_985_Oct_2016        992931 non-null float64\n",
      "cumnum_985_Nov_2016        992931 non-null float64\n",
      "cumnum_985_Dec_2016        992931 non-null float64\n",
      "cumnum_985_Jan_2017        992931 non-null float64\n",
      "cumnum_100_Sep_2016        992931 non-null float64\n",
      "cumnum_100_Oct_2016        992931 non-null float64\n",
      "cumnum_100_Nov_2016        992931 non-null float64\n",
      "cumnum_100_Dec_2016        992931 non-null float64\n",
      "cumnum_100_Jan_2017        992931 non-null float64\n",
      "total_secs_Sep_2016        992931 non-null float64\n",
      "total_secs_Oct_2016        992931 non-null float64\n",
      "total_secs_Nov_2016        992931 non-null float64\n",
      "total_secs_Dec_2016        992931 non-null float64\n",
      "total_secs_Jan_2017        992931 non-null float64\n",
      "num_unq_Sep_2016           992931 non-null float64\n",
      "num_unq_Oct_2016           992931 non-null float64\n",
      "num_unq_Nov_2016           992931 non-null float64\n",
      "num_unq_Dec_2016           992931 non-null float64\n",
      "num_unq_Jan_2017           992931 non-null float64\n",
      "time_of_month              992931 non-null float64\n",
      "churn_zone_days            992931 non-null int64\n",
      "cancel_ratio               992931 non-null float64\n",
      "auto_renew_ratio           992931 non-null float64\n",
      "uninterrupted_days         992931 non-null int64\n",
      "pay_id                     992931 non-null int64\n",
      "plan_duration_180 - 269    992931 non-null uint8\n",
      "plan_duration_270 - 364    992931 non-null uint8\n",
      "plan_duration_30 - 89      992931 non-null uint8\n",
      "plan_duration_365 - 485    992931 non-null uint8\n",
      "plan_duration_8 - 29       992931 non-null uint8\n",
      "plan_duration_90 - 179     992931 non-null uint8\n",
      "is_churn                   992931 non-null bool\n",
      "dtypes: bool(1), float64(58), int64(3), uint8(6)\n",
      "memory usage: 476.3+ MB\n"
     ]
    }
   ],
   "source": [
    "df_full.info()"
   ]
  },
  {
   "cell_type": "markdown",
   "metadata": {},
   "source": [
    "# Train-Test split"
   ]
  },
  {
   "cell_type": "code",
   "execution_count": 15,
   "metadata": {},
   "outputs": [],
   "source": [
    "from sklearn.model_selection import train_test_split\n",
    "\n",
    "# get target values\n",
    "y = df_full.is_churn.values\n",
    "X = df_full.drop(labels='is_churn', axis = 1).values\n",
    "\n",
    "# keep test set\n",
    "X_train, X_test, y_train, y_test = \\\n",
    "            train_test_split( X , y, test_size = 0.1, random_state = 7, stratify = y)"
   ]
  },
  {
   "cell_type": "code",
   "execution_count": 16,
   "metadata": {},
   "outputs": [
    {
     "name": "stdout",
     "output_type": "stream",
     "text": [
      "(893637, 67)\n",
      "(99294, 67)\n"
     ]
    }
   ],
   "source": [
    "print(X_train.shape)\n",
    "print(X_test.shape)"
   ]
  },
  {
   "cell_type": "markdown",
   "metadata": {},
   "source": [
    "# Logistic regression with regularization"
   ]
  },
  {
   "cell_type": "code",
   "execution_count": 17,
   "metadata": {},
   "outputs": [],
   "source": [
    "from sklearn.model_selection import GridSearchCV\n",
    "from sklearn.preprocessing import MinMaxScaler\n",
    "from sklearn.linear_model import LogisticRegression\n",
    "from imblearn.pipeline import Pipeline as imbPipeline\n",
    "from imblearn.over_sampling import SMOTE\n",
    "from sklearn.metrics import classification_report\n",
    "from sklearn.metrics import roc_curve"
   ]
  },
  {
   "cell_type": "code",
   "execution_count": null,
   "metadata": {},
   "outputs": [],
   "source": [
    "log_clf = imbPipeline([('scaler', MinMaxScaler()),\n",
    "                    ('imb', SMOTE(random_state=7)),\n",
    "                    ('clf', LogisticRegression()),\n",
    "                     ])\n",
    "\n",
    "# use regular SMOTE, we only need k_neighbors and ratio\n",
    "parameters = {'imb__ratio': ['minority'],\n",
    "              'imb__k_neighbors': [5, 10, 15],\n",
    "              'clf__penalty': ['l1', 'l2'],\n",
    "              'clf__C': [0.1, 0.3, 1, 3],\n",
    "             }\n",
    "\n",
    "# set up grid search using all of my cores\n",
    "gs_clf = GridSearchCV(log_clf, param_grid = parameters, cv = 5 , scoring = 'f1', n_jobs = -1, verbose = 1)"
   ]
  },
  {
   "cell_type": "code",
   "execution_count": null,
   "metadata": {
    "scrolled": false
   },
   "outputs": [],
   "source": [
    "# perform grid search CV on pipeline\n",
    "_ = gs_clf.fit(X_train, y_train)"
   ]
  },
  {
   "cell_type": "code",
   "execution_count": null,
   "metadata": {},
   "outputs": [],
   "source": [
    "# training set score\n",
    "print('Train score = ', gs_clf.score(X_train, y_train))\n",
    "# test set score\n",
    "print('Test score = ', gs_clf.score(X_test, y_test))"
   ]
  },
  {
   "cell_type": "code",
   "execution_count": null,
   "metadata": {},
   "outputs": [],
   "source": [
    "# \n",
    "y_pred = gs_clf.predict(X_test)\n",
    "print(classification_report(y_test, y_pred))"
   ]
  },
  {
   "cell_type": "code",
   "execution_count": null,
   "metadata": {},
   "outputs": [],
   "source": [
    "y_pred_prob = gs_clf.predict_proba(X_test)[:,1]\n",
    "fpr, tpr, thresholds = roc_curve(y_test, y_pred_prob)\n",
    "\n",
    "figimp , axroc = plt.subplots(figsize = (8, 5))\n",
    "axroc.plot([0, 1], [0, 1], 'k--')\n",
    "axroc.plot(fpr, tpr, label='Logistic Regression')\n",
    "_ = plt.xlabel('False Positive Rate')\n",
    "_ = plt.ylabel('True Positive Rate')\n",
    "_ = plt.title('Logistic Regression ROC Curve')"
   ]
  },
  {
   "cell_type": "code",
   "execution_count": null,
   "metadata": {},
   "outputs": [],
   "source": [
    "# get column names except target\n",
    "names = df_full.drop(labels='is_churn', axis = 1).columns\n",
    "# get coefficient of logistic regression model\n",
    "l1_coef = gs_clf.best_estimator_.named_steps['clf'].coef_\n",
    "\n",
    "# make plot\n",
    "figimp , aximp = plt.subplots(figsize = (8, 5))\n",
    "_ = aximp.plot(range(len(names)), l1_coef.reshape(-1,1))\n",
    "_ = plt.xticks(range(len(names)), names, rotation=60)\n",
    "_ = plt.ylabel('Coefficients')\n",
    "plt.tight_layout()\n",
    "\n",
    "print('Most important feature =', names[l1_coef.argmax()])"
   ]
  },
  {
   "cell_type": "code",
   "execution_count": null,
   "metadata": {},
   "outputs": [],
   "source": []
  }
 ],
 "metadata": {
  "kernelspec": {
   "display_name": "kkbox_churn_kernel",
   "language": "python",
   "name": "kkbox_churn"
  },
  "language_info": {
   "codemirror_mode": {
    "name": "ipython",
    "version": 3
   },
   "file_extension": ".py",
   "mimetype": "text/x-python",
   "name": "python",
   "nbconvert_exporter": "python",
   "pygments_lexer": "ipython3",
   "version": "3.6.4"
  }
 },
 "nbformat": 4,
 "nbformat_minor": 2
}
