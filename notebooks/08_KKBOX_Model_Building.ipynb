{
 "cells": [
  {
   "cell_type": "code",
   "execution_count": 1,
   "metadata": {},
   "outputs": [],
   "source": [
    "import pandas as pd\n",
    "import numpy as np\n",
    "import os\n",
    "import matplotlib.pyplot as plt\n",
    "from collections import Counter\n",
    "\n",
    "# keep matplotlib interactive\n",
    "%matplotlib notebook\n",
    "# %matplotlib inline\n",
    "\n",
    "# use ggplot style\n",
    "plt.style.use('ggplot')"
   ]
  },
  {
   "cell_type": "markdown",
   "metadata": {},
   "source": [
    "# Preface\n",
    "Prior to building a model, we first need to make sure categorical data are encoded then we need to split our data into a train and test set. Because of class imbalance we will need to use upsampling (SMOTE or ADASYN) or downsampling.\n"
   ]
  },
  {
   "cell_type": "markdown",
   "metadata": {},
   "source": [
    "### Activity log features"
   ]
  },
  {
   "cell_type": "code",
   "execution_count": 2,
   "metadata": {},
   "outputs": [],
   "source": [
    "# activity data\n",
    "act_pickle = ['song_length_full.p34', 'song_total_full.p34', 'song_unique_full.p34']"
   ]
  },
  {
   "cell_type": "code",
   "execution_count": 3,
   "metadata": {},
   "outputs": [],
   "source": [
    "# import our activity features\n",
    "activity_list = []\n",
    "\n",
    "for act in act_pickle:\n",
    "    proc_dir = os.path.join(os.pardir, 'data', 'processed', act)\n",
    "    df_proc = pd.read_pickle(proc_dir)\n",
    "    \n",
    "    # remove data from February 2017 (last month)\n",
    "    last_month = df_proc.columns.get_level_values(level = 1).unique()[-1]\n",
    "    df_proc = df_proc.drop(labels=last_month, axis = 1, level = 1)\n",
    "    \n",
    "    # collect activity dataframe\n",
    "    activity_list.append(df_proc)"
   ]
  },
  {
   "cell_type": "markdown",
   "metadata": {},
   "source": [
    "### Transaction features"
   ]
  },
  {
   "cell_type": "code",
   "execution_count": 4,
   "metadata": {},
   "outputs": [],
   "source": [
    "# import our transaction features\n",
    "trans_proc_dir = os.path.join(os.pardir, 'data', 'processed', 'transactions_February2017.p34')\n",
    "df_trans = pd.read_pickle(trans_proc_dir)"
   ]
  },
  {
   "cell_type": "code",
   "execution_count": 5,
   "metadata": {},
   "outputs": [],
   "source": [
    "# change pay_id to integer from boolean\n",
    "df_trans.pay_id = df_trans.pay_id.astype('int64')"
   ]
  },
  {
   "cell_type": "markdown",
   "metadata": {},
   "source": [
    "Encode payment ID and plan duration. Plan duration is an object type thus it will be encoded. Payment ID was an integer so we had to convert it to categorical."
   ]
  },
  {
   "cell_type": "code",
   "execution_count": 6,
   "metadata": {},
   "outputs": [],
   "source": [
    "# one-hot encoding scheme for plan duration\n",
    "df_trans = pd.get_dummies(df_trans, drop_first=True)"
   ]
  },
  {
   "cell_type": "code",
   "execution_count": 7,
   "metadata": {},
   "outputs": [],
   "source": [
    "activity_list.append(df_trans)"
   ]
  },
  {
   "cell_type": "markdown",
   "metadata": {},
   "source": [
    "### Prepare input matrice for model building"
   ]
  },
  {
   "cell_type": "code",
   "execution_count": 8,
   "metadata": {},
   "outputs": [],
   "source": [
    "# add target values\n",
    "# eligible users are provided in a csv file\n",
    "train_dir = os.path.join(os.pardir, 'data', 'raw', 'train.csv')\n",
    "s_users = pd.read_csv(train_dir, index_col='msno', dtype = {'is_churn' : np.bool})"
   ]
  },
  {
   "cell_type": "code",
   "execution_count": 9,
   "metadata": {},
   "outputs": [],
   "source": [
    "activity_list.append(s_users)"
   ]
  },
  {
   "cell_type": "code",
   "execution_count": 10,
   "metadata": {},
   "outputs": [],
   "source": [
    "# concatenate all features\n",
    "df_full = pd.concat(activity_list, axis = 1)"
   ]
  },
  {
   "cell_type": "code",
   "execution_count": 11,
   "metadata": {},
   "outputs": [],
   "source": [
    "# some eligible users do not have any activity features. That will create Nan values after concatenation.\n",
    "# Because all eligible users are included in transaction features\n",
    "df_full = df_full.fillna(value=0)"
   ]
  },
  {
   "cell_type": "code",
   "execution_count": 12,
   "metadata": {},
   "outputs": [],
   "source": [
    "# rename columns with tuple from multiIndex\n",
    "col_names = df_full.columns\n",
    "name_formatted = [ '_'.join([col[0], col[1].strftime('%b_%Y')]) if isinstance(col, tuple) else col for col in col_names ]\n",
    "df_full.columns = name_formatted"
   ]
  },
  {
   "cell_type": "code",
   "execution_count": 13,
   "metadata": {},
   "outputs": [
    {
     "data": {
      "text/html": [
       "<div>\n",
       "<style scoped>\n",
       "    .dataframe tbody tr th:only-of-type {\n",
       "        vertical-align: middle;\n",
       "    }\n",
       "\n",
       "    .dataframe tbody tr th {\n",
       "        vertical-align: top;\n",
       "    }\n",
       "\n",
       "    .dataframe thead th {\n",
       "        text-align: right;\n",
       "    }\n",
       "</style>\n",
       "<table border=\"1\" class=\"dataframe\">\n",
       "  <thead>\n",
       "    <tr style=\"text-align: right;\">\n",
       "      <th></th>\n",
       "      <th>num_25_Sep_2016</th>\n",
       "      <th>num_25_Oct_2016</th>\n",
       "      <th>num_25_Nov_2016</th>\n",
       "      <th>num_25_Dec_2016</th>\n",
       "      <th>num_25_Jan_2017</th>\n",
       "      <th>num_50_Sep_2016</th>\n",
       "      <th>num_50_Oct_2016</th>\n",
       "      <th>num_50_Nov_2016</th>\n",
       "      <th>num_50_Dec_2016</th>\n",
       "      <th>num_50_Jan_2017</th>\n",
       "      <th>...</th>\n",
       "      <th>auto_renew_ratio</th>\n",
       "      <th>uninterrupted_days</th>\n",
       "      <th>pay_id</th>\n",
       "      <th>plan_duration_180 - 269</th>\n",
       "      <th>plan_duration_270 - 364</th>\n",
       "      <th>plan_duration_30 - 89</th>\n",
       "      <th>plan_duration_365 - 485</th>\n",
       "      <th>plan_duration_8 - 29</th>\n",
       "      <th>plan_duration_90 - 179</th>\n",
       "      <th>is_churn</th>\n",
       "    </tr>\n",
       "  </thead>\n",
       "  <tbody>\n",
       "    <tr>\n",
       "      <th>+++hVY1rZox/33YtvDgmKA2Frg/2qhkz12B9ylCvh8o=</th>\n",
       "      <td>0.000000</td>\n",
       "      <td>0.000000</td>\n",
       "      <td>4.266667</td>\n",
       "      <td>6.225806</td>\n",
       "      <td>4.354839</td>\n",
       "      <td>0.000000</td>\n",
       "      <td>0.000000</td>\n",
       "      <td>2.366667</td>\n",
       "      <td>2.838710</td>\n",
       "      <td>2.225806</td>\n",
       "      <td>...</td>\n",
       "      <td>1.0</td>\n",
       "      <td>91</td>\n",
       "      <td>1</td>\n",
       "      <td>0</td>\n",
       "      <td>0</td>\n",
       "      <td>1</td>\n",
       "      <td>0</td>\n",
       "      <td>0</td>\n",
       "      <td>0</td>\n",
       "      <td>False</td>\n",
       "    </tr>\n",
       "    <tr>\n",
       "      <th>+++l/EXNMLTijfLBa8p2TUVVVp2aFGSuUI/h7mLmthw=</th>\n",
       "      <td>1.766667</td>\n",
       "      <td>1.032258</td>\n",
       "      <td>1.966667</td>\n",
       "      <td>1.387097</td>\n",
       "      <td>3.483871</td>\n",
       "      <td>0.933333</td>\n",
       "      <td>0.387097</td>\n",
       "      <td>0.766667</td>\n",
       "      <td>0.806452</td>\n",
       "      <td>1.161290</td>\n",
       "      <td>...</td>\n",
       "      <td>1.0</td>\n",
       "      <td>181</td>\n",
       "      <td>0</td>\n",
       "      <td>0</td>\n",
       "      <td>0</td>\n",
       "      <td>1</td>\n",
       "      <td>0</td>\n",
       "      <td>0</td>\n",
       "      <td>0</td>\n",
       "      <td>False</td>\n",
       "    </tr>\n",
       "    <tr>\n",
       "      <th>+++snpr7pmobhLKUgSHTv/mpkqgBT0tQJ0zQj6qKrqc=</th>\n",
       "      <td>5.466667</td>\n",
       "      <td>6.096774</td>\n",
       "      <td>3.666667</td>\n",
       "      <td>5.354839</td>\n",
       "      <td>9.322581</td>\n",
       "      <td>1.966667</td>\n",
       "      <td>2.709677</td>\n",
       "      <td>1.400000</td>\n",
       "      <td>2.354839</td>\n",
       "      <td>5.645161</td>\n",
       "      <td>...</td>\n",
       "      <td>1.0</td>\n",
       "      <td>762</td>\n",
       "      <td>1</td>\n",
       "      <td>0</td>\n",
       "      <td>0</td>\n",
       "      <td>1</td>\n",
       "      <td>0</td>\n",
       "      <td>0</td>\n",
       "      <td>0</td>\n",
       "      <td>False</td>\n",
       "    </tr>\n",
       "    <tr>\n",
       "      <th>++/9R3sX37CjxbY/AaGvbwr3QkwElKBCtSvVzhCBDOk=</th>\n",
       "      <td>0.000000</td>\n",
       "      <td>0.000000</td>\n",
       "      <td>0.000000</td>\n",
       "      <td>0.000000</td>\n",
       "      <td>0.000000</td>\n",
       "      <td>0.000000</td>\n",
       "      <td>0.000000</td>\n",
       "      <td>0.000000</td>\n",
       "      <td>0.000000</td>\n",
       "      <td>0.000000</td>\n",
       "      <td>...</td>\n",
       "      <td>1.0</td>\n",
       "      <td>337</td>\n",
       "      <td>1</td>\n",
       "      <td>0</td>\n",
       "      <td>0</td>\n",
       "      <td>1</td>\n",
       "      <td>0</td>\n",
       "      <td>0</td>\n",
       "      <td>0</td>\n",
       "      <td>False</td>\n",
       "    </tr>\n",
       "    <tr>\n",
       "      <th>++/UDNo9DLrxT8QVGiDi1OnWfczAdEwThaVyD0fXO50=</th>\n",
       "      <td>0.000000</td>\n",
       "      <td>0.000000</td>\n",
       "      <td>0.000000</td>\n",
       "      <td>0.000000</td>\n",
       "      <td>0.000000</td>\n",
       "      <td>0.000000</td>\n",
       "      <td>0.000000</td>\n",
       "      <td>0.000000</td>\n",
       "      <td>0.000000</td>\n",
       "      <td>0.000000</td>\n",
       "      <td>...</td>\n",
       "      <td>1.0</td>\n",
       "      <td>181</td>\n",
       "      <td>0</td>\n",
       "      <td>0</td>\n",
       "      <td>0</td>\n",
       "      <td>1</td>\n",
       "      <td>0</td>\n",
       "      <td>0</td>\n",
       "      <td>0</td>\n",
       "      <td>False</td>\n",
       "    </tr>\n",
       "  </tbody>\n",
       "</table>\n",
       "<p>5 rows × 68 columns</p>\n",
       "</div>"
      ],
      "text/plain": [
       "                                              num_25_Sep_2016  \\\n",
       "+++hVY1rZox/33YtvDgmKA2Frg/2qhkz12B9ylCvh8o=         0.000000   \n",
       "+++l/EXNMLTijfLBa8p2TUVVVp2aFGSuUI/h7mLmthw=         1.766667   \n",
       "+++snpr7pmobhLKUgSHTv/mpkqgBT0tQJ0zQj6qKrqc=         5.466667   \n",
       "++/9R3sX37CjxbY/AaGvbwr3QkwElKBCtSvVzhCBDOk=         0.000000   \n",
       "++/UDNo9DLrxT8QVGiDi1OnWfczAdEwThaVyD0fXO50=         0.000000   \n",
       "\n",
       "                                              num_25_Oct_2016  \\\n",
       "+++hVY1rZox/33YtvDgmKA2Frg/2qhkz12B9ylCvh8o=         0.000000   \n",
       "+++l/EXNMLTijfLBa8p2TUVVVp2aFGSuUI/h7mLmthw=         1.032258   \n",
       "+++snpr7pmobhLKUgSHTv/mpkqgBT0tQJ0zQj6qKrqc=         6.096774   \n",
       "++/9R3sX37CjxbY/AaGvbwr3QkwElKBCtSvVzhCBDOk=         0.000000   \n",
       "++/UDNo9DLrxT8QVGiDi1OnWfczAdEwThaVyD0fXO50=         0.000000   \n",
       "\n",
       "                                              num_25_Nov_2016  \\\n",
       "+++hVY1rZox/33YtvDgmKA2Frg/2qhkz12B9ylCvh8o=         4.266667   \n",
       "+++l/EXNMLTijfLBa8p2TUVVVp2aFGSuUI/h7mLmthw=         1.966667   \n",
       "+++snpr7pmobhLKUgSHTv/mpkqgBT0tQJ0zQj6qKrqc=         3.666667   \n",
       "++/9R3sX37CjxbY/AaGvbwr3QkwElKBCtSvVzhCBDOk=         0.000000   \n",
       "++/UDNo9DLrxT8QVGiDi1OnWfczAdEwThaVyD0fXO50=         0.000000   \n",
       "\n",
       "                                              num_25_Dec_2016  \\\n",
       "+++hVY1rZox/33YtvDgmKA2Frg/2qhkz12B9ylCvh8o=         6.225806   \n",
       "+++l/EXNMLTijfLBa8p2TUVVVp2aFGSuUI/h7mLmthw=         1.387097   \n",
       "+++snpr7pmobhLKUgSHTv/mpkqgBT0tQJ0zQj6qKrqc=         5.354839   \n",
       "++/9R3sX37CjxbY/AaGvbwr3QkwElKBCtSvVzhCBDOk=         0.000000   \n",
       "++/UDNo9DLrxT8QVGiDi1OnWfczAdEwThaVyD0fXO50=         0.000000   \n",
       "\n",
       "                                              num_25_Jan_2017  \\\n",
       "+++hVY1rZox/33YtvDgmKA2Frg/2qhkz12B9ylCvh8o=         4.354839   \n",
       "+++l/EXNMLTijfLBa8p2TUVVVp2aFGSuUI/h7mLmthw=         3.483871   \n",
       "+++snpr7pmobhLKUgSHTv/mpkqgBT0tQJ0zQj6qKrqc=         9.322581   \n",
       "++/9R3sX37CjxbY/AaGvbwr3QkwElKBCtSvVzhCBDOk=         0.000000   \n",
       "++/UDNo9DLrxT8QVGiDi1OnWfczAdEwThaVyD0fXO50=         0.000000   \n",
       "\n",
       "                                              num_50_Sep_2016  \\\n",
       "+++hVY1rZox/33YtvDgmKA2Frg/2qhkz12B9ylCvh8o=         0.000000   \n",
       "+++l/EXNMLTijfLBa8p2TUVVVp2aFGSuUI/h7mLmthw=         0.933333   \n",
       "+++snpr7pmobhLKUgSHTv/mpkqgBT0tQJ0zQj6qKrqc=         1.966667   \n",
       "++/9R3sX37CjxbY/AaGvbwr3QkwElKBCtSvVzhCBDOk=         0.000000   \n",
       "++/UDNo9DLrxT8QVGiDi1OnWfczAdEwThaVyD0fXO50=         0.000000   \n",
       "\n",
       "                                              num_50_Oct_2016  \\\n",
       "+++hVY1rZox/33YtvDgmKA2Frg/2qhkz12B9ylCvh8o=         0.000000   \n",
       "+++l/EXNMLTijfLBa8p2TUVVVp2aFGSuUI/h7mLmthw=         0.387097   \n",
       "+++snpr7pmobhLKUgSHTv/mpkqgBT0tQJ0zQj6qKrqc=         2.709677   \n",
       "++/9R3sX37CjxbY/AaGvbwr3QkwElKBCtSvVzhCBDOk=         0.000000   \n",
       "++/UDNo9DLrxT8QVGiDi1OnWfczAdEwThaVyD0fXO50=         0.000000   \n",
       "\n",
       "                                              num_50_Nov_2016  \\\n",
       "+++hVY1rZox/33YtvDgmKA2Frg/2qhkz12B9ylCvh8o=         2.366667   \n",
       "+++l/EXNMLTijfLBa8p2TUVVVp2aFGSuUI/h7mLmthw=         0.766667   \n",
       "+++snpr7pmobhLKUgSHTv/mpkqgBT0tQJ0zQj6qKrqc=         1.400000   \n",
       "++/9R3sX37CjxbY/AaGvbwr3QkwElKBCtSvVzhCBDOk=         0.000000   \n",
       "++/UDNo9DLrxT8QVGiDi1OnWfczAdEwThaVyD0fXO50=         0.000000   \n",
       "\n",
       "                                              num_50_Dec_2016  \\\n",
       "+++hVY1rZox/33YtvDgmKA2Frg/2qhkz12B9ylCvh8o=         2.838710   \n",
       "+++l/EXNMLTijfLBa8p2TUVVVp2aFGSuUI/h7mLmthw=         0.806452   \n",
       "+++snpr7pmobhLKUgSHTv/mpkqgBT0tQJ0zQj6qKrqc=         2.354839   \n",
       "++/9R3sX37CjxbY/AaGvbwr3QkwElKBCtSvVzhCBDOk=         0.000000   \n",
       "++/UDNo9DLrxT8QVGiDi1OnWfczAdEwThaVyD0fXO50=         0.000000   \n",
       "\n",
       "                                              num_50_Jan_2017    ...     \\\n",
       "+++hVY1rZox/33YtvDgmKA2Frg/2qhkz12B9ylCvh8o=         2.225806    ...      \n",
       "+++l/EXNMLTijfLBa8p2TUVVVp2aFGSuUI/h7mLmthw=         1.161290    ...      \n",
       "+++snpr7pmobhLKUgSHTv/mpkqgBT0tQJ0zQj6qKrqc=         5.645161    ...      \n",
       "++/9R3sX37CjxbY/AaGvbwr3QkwElKBCtSvVzhCBDOk=         0.000000    ...      \n",
       "++/UDNo9DLrxT8QVGiDi1OnWfczAdEwThaVyD0fXO50=         0.000000    ...      \n",
       "\n",
       "                                              auto_renew_ratio  \\\n",
       "+++hVY1rZox/33YtvDgmKA2Frg/2qhkz12B9ylCvh8o=               1.0   \n",
       "+++l/EXNMLTijfLBa8p2TUVVVp2aFGSuUI/h7mLmthw=               1.0   \n",
       "+++snpr7pmobhLKUgSHTv/mpkqgBT0tQJ0zQj6qKrqc=               1.0   \n",
       "++/9R3sX37CjxbY/AaGvbwr3QkwElKBCtSvVzhCBDOk=               1.0   \n",
       "++/UDNo9DLrxT8QVGiDi1OnWfczAdEwThaVyD0fXO50=               1.0   \n",
       "\n",
       "                                              uninterrupted_days  pay_id  \\\n",
       "+++hVY1rZox/33YtvDgmKA2Frg/2qhkz12B9ylCvh8o=                  91       1   \n",
       "+++l/EXNMLTijfLBa8p2TUVVVp2aFGSuUI/h7mLmthw=                 181       0   \n",
       "+++snpr7pmobhLKUgSHTv/mpkqgBT0tQJ0zQj6qKrqc=                 762       1   \n",
       "++/9R3sX37CjxbY/AaGvbwr3QkwElKBCtSvVzhCBDOk=                 337       1   \n",
       "++/UDNo9DLrxT8QVGiDi1OnWfczAdEwThaVyD0fXO50=                 181       0   \n",
       "\n",
       "                                              plan_duration_180 - 269  \\\n",
       "+++hVY1rZox/33YtvDgmKA2Frg/2qhkz12B9ylCvh8o=                        0   \n",
       "+++l/EXNMLTijfLBa8p2TUVVVp2aFGSuUI/h7mLmthw=                        0   \n",
       "+++snpr7pmobhLKUgSHTv/mpkqgBT0tQJ0zQj6qKrqc=                        0   \n",
       "++/9R3sX37CjxbY/AaGvbwr3QkwElKBCtSvVzhCBDOk=                        0   \n",
       "++/UDNo9DLrxT8QVGiDi1OnWfczAdEwThaVyD0fXO50=                        0   \n",
       "\n",
       "                                              plan_duration_270 - 364  \\\n",
       "+++hVY1rZox/33YtvDgmKA2Frg/2qhkz12B9ylCvh8o=                        0   \n",
       "+++l/EXNMLTijfLBa8p2TUVVVp2aFGSuUI/h7mLmthw=                        0   \n",
       "+++snpr7pmobhLKUgSHTv/mpkqgBT0tQJ0zQj6qKrqc=                        0   \n",
       "++/9R3sX37CjxbY/AaGvbwr3QkwElKBCtSvVzhCBDOk=                        0   \n",
       "++/UDNo9DLrxT8QVGiDi1OnWfczAdEwThaVyD0fXO50=                        0   \n",
       "\n",
       "                                              plan_duration_30 - 89  \\\n",
       "+++hVY1rZox/33YtvDgmKA2Frg/2qhkz12B9ylCvh8o=                      1   \n",
       "+++l/EXNMLTijfLBa8p2TUVVVp2aFGSuUI/h7mLmthw=                      1   \n",
       "+++snpr7pmobhLKUgSHTv/mpkqgBT0tQJ0zQj6qKrqc=                      1   \n",
       "++/9R3sX37CjxbY/AaGvbwr3QkwElKBCtSvVzhCBDOk=                      1   \n",
       "++/UDNo9DLrxT8QVGiDi1OnWfczAdEwThaVyD0fXO50=                      1   \n",
       "\n",
       "                                              plan_duration_365 - 485  \\\n",
       "+++hVY1rZox/33YtvDgmKA2Frg/2qhkz12B9ylCvh8o=                        0   \n",
       "+++l/EXNMLTijfLBa8p2TUVVVp2aFGSuUI/h7mLmthw=                        0   \n",
       "+++snpr7pmobhLKUgSHTv/mpkqgBT0tQJ0zQj6qKrqc=                        0   \n",
       "++/9R3sX37CjxbY/AaGvbwr3QkwElKBCtSvVzhCBDOk=                        0   \n",
       "++/UDNo9DLrxT8QVGiDi1OnWfczAdEwThaVyD0fXO50=                        0   \n",
       "\n",
       "                                              plan_duration_8 - 29  \\\n",
       "+++hVY1rZox/33YtvDgmKA2Frg/2qhkz12B9ylCvh8o=                     0   \n",
       "+++l/EXNMLTijfLBa8p2TUVVVp2aFGSuUI/h7mLmthw=                     0   \n",
       "+++snpr7pmobhLKUgSHTv/mpkqgBT0tQJ0zQj6qKrqc=                     0   \n",
       "++/9R3sX37CjxbY/AaGvbwr3QkwElKBCtSvVzhCBDOk=                     0   \n",
       "++/UDNo9DLrxT8QVGiDi1OnWfczAdEwThaVyD0fXO50=                     0   \n",
       "\n",
       "                                              plan_duration_90 - 179  is_churn  \n",
       "+++hVY1rZox/33YtvDgmKA2Frg/2qhkz12B9ylCvh8o=                       0     False  \n",
       "+++l/EXNMLTijfLBa8p2TUVVVp2aFGSuUI/h7mLmthw=                       0     False  \n",
       "+++snpr7pmobhLKUgSHTv/mpkqgBT0tQJ0zQj6qKrqc=                       0     False  \n",
       "++/9R3sX37CjxbY/AaGvbwr3QkwElKBCtSvVzhCBDOk=                       0     False  \n",
       "++/UDNo9DLrxT8QVGiDi1OnWfczAdEwThaVyD0fXO50=                       0     False  \n",
       "\n",
       "[5 rows x 68 columns]"
      ]
     },
     "execution_count": 13,
     "metadata": {},
     "output_type": "execute_result"
    }
   ],
   "source": [
    "df_full.head()"
   ]
  },
  {
   "cell_type": "code",
   "execution_count": 14,
   "metadata": {},
   "outputs": [],
   "source": [
    "# df_full.info()"
   ]
  },
  {
   "cell_type": "markdown",
   "metadata": {},
   "source": [
    "# Train-Test split"
   ]
  },
  {
   "cell_type": "code",
   "execution_count": 15,
   "metadata": {},
   "outputs": [],
   "source": [
    "from sklearn.model_selection import train_test_split\n",
    "\n",
    "# get target values\n",
    "y = df_full.is_churn.values\n",
    "X = df_full.drop(labels='is_churn', axis = 1).values\n",
    "\n",
    "# keep test set\n",
    "X_train, X_test, y_train, y_test = \\\n",
    "            train_test_split( X , y, test_size = 0.1, random_state = 7, stratify = y)"
   ]
  },
  {
   "cell_type": "code",
   "execution_count": 16,
   "metadata": {},
   "outputs": [],
   "source": [
    "# # reduced size for debugging\n",
    "# X_train = X_train[:int(1e4),:]\n",
    "# y_train = y_train[:int(1e4)]"
   ]
  },
  {
   "cell_type": "code",
   "execution_count": 17,
   "metadata": {},
   "outputs": [
    {
     "name": "stdout",
     "output_type": "stream",
     "text": [
      "Training set size: (893637, 67) Size in memory: 478,989,432 Bytes\n",
      "Test set size: (99294, 67) Size in memory: 53,221,584 Bytes\n"
     ]
    }
   ],
   "source": [
    "# numpy array size\n",
    "print('Training set size:', X_train.shape, 'Size in memory:', '{:,} Bytes'.format(X_train.nbytes) )\n",
    "print('Test set size:', X_test.shape, 'Size in memory:', '{:,} Bytes'.format(X_test.nbytes))"
   ]
  },
  {
   "cell_type": "code",
   "execution_count": 18,
   "metadata": {},
   "outputs": [
    {
     "name": "stdout",
     "output_type": "stream",
     "text": [
      "No churn count (Negative class): 836,513 \n",
      "Churn count (Positive class): 57,124\n",
      "15:1 imbalance ratio\n"
     ]
    }
   ],
   "source": [
    "# figure out how much memory we need post upsampling\n",
    "imb = Counter(y_train)\n",
    "num_majo = imb[False]\n",
    "num_mino = imb[True]\n",
    "\n",
    "print('No churn count (Negative class): {:,}'.format(num_majo), '\\nChurn count (Positive class): {:,}'.format(num_mino))\n",
    "print('{:.0f}:1 imbalance ratio'.format(np.ceil(num_majo/num_mino)))"
   ]
  },
  {
   "cell_type": "code",
   "execution_count": 19,
   "metadata": {},
   "outputs": [
    {
     "name": "stdout",
     "output_type": "stream",
     "text": [
      "Training set size with minority class at 2:1 ratio : 672,556,184 Bytes (361132 samples added)\n"
     ]
    }
   ],
   "source": [
    "# size after upsampling for imbalance ratio of 2:1\n",
    "smote_sample = int(num_majo/2) - num_mino\n",
    "post_smote_byte = (X_train.shape[0] + smote_sample ) / X_train.shape[0] * X_train.nbytes\n",
    "print('Training set size with minority class at 2:1 ratio : {:,.0f} Bytes ({} samples added)'.format(\n",
    "                            post_smote_byte, smote_sample))"
   ]
  },
  {
   "cell_type": "markdown",
   "metadata": {},
   "source": [
    "# Logistic regression with regularization and class weights"
   ]
  },
  {
   "cell_type": "code",
   "execution_count": 20,
   "metadata": {},
   "outputs": [],
   "source": [
    "from sklearn.model_selection import cross_validate, GridSearchCV\n",
    "from sklearn.preprocessing import MinMaxScaler\n",
    "from sklearn.linear_model import LogisticRegression\n",
    "from sklearn.pipeline import Pipeline\n",
    "from imblearn.pipeline import Pipeline as imbPipeline\n",
    "from imblearn.over_sampling import SMOTE\n",
    "from imblearn.under_sampling import EditedNearestNeighbours\n",
    "from sklearn.metrics import roc_curve, precision_recall_curve, classification_report"
   ]
  },
  {
   "cell_type": "code",
   "execution_count": 21,
   "metadata": {},
   "outputs": [],
   "source": [
    "logw_clf = Pipeline([\n",
    "                       ('scaler', MinMaxScaler()),\n",
    "                       ('clf', LogisticRegression(random_state=7, class_weight='balanced', max_iter=200)),\n",
    "                    ])\n",
    "\n",
    "# paramter grid search\n",
    "parameters = [\n",
    "              {\n",
    "              'clf__C': [0.1, 0.3, 1],\n",
    "              'clf__penalty': ['l1'],\n",
    "              'clf__solver': ['saga'],\n",
    "              },\n",
    "              {\n",
    "              'clf__C': [0.1, 0.3, 1],\n",
    "              'clf__penalty': ['l2'],\n",
    "              'clf__solver': ['sag'],\n",
    "              }\n",
    "            ]\n",
    "\n",
    "# set up grid search\n",
    "# f1 score to take into account precision and recall for the positive class (churn)\n",
    "# NOTE: during xval, it will default to stratified kfold for classifiers\n",
    "gsw_clf = GridSearchCV(logw_clf, param_grid = parameters, cv = 5 , scoring='f1' , n_jobs = -1, verbose = 3)"
   ]
  },
  {
   "cell_type": "code",
   "execution_count": 22,
   "metadata": {},
   "outputs": [
    {
     "name": "stdout",
     "output_type": "stream",
     "text": [
      "Fitting 5 folds for each of 6 candidates, totalling 30 fits\n"
     ]
    },
    {
     "name": "stderr",
     "output_type": "stream",
     "text": [
      "[Parallel(n_jobs=-1)]: Done  26 out of  30 | elapsed: 11.3min remaining:  1.7min\n",
      "[Parallel(n_jobs=-1)]: Done  30 out of  30 | elapsed: 12.1min finished\n",
      "C:\\ProgramData\\Anaconda3\\envs\\kkbox_churn\\lib\\site-packages\\sklearn\\linear_model\\sag.py:326: ConvergenceWarning: The max_iter was reached which means the coef_ did not converge\n",
      "  \"the coef_ did not converge\", ConvergenceWarning)\n"
     ]
    }
   ],
   "source": [
    "# perform grid search CV on pipeline\n",
    "_ = gsw_clf.fit(X_train, y_train)"
   ]
  },
  {
   "cell_type": "code",
   "execution_count": 23,
   "metadata": {},
   "outputs": [
    {
     "data": {
      "text/plain": [
       "{'clf__C': 1, 'clf__penalty': 'l1', 'clf__solver': 'saga'}"
      ]
     },
     "execution_count": 23,
     "metadata": {},
     "output_type": "execute_result"
    }
   ],
   "source": [
    "gsw_clf.best_params_"
   ]
  },
  {
   "cell_type": "code",
   "execution_count": 24,
   "metadata": {},
   "outputs": [
    {
     "name": "stdout",
     "output_type": "stream",
     "text": [
      "Train f1 score =  0.38163248440773706\n",
      "Test f1 score =  0.3803846488556262\n"
     ]
    }
   ],
   "source": [
    "# training set score\n",
    "print('Train f1 score = ', gsw_clf.score(X_train, y_train))\n",
    "# test set score\n",
    "print('Test f1 score = ', gsw_clf.score(X_test, y_test))"
   ]
  },
  {
   "cell_type": "code",
   "execution_count": 25,
   "metadata": {},
   "outputs": [
    {
     "name": "stdout",
     "output_type": "stream",
     "text": [
      "             precision    recall  f1-score   support\n",
      "\n",
      "   no churn       0.98      0.87      0.92     92947\n",
      "      churn       0.26      0.69      0.38      6347\n",
      "\n",
      "avg / total       0.93      0.86      0.88     99294\n",
      "\n"
     ]
    }
   ],
   "source": [
    "# show classification report\n",
    "y_pred = gsw_clf.predict(X_test)\n",
    "print(classification_report(y_test, y_pred, target_names=[\"no churn\", \"churn\"]))"
   ]
  },
  {
   "cell_type": "code",
   "execution_count": 39,
   "metadata": {},
   "outputs": [
    {
     "data": {
      "image/png": "[encoded data removed]",
      "text/plain": [
       "<matplotlib.figure.Figure at 0x25e05328630>"
      ]
     },
     "metadata": {},
     "output_type": "display_data"
    }
   ],
   "source": [
    "y_pred_prob = gsw_clf.predict_proba(X_test)[:,1]\n",
    "precision, recall, thresholds = precision_recall_curve(y_test, y_pred_prob)\n",
    "close_zero = np.argmin(np.abs(thresholds-0.5))\n",
    "\n",
    "figimp , axpr = plt.subplots(figsize = (8, 5))\n",
    "# plot precision-recall\n",
    "axpr.plot(precision, recall, label='Logistic Regression')\n",
    "axpr.set_xlabel('Precision')\n",
    "axpr.set_ylabel('Recall (True Positive Rate)')\n",
    "axpr.set_title('Logistic Regression Precision-Recall Curve')\n",
    "# plot zero threshold\n",
    "axpr.plot(precision[close_zero], recall[close_zero], 'o', markersize=10,\n",
    "         label=\"threshold 0.5\", fillstyle=\"none\", c='k', mew=2)\n",
    "# mew: markeredgewidth\n",
    "_ = plt.legend()\n",
    "figimp.savefig(os.path.join(os.pardir, 'reports', 'figures', 'Precision_recall.png'))"
   ]
  },
  {
   "cell_type": "code",
   "execution_count": 27,
   "metadata": {
    "scrolled": true
   },
   "outputs": [
    {
     "data": {
      "image/png": "[encoded data removed]",
      "text/plain": [
       "<matplotlib.figure.Figure at 0x25e2162c710>"
      ]
     },
     "metadata": {},
     "output_type": "display_data"
    }
   ],
   "source": [
    "import mglearn\n",
    "mglearn.plots.plot_binary_confusion_matrix()"
   ]
  },
  {
   "cell_type": "code",
   "execution_count": 38,
   "metadata": {
    "scrolled": false
   },
   "outputs": [
    {
     "data": {
      "image/png": "[encoded data removed]",
      "text/plain": [
       "<matplotlib.figure.Figure at 0x25e045f67b8>"
      ]
     },
     "metadata": {},
     "output_type": "display_data"
    }
   ],
   "source": [
    "# get column names except target\n",
    "names = df_full.drop(labels='is_churn', axis = 1).columns\n",
    "\n",
    "# get coefficient of logistic regression model\n",
    "l1_coef = gsw_clf.best_estimator_.named_steps['clf'].coef_\n",
    "# flatten it\n",
    "l1_coef = np.abs(l1_coef.ravel())\n",
    "# get indices for sorting in descending order\n",
    "indsorted = l1_coef.argsort()[::-1]\n",
    "# apply indices to names and coeff\n",
    "names = names[indsorted[:10]]\n",
    "l1_coef = l1_coef[indsorted[:10]]\n",
    "y_pos = range(len(names))\n",
    "\n",
    "# make plot\n",
    "figimp , aximp = plt.subplots(figsize = (8, 10))\n",
    "aximp.barh(y_pos, l1_coef)\n",
    "aximp.set_yticks(y_pos)\n",
    "aximp.set_yticklabels(names)\n",
    "aximp.set_ylabel('Feature name')\n",
    "aximp.set_xlabel('Coefficients Importance')\n",
    "aximp.invert_yaxis()\n",
    "\n",
    "figimp.savefig(os.path.join(os.pardir, 'reports', 'figures', 'top_features.png'))"
   ]
  },
  {
   "cell_type": "markdown",
   "metadata": {},
   "source": [
    "### WIthout class weights"
   ]
  },
  {
   "cell_type": "code",
   "execution_count": 29,
   "metadata": {},
   "outputs": [
    {
     "name": "stderr",
     "output_type": "stream",
     "text": [
      "[Parallel(n_jobs=-1)]: Done   2 out of   5 | elapsed:  2.2min remaining:  3.2min\n",
      "[Parallel(n_jobs=-1)]: Done   5 out of   5 | elapsed:  2.2min finished\n"
     ]
    },
    {
     "data": {
      "text/plain": [
       "0.23576214918811686"
      ]
     },
     "execution_count": 29,
     "metadata": {},
     "output_type": "execute_result"
    }
   ],
   "source": [
    "log_noweights = Pipeline([\n",
    "                       ('scaler', MinMaxScaler()),\n",
    "                       ('clf', LogisticRegression(C = 1, penalty = 'l1', solver='saga', random_state=7)),\n",
    "                     ])\n",
    "scores = cross_validate(log_noweights, X_train, y_train, cv = 5 , scoring='f1', verbose=3, n_jobs=-1)\n",
    "scores['test_score'].mean()"
   ]
  },
  {
   "cell_type": "code",
   "execution_count": 30,
   "metadata": {},
   "outputs": [
    {
     "name": "stderr",
     "output_type": "stream",
     "text": [
      "C:\\ProgramData\\Anaconda3\\envs\\kkbox_churn\\lib\\site-packages\\sklearn\\linear_model\\sag.py:326: ConvergenceWarning: The max_iter was reached which means the coef_ did not converge\n",
      "  \"the coef_ did not converge\", ConvergenceWarning)\n"
     ]
    }
   ],
   "source": [
    "_ = log_noweights.fit(X_train, y_train)"
   ]
  },
  {
   "cell_type": "code",
   "execution_count": 31,
   "metadata": {},
   "outputs": [
    {
     "name": "stdout",
     "output_type": "stream",
     "text": [
      "             precision    recall  f1-score   support\n",
      "\n",
      "      False       0.94      0.99      0.97     92947\n",
      "       True       0.62      0.15      0.24      6347\n",
      "\n",
      "avg / total       0.92      0.94      0.92     99294\n",
      "\n"
     ]
    }
   ],
   "source": [
    "# show classification report\n",
    "y_pred_lognoweights = log_noweights.predict(X_test)\n",
    "print(classification_report(y_test, y_pred_lognoweights))"
   ]
  },
  {
   "cell_type": "code",
   "execution_count": 37,
   "metadata": {},
   "outputs": [
    {
     "data": {
      "image/png": "[encoded data removed]",
      "text/plain": [
       "<matplotlib.figure.Figure at 0x25e04521a20>"
      ]
     },
     "metadata": {},
     "output_type": "display_data"
    }
   ],
   "source": [
    "y_pred_prob_lognoweights = log_noweights.predict_proba(X_test)[:,1]\n",
    "precision_nw, recall_nw, thresholds_nw = precision_recall_curve(y_test, y_pred_prob_lognoweights)\n",
    "close_zero_nw = np.argmin(np.abs(thresholds_nw-0.5))\n",
    "\n",
    "figimp_nw , axpr_nw = plt.subplots(figsize = (8, 5))\n",
    "# plot precision-recall\n",
    "axpr_nw.plot(precision_nw, recall_nw, label='Logistic Regression No Weights', c='g')\n",
    "axpr_nw.set_xlabel('Precision')\n",
    "axpr_nw.set_ylabel('Recall (True Positive Rate)')\n",
    "axpr_nw.set_title('Logistic Regression Precision-Recall Curve')\n",
    "# plot zero threshold\n",
    "axpr_nw.plot(precision_nw[close_zero_nw], recall_nw[close_zero_nw], '^', markersize=10,\n",
    "         label=\"threshold 0.5 (No Weigths)\", fillstyle=\"none\", c='k', mew=2)\n",
    "\n",
    "# adding weighted model\n",
    "axpr_nw.plot(precision, recall, label='Logistic Regression', c='r')\n",
    "# plot zero threshold\n",
    "axpr_nw.plot(precision[close_zero], recall[close_zero], 'o', markersize=10,\n",
    "         label=\"threshold 0.5\", fillstyle=\"none\", c='k', mew=2)\n",
    "\n",
    "_ = plt.legend()"
   ]
  },
  {
   "cell_type": "code",
   "execution_count": null,
   "metadata": {},
   "outputs": [],
   "source": []
  },
  {
   "cell_type": "code",
   "execution_count": null,
   "metadata": {},
   "outputs": [],
   "source": []
  },
  {
   "cell_type": "code",
   "execution_count": null,
   "metadata": {},
   "outputs": [],
   "source": []
  },
  {
   "cell_type": "markdown",
   "metadata": {},
   "source": [
    "# Other approach using over-sampling/under-sampling\n",
    "\n",
    "It takes a long time to perform a grid search, think manys days, maybe a couple of weeks."
   ]
  },
  {
   "cell_type": "markdown",
   "metadata": {},
   "source": [
    "#### One step at a time for testing only"
   ]
  },
  {
   "cell_type": "code",
   "execution_count": null,
   "metadata": {},
   "outputs": [],
   "source": [
    "X_scaled = MinMaxScaler().fit_transform(X_train)"
   ]
  },
  {
   "cell_type": "code",
   "execution_count": null,
   "metadata": {},
   "outputs": [],
   "source": [
    "X_up, y_up = SMOTE(ratio = {0 : num_majo, 1: int(num_majo/2)},\\\n",
    "                   k_neighbors = 5, random_state=7, n_jobs=-1).fit_sample(X_scaled, y_train)\n",
    "# Counter(y_up)"
   ]
  },
  {
   "cell_type": "code",
   "execution_count": null,
   "metadata": {},
   "outputs": [],
   "source": [
    "LogisticRegression(C = 1, penalty = 'l1', solver='saga').fit(X_up, y_up)"
   ]
  },
  {
   "cell_type": "markdown",
   "metadata": {},
   "source": [
    "#### Single cross-validation"
   ]
  },
  {
   "cell_type": "code",
   "execution_count": null,
   "metadata": {},
   "outputs": [],
   "source": [
    "log_clf_xval = imbPipeline([\n",
    "                       ('scaler', MinMaxScaler()),\n",
    "                       ('imb', SMOTE(ratio = {0 : num_majo, 1: int(num_majo/2)}, k_neighbors = 5, random_state=7)),\n",
    "                       ('clf', LogisticRegression(C = 1, penalty = 'l2', solver='sag')),\n",
    "                     ])\n",
    "cross_validate(log_clf_xval, X_train, y_train, cv = 5 , scoring='f1', verbose=3, n_jobs=-1)"
   ]
  },
  {
   "cell_type": "markdown",
   "metadata": {},
   "source": [
    "#### Testing SMOTE and ENN separately"
   ]
  },
  {
   "cell_type": "code",
   "execution_count": null,
   "metadata": {},
   "outputs": [],
   "source": [
    "smx, smy = SMOTE(ratio = {0 : num_majo, 1: int(num_majo/2)}, k_neighbors = 5, n_jobs=-1).fit_sample(X_scaled, y_train)\n",
    "Counter(smy)"
   ]
  },
  {
   "cell_type": "code",
   "execution_count": null,
   "metadata": {},
   "outputs": [],
   "source": [
    "ennx, enny = EditedNearestNeighbours(ratio = 'all', kind_sel = 'mode', n_neighbors = 3, n_jobs=-1).fit_sample(smx, smy)\n",
    "Counter(enny)"
   ]
  },
  {
   "cell_type": "markdown",
   "metadata": {},
   "source": [
    "#### Testing SOMTE and ENN together (ratio in SMOTEENN is not used, SMOTE comes first then ENN with their respective ratio)"
   ]
  },
  {
   "cell_type": "code",
   "execution_count": null,
   "metadata": {},
   "outputs": [],
   "source": [
    "sm = SMOTE(ratio = {0 : num_majo, 1: int(num_majo/2)}, k_neighbors = 5, n_jobs=-1)\n",
    "enn = EditedNearestNeighbours(ratio = 'all', kind_sel = 'mode', n_neighbors = 3, n_jobs=-1)\n",
    "Xou, you = SMOTEENN(random_state=7, smote=sm, enn = enn).fit_sample(X_scaled, y_train)"
   ]
  },
  {
   "cell_type": "code",
   "execution_count": null,
   "metadata": {},
   "outputs": [],
   "source": [
    "Counter(you)"
   ]
  },
  {
   "cell_type": "markdown",
   "metadata": {},
   "source": [
    "#### Full grid search using over-sampling (SMOTE) and under-sampling (ENN)\n",
    "\n",
    "**Warnings** : it will takes days to run this grid search"
   ]
  },
  {
   "cell_type": "code",
   "execution_count": null,
   "metadata": {},
   "outputs": [],
   "source": [
    "# # cache transformer results for faster grid search\n",
    "# from tempfile import mkdtemp\n",
    "# cachedir = mkdtemp(dir=os.path.join(os.pardir))"
   ]
  },
  {
   "cell_type": "code",
   "execution_count": null,
   "metadata": {},
   "outputs": [],
   "source": [
    "log_clf = imbPipeline([\n",
    "                       ('scaler', MinMaxScaler()),\n",
    "                       ('imbup', SMOTE(random_state=7)),\n",
    "                       ('imbdown', EditedNearestNeighbours(random_state=7)),\n",
    "                       ('clf', LogisticRegression(random_state=7))),\n",
    "                     ])\n",
    "\n",
    "# paramter grid search\n",
    "parameters = [\n",
    "              {\n",
    "              'imbup__ratio': [{0 : num_majo, 1: int(num_majo/2)},\n",
    "                             {0 : num_majo, 1: int(num_majo/3)},\n",
    "                             {0 : num_majo, 1: int(num_majo/4)}],\n",
    "              'imbup__k_neighbors': [5, 6, 7],\n",
    "              'imbdown__ratio': ['all'],\n",
    "              'imbdown__n_neighbors': [2, 3, 4],\n",
    "              'imbdown__kind_sel': ['all', 'mode'],\n",
    "              'clf__C': [0.1, 0.3, 1],\n",
    "              'clf__penalty': ['l1'],\n",
    "              'clf__solver': ['saga'],\n",
    "              }\n",
    "              {\n",
    "              'imbup__ratio': [{0 : num_majo, 1: int(num_majo/2)},\n",
    "                             {0 : num_majo, 1: int(num_majo/3)},\n",
    "                             {0 : num_majo, 1: int(num_majo/4)}],\n",
    "              'imbup__k_neighbors': [5, 6, 7],\n",
    "              'imbdown__ratio': ['all'],\n",
    "              'imbdown__n_neighbors': [2, 3, 4],\n",
    "              'imbdown__kind_sel': ['all', 'mode'],\n",
    "              'clf__C': [0.1, 0.3, 1],\n",
    "              'clf__penalty': ['l2'],\n",
    "              'clf__solver': ['sag'],\n",
    "              }\n",
    "            ]\n",
    "\n",
    "# set up grid search\n",
    "# NOTE: during xval, it will default to stratified kfold for classifiers (f1 score)\n",
    "gs_clf = GridSearchCV(log_clf, param_grid = parameters, cv = 5 , scoring='f1' , n_jobs = -1, verbose = 3)"
   ]
  },
  {
   "cell_type": "code",
   "execution_count": null,
   "metadata": {},
   "outputs": [],
   "source": [
    "# perform grid search CV on pipeline\n",
    "gs_clf.fit(X_train, y_train)"
   ]
  },
  {
   "cell_type": "code",
   "execution_count": null,
   "metadata": {},
   "outputs": [],
   "source": [
    "# from shutil import rmtree\n",
    "# # Clear the cache directory when you don't need it anymore\n",
    "# rmtree(cachedir)"
   ]
  },
  {
   "cell_type": "code",
   "execution_count": null,
   "metadata": {},
   "outputs": [],
   "source": [
    "# ROC_AUC is not ideal for class imbalance as it doesn't focus on the minority class\n",
    "y_pred_prob = gsw_clf.predict_proba(X_test)[:,1]\n",
    "fpr, tpr, thresholds = roc_curve(y_test, y_pred_prob)\n",
    "close_zero = np.argmin(np.abs(thresholds-0.5))\n",
    "\n",
    "figimp , axroc = plt.subplots(figsize = (8, 5))\n",
    "# diagonal\n",
    "axroc.plot([0, 1], [0, 1], 'k--')\n",
    "# plot ROC\n",
    "axroc.plot(fpr, tpr, label='Logistic Regression')\n",
    "axroc.set_xlabel('False Positive Rate')\n",
    "axroc.set_ylabel('True Positive Rate (recall)')\n",
    "axroc.set_title('Logistic Regression ROC Curve')\n",
    "# plot zero threshold\n",
    "axroc.plot(fpr[close_zero], tpr[close_zero], 'o', markersize=10,\n",
    "         label=\"threshold 0.5\", fillstyle=\"none\", c='k', mew=2)\n",
    "_ = plt.legend()"
   ]
  }
 ],
 "metadata": {
  "kernelspec": {
   "display_name": "kkbox_churn_kernel",
   "language": "python",
   "name": "kkbox_churn"
  },
  "language_info": {
   "codemirror_mode": {
    "name": "ipython",
    "version": 3
   },
   "file_extension": ".py",
   "mimetype": "text/x-python",
   "name": "python",
   "nbconvert_exporter": "python",
   "pygments_lexer": "ipython3",
   "version": "3.6.4"
  }
 },
 "nbformat": 4,
 "nbformat_minor": 2
}
