{
 "cells": [
  {
   "cell_type": "markdown",
   "metadata": {},
   "source": [
    "# Imports"
   ]
  },
  {
   "cell_type": "code",
   "execution_count": 1,
   "metadata": {
    "collapsed": true
   },
   "outputs": [],
   "source": [
    "import os\n",
    "import pandas as pd\n",
    "import numpy as np\n",
    "import seaborn as sns\n",
    "import matplotlib.pyplot as plt\n",
    "\n",
    "# keep matplotlib interactive\n",
    "# NOTE: one must reload matplotlib to change of rendering style\n",
    "%matplotlib notebook\n",
    "# %matplotlib inline\n",
    "# use ggplot style\n",
    "plt.style.use('ggplot')"
   ]
  },
  {
   "cell_type": "markdown",
   "metadata": {},
   "source": [
    "# Data Description\n",
    "Description of transactions"
   ]
  },
  {
   "cell_type": "markdown",
   "metadata": {},
   "source": [
    "                                                \n",
    "\n",
    "|                                       transactions.csv                                        |\n",
    "|-----------------------------------------------------------------------------------------------|\n",
    "| msno                   | user id  (letters, digits and special characters)                    |\n",
    "| payment_method_id      | payment method   (masked)                                            |\n",
    "| payment_plan_days      | length of membership plan in days                                    |\n",
    "| plan_list_price        | in New Taiwan Dollar (NTD)                                           |\n",
    "| actual_amount_paid     | in New Taiwan Dollar (NTD)                                           |\n",
    "| is_auto_renew          | true when customer opted in renewing its subscription automatically  |\n",
    "| transaction_date       | format %Y%m%d                                                        |\n",
    "| membership_expire_date | format %Y%m%d                                                        |\n",
    "| is_cancel              | whether or not the user canceled the membership in this transaction. |\n",
    "\n"
   ]
  },
  {
   "cell_type": "markdown",
   "metadata": {},
   "source": [
    "### Transactions"
   ]
  },
  {
   "cell_type": "code",
   "execution_count": 2,
   "metadata": {
    "collapsed": true
   },
   "outputs": [],
   "source": [
    "transaction_dir = os.path.join(os.pardir, 'data', 'raw', 'transactions.csv')\n",
    "df_transac = pd.read_csv(transaction_dir, parse_dates=['transaction_date', 'membership_expire_date'])"
   ]
  },
  {
   "cell_type": "code",
   "execution_count": 3,
   "metadata": {},
   "outputs": [
    {
     "data": {
      "text/plain": [
       "msno                      21547746\n",
       "payment_method_id         21547746\n",
       "payment_plan_days         21547746\n",
       "plan_list_price           21547746\n",
       "actual_amount_paid        21547746\n",
       "is_auto_renew             21547746\n",
       "transaction_date          21547746\n",
       "membership_expire_date    21547746\n",
       "is_cancel                 21547746\n",
       "dtype: int64"
      ]
     },
     "execution_count": 3,
     "metadata": {},
     "output_type": "execute_result"
    }
   ],
   "source": [
    "df_transac.count()"
   ]
  },
  {
   "cell_type": "code",
   "execution_count": 4,
   "metadata": {
    "collapsed": true
   },
   "outputs": [],
   "source": [
    "# treat payment_method_id as a category\n",
    "df_transac.payment_method_id = df_transac.payment_method_id.astype('category')\n",
    "# same for user\n",
    "df_transac.msno = df_transac.msno.astype('category')\n",
    "# convert relevant columns to boolean\n",
    "df_transac.is_auto_renew = df_transac.is_auto_renew.astype(bool)\n",
    "df_transac.is_cancel = df_transac.is_cancel.astype(bool)"
   ]
  },
  {
   "cell_type": "code",
   "execution_count": 5,
   "metadata": {
    "scrolled": false
   },
   "outputs": [
    {
     "name": "stdout",
     "output_type": "stream",
     "text": [
      "<class 'pandas.core.frame.DataFrame'>\n",
      "RangeIndex: 21547746 entries, 0 to 21547745\n",
      "Data columns (total 9 columns):\n",
      "msno                      category\n",
      "payment_method_id         category\n",
      "payment_plan_days         int64\n",
      "plan_list_price           int64\n",
      "actual_amount_paid        int64\n",
      "is_auto_renew             bool\n",
      "transaction_date          datetime64[ns]\n",
      "membership_expire_date    datetime64[ns]\n",
      "is_cancel                 bool\n",
      "dtypes: bool(2), category(2), datetime64[ns](2), int64(3)\n",
      "memory usage: 1.0 GB\n"
     ]
    }
   ],
   "source": [
    "df_transac.info()"
   ]
  },
  {
   "cell_type": "code",
   "execution_count": 6,
   "metadata": {
    "collapsed": true
   },
   "outputs": [],
   "source": [
    "def plot_bar(df, bar_list, is_Norm=True):\n",
    "    \"\"\"\n",
    "        Make a bar plot using dataframe df and associated columns in bar_list\n",
    "        is_Norm will normalize distribution by counts\n",
    "        df: pandas DataFrame\n",
    "        bar_list: list of column names\n",
    "    \"\"\"\n",
    "    # keep 2 columns and compute number of rows needed in subpots\n",
    "    subrows = int(np.ceil(len(bar_list) / 2))\n",
    "    discard_last_ax = bool(len(bar_list) % 2)\n",
    "    \n",
    "    # special case when there is only one column specified\n",
    "    # then keep one figure and make it bigger\n",
    "    if subrows == 1 and discard_last_ax:\n",
    "        _ , ax = plt.subplots(figsize=(9,5))\n",
    "        ax = [ax]\n",
    "    else:\n",
    "        _ , ax = plt.subplots(subrows, 2)\n",
    "        ax = ax.flatten()\n",
    "    for k, colname in enumerate(bar_list):\n",
    "        \n",
    "        # select column and make bar plot\n",
    "        s_colname = df[colname]\n",
    "        distrib = s_colname.value_counts(normalize = is_Norm).sort_index()*100\n",
    "        distrib.plot(kind='bar', ax=ax[k], color='b')\n",
    "        \n",
    "        # add percent character to y tick label if plot normalized\n",
    "        if is_Norm:\n",
    "            # add percent on y axis labels, uses numerical value of each tick (just in case scale has changed)\n",
    "#             ax[k].set_yticklabels([ '{:.0f}%'.format(l)  for l in ax[k].get_yticks()])\n",
    "            pass\n",
    "        else:\n",
    "            ax[k].set_ylabel('Count')\n",
    "                \n",
    "        # reformat existing x ticklabels to integer (may not be required)\n",
    "        # When numeric columns have Nans then it will show float number\n",
    "        # ax[k].set_xticklabels([ '{:.0f}'.format(float(l.get_text()))  for l in ax[k].get_xticklabels()])\n",
    "        \n",
    "        # add title\n",
    "        ax[k].set_title(distrib.name + ' Distribution')\n",
    "        \n",
    "        # reset x axis label to 45 rotation\n",
    "        ax[k].tick_params(axis = 'x', rotation = 45)\n",
    "        \n",
    "        # add x axis label\n",
    "        ax[k].set_xlabel(distrib.name)\n",
    "        \n",
    "    # decide to keep last axes\n",
    "    if discard_last_ax and subrows > 1: ax[-1].set_visible(False)\n",
    "    plt.tight_layout()\n",
    "    \n",
    "    # save figure to file as png\n",
    "    plt.savefig(os.path.join(os.pardir, 'reports', 'figures', distrib.name +'.png'))"
   ]
  },
  {
   "cell_type": "markdown",
   "metadata": {},
   "source": [
    "### Payment ID method\n",
    "Payment ID 41 represents more than 50% of transactions"
   ]
  },
  {
   "cell_type": "code",
   "execution_count": 7,
   "metadata": {
    "scrolled": false
   },
   "outputs": [
    {
     "data": {
      "image/png": "[encoded data removed]",
      "text/plain": [
       "<matplotlib.figure.Figure at 0x230fbbef6a0>"
      ]
     },
     "metadata": {},
     "output_type": "display_data"
    }
   ],
   "source": [
    "plot_bar(df_transac, ['payment_method_id'])"
   ]
  },
  {
   "cell_type": "markdown",
   "metadata": {},
   "source": [
    "### Payment Plan in days\n",
    "There is a lot more variety in subscriptions than I expected\n",
    "from [KKBOX website](https://help.kkbox.com/hk/zh-tw/billing/pay-types/260), here are the options:\n",
    "1. Options are monthly plan (30/31 days) with automatic renewal (is_auto_renew true) \n",
    "2. Single purchase, no automatic renewal but more expensive:\n",
    "    3. 30 days\n",
    "    4. 90 days (plus 7 days bonus?)\n",
    "    5. 180 days (plus 21 days bonus?)\n",
    "    6. 365 days (plus 50 days bonus?)\n",
    "There are discount programs too (getting a credit card with their partners and so on)"
   ]
  },
  {
   "cell_type": "markdown",
   "metadata": {},
   "source": [
    "0 days doesn't make sense. Because it is low percentage, we can discard it.\n",
    "\n",
    "We may want to keep only plans shorter than 30/31 days as predicitons are made on a monthly basis.\n",
    "Indeed, longer subscription means customer will not churn next month"
   ]
  },
  {
   "cell_type": "code",
   "execution_count": 8,
   "metadata": {},
   "outputs": [
    {
     "data": {
      "image/png": "[encoded data removed]",
      "text/plain": [
       "<matplotlib.figure.Figure at 0x230f69043c8>"
      ]
     },
     "metadata": {},
     "output_type": "display_data"
    }
   ],
   "source": [
    "plot_bar(df_transac, ['payment_plan_days'], is_Norm=True)"
   ]
  },
  {
   "cell_type": "markdown",
   "metadata": {},
   "source": [
    "### A closer look at 0 day plans"
   ]
  },
  {
   "cell_type": "markdown",
   "metadata": {},
   "source": [
    "Records of 0 day plans also have a list price of 0. All other columns appears to contain legitimate information.\n",
    "\n",
    "Therefore, payment plan days can be inferred by looking at the time difference between expiration date and transaction date. However, when cancellation is active, it will not work as expiration date is not meaningful. In this latter case, we could look at previous transaction from each respective user if needed.\n",
    "\n",
    "Note that those transactions occur in 2015 except for 3 in 2016 and 1 in 2017."
   ]
  },
  {
   "cell_type": "code",
   "execution_count": 9,
   "metadata": {
    "collapsed": true
   },
   "outputs": [],
   "source": [
    "# select rows where payment plan days are zero\n",
    "df_zero_day = df_transac[df_transac.payment_plan_days == 0]"
   ]
  },
  {
   "cell_type": "code",
   "execution_count": 10,
   "metadata": {},
   "outputs": [
    {
     "name": "stdout",
     "output_type": "stream",
     "text": [
      "4.04% of total transactions\n"
     ]
    }
   ],
   "source": [
    "# number of missing value is small\n",
    "print( '{:.2f}% of total transactions'.format(df_zero_day.shape[0]/df_transac.shape[0] * 100))"
   ]
  },
  {
   "cell_type": "code",
   "execution_count": 11,
   "metadata": {},
   "outputs": [
    {
     "data": {
      "text/plain": [
       "0"
      ]
     },
     "execution_count": 11,
     "metadata": {},
     "output_type": "execute_result"
    }
   ],
   "source": [
    "# show that list prices are also zero\n",
    "df_zero_day.plan_list_price.sum()"
   ]
  },
  {
   "cell_type": "markdown",
   "metadata": {},
   "source": [
    "#### Replacing 0 payment plan days with no active cancellation"
   ]
  },
  {
   "cell_type": "markdown",
   "metadata": {},
   "source": [
    "Here we assume that expiration and membership dates are valid and number of days ellapsed between those two dates correspond to the plan duration. We should check if this is true for non-zero payment plan days."
   ]
  },
  {
   "cell_type": "code",
   "execution_count": 12,
   "metadata": {
    "collapsed": true
   },
   "outputs": [],
   "source": [
    "df_temp = df_transac[(df_transac.payment_plan_days != 0) & (df_transac.is_cancel == False)].copy()"
   ]
  },
  {
   "cell_type": "code",
   "execution_count": 13,
   "metadata": {
    "collapsed": true
   },
   "outputs": [],
   "source": [
    "# compute payment plan days from transaction date and expiration date\n",
    "df_temp['delta_days'] = (df_temp['membership_expire_date'] - \\\n",
    "                         df_temp['transaction_date']).astype('timedelta64[D]').astype('int64')"
   ]
  },
  {
   "cell_type": "code",
   "execution_count": 14,
   "metadata": {},
   "outputs": [
    {
     "name": "stdout",
     "output_type": "stream",
     "text": [
      "Percent of Payment Plan Days matching delta plan days = 33.8 %\n"
     ]
    }
   ],
   "source": [
    "df_temp_match = df_temp.loc[df_temp.delta_days == df_temp.payment_plan_days]\n",
    "print('Percent of Payment Plan Days matching delta plan days = {:.1f} %'.format(\\\n",
    "                                    df_temp_match.shape[0]/df_temp.shape[0]*100))"
   ]
  },
  {
   "cell_type": "markdown",
   "metadata": {},
   "source": [
    "Using transaction date and expiration date works only for 33.8% of known transactions!\n",
    "\n",
    "When did it work?\n",
    "\n",
    "Most likely hapenning when automatic renewal is enabled and transaction date is at the end of the month. Not a reliable method!!!"
   ]
  },
  {
   "cell_type": "code",
   "execution_count": 15,
   "metadata": {},
   "outputs": [
    {
     "data": {
      "text/html": [
       "<div>\n",
       "<style scoped>\n",
       "    .dataframe tbody tr th:only-of-type {\n",
       "        vertical-align: middle;\n",
       "    }\n",
       "\n",
       "    .dataframe tbody tr th {\n",
       "        vertical-align: top;\n",
       "    }\n",
       "\n",
       "    .dataframe thead th {\n",
       "        text-align: right;\n",
       "    }\n",
       "</style>\n",
       "<table border=\"1\" class=\"dataframe\">\n",
       "  <thead>\n",
       "    <tr style=\"text-align: right;\">\n",
       "      <th></th>\n",
       "      <th>msno</th>\n",
       "      <th>payment_method_id</th>\n",
       "      <th>payment_plan_days</th>\n",
       "      <th>plan_list_price</th>\n",
       "      <th>actual_amount_paid</th>\n",
       "      <th>is_auto_renew</th>\n",
       "      <th>transaction_date</th>\n",
       "      <th>membership_expire_date</th>\n",
       "      <th>is_cancel</th>\n",
       "      <th>delta_days</th>\n",
       "    </tr>\n",
       "  </thead>\n",
       "  <tbody>\n",
       "    <tr>\n",
       "      <th>22</th>\n",
       "      <td>pArK2x3bNZW0sAYaFg0h5c3xkx+2RhLa0RXG88jpt6I=</td>\n",
       "      <td>37</td>\n",
       "      <td>30</td>\n",
       "      <td>149</td>\n",
       "      <td>149</td>\n",
       "      <td>True</td>\n",
       "      <td>2015-10-01</td>\n",
       "      <td>2015-10-31</td>\n",
       "      <td>False</td>\n",
       "      <td>30</td>\n",
       "    </tr>\n",
       "    <tr>\n",
       "      <th>62</th>\n",
       "      <td>svvuo4JCElN6TLQZUrMPLuZMpRwcaePM02X3ybNN1dg=</td>\n",
       "      <td>38</td>\n",
       "      <td>30</td>\n",
       "      <td>149</td>\n",
       "      <td>149</td>\n",
       "      <td>False</td>\n",
       "      <td>2015-11-30</td>\n",
       "      <td>2015-12-30</td>\n",
       "      <td>False</td>\n",
       "      <td>30</td>\n",
       "    </tr>\n",
       "    <tr>\n",
       "      <th>63</th>\n",
       "      <td>uxUOp7bS37/tqyaiJZnGVAg68YyA7AXEgJ5WDTb6jYE=</td>\n",
       "      <td>37</td>\n",
       "      <td>30</td>\n",
       "      <td>149</td>\n",
       "      <td>149</td>\n",
       "      <td>True</td>\n",
       "      <td>2015-12-01</td>\n",
       "      <td>2015-12-31</td>\n",
       "      <td>False</td>\n",
       "      <td>30</td>\n",
       "    </tr>\n",
       "    <tr>\n",
       "      <th>66</th>\n",
       "      <td>aUB5tfRl4tO/EefPzjhKOmAuCVqsmHWYDVgBPpC1/ps=</td>\n",
       "      <td>38</td>\n",
       "      <td>10</td>\n",
       "      <td>0</td>\n",
       "      <td>0</td>\n",
       "      <td>False</td>\n",
       "      <td>2015-12-01</td>\n",
       "      <td>2015-12-11</td>\n",
       "      <td>False</td>\n",
       "      <td>10</td>\n",
       "    </tr>\n",
       "    <tr>\n",
       "      <th>67</th>\n",
       "      <td>vIpqkb/ck3zAOqMgqirkrM1rI49dNLPREdznv2X6eTQ=</td>\n",
       "      <td>38</td>\n",
       "      <td>30</td>\n",
       "      <td>149</td>\n",
       "      <td>149</td>\n",
       "      <td>False</td>\n",
       "      <td>2015-12-01</td>\n",
       "      <td>2015-12-31</td>\n",
       "      <td>False</td>\n",
       "      <td>30</td>\n",
       "    </tr>\n",
       "  </tbody>\n",
       "</table>\n",
       "</div>"
      ],
      "text/plain": [
       "                                            msno payment_method_id  \\\n",
       "22  pArK2x3bNZW0sAYaFg0h5c3xkx+2RhLa0RXG88jpt6I=                37   \n",
       "62  svvuo4JCElN6TLQZUrMPLuZMpRwcaePM02X3ybNN1dg=                38   \n",
       "63  uxUOp7bS37/tqyaiJZnGVAg68YyA7AXEgJ5WDTb6jYE=                37   \n",
       "66  aUB5tfRl4tO/EefPzjhKOmAuCVqsmHWYDVgBPpC1/ps=                38   \n",
       "67  vIpqkb/ck3zAOqMgqirkrM1rI49dNLPREdznv2X6eTQ=                38   \n",
       "\n",
       "    payment_plan_days  plan_list_price  actual_amount_paid  is_auto_renew  \\\n",
       "22                 30              149                 149           True   \n",
       "62                 30              149                 149          False   \n",
       "63                 30              149                 149           True   \n",
       "66                 10                0                   0          False   \n",
       "67                 30              149                 149          False   \n",
       "\n",
       "   transaction_date membership_expire_date  is_cancel  delta_days  \n",
       "22       2015-10-01             2015-10-31      False          30  \n",
       "62       2015-11-30             2015-12-30      False          30  \n",
       "63       2015-12-01             2015-12-31      False          30  \n",
       "66       2015-12-01             2015-12-11      False          10  \n",
       "67       2015-12-01             2015-12-31      False          30  "
      ]
     },
     "execution_count": 15,
     "metadata": {},
     "output_type": "execute_result"
    }
   ],
   "source": [
    "df_temp_match.head()"
   ]
  },
  {
   "cell_type": "markdown",
   "metadata": {},
   "source": [
    "### Better approach to substitute 0-day payment plan\n",
    "Looking at the time ellapsed between two consecutives expiration date is a better way to determine payment plan days. Current transaction date must be anterior to previous expiration date meaning user always renewed before the expiration date.\n",
    "\n",
    "When there is no overlap between successive transaction and expiration dates, then we can estimate using the difference in days between current transaction and its associated expiration date.\n",
    "\n",
    "For active cancellation, we can propagate forward last known plan duration."
   ]
  },
  {
   "cell_type": "markdown",
   "metadata": {},
   "source": [
    "Instead of looping through each group (i.e. using groupby), we can apply our calculation on the whole dataframe at once if we know the index of each customer first transaction. Indeed, we don't want to propagate expiration date from one customer to another."
   ]
  },
  {
   "cell_type": "code",
   "execution_count": 16,
   "metadata": {
    "collapsed": true
   },
   "outputs": [],
   "source": [
    "# sort dataframe by msno, transaction date then expiration date\n",
    "df_transac.sort_values(['msno', 'transaction_date', 'membership_expire_date'], inplace=True)"
   ]
  },
  {
   "cell_type": "code",
   "execution_count": 17,
   "metadata": {
    "collapsed": true
   },
   "outputs": [],
   "source": [
    "# group by users, no need to sort as it is pre-sorted\n",
    "df_group = df_transac.groupby('msno', sort=False)"
   ]
  },
  {
   "cell_type": "markdown",
   "metadata": {},
   "source": [
    "Collect index of user's first transaction"
   ]
  },
  {
   "cell_type": "code",
   "execution_count": 18,
   "metadata": {},
   "outputs": [
    {
     "name": "stdout",
     "output_type": "stream",
     "text": [
      "--- 430.8794689178467 seconds ellapsed in for loop---\n"
     ]
    }
   ],
   "source": [
    "import time\n",
    "start_time = time.time()\n",
    "# keep track of each user's first transaction\n",
    "first_trans = []\n",
    "\n",
    "# aggregation function first set msno as indexes (original indexes are lost)\n",
    "for user_name, user_df in df_group:\n",
    "    # get transactions from user\n",
    "    first_trans.append(user_df.index[0])\n",
    "    \n",
    "print(\"--- %s seconds ellapsed in for loop---\" % (time.time() - start_time))"
   ]
  },
  {
   "cell_type": "code",
   "execution_count": 19,
   "metadata": {
    "collapsed": true
   },
   "outputs": [],
   "source": [
    "# create new column showing preceding expiration date for each record\n",
    "# expect for the first record obviously\n",
    "# Note: must use .values otherwise it will attempt to align data\n",
    "df_transac.loc[df_transac.index[1:],'prior_expiration'] =\\\n",
    "                            df_transac.loc[df_transac.index[:-1],'membership_expire_date'].values"
   ]
  },
  {
   "cell_type": "code",
   "execution_count": 20,
   "metadata": {
    "collapsed": true
   },
   "outputs": [],
   "source": [
    "# set each user's first transaction to pd.Timedelta('nan') (aka NaT) for prior_expiration.\n",
    "# It was set to last transaction of preceding user from last operation.\n",
    "df_transac.loc[first_trans, 'prior_expiration'] = pd.Timedelta('nan')"
   ]
  },
  {
   "cell_type": "markdown",
   "metadata": {},
   "source": [
    "#### Estimate payment plan days for users who always renew in time."
   ]
  },
  {
   "cell_type": "code",
   "execution_count": 21,
   "metadata": {
    "collapsed": true
   },
   "outputs": [],
   "source": [
    "# compute delta days when transaction date is anterior to prior expiration date and no active cancellation\n",
    "# This condition captures all transactions when auto renew is enabled unless a user starts again \n",
    "# his membership after a while and chooses automatic renewal\n",
    "# OR user's first transaction (no existing prior expiration date)\n",
    "# NOTE: inequality comparison with NaT will always yield False\n",
    "crit_mem = (df_transac.transaction_date <= df_transac.prior_expiration) & (df_transac.is_cancel == False)"
   ]
  },
  {
   "cell_type": "code",
   "execution_count": 22,
   "metadata": {},
   "outputs": [
    {
     "name": "stdout",
     "output_type": "stream",
     "text": [
      "Percentage of timely transaction without automatic renewal = 3.8%\n"
     ]
    }
   ],
   "source": [
    "# percentage of transactions renewed on time WITHOUT automatic renewal\n",
    "s_timely_renew = df_transac.loc[crit_mem, 'is_auto_renew']\n",
    "no_auto_renew_fraction = 1 - (s_timely_renew.sum() /len(s_timely_renew))\n",
    "print('Percentage of timely transaction without automatic renewal = {:.1f}%'.format(no_auto_renew_fraction*100))"
   ]
  },
  {
   "cell_type": "code",
   "execution_count": 23,
   "metadata": {
    "collapsed": true
   },
   "outputs": [],
   "source": [
    "# estimate payment plan days\n",
    "df_transac.loc[crit_mem,'delta_days'] = (df_transac.loc[crit_mem, 'membership_expire_date'] - \\\n",
    "                                         df_transac.loc[crit_mem, 'prior_expiration']\n",
    "                                        ).astype('timedelta64[D]')"
   ]
  },
  {
   "cell_type": "markdown",
   "metadata": {},
   "source": [
    "#### Estimate payment plan days for independent transactions (no transaction date/prior expiration date overlap)"
   ]
  },
  {
   "cell_type": "code",
   "execution_count": 24,
   "metadata": {
    "collapsed": true
   },
   "outputs": [],
   "source": [
    "# user didn't keep up with its membership in a timely manner and no active cancellation\n",
    "# For user's first transaction, we cannot tell if there is an overlap or not\n",
    "crit_ept = (df_transac.delta_days.isnull()) & (df_transac.is_cancel == False) & (~df_transac.index.isin(first_trans))"
   ]
  },
  {
   "cell_type": "code",
   "execution_count": 25,
   "metadata": {
    "collapsed": true
   },
   "outputs": [],
   "source": [
    "# when there is no overlap with prior transaction, use expiration-transaction date difference\n",
    "df_transac.loc[crit_ept, 'delta_days'] = (df_transac.loc[crit_ept, 'membership_expire_date'] - \\\n",
    "                                         df_transac.loc[crit_ept, 'transaction_date']\n",
    "                                        ).astype('timedelta64[D]')"
   ]
  },
  {
   "cell_type": "markdown",
   "metadata": {},
   "source": [
    "#### Estimate payment plan days when cancellation is active\n",
    "At this point we have user's first transactions and active cancellation unfilled. <br>\n",
    "NOTE: active cancellation only happens when automatic renewal is in place."
   ]
  },
  {
   "cell_type": "code",
   "execution_count": 26,
   "metadata": {
    "collapsed": true
   },
   "outputs": [],
   "source": [
    "# Use fillna() with forward fill, intended for cancellation with prior history for each user\n",
    "# When a user cancels, he/she signed up at the first place\n",
    "df_transac.delta_days.fillna(method='ffill', inplace=True)\n",
    "\n",
    "# reset each user's first transaction to nan\n",
    "df_transac.loc[df_transac.index.isin(first_trans), 'delta_days'] = np.nan"
   ]
  },
  {
   "cell_type": "markdown",
   "metadata": {},
   "source": [
    "### Expiration date inconsistency\n",
    "When delta_days is negative, it means membership expiration date is not in a chronological order. It indicates poor data collection and there is no consistent way to fix it unless we know how data were recorded. We have no choice but to drop all transactions from users with no consitency in expiration date. (There is only 4459 records, and often multiple records per user)"
   ]
  },
  {
   "cell_type": "code",
   "execution_count": 27,
   "metadata": {
    "collapsed": true
   },
   "outputs": [],
   "source": [
    "# select users who have one or more negative estimated plan duration\n",
    "users2remove = set(df_transac.loc[(df_transac.delta_days <= 0), 'msno'].values)\n",
    "\n",
    "# remove users with inconsistency in expiration date\n",
    "df_transac = df_transac.loc[ ~df_transac.msno.isin(users2remove) ,:]"
   ]
  },
  {
   "cell_type": "markdown",
   "metadata": {},
   "source": [
    "### Missing payment plan days in Unique transactions\n",
    "When users have a unique transaction and payment plan days is missing (zero), it is tricky to find a replacement. We know transaction/expiration dates are not reliable without prior history and plan list price is zero.\n",
    "\n",
    "We could try to rely on actual paid price. However, non-missing payment plan days shows that actual amount paid occasionally varies for the same payment plan days. Even if we select the most common actual amount, it corresponds to multiple payment plan days.\n",
    "It will most likely add more noise than signal trying to fill missing values based on the most common of most common value."
   ]
  },
  {
   "cell_type": "code",
   "execution_count": 28,
   "metadata": {
    "collapsed": true
   },
   "outputs": [],
   "source": [
    "# number of transactions per user\n",
    "s_trans_num = df_group.size()\n",
    "\n",
    "# list of user's having just one transaction\n",
    "users_unq_trans = s_trans_num[s_trans_num == 1].index"
   ]
  },
  {
   "cell_type": "code",
   "execution_count": 29,
   "metadata": {
    "collapsed": true
   },
   "outputs": [],
   "source": [
    "# remove users with single transaction and missing payment plan days\n",
    "crit_single = (df_transac.msno.isin(users_unq_trans)) & (df_transac.payment_plan_days == 0)\n",
    "df_transac = df_transac.loc[ ~crit_single ,:]"
   ]
  },
  {
   "cell_type": "markdown",
   "metadata": {},
   "source": [
    "### Payment plan days missing value as first transaction\n",
    "At this point delta days has missing value only for the first transaction of each user."
   ]
  },
  {
   "cell_type": "code",
   "execution_count": 30,
   "metadata": {},
   "outputs": [
    {
     "data": {
      "text/plain": [
       "True"
      ]
     },
     "execution_count": 30,
     "metadata": {},
     "output_type": "execute_result"
    }
   ],
   "source": [
    "# verify only user's first transaction do not have a delta days estimate\n",
    "((df_transac.index.isin(first_trans)) == (df_transac.delta_days.isnull())).all()"
   ]
  },
  {
   "cell_type": "markdown",
   "metadata": {},
   "source": [
    "* We can backpropagate payment plan days as long as auto renew is true over two successive automatic renewal transactions. It means plan duration has not changed."
   ]
  },
  {
   "cell_type": "code",
   "execution_count": 37,
   "metadata": {
    "collapsed": true
   },
   "outputs": [],
   "source": [
    "# get indexes of user's first transaction with auto renew true\n",
    "crit_first_auto = (df_transac.index.isin(first_trans)) & (df_transac.is_auto_renew == True)\n",
    "first_trans_auto = df_transac[crit_first_auto].index"
   ]
  },
  {
   "cell_type": "code",
   "execution_count": 38,
   "metadata": {
    "collapsed": true
   },
   "outputs": [],
   "source": [
    "# indexes of user's second transaction knowing first transaction has auto renew true\n",
    "second_trans = [ i+1 for i in first_trans_auto]\n",
    "\n",
    "# index of second transaction with automatic renewal in addition to first transaction\n",
    "crit_second = (df_transac.index.isin(second_trans)) & (df_transac.is_auto_renew == True)\n",
    "second_trans_auto = df_transac[crit_second].index"
   ]
  },
  {
   "cell_type": "code",
   "execution_count": 39,
   "metadata": {
    "collapsed": true
   },
   "outputs": [],
   "source": [
    "# get user's first transaction indexes where both first and second transactions are true\n",
    "first_trans_valid = [ i-1 for i in second_trans_auto]\n",
    "\n",
    "# assign first transaction delta days to second transaction delta days\n",
    "df_transac.loc[ df_transac.index.isin(first_trans_valid), 'delta_days'] = \\\n",
    "                                        df_transac.loc[df_transac.index.isin(second_trans_auto), 'delta_days']"
   ]
  },
  {
   "cell_type": "markdown",
   "metadata": {},
   "source": [
    "* When both auto renew and cancellation are false, it means a user subscribed on his own agenda. Without prior history, we don't know if this is an independent transaction. Based on the existing data, it appears that transaction-expiration time difference does work for 90% of transactions given the same conditions. Because the last 10% has high error, we will simply disregard those transactions (~12k over 21M+ total). Also actual amount is not reliable."
   ]
  },
  {
   "cell_type": "code",
   "execution_count": 42,
   "metadata": {},
   "outputs": [],
   "source": [
    "crit_inde = (df_transac.payment_plan_days == 0) & (df_transac.index.isin(first_trans)) & \\\n",
    "            (df_transac.is_auto_renew == False) & (df_transac.is_cancel == False)"
   ]
  },
  {
   "cell_type": "code",
   "execution_count": 43,
   "metadata": {},
   "outputs": [
    {
     "data": {
      "text/plain": [
       "12252"
      ]
     },
     "execution_count": 43,
     "metadata": {},
     "output_type": "execute_result"
    }
   ],
   "source": [
    "crit_inde.sum()"
   ]
  },
  {
   "cell_type": "code",
   "execution_count": 44,
   "metadata": {
    "collapsed": true
   },
   "outputs": [],
   "source": [
    "df_transac = df_transac[~crit_inde]"
   ]
  },
  {
   "cell_type": "markdown",
   "metadata": {},
   "source": [
    "* For all other scenarios, we only have actual amount as a hint. We already saw it wasn't reliable (see unique transactions). Thus we will disregard those (additional 82k transactions)."
   ]
  },
  {
   "cell_type": "code",
   "execution_count": 45,
   "metadata": {},
   "outputs": [],
   "source": [
    "crit_cancel_auto = ((df_transac.payment_plan_days == 0) & df_transac.delta_days.isnull())"
   ]
  },
  {
   "cell_type": "code",
   "execution_count": 47,
   "metadata": {},
   "outputs": [
    {
     "data": {
      "text/plain": [
       "82563"
      ]
     },
     "execution_count": 47,
     "metadata": {},
     "output_type": "execute_result"
    }
   ],
   "source": [
    "crit_cancel_auto.sum()"
   ]
  },
  {
   "cell_type": "code",
   "execution_count": 48,
   "metadata": {
    "collapsed": true
   },
   "outputs": [],
   "source": [
    "df_transac = df_transac[~crit_cancel_auto]"
   ]
  },
  {
   "cell_type": "markdown",
   "metadata": {
    "collapsed": true
   },
   "source": [
    "Our estimated monthly plan duration is always between 28 and 32 days depending on the month. Therefore, we adjust our estimation to 30 days. The same operation can be done for payment plan days."
   ]
  },
  {
   "cell_type": "code",
   "execution_count": 49,
   "metadata": {
    "collapsed": true
   },
   "outputs": [],
   "source": [
    "crit_30_delta = (df_transac.delta_days >= 28) & (df_transac.delta_days <= 32)\n",
    "df_transac.loc[crit_30_delta, 'delta_days'] = 30"
   ]
  },
  {
   "cell_type": "code",
   "execution_count": 50,
   "metadata": {},
   "outputs": [],
   "source": [
    "crit_30 = (df_transac.payment_plan_days >= 28) & (df_transac.payment_plan_days <= 32)\n",
    "df_transac.loc[crit_30, 'payment_plan_days'] = 30"
   ]
  },
  {
   "cell_type": "markdown",
   "metadata": {
    "collapsed": true
   },
   "source": [
    "#### Replace missing payment plan days!"
   ]
  },
  {
   "cell_type": "code",
   "execution_count": 51,
   "metadata": {},
   "outputs": [],
   "source": [
    "crit_plan = df_transac.payment_plan_days == 0\n",
    "df_transac.loc[crit_plan, 'payment_plan_days'] = df_transac.loc[crit_plan, 'delta_days']"
   ]
  },
  {
   "cell_type": "code",
   "execution_count": 52,
   "metadata": {
    "collapsed": true
   },
   "outputs": [],
   "source": [
    "# drop delta days and prior expiration\n",
    "df_transac = df_transac.drop(['delta_days', 'prior_expiration'], axis = 1)"
   ]
  },
  {
   "cell_type": "markdown",
   "metadata": {},
   "source": [
    "As a result of filling missing values, we have a wider variety in payment plan days."
   ]
  },
  {
   "cell_type": "code",
   "execution_count": 53,
   "metadata": {},
   "outputs": [
    {
     "name": "stdout",
     "output_type": "stream",
     "text": [
      "Initial number of plan duration = 34       \n",
      "Number of plans duration after replacement = 104\n"
     ]
    }
   ],
   "source": [
    "num_of_plan_ini = df_transac.loc[~crit_plan, 'payment_plan_days'].value_counts().count()\n",
    "num_of_plan = df_transac.payment_plan_days.value_counts().count()\n",
    "print('Initial number of plan duration = {} \\\n",
    "      \\nNumber of plans duration after replacement = {}'.format(num_of_plan_ini, num_of_plan))"
   ]
  },
  {
   "cell_type": "markdown",
   "metadata": {},
   "source": [
    "Let's group plan duration by the following intervals in days:\n",
    "| 0 - 7 | 8 - 29 | 30 - 89 | 90 - 179 | 180 - 364  | 365 - 485 |\n",
    "\n",
    "Those intervals are based on the information available on KKBOX website. For instance, there is a 30 days and 90 days plan hence we make an interval between 30 and 89 days. The assumption is you can only have extra days in your subscription."
   ]
  },
  {
   "cell_type": "code",
   "execution_count": 54,
   "metadata": {},
   "outputs": [
    {
     "name": "stdout",
     "output_type": "stream",
     "text": [
      "Bin edges = [0, 8, 30, 90, 180, 365, 485]\n",
      "Associated labels = ['0 - 7', '8 - 29', '30 - 89', '90 - 179', '180 - 364', '365 - 485']\n"
     ]
    }
   ],
   "source": [
    "# create custom intervals (bin edges will be left inclusive) in increasing order\n",
    "days_plan = [0, 8, 30, 90, 180, 365, 485 ]\n",
    "\n",
    "# compile labels\n",
    "days_plan_upperbounds = [d-1 for d in days_plan[1:-1] ]\n",
    "days_plan_upperbounds.append(days_plan[-1])\n",
    "days_plan_labels = [ \"{} - {}\".format(l,u) for l,u in zip(days_plan[:-1], days_plan_upperbounds) ]\n",
    "\n",
    "print('Bin edges = {}'.format(days_plan))\n",
    "print('Associated labels = {}'.format(days_plan_labels))"
   ]
  },
  {
   "cell_type": "code",
   "execution_count": 55,
   "metadata": {
    "collapsed": true
   },
   "outputs": [],
   "source": [
    "# create new column with plan duration category\n",
    "df_transac['plan_duration'] = pd.cut(df_transac.payment_plan_days, days_plan, right=False, labels=days_plan_labels)"
   ]
  },
  {
   "cell_type": "code",
   "execution_count": 56,
   "metadata": {},
   "outputs": [
    {
     "data": {
      "image/png": "[encoded data removed]",
      "text/plain": [
       "<matplotlib.figure.Figure at 0x230dbb48dd8>"
      ]
     },
     "metadata": {},
     "output_type": "display_data"
    }
   ],
   "source": [
    "plot_bar(df_transac, ['plan_duration'])"
   ]
  },
  {
   "cell_type": "markdown",
   "metadata": {},
   "source": [
    "### Auto-renew and active cancellation\n",
    "Most people who have auto renewal active also don't cancel actively. It is consistent with the fact that most customers don't churn."
   ]
  },
  {
   "cell_type": "code",
   "execution_count": 69,
   "metadata": {},
   "outputs": [
    {
     "data": {
      "application/javascript": [
       "/* Put everything inside the global mpl namespace */\n",
       "window.mpl = {};\n",
       "\n",
       "\n",
       "mpl.get_websocket_type = function() {\n",
       "    if (typeof(WebSocket) !== 'undefined') {\n",
       "        return WebSocket;\n",
       "    } else if (typeof(MozWebSocket) !== 'undefined') {\n",
       "        return MozWebSocket;\n",
       "    } else {\n",
       "        alert('Your browser does not have WebSocket support.' +\n",
       "              'Please try Chrome, Safari or Firefox ≥ 6. ' +\n",
       "              'Firefox 4 and 5 are also supported but you ' +\n",
       "              'have to enable WebSockets in about:config.');\n",
       "    };\n",
       "}\n",
       "\n",
       "mpl.figure = function(figure_id, websocket, ondownload, parent_element) {\n",
       "    this.id = figure_id;\n",
       "\n",
       "    this.ws = websocket;\n",
       "\n",
       "    this.supports_binary = (this.ws.binaryType != undefined);\n",
       "\n",
       "    if (!this.supports_binary) {\n",
       "        var warnings = document.getElementById(\"mpl-warnings\");\n",
       "        if (warnings) {\n",
       "            warnings.style.display = 'block';\n",
       "            warnings.textContent = (\n",
       "                \"This browser does not support binary websocket messages. \" +\n",
       "                    \"Performance may be slow.\");\n",
       "        }\n",
       "    }\n",
       "\n",
       "    this.imageObj = new Image();\n",
       "\n",
       "    this.context = undefined;\n",
       "    this.message = undefined;\n",
       "    this.canvas = undefined;\n",
       "    this.rubberband_canvas = undefined;\n",
       "    this.rubberband_context = undefined;\n",
       "    this.format_dropdown = undefined;\n",
       "\n",
       "    this.image_mode = 'full';\n",
       "\n",
       "    this.root = $('<div/>');\n",
       "    this._root_extra_style(this.root)\n",
       "    this.root.attr('style', 'display: inline-block');\n",
       "\n",
       "    $(parent_element).append(this.root);\n",
       "\n",
       "    this._init_header(this);\n",
       "    this._init_canvas(this);\n",
       "    this._init_toolbar(this);\n",
       "\n",
       "    var fig = this;\n",
       "\n",
       "    this.waiting = false;\n",
       "\n",
       "    this.ws.onopen =  function () {\n",
       "            fig.send_message(\"supports_binary\", {value: fig.supports_binary});\n",
       "            fig.send_message(\"send_image_mode\", {});\n",
       "            if (mpl.ratio != 1) {\n",
       "                fig.send_message(\"set_dpi_ratio\", {'dpi_ratio': mpl.ratio});\n",
       "            }\n",
       "            fig.send_message(\"refresh\", {});\n",
       "        }\n",
       "\n",
       "    this.imageObj.onload = function() {\n",
       "            if (fig.image_mode == 'full') {\n",
       "                // Full images could contain transparency (where diff images\n",
       "                // almost always do), so we need to clear the canvas so that\n",
       "                // there is no ghosting.\n",
       "                fig.context.clearRect(0, 0, fig.canvas.width, fig.canvas.height);\n",
       "            }\n",
       "            fig.context.drawImage(fig.imageObj, 0, 0);\n",
       "        };\n",
       "\n",
       "    this.imageObj.onunload = function() {\n",
       "        fig.ws.close();\n",
       "    }\n",
       "\n",
       "    this.ws.onmessage = this._make_on_message_function(this);\n",
       "\n",
       "    this.ondownload = ondownload;\n",
       "}\n",
       "\n",
       "mpl.figure.prototype._init_header = function() {\n",
       "    var titlebar = $(\n",
       "        '<div class=\"ui-dialog-titlebar ui-widget-header ui-corner-all ' +\n",
       "        'ui-helper-clearfix\"/>');\n",
       "    var titletext = $(\n",
       "        '<div class=\"ui-dialog-title\" style=\"width: 100%; ' +\n",
       "        'text-align: center; padding: 3px;\"/>');\n",
       "    titlebar.append(titletext)\n",
       "    this.root.append(titlebar);\n",
       "    this.header = titletext[0];\n",
       "}\n",
       "\n",
       "\n",
       "\n",
       "mpl.figure.prototype._canvas_extra_style = function(canvas_div) {\n",
       "\n",
       "}\n",
       "\n",
       "\n",
       "mpl.figure.prototype._root_extra_style = function(canvas_div) {\n",
       "\n",
       "}\n",
       "\n",
       "mpl.figure.prototype._init_canvas = function() {\n",
       "    var fig = this;\n",
       "\n",
       "    var canvas_div = $('<div/>');\n",
       "\n",
       "    canvas_div.attr('style', 'position: relative; clear: both; outline: 0');\n",
       "\n",
       "    function canvas_keyboard_event(event) {\n",
       "        return fig.key_event(event, event['data']);\n",
       "    }\n",
       "\n",
       "    canvas_div.keydown('key_press', canvas_keyboard_event);\n",
       "    canvas_div.keyup('key_release', canvas_keyboard_event);\n",
       "    this.canvas_div = canvas_div\n",
       "    this._canvas_extra_style(canvas_div)\n",
       "    this.root.append(canvas_div);\n",
       "\n",
       "    var canvas = $('<canvas/>');\n",
       "    canvas.addClass('mpl-canvas');\n",
       "    canvas.attr('style', \"left: 0; top: 0; z-index: 0; outline: 0\")\n",
       "\n",
       "    this.canvas = canvas[0];\n",
       "    this.context = canvas[0].getContext(\"2d\");\n",
       "\n",
       "    var backingStore = this.context.backingStorePixelRatio ||\n",
       "\tthis.context.webkitBackingStorePixelRatio ||\n",
       "\tthis.context.mozBackingStorePixelRatio ||\n",
       "\tthis.context.msBackingStorePixelRatio ||\n",
       "\tthis.context.oBackingStorePixelRatio ||\n",
       "\tthis.context.backingStorePixelRatio || 1;\n",
       "\n",
       "    mpl.ratio = (window.devicePixelRatio || 1) / backingStore;\n",
       "\n",
       "    var rubberband = $('<canvas/>');\n",
       "    rubberband.attr('style', \"position: absolute; left: 0; top: 0; z-index: 1;\")\n",
       "\n",
       "    var pass_mouse_events = true;\n",
       "\n",
       "    canvas_div.resizable({\n",
       "        start: function(event, ui) {\n",
       "            pass_mouse_events = false;\n",
       "        },\n",
       "        resize: function(event, ui) {\n",
       "            fig.request_resize(ui.size.width, ui.size.height);\n",
       "        },\n",
       "        stop: function(event, ui) {\n",
       "            pass_mouse_events = true;\n",
       "            fig.request_resize(ui.size.width, ui.size.height);\n",
       "        },\n",
       "    });\n",
       "\n",
       "    function mouse_event_fn(event) {\n",
       "        if (pass_mouse_events)\n",
       "            return fig.mouse_event(event, event['data']);\n",
       "    }\n",
       "\n",
       "    rubberband.mousedown('button_press', mouse_event_fn);\n",
       "    rubberband.mouseup('button_release', mouse_event_fn);\n",
       "    // Throttle sequential mouse events to 1 every 20ms.\n",
       "    rubberband.mousemove('motion_notify', mouse_event_fn);\n",
       "\n",
       "    rubberband.mouseenter('figure_enter', mouse_event_fn);\n",
       "    rubberband.mouseleave('figure_leave', mouse_event_fn);\n",
       "\n",
       "    canvas_div.on(\"wheel\", function (event) {\n",
       "        event = event.originalEvent;\n",
       "        event['data'] = 'scroll'\n",
       "        if (event.deltaY < 0) {\n",
       "            event.step = 1;\n",
       "        } else {\n",
       "            event.step = -1;\n",
       "        }\n",
       "        mouse_event_fn(event);\n",
       "    });\n",
       "\n",
       "    canvas_div.append(canvas);\n",
       "    canvas_div.append(rubberband);\n",
       "\n",
       "    this.rubberband = rubberband;\n",
       "    this.rubberband_canvas = rubberband[0];\n",
       "    this.rubberband_context = rubberband[0].getContext(\"2d\");\n",
       "    this.rubberband_context.strokeStyle = \"#000000\";\n",
       "\n",
       "    this._resize_canvas = function(width, height) {\n",
       "        // Keep the size of the canvas, canvas container, and rubber band\n",
       "        // canvas in synch.\n",
       "        canvas_div.css('width', width)\n",
       "        canvas_div.css('height', height)\n",
       "\n",
       "        canvas.attr('width', width * mpl.ratio);\n",
       "        canvas.attr('height', height * mpl.ratio);\n",
       "        canvas.attr('style', 'width: ' + width + 'px; height: ' + height + 'px;');\n",
       "\n",
       "        rubberband.attr('width', width);\n",
       "        rubberband.attr('height', height);\n",
       "    }\n",
       "\n",
       "    // Set the figure to an initial 600x600px, this will subsequently be updated\n",
       "    // upon first draw.\n",
       "    this._resize_canvas(600, 600);\n",
       "\n",
       "    // Disable right mouse context menu.\n",
       "    $(this.rubberband_canvas).bind(\"contextmenu\",function(e){\n",
       "        return false;\n",
       "    });\n",
       "\n",
       "    function set_focus () {\n",
       "        canvas.focus();\n",
       "        canvas_div.focus();\n",
       "    }\n",
       "\n",
       "    window.setTimeout(set_focus, 100);\n",
       "}\n",
       "\n",
       "mpl.figure.prototype._init_toolbar = function() {\n",
       "    var fig = this;\n",
       "\n",
       "    var nav_element = $('<div/>')\n",
       "    nav_element.attr('style', 'width: 100%');\n",
       "    this.root.append(nav_element);\n",
       "\n",
       "    // Define a callback function for later on.\n",
       "    function toolbar_event(event) {\n",
       "        return fig.toolbar_button_onclick(event['data']);\n",
       "    }\n",
       "    function toolbar_mouse_event(event) {\n",
       "        return fig.toolbar_button_onmouseover(event['data']);\n",
       "    }\n",
       "\n",
       "    for(var toolbar_ind in mpl.toolbar_items) {\n",
       "        var name = mpl.toolbar_items[toolbar_ind][0];\n",
       "        var tooltip = mpl.toolbar_items[toolbar_ind][1];\n",
       "        var image = mpl.toolbar_items[toolbar_ind][2];\n",
       "        var method_name = mpl.toolbar_items[toolbar_ind][3];\n",
       "\n",
       "        if (!name) {\n",
       "            // put a spacer in here.\n",
       "            continue;\n",
       "        }\n",
       "        var button = $('<button/>');\n",
       "        button.addClass('ui-button ui-widget ui-state-default ui-corner-all ' +\n",
       "                        'ui-button-icon-only');\n",
       "        button.attr('role', 'button');\n",
       "        button.attr('aria-disabled', 'false');\n",
       "        button.click(method_name, toolbar_event);\n",
       "        button.mouseover(tooltip, toolbar_mouse_event);\n",
       "\n",
       "        var icon_img = $('<span/>');\n",
       "        icon_img.addClass('ui-button-icon-primary ui-icon');\n",
       "        icon_img.addClass(image);\n",
       "        icon_img.addClass('ui-corner-all');\n",
       "\n",
       "        var tooltip_span = $('<span/>');\n",
       "        tooltip_span.addClass('ui-button-text');\n",
       "        tooltip_span.html(tooltip);\n",
       "\n",
       "        button.append(icon_img);\n",
       "        button.append(tooltip_span);\n",
       "\n",
       "        nav_element.append(button);\n",
       "    }\n",
       "\n",
       "    var fmt_picker_span = $('<span/>');\n",
       "\n",
       "    var fmt_picker = $('<select/>');\n",
       "    fmt_picker.addClass('mpl-toolbar-option ui-widget ui-widget-content');\n",
       "    fmt_picker_span.append(fmt_picker);\n",
       "    nav_element.append(fmt_picker_span);\n",
       "    this.format_dropdown = fmt_picker[0];\n",
       "\n",
       "    for (var ind in mpl.extensions) {\n",
       "        var fmt = mpl.extensions[ind];\n",
       "        var option = $(\n",
       "            '<option/>', {selected: fmt === mpl.default_extension}).html(fmt);\n",
       "        fmt_picker.append(option)\n",
       "    }\n",
       "\n",
       "    // Add hover states to the ui-buttons\n",
       "    $( \".ui-button\" ).hover(\n",
       "        function() { $(this).addClass(\"ui-state-hover\");},\n",
       "        function() { $(this).removeClass(\"ui-state-hover\");}\n",
       "    );\n",
       "\n",
       "    var status_bar = $('<span class=\"mpl-message\"/>');\n",
       "    nav_element.append(status_bar);\n",
       "    this.message = status_bar[0];\n",
       "}\n",
       "\n",
       "mpl.figure.prototype.request_resize = function(x_pixels, y_pixels) {\n",
       "    // Request matplotlib to resize the figure. Matplotlib will then trigger a resize in the client,\n",
       "    // which will in turn request a refresh of the image.\n",
       "    this.send_message('resize', {'width': x_pixels, 'height': y_pixels});\n",
       "}\n",
       "\n",
       "mpl.figure.prototype.send_message = function(type, properties) {\n",
       "    properties['type'] = type;\n",
       "    properties['figure_id'] = this.id;\n",
       "    this.ws.send(JSON.stringify(properties));\n",
       "}\n",
       "\n",
       "mpl.figure.prototype.send_draw_message = function() {\n",
       "    if (!this.waiting) {\n",
       "        this.waiting = true;\n",
       "        this.ws.send(JSON.stringify({type: \"draw\", figure_id: this.id}));\n",
       "    }\n",
       "}\n",
       "\n",
       "\n",
       "mpl.figure.prototype.handle_save = function(fig, msg) {\n",
       "    var format_dropdown = fig.format_dropdown;\n",
       "    var format = format_dropdown.options[format_dropdown.selectedIndex].value;\n",
       "    fig.ondownload(fig, format);\n",
       "}\n",
       "\n",
       "\n",
       "mpl.figure.prototype.handle_resize = function(fig, msg) {\n",
       "    var size = msg['size'];\n",
       "    if (size[0] != fig.canvas.width || size[1] != fig.canvas.height) {\n",
       "        fig._resize_canvas(size[0], size[1]);\n",
       "        fig.send_message(\"refresh\", {});\n",
       "    };\n",
       "}\n",
       "\n",
       "mpl.figure.prototype.handle_rubberband = function(fig, msg) {\n",
       "    var x0 = msg['x0'] / mpl.ratio;\n",
       "    var y0 = (fig.canvas.height - msg['y0']) / mpl.ratio;\n",
       "    var x1 = msg['x1'] / mpl.ratio;\n",
       "    var y1 = (fig.canvas.height - msg['y1']) / mpl.ratio;\n",
       "    x0 = Math.floor(x0) + 0.5;\n",
       "    y0 = Math.floor(y0) + 0.5;\n",
       "    x1 = Math.floor(x1) + 0.5;\n",
       "    y1 = Math.floor(y1) + 0.5;\n",
       "    var min_x = Math.min(x0, x1);\n",
       "    var min_y = Math.min(y0, y1);\n",
       "    var width = Math.abs(x1 - x0);\n",
       "    var height = Math.abs(y1 - y0);\n",
       "\n",
       "    fig.rubberband_context.clearRect(\n",
       "        0, 0, fig.canvas.width, fig.canvas.height);\n",
       "\n",
       "    fig.rubberband_context.strokeRect(min_x, min_y, width, height);\n",
       "}\n",
       "\n",
       "mpl.figure.prototype.handle_figure_label = function(fig, msg) {\n",
       "    // Updates the figure title.\n",
       "    fig.header.textContent = msg['label'];\n",
       "}\n",
       "\n",
       "mpl.figure.prototype.handle_cursor = function(fig, msg) {\n",
       "    var cursor = msg['cursor'];\n",
       "    switch(cursor)\n",
       "    {\n",
       "    case 0:\n",
       "        cursor = 'pointer';\n",
       "        break;\n",
       "    case 1:\n",
       "        cursor = 'default';\n",
       "        break;\n",
       "    case 2:\n",
       "        cursor = 'crosshair';\n",
       "        break;\n",
       "    case 3:\n",
       "        cursor = 'move';\n",
       "        break;\n",
       "    }\n",
       "    fig.rubberband_canvas.style.cursor = cursor;\n",
       "}\n",
       "\n",
       "mpl.figure.prototype.handle_message = function(fig, msg) {\n",
       "    fig.message.textContent = msg['message'];\n",
       "}\n",
       "\n",
       "mpl.figure.prototype.handle_draw = function(fig, msg) {\n",
       "    // Request the server to send over a new figure.\n",
       "    fig.send_draw_message();\n",
       "}\n",
       "\n",
       "mpl.figure.prototype.handle_image_mode = function(fig, msg) {\n",
       "    fig.image_mode = msg['mode'];\n",
       "}\n",
       "\n",
       "mpl.figure.prototype.updated_canvas_event = function() {\n",
       "    // Called whenever the canvas gets updated.\n",
       "    this.send_message(\"ack\", {});\n",
       "}\n",
       "\n",
       "// A function to construct a web socket function for onmessage handling.\n",
       "// Called in the figure constructor.\n",
       "mpl.figure.prototype._make_on_message_function = function(fig) {\n",
       "    return function socket_on_message(evt) {\n",
       "        if (evt.data instanceof Blob) {\n",
       "            /* FIXME: We get \"Resource interpreted as Image but\n",
       "             * transferred with MIME type text/plain:\" errors on\n",
       "             * Chrome.  But how to set the MIME type?  It doesn't seem\n",
       "             * to be part of the websocket stream */\n",
       "            evt.data.type = \"image/png\";\n",
       "\n",
       "            /* Free the memory for the previous frames */\n",
       "            if (fig.imageObj.src) {\n",
       "                (window.URL || window.webkitURL).revokeObjectURL(\n",
       "                    fig.imageObj.src);\n",
       "            }\n",
       "\n",
       "            fig.imageObj.src = (window.URL || window.webkitURL).createObjectURL(\n",
       "                evt.data);\n",
       "            fig.updated_canvas_event();\n",
       "            fig.waiting = false;\n",
       "            return;\n",
       "        }\n",
       "        else if (typeof evt.data === 'string' && evt.data.slice(0, 21) == \"data:image/png;base64\") {\n",
       "            fig.imageObj.src = evt.data;\n",
       "            fig.updated_canvas_event();\n",
       "            fig.waiting = false;\n",
       "            return;\n",
       "        }\n",
       "\n",
       "        var msg = JSON.parse(evt.data);\n",
       "        var msg_type = msg['type'];\n",
       "\n",
       "        // Call the  \"handle_{type}\" callback, which takes\n",
       "        // the figure and JSON message as its only arguments.\n",
       "        try {\n",
       "            var callback = fig[\"handle_\" + msg_type];\n",
       "        } catch (e) {\n",
       "            console.log(\"No handler for the '\" + msg_type + \"' message type: \", msg);\n",
       "            return;\n",
       "        }\n",
       "\n",
       "        if (callback) {\n",
       "            try {\n",
       "                // console.log(\"Handling '\" + msg_type + \"' message: \", msg);\n",
       "                callback(fig, msg);\n",
       "            } catch (e) {\n",
       "                console.log(\"Exception inside the 'handler_\" + msg_type + \"' callback:\", e, e.stack, msg);\n",
       "            }\n",
       "        }\n",
       "    };\n",
       "}\n",
       "\n",
       "// from http://stackoverflow.com/questions/1114465/getting-mouse-location-in-canvas\n",
       "mpl.findpos = function(e) {\n",
       "    //this section is from http://www.quirksmode.org/js/events_properties.html\n",
       "    var targ;\n",
       "    if (!e)\n",
       "        e = window.event;\n",
       "    if (e.target)\n",
       "        targ = e.target;\n",
       "    else if (e.srcElement)\n",
       "        targ = e.srcElement;\n",
       "    if (targ.nodeType == 3) // defeat Safari bug\n",
       "        targ = targ.parentNode;\n",
       "\n",
       "    // jQuery normalizes the pageX and pageY\n",
       "    // pageX,Y are the mouse positions relative to the document\n",
       "    // offset() returns the position of the element relative to the document\n",
       "    var x = e.pageX - $(targ).offset().left;\n",
       "    var y = e.pageY - $(targ).offset().top;\n",
       "\n",
       "    return {\"x\": x, \"y\": y};\n",
       "};\n",
       "\n",
       "/*\n",
       " * return a copy of an object with only non-object keys\n",
       " * we need this to avoid circular references\n",
       " * http://stackoverflow.com/a/24161582/3208463\n",
       " */\n",
       "function simpleKeys (original) {\n",
       "  return Object.keys(original).reduce(function (obj, key) {\n",
       "    if (typeof original[key] !== 'object')\n",
       "        obj[key] = original[key]\n",
       "    return obj;\n",
       "  }, {});\n",
       "}\n",
       "\n",
       "mpl.figure.prototype.mouse_event = function(event, name) {\n",
       "    var canvas_pos = mpl.findpos(event)\n",
       "\n",
       "    if (name === 'button_press')\n",
       "    {\n",
       "        this.canvas.focus();\n",
       "        this.canvas_div.focus();\n",
       "    }\n",
       "\n",
       "    var x = canvas_pos.x * mpl.ratio;\n",
       "    var y = canvas_pos.y * mpl.ratio;\n",
       "\n",
       "    this.send_message(name, {x: x, y: y, button: event.button,\n",
       "                             step: event.step,\n",
       "                             guiEvent: simpleKeys(event)});\n",
       "\n",
       "    /* This prevents the web browser from automatically changing to\n",
       "     * the text insertion cursor when the button is pressed.  We want\n",
       "     * to control all of the cursor setting manually through the\n",
       "     * 'cursor' event from matplotlib */\n",
       "    event.preventDefault();\n",
       "    return false;\n",
       "}\n",
       "\n",
       "mpl.figure.prototype._key_event_extra = function(event, name) {\n",
       "    // Handle any extra behaviour associated with a key event\n",
       "}\n",
       "\n",
       "mpl.figure.prototype.key_event = function(event, name) {\n",
       "\n",
       "    // Prevent repeat events\n",
       "    if (name == 'key_press')\n",
       "    {\n",
       "        if (event.which === this._key)\n",
       "            return;\n",
       "        else\n",
       "            this._key = event.which;\n",
       "    }\n",
       "    if (name == 'key_release')\n",
       "        this._key = null;\n",
       "\n",
       "    var value = '';\n",
       "    if (event.ctrlKey && event.which != 17)\n",
       "        value += \"ctrl+\";\n",
       "    if (event.altKey && event.which != 18)\n",
       "        value += \"alt+\";\n",
       "    if (event.shiftKey && event.which != 16)\n",
       "        value += \"shift+\";\n",
       "\n",
       "    value += 'k';\n",
       "    value += event.which.toString();\n",
       "\n",
       "    this._key_event_extra(event, name);\n",
       "\n",
       "    this.send_message(name, {key: value,\n",
       "                             guiEvent: simpleKeys(event)});\n",
       "    return false;\n",
       "}\n",
       "\n",
       "mpl.figure.prototype.toolbar_button_onclick = function(name) {\n",
       "    if (name == 'download') {\n",
       "        this.handle_save(this, null);\n",
       "    } else {\n",
       "        this.send_message(\"toolbar_button\", {name: name});\n",
       "    }\n",
       "};\n",
       "\n",
       "mpl.figure.prototype.toolbar_button_onmouseover = function(tooltip) {\n",
       "    this.message.textContent = tooltip;\n",
       "};\n",
       "mpl.toolbar_items = [[\"Home\", \"Reset original view\", \"fa fa-home icon-home\", \"home\"], [\"Back\", \"Back to  previous view\", \"fa fa-arrow-left icon-arrow-left\", \"back\"], [\"Forward\", \"Forward to next view\", \"fa fa-arrow-right icon-arrow-right\", \"forward\"], [\"\", \"\", \"\", \"\"], [\"Pan\", \"Pan axes with left mouse, zoom with right\", \"fa fa-arrows icon-move\", \"pan\"], [\"Zoom\", \"Zoom to rectangle\", \"fa fa-square-o icon-check-empty\", \"zoom\"], [\"\", \"\", \"\", \"\"], [\"Download\", \"Download plot\", \"fa fa-floppy-o icon-save\", \"download\"]];\n",
       "\n",
       "mpl.extensions = [\"eps\", \"jpeg\", \"pdf\", \"png\", \"ps\", \"raw\", \"svg\", \"tif\"];\n",
       "\n",
       "mpl.default_extension = \"png\";var comm_websocket_adapter = function(comm) {\n",
       "    // Create a \"websocket\"-like object which calls the given IPython comm\n",
       "    // object with the appropriate methods. Currently this is a non binary\n",
       "    // socket, so there is still some room for performance tuning.\n",
       "    var ws = {};\n",
       "\n",
       "    ws.close = function() {\n",
       "        comm.close()\n",
       "    };\n",
       "    ws.send = function(m) {\n",
       "        //console.log('sending', m);\n",
       "        comm.send(m);\n",
       "    };\n",
       "    // Register the callback with on_msg.\n",
       "    comm.on_msg(function(msg) {\n",
       "        //console.log('receiving', msg['content']['data'], msg);\n",
       "        // Pass the mpl event to the overriden (by mpl) onmessage function.\n",
       "        ws.onmessage(msg['content']['data'])\n",
       "    });\n",
       "    return ws;\n",
       "}\n",
       "\n",
       "mpl.mpl_figure_comm = function(comm, msg) {\n",
       "    // This is the function which gets called when the mpl process\n",
       "    // starts-up an IPython Comm through the \"matplotlib\" channel.\n",
       "\n",
       "    var id = msg.content.data.id;\n",
       "    // Get hold of the div created by the display call when the Comm\n",
       "    // socket was opened in Python.\n",
       "    var element = $(\"#\" + id);\n",
       "    var ws_proxy = comm_websocket_adapter(comm)\n",
       "\n",
       "    function ondownload(figure, format) {\n",
       "        window.open(figure.imageObj.src);\n",
       "    }\n",
       "\n",
       "    var fig = new mpl.figure(id, ws_proxy,\n",
       "                           ondownload,\n",
       "                           element.get(0));\n",
       "\n",
       "    // Call onopen now - mpl needs it, as it is assuming we've passed it a real\n",
       "    // web socket which is closed, not our websocket->open comm proxy.\n",
       "    ws_proxy.onopen();\n",
       "\n",
       "    fig.parent_element = element.get(0);\n",
       "    fig.cell_info = mpl.find_output_cell(\"<div id='\" + id + \"'></div>\");\n",
       "    if (!fig.cell_info) {\n",
       "        console.error(\"Failed to find cell for figure\", id, fig);\n",
       "        return;\n",
       "    }\n",
       "\n",
       "    var output_index = fig.cell_info[2]\n",
       "    var cell = fig.cell_info[0];\n",
       "\n",
       "};\n",
       "\n",
       "mpl.figure.prototype.handle_close = function(fig, msg) {\n",
       "    var width = fig.canvas.width/mpl.ratio\n",
       "    fig.root.unbind('remove')\n",
       "\n",
       "    // Update the output cell to use the data from the current canvas.\n",
       "    fig.push_to_output();\n",
       "    var dataURL = fig.canvas.toDataURL();\n",
       "    // Re-enable the keyboard manager in IPython - without this line, in FF,\n",
       "    // the notebook keyboard shortcuts fail.\n",
       "    IPython.keyboard_manager.enable()\n",
       "    $(fig.parent_element).html('<img src=\"' + dataURL + '\" width=\"' + width + '\">');\n",
       "    fig.close_ws(fig, msg);\n",
       "}\n",
       "\n",
       "mpl.figure.prototype.close_ws = function(fig, msg){\n",
       "    fig.send_message('closing', msg);\n",
       "    // fig.ws.close()\n",
       "}\n",
       "\n",
       "mpl.figure.prototype.push_to_output = function(remove_interactive) {\n",
       "    // Turn the data on the canvas into data in the output cell.\n",
       "    var width = this.canvas.width/mpl.ratio\n",
       "    var dataURL = this.canvas.toDataURL();\n",
       "    this.cell_info[1]['text/html'] = '<img src=\"' + dataURL + '\" width=\"' + width + '\">';\n",
       "}\n",
       "\n",
       "mpl.figure.prototype.updated_canvas_event = function() {\n",
       "    // Tell IPython that the notebook contents must change.\n",
       "    IPython.notebook.set_dirty(true);\n",
       "    this.send_message(\"ack\", {});\n",
       "    var fig = this;\n",
       "    // Wait a second, then push the new image to the DOM so\n",
       "    // that it is saved nicely (might be nice to debounce this).\n",
       "    setTimeout(function () { fig.push_to_output() }, 1000);\n",
       "}\n",
       "\n",
       "mpl.figure.prototype._init_toolbar = function() {\n",
       "    var fig = this;\n",
       "\n",
       "    var nav_element = $('<div/>')\n",
       "    nav_element.attr('style', 'width: 100%');\n",
       "    this.root.append(nav_element);\n",
       "\n",
       "    // Define a callback function for later on.\n",
       "    function toolbar_event(event) {\n",
       "        return fig.toolbar_button_onclick(event['data']);\n",
       "    }\n",
       "    function toolbar_mouse_event(event) {\n",
       "        return fig.toolbar_button_onmouseover(event['data']);\n",
       "    }\n",
       "\n",
       "    for(var toolbar_ind in mpl.toolbar_items){\n",
       "        var name = mpl.toolbar_items[toolbar_ind][0];\n",
       "        var tooltip = mpl.toolbar_items[toolbar_ind][1];\n",
       "        var image = mpl.toolbar_items[toolbar_ind][2];\n",
       "        var method_name = mpl.toolbar_items[toolbar_ind][3];\n",
       "\n",
       "        if (!name) { continue; };\n",
       "\n",
       "        var button = $('<button class=\"btn btn-default\" href=\"#\" title=\"' + name + '\"><i class=\"fa ' + image + ' fa-lg\"></i></button>');\n",
       "        button.click(method_name, toolbar_event);\n",
       "        button.mouseover(tooltip, toolbar_mouse_event);\n",
       "        nav_element.append(button);\n",
       "    }\n",
       "\n",
       "    // Add the status bar.\n",
       "    var status_bar = $('<span class=\"mpl-message\" style=\"text-align:right; float: right;\"/>');\n",
       "    nav_element.append(status_bar);\n",
       "    this.message = status_bar[0];\n",
       "\n",
       "    // Add the close button to the window.\n",
       "    var buttongrp = $('<div class=\"btn-group inline pull-right\"></div>');\n",
       "    var button = $('<button class=\"btn btn-mini btn-primary\" href=\"#\" title=\"Stop Interaction\"><i class=\"fa fa-power-off icon-remove icon-large\"></i></button>');\n",
       "    button.click(function (evt) { fig.handle_close(fig, {}); } );\n",
       "    button.mouseover('Stop Interaction', toolbar_mouse_event);\n",
       "    buttongrp.append(button);\n",
       "    var titlebar = this.root.find($('.ui-dialog-titlebar'));\n",
       "    titlebar.prepend(buttongrp);\n",
       "}\n",
       "\n",
       "mpl.figure.prototype._root_extra_style = function(el){\n",
       "    var fig = this\n",
       "    el.on(\"remove\", function(){\n",
       "\tfig.close_ws(fig, {});\n",
       "    });\n",
       "}\n",
       "\n",
       "mpl.figure.prototype._canvas_extra_style = function(el){\n",
       "    // this is important to make the div 'focusable\n",
       "    el.attr('tabindex', 0)\n",
       "    // reach out to IPython and tell the keyboard manager to turn it's self\n",
       "    // off when our div gets focus\n",
       "\n",
       "    // location in version 3\n",
       "    if (IPython.notebook.keyboard_manager) {\n",
       "        IPython.notebook.keyboard_manager.register_events(el);\n",
       "    }\n",
       "    else {\n",
       "        // location in version 2\n",
       "        IPython.keyboard_manager.register_events(el);\n",
       "    }\n",
       "\n",
       "}\n",
       "\n",
       "mpl.figure.prototype._key_event_extra = function(event, name) {\n",
       "    var manager = IPython.notebook.keyboard_manager;\n",
       "    if (!manager)\n",
       "        manager = IPython.keyboard_manager;\n",
       "\n",
       "    // Check for shift+enter\n",
       "    if (event.shiftKey && event.which == 13) {\n",
       "        this.canvas_div.blur();\n",
       "        event.shiftKey = false;\n",
       "        // Send a \"J\" for go to next cell\n",
       "        event.which = 74;\n",
       "        event.keyCode = 74;\n",
       "        manager.command_mode();\n",
       "        manager.handle_keydown(event);\n",
       "    }\n",
       "}\n",
       "\n",
       "mpl.figure.prototype.handle_save = function(fig, msg) {\n",
       "    fig.ondownload(fig, null);\n",
       "}\n",
       "\n",
       "\n",
       "mpl.find_output_cell = function(html_output) {\n",
       "    // Return the cell and output element which can be found *uniquely* in the notebook.\n",
       "    // Note - this is a bit hacky, but it is done because the \"notebook_saving.Notebook\"\n",
       "    // IPython event is triggered only after the cells have been serialised, which for\n",
       "    // our purposes (turning an active figure into a static one), is too late.\n",
       "    var cells = IPython.notebook.get_cells();\n",
       "    var ncells = cells.length;\n",
       "    for (var i=0; i<ncells; i++) {\n",
       "        var cell = cells[i];\n",
       "        if (cell.cell_type === 'code'){\n",
       "            for (var j=0; j<cell.output_area.outputs.length; j++) {\n",
       "                var data = cell.output_area.outputs[j];\n",
       "                if (data.data) {\n",
       "                    // IPython >= 3 moved mimebundle to data attribute of output\n",
       "                    data = data.data;\n",
       "                }\n",
       "                if (data['text/html'] == html_output) {\n",
       "                    return [cell, data, j];\n",
       "                }\n",
       "            }\n",
       "        }\n",
       "    }\n",
       "}\n",
       "\n",
       "// Register the function which deals with the matplotlib target/channel.\n",
       "// The kernel may be null if the page has been refreshed.\n",
       "if (IPython.notebook.kernel != null) {\n",
       "    IPython.notebook.kernel.comm_manager.register_target('matplotlib', mpl.mpl_figure_comm);\n",
       "}\n"
      ],
      "text/plain": [
       "<IPython.core.display.Javascript object>"
      ]
     },
     "metadata": {},
     "output_type": "display_data"
    },
    {
     "data": {
      "text/html": [
       "<img src=\"data:image/png;base64,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\" width=\"640\">"
      ],
      "text/plain": [
       "<IPython.core.display.HTML object>"
      ]
     },
     "metadata": {},
     "output_type": "display_data"
    }
   ],
   "source": [
    "plot_bar(df_transac, ['is_auto_renew' , 'is_cancel'])"
   ]
  },
  {
   "cell_type": "code",
   "execution_count": 48,
   "metadata": {},
   "outputs": [
    {
     "name": "stdout",
     "output_type": "stream",
     "text": [
      "Percentage of active cancellation while auto renew activated = 4.59%\n"
     ]
    }
   ],
   "source": [
    "# number of active cancellation with automatic renewal enabled\n",
    "count_cancel_auto = df_transac.loc[df_transac.is_auto_renew == True, 'is_cancel'].sum()\n",
    "count_auto = (df_transac.is_auto_renew == True).sum()\n",
    "print('Percentage of active cancellation while auto renew activated = {:.2f}%'.format(count_cancel_auto / count_auto *100))"
   ]
  },
  {
   "cell_type": "markdown",
   "metadata": {},
   "source": [
    "### Plan list price\n",
    "90% of list price are below 150. There are 0 list price which indicates missing values.<br>\n",
    "Top 3 most freqent list price are 99, 129 and 149."
   ]
  },
  {
   "cell_type": "code",
   "execution_count": 57,
   "metadata": {},
   "outputs": [
    {
     "data": {
      "image/png": "[encoded data removed]",
      "text/plain": [
       "<matplotlib.figure.Figure at 0x230e4aa2940>"
      ]
     },
     "metadata": {},
     "output_type": "display_data"
    }
   ],
   "source": [
    "figpllist , axpllist = plt.subplots()\n",
    "pl_x = df_transac.plan_list_price.sort_values().values\n",
    "pl_y = np.arange(1, len(pl_x)+1) / len(pl_x)\n",
    "axpllist.plot(pl_x, pl_y, '.')\n",
    "axpllist.set_xlabel('List Price')\n",
    "axpllist.set_ylabel('ECDF')\n",
    "\n",
    "# save figure to file as png\n",
    "figpllist.savefig(os.path.join(os.pardir, 'reports', 'figures', 'Plan_list_price_ecdf.png'))"
   ]
  },
  {
   "cell_type": "markdown",
   "metadata": {},
   "source": [
    "Let's see if we can replace those missing values. Note we won't find a list price replacement for new estimated payment plan days so we should use our plan duration intervals."
   ]
  },
  {
   "cell_type": "code",
   "execution_count": 58,
   "metadata": {
    "collapsed": true
   },
   "outputs": [],
   "source": [
    "# select transactions with no missing list price and group by plan duration then list price\n",
    "df_plan_grouped = \\\n",
    "        df_transac[df_transac.plan_list_price != 0].groupby(['plan_duration', 'plan_list_price'])"
   ]
  },
  {
   "cell_type": "code",
   "execution_count": 59,
   "metadata": {},
   "outputs": [],
   "source": [
    "# frequency count of plan duration-list price combination\n",
    "s_listprice_rpl = df_plan_grouped.msno.count()\n",
    "# s_listprice_rpl.head(50)"
   ]
  },
  {
   "cell_type": "markdown",
   "metadata": {},
   "source": [
    "There are multiple list price for the same plan duration! I would think there should be a unique list price for each plan. This is not the case even if we look at the same data per payment plan days and per calendar year. <br>\n",
    "Thus we will pick the most frequently occurring plan duration and list price combination."
   ]
  },
  {
   "cell_type": "code",
   "execution_count": 60,
   "metadata": {
    "collapsed": true
   },
   "outputs": [],
   "source": [
    "# move plan_duration from index to column and regroup by keeping the most frequent list price\n",
    "s_listprice_rpl = s_listprice_rpl.reset_index(level = 0).groupby('plan_duration').msno.nlargest(n=1)"
   ]
  },
  {
   "cell_type": "code",
   "execution_count": 61,
   "metadata": {},
   "outputs": [],
   "source": [
    "# move list price from index to column\n",
    "s_listprice_rpl = s_listprice_rpl.reset_index(level = 1)"
   ]
  },
  {
   "cell_type": "code",
   "execution_count": 62,
   "metadata": {},
   "outputs": [],
   "source": [
    "# remove count column (msno here)\n",
    "s_listprice_rpl.drop('msno', axis = 1, inplace = True)"
   ]
  },
  {
   "cell_type": "code",
   "execution_count": 68,
   "metadata": {},
   "outputs": [
    {
     "data": {
      "text/html": [
       "<div>\n",
       "<style scoped>\n",
       "    .dataframe tbody tr th:only-of-type {\n",
       "        vertical-align: middle;\n",
       "    }\n",
       "\n",
       "    .dataframe tbody tr th {\n",
       "        vertical-align: top;\n",
       "    }\n",
       "\n",
       "    .dataframe thead th {\n",
       "        text-align: right;\n",
       "    }\n",
       "</style>\n",
       "<table border=\"1\" class=\"dataframe\">\n",
       "  <thead>\n",
       "    <tr style=\"text-align: right;\">\n",
       "      <th></th>\n",
       "      <th>plan_list_price</th>\n",
       "    </tr>\n",
       "    <tr>\n",
       "      <th>plan_duration</th>\n",
       "      <th></th>\n",
       "    </tr>\n",
       "  </thead>\n",
       "  <tbody>\n",
       "    <tr>\n",
       "      <th>0 - 7</th>\n",
       "      <td>35</td>\n",
       "    </tr>\n",
       "    <tr>\n",
       "      <th>8 - 29</th>\n",
       "      <td>50</td>\n",
       "    </tr>\n",
       "    <tr>\n",
       "      <th>30 - 89</th>\n",
       "      <td>149</td>\n",
       "    </tr>\n",
       "    <tr>\n",
       "      <th>90 - 179</th>\n",
       "      <td>480</td>\n",
       "    </tr>\n",
       "    <tr>\n",
       "      <th>180 - 364</th>\n",
       "      <td>894</td>\n",
       "    </tr>\n",
       "    <tr>\n",
       "      <th>365 - 485</th>\n",
       "      <td>1788</td>\n",
       "    </tr>\n",
       "  </tbody>\n",
       "</table>\n",
       "</div>"
      ],
      "text/plain": [
       "               plan_list_price\n",
       "plan_duration                 \n",
       "0 - 7                       35\n",
       "8 - 29                      50\n",
       "30 - 89                    149\n",
       "90 - 179                   480\n",
       "180 - 364                  894\n",
       "365 - 485                 1788"
      ]
     },
     "execution_count": 68,
     "metadata": {},
     "output_type": "execute_result"
    }
   ],
   "source": [
    "s_listprice_rpl\n",
    "# s_listprice_rpl.to_clipboard()"
   ]
  },
  {
   "cell_type": "markdown",
   "metadata": {},
   "source": [
    "Substitute zero list price with our mapping."
   ]
  },
  {
   "cell_type": "code",
   "execution_count": 64,
   "metadata": {},
   "outputs": [],
   "source": [
    "df_transac.loc[df_transac.plan_list_price == 0, 'plan_list_price'] = \\\n",
    "                    df_transac.loc[df_transac.plan_list_price == 0, 'plan_duration'].map(s_listprice_rpl.plan_list_price)"
   ]
  },
  {
   "cell_type": "markdown",
   "metadata": {},
   "source": [
    "### Subscription cost per subscription length\n",
    "How do subscription length scale with list price ? <br>\n",
    "One can observe the list price going up with subscription length globally. However, there are overlaps in list price between plan duration except for long term plans (> 365 days) which are clearly the most expensive."
   ]
  },
  {
   "cell_type": "markdown",
   "metadata": {},
   "source": [
    "Create bar plot for each auto renew state (True or False). Does not include cancellation transactions as it would be redundant."
   ]
  },
  {
   "cell_type": "code",
   "execution_count": 69,
   "metadata": {},
   "outputs": [
    {
     "data": {
      "image/png": "[encoded data removed]",
      "text/plain": [
       "<matplotlib.figure.Figure at 0x230e29400f0>"
      ]
     },
     "metadata": {},
     "output_type": "display_data"
    }
   ],
   "source": [
    "# prepare axis\n",
    "figCostDays , axCostDays = plt.subplots(2, 1, \\\n",
    "                              figsize=(8, 8), \\\n",
    "                              gridspec_kw=dict(height_ratios=[1, 3]))\n",
    "\n",
    "# pivot on relevant columns, values can be anything as we are just counting here\n",
    "df_plan = df_transac[df_transac.is_cancel == False].pivot_table(index = 'plan_duration', columns = 'is_auto_renew',\\\n",
    "                                 values = 'plan_list_price', aggfunc = 'count', fill_value = 0)\n",
    "\n",
    "# normalize each column by counts\n",
    "df_plan = df_plan.divide(df_plan.sum()) * 100\n",
    "\n",
    "# make a bar plot for each auto renew state\n",
    "df_plan.plot(kind = 'bar', ax = axCostDays[0])\n",
    "\n",
    "# change tick orientation and add labels\n",
    "axCostDays[0].tick_params(axis = 'x', rotation = 0)\n",
    "axCostDays[0].set_ylabel('Percent (%)')\n",
    "axCostDays[0].set_xlabel('plan_duration')\n",
    "\n",
    "\n",
    "# use seaborn to add plan list price as another dimension\n",
    "sns.stripplot(x=\"plan_duration\", y=\"plan_list_price\", hue = 'is_auto_renew',\\\n",
    "              dodge = True, jitter = True, alpha = 0.25,\\\n",
    "              data=df_transac, ax = axCostDays[1])\n",
    "# sns.swarmplot(x=\"plan_duration\", y=\"plan_list_price\", hue = 'is_auto_renew',\\\n",
    "#               dodge = True, alpha = 0.25,\\\n",
    "#               data=df_transac, ax = axCostDays[1])\n",
    "\n",
    "plt.tight_layout()\n",
    "\n",
    "# save figure to file as png\n",
    "figCostDays.savefig(os.path.join(os.pardir, 'reports', 'figures', 'List_Price_Duration.png'))"
   ]
  },
  {
   "cell_type": "markdown",
   "metadata": {},
   "source": [
    "The Empirical cumulative distribution function (ECDF) can give us another view when there are too many points to plot."
   ]
  },
  {
   "cell_type": "code",
   "execution_count": 58,
   "metadata": {},
   "outputs": [
    {
     "data": {
      "application/javascript": [
       "/* Put everything inside the global mpl namespace */\n",
       "window.mpl = {};\n",
       "\n",
       "\n",
       "mpl.get_websocket_type = function() {\n",
       "    if (typeof(WebSocket) !== 'undefined') {\n",
       "        return WebSocket;\n",
       "    } else if (typeof(MozWebSocket) !== 'undefined') {\n",
       "        return MozWebSocket;\n",
       "    } else {\n",
       "        alert('Your browser does not have WebSocket support.' +\n",
       "              'Please try Chrome, Safari or Firefox ≥ 6. ' +\n",
       "              'Firefox 4 and 5 are also supported but you ' +\n",
       "              'have to enable WebSockets in about:config.');\n",
       "    };\n",
       "}\n",
       "\n",
       "mpl.figure = function(figure_id, websocket, ondownload, parent_element) {\n",
       "    this.id = figure_id;\n",
       "\n",
       "    this.ws = websocket;\n",
       "\n",
       "    this.supports_binary = (this.ws.binaryType != undefined);\n",
       "\n",
       "    if (!this.supports_binary) {\n",
       "        var warnings = document.getElementById(\"mpl-warnings\");\n",
       "        if (warnings) {\n",
       "            warnings.style.display = 'block';\n",
       "            warnings.textContent = (\n",
       "                \"This browser does not support binary websocket messages. \" +\n",
       "                    \"Performance may be slow.\");\n",
       "        }\n",
       "    }\n",
       "\n",
       "    this.imageObj = new Image();\n",
       "\n",
       "    this.context = undefined;\n",
       "    this.message = undefined;\n",
       "    this.canvas = undefined;\n",
       "    this.rubberband_canvas = undefined;\n",
       "    this.rubberband_context = undefined;\n",
       "    this.format_dropdown = undefined;\n",
       "\n",
       "    this.image_mode = 'full';\n",
       "\n",
       "    this.root = $('<div/>');\n",
       "    this._root_extra_style(this.root)\n",
       "    this.root.attr('style', 'display: inline-block');\n",
       "\n",
       "    $(parent_element).append(this.root);\n",
       "\n",
       "    this._init_header(this);\n",
       "    this._init_canvas(this);\n",
       "    this._init_toolbar(this);\n",
       "\n",
       "    var fig = this;\n",
       "\n",
       "    this.waiting = false;\n",
       "\n",
       "    this.ws.onopen =  function () {\n",
       "            fig.send_message(\"supports_binary\", {value: fig.supports_binary});\n",
       "            fig.send_message(\"send_image_mode\", {});\n",
       "            if (mpl.ratio != 1) {\n",
       "                fig.send_message(\"set_dpi_ratio\", {'dpi_ratio': mpl.ratio});\n",
       "            }\n",
       "            fig.send_message(\"refresh\", {});\n",
       "        }\n",
       "\n",
       "    this.imageObj.onload = function() {\n",
       "            if (fig.image_mode == 'full') {\n",
       "                // Full images could contain transparency (where diff images\n",
       "                // almost always do), so we need to clear the canvas so that\n",
       "                // there is no ghosting.\n",
       "                fig.context.clearRect(0, 0, fig.canvas.width, fig.canvas.height);\n",
       "            }\n",
       "            fig.context.drawImage(fig.imageObj, 0, 0);\n",
       "        };\n",
       "\n",
       "    this.imageObj.onunload = function() {\n",
       "        fig.ws.close();\n",
       "    }\n",
       "\n",
       "    this.ws.onmessage = this._make_on_message_function(this);\n",
       "\n",
       "    this.ondownload = ondownload;\n",
       "}\n",
       "\n",
       "mpl.figure.prototype._init_header = function() {\n",
       "    var titlebar = $(\n",
       "        '<div class=\"ui-dialog-titlebar ui-widget-header ui-corner-all ' +\n",
       "        'ui-helper-clearfix\"/>');\n",
       "    var titletext = $(\n",
       "        '<div class=\"ui-dialog-title\" style=\"width: 100%; ' +\n",
       "        'text-align: center; padding: 3px;\"/>');\n",
       "    titlebar.append(titletext)\n",
       "    this.root.append(titlebar);\n",
       "    this.header = titletext[0];\n",
       "}\n",
       "\n",
       "\n",
       "\n",
       "mpl.figure.prototype._canvas_extra_style = function(canvas_div) {\n",
       "\n",
       "}\n",
       "\n",
       "\n",
       "mpl.figure.prototype._root_extra_style = function(canvas_div) {\n",
       "\n",
       "}\n",
       "\n",
       "mpl.figure.prototype._init_canvas = function() {\n",
       "    var fig = this;\n",
       "\n",
       "    var canvas_div = $('<div/>');\n",
       "\n",
       "    canvas_div.attr('style', 'position: relative; clear: both; outline: 0');\n",
       "\n",
       "    function canvas_keyboard_event(event) {\n",
       "        return fig.key_event(event, event['data']);\n",
       "    }\n",
       "\n",
       "    canvas_div.keydown('key_press', canvas_keyboard_event);\n",
       "    canvas_div.keyup('key_release', canvas_keyboard_event);\n",
       "    this.canvas_div = canvas_div\n",
       "    this._canvas_extra_style(canvas_div)\n",
       "    this.root.append(canvas_div);\n",
       "\n",
       "    var canvas = $('<canvas/>');\n",
       "    canvas.addClass('mpl-canvas');\n",
       "    canvas.attr('style', \"left: 0; top: 0; z-index: 0; outline: 0\")\n",
       "\n",
       "    this.canvas = canvas[0];\n",
       "    this.context = canvas[0].getContext(\"2d\");\n",
       "\n",
       "    var backingStore = this.context.backingStorePixelRatio ||\n",
       "\tthis.context.webkitBackingStorePixelRatio ||\n",
       "\tthis.context.mozBackingStorePixelRatio ||\n",
       "\tthis.context.msBackingStorePixelRatio ||\n",
       "\tthis.context.oBackingStorePixelRatio ||\n",
       "\tthis.context.backingStorePixelRatio || 1;\n",
       "\n",
       "    mpl.ratio = (window.devicePixelRatio || 1) / backingStore;\n",
       "\n",
       "    var rubberband = $('<canvas/>');\n",
       "    rubberband.attr('style', \"position: absolute; left: 0; top: 0; z-index: 1;\")\n",
       "\n",
       "    var pass_mouse_events = true;\n",
       "\n",
       "    canvas_div.resizable({\n",
       "        start: function(event, ui) {\n",
       "            pass_mouse_events = false;\n",
       "        },\n",
       "        resize: function(event, ui) {\n",
       "            fig.request_resize(ui.size.width, ui.size.height);\n",
       "        },\n",
       "        stop: function(event, ui) {\n",
       "            pass_mouse_events = true;\n",
       "            fig.request_resize(ui.size.width, ui.size.height);\n",
       "        },\n",
       "    });\n",
       "\n",
       "    function mouse_event_fn(event) {\n",
       "        if (pass_mouse_events)\n",
       "            return fig.mouse_event(event, event['data']);\n",
       "    }\n",
       "\n",
       "    rubberband.mousedown('button_press', mouse_event_fn);\n",
       "    rubberband.mouseup('button_release', mouse_event_fn);\n",
       "    // Throttle sequential mouse events to 1 every 20ms.\n",
       "    rubberband.mousemove('motion_notify', mouse_event_fn);\n",
       "\n",
       "    rubberband.mouseenter('figure_enter', mouse_event_fn);\n",
       "    rubberband.mouseleave('figure_leave', mouse_event_fn);\n",
       "\n",
       "    canvas_div.on(\"wheel\", function (event) {\n",
       "        event = event.originalEvent;\n",
       "        event['data'] = 'scroll'\n",
       "        if (event.deltaY < 0) {\n",
       "            event.step = 1;\n",
       "        } else {\n",
       "            event.step = -1;\n",
       "        }\n",
       "        mouse_event_fn(event);\n",
       "    });\n",
       "\n",
       "    canvas_div.append(canvas);\n",
       "    canvas_div.append(rubberband);\n",
       "\n",
       "    this.rubberband = rubberband;\n",
       "    this.rubberband_canvas = rubberband[0];\n",
       "    this.rubberband_context = rubberband[0].getContext(\"2d\");\n",
       "    this.rubberband_context.strokeStyle = \"#000000\";\n",
       "\n",
       "    this._resize_canvas = function(width, height) {\n",
       "        // Keep the size of the canvas, canvas container, and rubber band\n",
       "        // canvas in synch.\n",
       "        canvas_div.css('width', width)\n",
       "        canvas_div.css('height', height)\n",
       "\n",
       "        canvas.attr('width', width * mpl.ratio);\n",
       "        canvas.attr('height', height * mpl.ratio);\n",
       "        canvas.attr('style', 'width: ' + width + 'px; height: ' + height + 'px;');\n",
       "\n",
       "        rubberband.attr('width', width);\n",
       "        rubberband.attr('height', height);\n",
       "    }\n",
       "\n",
       "    // Set the figure to an initial 600x600px, this will subsequently be updated\n",
       "    // upon first draw.\n",
       "    this._resize_canvas(600, 600);\n",
       "\n",
       "    // Disable right mouse context menu.\n",
       "    $(this.rubberband_canvas).bind(\"contextmenu\",function(e){\n",
       "        return false;\n",
       "    });\n",
       "\n",
       "    function set_focus () {\n",
       "        canvas.focus();\n",
       "        canvas_div.focus();\n",
       "    }\n",
       "\n",
       "    window.setTimeout(set_focus, 100);\n",
       "}\n",
       "\n",
       "mpl.figure.prototype._init_toolbar = function() {\n",
       "    var fig = this;\n",
       "\n",
       "    var nav_element = $('<div/>')\n",
       "    nav_element.attr('style', 'width: 100%');\n",
       "    this.root.append(nav_element);\n",
       "\n",
       "    // Define a callback function for later on.\n",
       "    function toolbar_event(event) {\n",
       "        return fig.toolbar_button_onclick(event['data']);\n",
       "    }\n",
       "    function toolbar_mouse_event(event) {\n",
       "        return fig.toolbar_button_onmouseover(event['data']);\n",
       "    }\n",
       "\n",
       "    for(var toolbar_ind in mpl.toolbar_items) {\n",
       "        var name = mpl.toolbar_items[toolbar_ind][0];\n",
       "        var tooltip = mpl.toolbar_items[toolbar_ind][1];\n",
       "        var image = mpl.toolbar_items[toolbar_ind][2];\n",
       "        var method_name = mpl.toolbar_items[toolbar_ind][3];\n",
       "\n",
       "        if (!name) {\n",
       "            // put a spacer in here.\n",
       "            continue;\n",
       "        }\n",
       "        var button = $('<button/>');\n",
       "        button.addClass('ui-button ui-widget ui-state-default ui-corner-all ' +\n",
       "                        'ui-button-icon-only');\n",
       "        button.attr('role', 'button');\n",
       "        button.attr('aria-disabled', 'false');\n",
       "        button.click(method_name, toolbar_event);\n",
       "        button.mouseover(tooltip, toolbar_mouse_event);\n",
       "\n",
       "        var icon_img = $('<span/>');\n",
       "        icon_img.addClass('ui-button-icon-primary ui-icon');\n",
       "        icon_img.addClass(image);\n",
       "        icon_img.addClass('ui-corner-all');\n",
       "\n",
       "        var tooltip_span = $('<span/>');\n",
       "        tooltip_span.addClass('ui-button-text');\n",
       "        tooltip_span.html(tooltip);\n",
       "\n",
       "        button.append(icon_img);\n",
       "        button.append(tooltip_span);\n",
       "\n",
       "        nav_element.append(button);\n",
       "    }\n",
       "\n",
       "    var fmt_picker_span = $('<span/>');\n",
       "\n",
       "    var fmt_picker = $('<select/>');\n",
       "    fmt_picker.addClass('mpl-toolbar-option ui-widget ui-widget-content');\n",
       "    fmt_picker_span.append(fmt_picker);\n",
       "    nav_element.append(fmt_picker_span);\n",
       "    this.format_dropdown = fmt_picker[0];\n",
       "\n",
       "    for (var ind in mpl.extensions) {\n",
       "        var fmt = mpl.extensions[ind];\n",
       "        var option = $(\n",
       "            '<option/>', {selected: fmt === mpl.default_extension}).html(fmt);\n",
       "        fmt_picker.append(option)\n",
       "    }\n",
       "\n",
       "    // Add hover states to the ui-buttons\n",
       "    $( \".ui-button\" ).hover(\n",
       "        function() { $(this).addClass(\"ui-state-hover\");},\n",
       "        function() { $(this).removeClass(\"ui-state-hover\");}\n",
       "    );\n",
       "\n",
       "    var status_bar = $('<span class=\"mpl-message\"/>');\n",
       "    nav_element.append(status_bar);\n",
       "    this.message = status_bar[0];\n",
       "}\n",
       "\n",
       "mpl.figure.prototype.request_resize = function(x_pixels, y_pixels) {\n",
       "    // Request matplotlib to resize the figure. Matplotlib will then trigger a resize in the client,\n",
       "    // which will in turn request a refresh of the image.\n",
       "    this.send_message('resize', {'width': x_pixels, 'height': y_pixels});\n",
       "}\n",
       "\n",
       "mpl.figure.prototype.send_message = function(type, properties) {\n",
       "    properties['type'] = type;\n",
       "    properties['figure_id'] = this.id;\n",
       "    this.ws.send(JSON.stringify(properties));\n",
       "}\n",
       "\n",
       "mpl.figure.prototype.send_draw_message = function() {\n",
       "    if (!this.waiting) {\n",
       "        this.waiting = true;\n",
       "        this.ws.send(JSON.stringify({type: \"draw\", figure_id: this.id}));\n",
       "    }\n",
       "}\n",
       "\n",
       "\n",
       "mpl.figure.prototype.handle_save = function(fig, msg) {\n",
       "    var format_dropdown = fig.format_dropdown;\n",
       "    var format = format_dropdown.options[format_dropdown.selectedIndex].value;\n",
       "    fig.ondownload(fig, format);\n",
       "}\n",
       "\n",
       "\n",
       "mpl.figure.prototype.handle_resize = function(fig, msg) {\n",
       "    var size = msg['size'];\n",
       "    if (size[0] != fig.canvas.width || size[1] != fig.canvas.height) {\n",
       "        fig._resize_canvas(size[0], size[1]);\n",
       "        fig.send_message(\"refresh\", {});\n",
       "    };\n",
       "}\n",
       "\n",
       "mpl.figure.prototype.handle_rubberband = function(fig, msg) {\n",
       "    var x0 = msg['x0'] / mpl.ratio;\n",
       "    var y0 = (fig.canvas.height - msg['y0']) / mpl.ratio;\n",
       "    var x1 = msg['x1'] / mpl.ratio;\n",
       "    var y1 = (fig.canvas.height - msg['y1']) / mpl.ratio;\n",
       "    x0 = Math.floor(x0) + 0.5;\n",
       "    y0 = Math.floor(y0) + 0.5;\n",
       "    x1 = Math.floor(x1) + 0.5;\n",
       "    y1 = Math.floor(y1) + 0.5;\n",
       "    var min_x = Math.min(x0, x1);\n",
       "    var min_y = Math.min(y0, y1);\n",
       "    var width = Math.abs(x1 - x0);\n",
       "    var height = Math.abs(y1 - y0);\n",
       "\n",
       "    fig.rubberband_context.clearRect(\n",
       "        0, 0, fig.canvas.width, fig.canvas.height);\n",
       "\n",
       "    fig.rubberband_context.strokeRect(min_x, min_y, width, height);\n",
       "}\n",
       "\n",
       "mpl.figure.prototype.handle_figure_label = function(fig, msg) {\n",
       "    // Updates the figure title.\n",
       "    fig.header.textContent = msg['label'];\n",
       "}\n",
       "\n",
       "mpl.figure.prototype.handle_cursor = function(fig, msg) {\n",
       "    var cursor = msg['cursor'];\n",
       "    switch(cursor)\n",
       "    {\n",
       "    case 0:\n",
       "        cursor = 'pointer';\n",
       "        break;\n",
       "    case 1:\n",
       "        cursor = 'default';\n",
       "        break;\n",
       "    case 2:\n",
       "        cursor = 'crosshair';\n",
       "        break;\n",
       "    case 3:\n",
       "        cursor = 'move';\n",
       "        break;\n",
       "    }\n",
       "    fig.rubberband_canvas.style.cursor = cursor;\n",
       "}\n",
       "\n",
       "mpl.figure.prototype.handle_message = function(fig, msg) {\n",
       "    fig.message.textContent = msg['message'];\n",
       "}\n",
       "\n",
       "mpl.figure.prototype.handle_draw = function(fig, msg) {\n",
       "    // Request the server to send over a new figure.\n",
       "    fig.send_draw_message();\n",
       "}\n",
       "\n",
       "mpl.figure.prototype.handle_image_mode = function(fig, msg) {\n",
       "    fig.image_mode = msg['mode'];\n",
       "}\n",
       "\n",
       "mpl.figure.prototype.updated_canvas_event = function() {\n",
       "    // Called whenever the canvas gets updated.\n",
       "    this.send_message(\"ack\", {});\n",
       "}\n",
       "\n",
       "// A function to construct a web socket function for onmessage handling.\n",
       "// Called in the figure constructor.\n",
       "mpl.figure.prototype._make_on_message_function = function(fig) {\n",
       "    return function socket_on_message(evt) {\n",
       "        if (evt.data instanceof Blob) {\n",
       "            /* FIXME: We get \"Resource interpreted as Image but\n",
       "             * transferred with MIME type text/plain:\" errors on\n",
       "             * Chrome.  But how to set the MIME type?  It doesn't seem\n",
       "             * to be part of the websocket stream */\n",
       "            evt.data.type = \"image/png\";\n",
       "\n",
       "            /* Free the memory for the previous frames */\n",
       "            if (fig.imageObj.src) {\n",
       "                (window.URL || window.webkitURL).revokeObjectURL(\n",
       "                    fig.imageObj.src);\n",
       "            }\n",
       "\n",
       "            fig.imageObj.src = (window.URL || window.webkitURL).createObjectURL(\n",
       "                evt.data);\n",
       "            fig.updated_canvas_event();\n",
       "            fig.waiting = false;\n",
       "            return;\n",
       "        }\n",
       "        else if (typeof evt.data === 'string' && evt.data.slice(0, 21) == \"data:image/png;base64\") {\n",
       "            fig.imageObj.src = evt.data;\n",
       "            fig.updated_canvas_event();\n",
       "            fig.waiting = false;\n",
       "            return;\n",
       "        }\n",
       "\n",
       "        var msg = JSON.parse(evt.data);\n",
       "        var msg_type = msg['type'];\n",
       "\n",
       "        // Call the  \"handle_{type}\" callback, which takes\n",
       "        // the figure and JSON message as its only arguments.\n",
       "        try {\n",
       "            var callback = fig[\"handle_\" + msg_type];\n",
       "        } catch (e) {\n",
       "            console.log(\"No handler for the '\" + msg_type + \"' message type: \", msg);\n",
       "            return;\n",
       "        }\n",
       "\n",
       "        if (callback) {\n",
       "            try {\n",
       "                // console.log(\"Handling '\" + msg_type + \"' message: \", msg);\n",
       "                callback(fig, msg);\n",
       "            } catch (e) {\n",
       "                console.log(\"Exception inside the 'handler_\" + msg_type + \"' callback:\", e, e.stack, msg);\n",
       "            }\n",
       "        }\n",
       "    };\n",
       "}\n",
       "\n",
       "// from http://stackoverflow.com/questions/1114465/getting-mouse-location-in-canvas\n",
       "mpl.findpos = function(e) {\n",
       "    //this section is from http://www.quirksmode.org/js/events_properties.html\n",
       "    var targ;\n",
       "    if (!e)\n",
       "        e = window.event;\n",
       "    if (e.target)\n",
       "        targ = e.target;\n",
       "    else if (e.srcElement)\n",
       "        targ = e.srcElement;\n",
       "    if (targ.nodeType == 3) // defeat Safari bug\n",
       "        targ = targ.parentNode;\n",
       "\n",
       "    // jQuery normalizes the pageX and pageY\n",
       "    // pageX,Y are the mouse positions relative to the document\n",
       "    // offset() returns the position of the element relative to the document\n",
       "    var x = e.pageX - $(targ).offset().left;\n",
       "    var y = e.pageY - $(targ).offset().top;\n",
       "\n",
       "    return {\"x\": x, \"y\": y};\n",
       "};\n",
       "\n",
       "/*\n",
       " * return a copy of an object with only non-object keys\n",
       " * we need this to avoid circular references\n",
       " * http://stackoverflow.com/a/24161582/3208463\n",
       " */\n",
       "function simpleKeys (original) {\n",
       "  return Object.keys(original).reduce(function (obj, key) {\n",
       "    if (typeof original[key] !== 'object')\n",
       "        obj[key] = original[key]\n",
       "    return obj;\n",
       "  }, {});\n",
       "}\n",
       "\n",
       "mpl.figure.prototype.mouse_event = function(event, name) {\n",
       "    var canvas_pos = mpl.findpos(event)\n",
       "\n",
       "    if (name === 'button_press')\n",
       "    {\n",
       "        this.canvas.focus();\n",
       "        this.canvas_div.focus();\n",
       "    }\n",
       "\n",
       "    var x = canvas_pos.x * mpl.ratio;\n",
       "    var y = canvas_pos.y * mpl.ratio;\n",
       "\n",
       "    this.send_message(name, {x: x, y: y, button: event.button,\n",
       "                             step: event.step,\n",
       "                             guiEvent: simpleKeys(event)});\n",
       "\n",
       "    /* This prevents the web browser from automatically changing to\n",
       "     * the text insertion cursor when the button is pressed.  We want\n",
       "     * to control all of the cursor setting manually through the\n",
       "     * 'cursor' event from matplotlib */\n",
       "    event.preventDefault();\n",
       "    return false;\n",
       "}\n",
       "\n",
       "mpl.figure.prototype._key_event_extra = function(event, name) {\n",
       "    // Handle any extra behaviour associated with a key event\n",
       "}\n",
       "\n",
       "mpl.figure.prototype.key_event = function(event, name) {\n",
       "\n",
       "    // Prevent repeat events\n",
       "    if (name == 'key_press')\n",
       "    {\n",
       "        if (event.which === this._key)\n",
       "            return;\n",
       "        else\n",
       "            this._key = event.which;\n",
       "    }\n",
       "    if (name == 'key_release')\n",
       "        this._key = null;\n",
       "\n",
       "    var value = '';\n",
       "    if (event.ctrlKey && event.which != 17)\n",
       "        value += \"ctrl+\";\n",
       "    if (event.altKey && event.which != 18)\n",
       "        value += \"alt+\";\n",
       "    if (event.shiftKey && event.which != 16)\n",
       "        value += \"shift+\";\n",
       "\n",
       "    value += 'k';\n",
       "    value += event.which.toString();\n",
       "\n",
       "    this._key_event_extra(event, name);\n",
       "\n",
       "    this.send_message(name, {key: value,\n",
       "                             guiEvent: simpleKeys(event)});\n",
       "    return false;\n",
       "}\n",
       "\n",
       "mpl.figure.prototype.toolbar_button_onclick = function(name) {\n",
       "    if (name == 'download') {\n",
       "        this.handle_save(this, null);\n",
       "    } else {\n",
       "        this.send_message(\"toolbar_button\", {name: name});\n",
       "    }\n",
       "};\n",
       "\n",
       "mpl.figure.prototype.toolbar_button_onmouseover = function(tooltip) {\n",
       "    this.message.textContent = tooltip;\n",
       "};\n",
       "mpl.toolbar_items = [[\"Home\", \"Reset original view\", \"fa fa-home icon-home\", \"home\"], [\"Back\", \"Back to  previous view\", \"fa fa-arrow-left icon-arrow-left\", \"back\"], [\"Forward\", \"Forward to next view\", \"fa fa-arrow-right icon-arrow-right\", \"forward\"], [\"\", \"\", \"\", \"\"], [\"Pan\", \"Pan axes with left mouse, zoom with right\", \"fa fa-arrows icon-move\", \"pan\"], [\"Zoom\", \"Zoom to rectangle\", \"fa fa-square-o icon-check-empty\", \"zoom\"], [\"\", \"\", \"\", \"\"], [\"Download\", \"Download plot\", \"fa fa-floppy-o icon-save\", \"download\"]];\n",
       "\n",
       "mpl.extensions = [\"eps\", \"jpeg\", \"pdf\", \"png\", \"ps\", \"raw\", \"svg\", \"tif\"];\n",
       "\n",
       "mpl.default_extension = \"png\";var comm_websocket_adapter = function(comm) {\n",
       "    // Create a \"websocket\"-like object which calls the given IPython comm\n",
       "    // object with the appropriate methods. Currently this is a non binary\n",
       "    // socket, so there is still some room for performance tuning.\n",
       "    var ws = {};\n",
       "\n",
       "    ws.close = function() {\n",
       "        comm.close()\n",
       "    };\n",
       "    ws.send = function(m) {\n",
       "        //console.log('sending', m);\n",
       "        comm.send(m);\n",
       "    };\n",
       "    // Register the callback with on_msg.\n",
       "    comm.on_msg(function(msg) {\n",
       "        //console.log('receiving', msg['content']['data'], msg);\n",
       "        // Pass the mpl event to the overriden (by mpl) onmessage function.\n",
       "        ws.onmessage(msg['content']['data'])\n",
       "    });\n",
       "    return ws;\n",
       "}\n",
       "\n",
       "mpl.mpl_figure_comm = function(comm, msg) {\n",
       "    // This is the function which gets called when the mpl process\n",
       "    // starts-up an IPython Comm through the \"matplotlib\" channel.\n",
       "\n",
       "    var id = msg.content.data.id;\n",
       "    // Get hold of the div created by the display call when the Comm\n",
       "    // socket was opened in Python.\n",
       "    var element = $(\"#\" + id);\n",
       "    var ws_proxy = comm_websocket_adapter(comm)\n",
       "\n",
       "    function ondownload(figure, format) {\n",
       "        window.open(figure.imageObj.src);\n",
       "    }\n",
       "\n",
       "    var fig = new mpl.figure(id, ws_proxy,\n",
       "                           ondownload,\n",
       "                           element.get(0));\n",
       "\n",
       "    // Call onopen now - mpl needs it, as it is assuming we've passed it a real\n",
       "    // web socket which is closed, not our websocket->open comm proxy.\n",
       "    ws_proxy.onopen();\n",
       "\n",
       "    fig.parent_element = element.get(0);\n",
       "    fig.cell_info = mpl.find_output_cell(\"<div id='\" + id + \"'></div>\");\n",
       "    if (!fig.cell_info) {\n",
       "        console.error(\"Failed to find cell for figure\", id, fig);\n",
       "        return;\n",
       "    }\n",
       "\n",
       "    var output_index = fig.cell_info[2]\n",
       "    var cell = fig.cell_info[0];\n",
       "\n",
       "};\n",
       "\n",
       "mpl.figure.prototype.handle_close = function(fig, msg) {\n",
       "    var width = fig.canvas.width/mpl.ratio\n",
       "    fig.root.unbind('remove')\n",
       "\n",
       "    // Update the output cell to use the data from the current canvas.\n",
       "    fig.push_to_output();\n",
       "    var dataURL = fig.canvas.toDataURL();\n",
       "    // Re-enable the keyboard manager in IPython - without this line, in FF,\n",
       "    // the notebook keyboard shortcuts fail.\n",
       "    IPython.keyboard_manager.enable()\n",
       "    $(fig.parent_element).html('<img src=\"' + dataURL + '\" width=\"' + width + '\">');\n",
       "    fig.close_ws(fig, msg);\n",
       "}\n",
       "\n",
       "mpl.figure.prototype.close_ws = function(fig, msg){\n",
       "    fig.send_message('closing', msg);\n",
       "    // fig.ws.close()\n",
       "}\n",
       "\n",
       "mpl.figure.prototype.push_to_output = function(remove_interactive) {\n",
       "    // Turn the data on the canvas into data in the output cell.\n",
       "    var width = this.canvas.width/mpl.ratio\n",
       "    var dataURL = this.canvas.toDataURL();\n",
       "    this.cell_info[1]['text/html'] = '<img src=\"' + dataURL + '\" width=\"' + width + '\">';\n",
       "}\n",
       "\n",
       "mpl.figure.prototype.updated_canvas_event = function() {\n",
       "    // Tell IPython that the notebook contents must change.\n",
       "    IPython.notebook.set_dirty(true);\n",
       "    this.send_message(\"ack\", {});\n",
       "    var fig = this;\n",
       "    // Wait a second, then push the new image to the DOM so\n",
       "    // that it is saved nicely (might be nice to debounce this).\n",
       "    setTimeout(function () { fig.push_to_output() }, 1000);\n",
       "}\n",
       "\n",
       "mpl.figure.prototype._init_toolbar = function() {\n",
       "    var fig = this;\n",
       "\n",
       "    var nav_element = $('<div/>')\n",
       "    nav_element.attr('style', 'width: 100%');\n",
       "    this.root.append(nav_element);\n",
       "\n",
       "    // Define a callback function for later on.\n",
       "    function toolbar_event(event) {\n",
       "        return fig.toolbar_button_onclick(event['data']);\n",
       "    }\n",
       "    function toolbar_mouse_event(event) {\n",
       "        return fig.toolbar_button_onmouseover(event['data']);\n",
       "    }\n",
       "\n",
       "    for(var toolbar_ind in mpl.toolbar_items){\n",
       "        var name = mpl.toolbar_items[toolbar_ind][0];\n",
       "        var tooltip = mpl.toolbar_items[toolbar_ind][1];\n",
       "        var image = mpl.toolbar_items[toolbar_ind][2];\n",
       "        var method_name = mpl.toolbar_items[toolbar_ind][3];\n",
       "\n",
       "        if (!name) { continue; };\n",
       "\n",
       "        var button = $('<button class=\"btn btn-default\" href=\"#\" title=\"' + name + '\"><i class=\"fa ' + image + ' fa-lg\"></i></button>');\n",
       "        button.click(method_name, toolbar_event);\n",
       "        button.mouseover(tooltip, toolbar_mouse_event);\n",
       "        nav_element.append(button);\n",
       "    }\n",
       "\n",
       "    // Add the status bar.\n",
       "    var status_bar = $('<span class=\"mpl-message\" style=\"text-align:right; float: right;\"/>');\n",
       "    nav_element.append(status_bar);\n",
       "    this.message = status_bar[0];\n",
       "\n",
       "    // Add the close button to the window.\n",
       "    var buttongrp = $('<div class=\"btn-group inline pull-right\"></div>');\n",
       "    var button = $('<button class=\"btn btn-mini btn-primary\" href=\"#\" title=\"Stop Interaction\"><i class=\"fa fa-power-off icon-remove icon-large\"></i></button>');\n",
       "    button.click(function (evt) { fig.handle_close(fig, {}); } );\n",
       "    button.mouseover('Stop Interaction', toolbar_mouse_event);\n",
       "    buttongrp.append(button);\n",
       "    var titlebar = this.root.find($('.ui-dialog-titlebar'));\n",
       "    titlebar.prepend(buttongrp);\n",
       "}\n",
       "\n",
       "mpl.figure.prototype._root_extra_style = function(el){\n",
       "    var fig = this\n",
       "    el.on(\"remove\", function(){\n",
       "\tfig.close_ws(fig, {});\n",
       "    });\n",
       "}\n",
       "\n",
       "mpl.figure.prototype._canvas_extra_style = function(el){\n",
       "    // this is important to make the div 'focusable\n",
       "    el.attr('tabindex', 0)\n",
       "    // reach out to IPython and tell the keyboard manager to turn it's self\n",
       "    // off when our div gets focus\n",
       "\n",
       "    // location in version 3\n",
       "    if (IPython.notebook.keyboard_manager) {\n",
       "        IPython.notebook.keyboard_manager.register_events(el);\n",
       "    }\n",
       "    else {\n",
       "        // location in version 2\n",
       "        IPython.keyboard_manager.register_events(el);\n",
       "    }\n",
       "\n",
       "}\n",
       "\n",
       "mpl.figure.prototype._key_event_extra = function(event, name) {\n",
       "    var manager = IPython.notebook.keyboard_manager;\n",
       "    if (!manager)\n",
       "        manager = IPython.keyboard_manager;\n",
       "\n",
       "    // Check for shift+enter\n",
       "    if (event.shiftKey && event.which == 13) {\n",
       "        this.canvas_div.blur();\n",
       "        event.shiftKey = false;\n",
       "        // Send a \"J\" for go to next cell\n",
       "        event.which = 74;\n",
       "        event.keyCode = 74;\n",
       "        manager.command_mode();\n",
       "        manager.handle_keydown(event);\n",
       "    }\n",
       "}\n",
       "\n",
       "mpl.figure.prototype.handle_save = function(fig, msg) {\n",
       "    fig.ondownload(fig, null);\n",
       "}\n",
       "\n",
       "\n",
       "mpl.find_output_cell = function(html_output) {\n",
       "    // Return the cell and output element which can be found *uniquely* in the notebook.\n",
       "    // Note - this is a bit hacky, but it is done because the \"notebook_saving.Notebook\"\n",
       "    // IPython event is triggered only after the cells have been serialised, which for\n",
       "    // our purposes (turning an active figure into a static one), is too late.\n",
       "    var cells = IPython.notebook.get_cells();\n",
       "    var ncells = cells.length;\n",
       "    for (var i=0; i<ncells; i++) {\n",
       "        var cell = cells[i];\n",
       "        if (cell.cell_type === 'code'){\n",
       "            for (var j=0; j<cell.output_area.outputs.length; j++) {\n",
       "                var data = cell.output_area.outputs[j];\n",
       "                if (data.data) {\n",
       "                    // IPython >= 3 moved mimebundle to data attribute of output\n",
       "                    data = data.data;\n",
       "                }\n",
       "                if (data['text/html'] == html_output) {\n",
       "                    return [cell, data, j];\n",
       "                }\n",
       "            }\n",
       "        }\n",
       "    }\n",
       "}\n",
       "\n",
       "// Register the function which deals with the matplotlib target/channel.\n",
       "// The kernel may be null if the page has been refreshed.\n",
       "if (IPython.notebook.kernel != null) {\n",
       "    IPython.notebook.kernel.comm_manager.register_target('matplotlib', mpl.mpl_figure_comm);\n",
       "}\n"
      ],
      "text/plain": [
       "<IPython.core.display.Javascript object>"
      ]
     },
     "metadata": {},
     "output_type": "display_data"
    },
    {
     "data": {
      "text/html": [
       "<img src=\"data:image/png;base64,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\" width=\"899.6363636363636\">"
      ],
      "text/plain": [
       "<IPython.core.display.HTML object>"
      ]
     },
     "metadata": {},
     "output_type": "display_data"
    }
   ],
   "source": [
    "_ , axEcdf = plt.subplots(1, 2, figsize=(9, 6), gridspec_kw=dict(width_ratios=[3, 1]))\n",
    "\n",
    "for i in range(2):\n",
    "    # sort your data and plot it versus its percentage increment\n",
    "    for pl in days_plan_labels:\n",
    "        filt_pl = (df_transac.is_auto_renew == i ) & (df_transac.plan_duration == pl) & df_transac.is_cancel == False\n",
    "        pl_x = df_transac.loc[filt_pl, 'plan_list_price'].sort_values().values\n",
    "        pl_y = np.arange(1, len(pl_x)+1) / len(pl_x)\n",
    "        axEcdf[i].plot(pl_x, pl_y, '.')\n",
    "        axEcdf[i].set_xlabel('Plan List Price (auto_renew = ' + str(bool(i)) + ')'  )\n",
    "        axEcdf[i].set_ylabel('ECDF')\n",
    "    axEcdf[i].legend(days_plan_labels)"
   ]
  },
  {
   "cell_type": "markdown",
   "metadata": {
    "collapsed": true
   },
   "source": [
    "### List price vs paid price\n",
    "Here we would like to know the difference in price between list price and actual amount paid."
   ]
  },
  {
   "cell_type": "code",
   "execution_count": 71,
   "metadata": {
    "collapsed": true
   },
   "outputs": [],
   "source": [
    "# percent difference between plan price and price actually paid\n",
    "df_discount_percent = 1 - (df_transac.actual_amount_paid/df_transac.plan_list_price)"
   ]
  },
  {
   "cell_type": "markdown",
   "metadata": {},
   "source": [
    "It appears that an overwhelming majority of transcations do not have any discount (more than 92%) and some transaction were at no charge. Note that some percentage discount are negative which should not happen as one cannot pay more than the list price. <br>\n",
    "Let's adjust the actual amount paid to match its corresponding list price in those cases."
   ]
  },
  {
   "cell_type": "code",
   "execution_count": 72,
   "metadata": {},
   "outputs": [
    {
     "data": {
      "image/png": "[encoded data removed]",
      "text/plain": [
       "<matplotlib.figure.Figure at 0x230e8fe7630>"
      ]
     },
     "metadata": {},
     "output_type": "display_data"
    }
   ],
   "source": [
    "# plot histogram of discounts\n",
    "_ , axDiscount = plt.subplots()\n",
    "\n",
    "# plot histogram, bin by 10% intervals\n",
    "_ = df_discount_percent[df_transac.is_cancel == False].plot(kind = 'hist', range = (-1,1), bins = 20, \\\n",
    "                                                              ax = axDiscount, density = True)\n",
    "\n",
    "_ = axDiscount.set_xlabel('Discount fraction')\n",
    "# Note: bin width is 0.1 thus normalization multiplies by 10 (divided by 0.1, see hist documentation).\n",
    "# It means 100% corresponds to 10 on the y scale."
   ]
  },
  {
   "cell_type": "markdown",
   "metadata": {},
   "source": [
    "Same data using Empirical Cumulative Distribution function"
   ]
  },
  {
   "cell_type": "code",
   "execution_count": 73,
   "metadata": {},
   "outputs": [
    {
     "data": {
      "text/plain": [
       "Text(0,0.5,'ECDF')"
      ]
     },
     "execution_count": 73,
     "metadata": {},
     "output_type": "execute_result"
    },
    {
     "data": {
      "image/png": "[encoded data removed]",
      "text/plain": [
       "<matplotlib.figure.Figure at 0x23087b49438>"
      ]
     },
     "metadata": {},
     "output_type": "display_data"
    }
   ],
   "source": [
    "_ , axdisc = plt.subplots()\n",
    "pl_x = df_discount_percent[df_transac.is_cancel == False].sort_values().values\n",
    "pl_y = np.arange(1, len(pl_x)+1) / len(pl_x)\n",
    "axdisc.plot(pl_x, pl_y, '.')\n",
    "axdisc.set_xlabel('Discount Percentage')\n",
    "axdisc.set_ylabel('ECDF')"
   ]
  },
  {
   "cell_type": "code",
   "execution_count": 74,
   "metadata": {
    "collapsed": true
   },
   "outputs": [],
   "source": [
    "# adjust actual amount paid where discount is negative\n",
    "df_transac.loc[df_discount_percent < 0, 'actual_amount_paid'] = \\\n",
    "                                        df_transac.loc[df_discount_percent < 0, 'plan_list_price']"
   ]
  },
  {
   "cell_type": "markdown",
   "metadata": {},
   "source": [
    "Calculate discount again and generate new plot"
   ]
  },
  {
   "cell_type": "code",
   "execution_count": 75,
   "metadata": {},
   "outputs": [
    {
     "data": {
      "image/png": "[encoded data removed]",
      "text/plain": [
       "<matplotlib.figure.Figure at 0x231256bfa90>"
      ]
     },
     "metadata": {},
     "output_type": "display_data"
    }
   ],
   "source": [
    "# percent difference between plan price and price actually paid\n",
    "df_discount_percent = 1 - (df_transac.actual_amount_paid/df_transac.plan_list_price)\n",
    "\n",
    "figdisc2 , axdisc2 = plt.subplots()\n",
    "pl_x = df_discount_percent[df_transac.is_cancel == False].sort_values().values\n",
    "pl_y = np.arange(1, len(pl_x)+1) / len(pl_x)\n",
    "axdisc2.plot(pl_x, pl_y, '.')\n",
    "axdisc2.set_xlabel('Discount Percentage')\n",
    "axdisc2.set_ylabel('ECDF')\n",
    "\n",
    "# save figure to file as png\n",
    "figdisc2.savefig(os.path.join(os.pardir, 'reports', 'figures', 'ListPrice_vs_actualAmount.png'))"
   ]
  }
 ],
 "metadata": {
  "kernelspec": {
   "display_name": "kkbox_churn_kernel",
   "language": "python",
   "name": "kkbox_churn"
  },
  "language_info": {
   "codemirror_mode": {
    "name": "ipython",
    "version": 3
   },
   "file_extension": ".py",
   "mimetype": "text/x-python",
   "name": "python",
   "nbconvert_exporter": "python",
   "pygments_lexer": "ipython3",
   "version": "3.6.4"
  }
 },
 "nbformat": 4,
 "nbformat_minor": 2
}
