{
 "cells": [
  {
   "cell_type": "markdown",
   "metadata": {},
   "source": [
    "# Imports"
   ]
  },
  {
   "cell_type": "code",
   "execution_count": 1,
   "metadata": {
    "collapsed": true
   },
   "outputs": [],
   "source": [
    "import os\n",
    "import pandas as pd\n",
    "import numpy as np\n",
    "import seaborn as sns\n",
    "import matplotlib.pyplot as plt\n",
    "\n",
    "# keep matplotlib interactive\n",
    "# %matplotlib notebook\n",
    "%matplotlib inline\n",
    "# use ggplot style\n",
    "plt.style.use('ggplot')"
   ]
  },
  {
   "cell_type": "markdown",
   "metadata": {},
   "source": [
    "# Churn Prediction"
   ]
  },
  {
   "cell_type": "markdown",
   "metadata": {},
   "source": [
    "Any subscription-based business is committed to keep their customer happy in exchange for their loyalty. Despite their efforts, some customers will eventually not renew their subscription. In this latter case, if a customer has not renewed within a time window after its subscription expiration date, this customer is said to have churned. Although each service provider offers several subscription options (monthly, yearly, basic, premium,...), the time window to consider a customer has churned varies quite a lot. It seems that each company sets their own."
   ]
  },
  {
   "cell_type": "markdown",
   "metadata": {},
   "source": [
    "This project is based on a [Kaggle competition](https://www.kaggle.com/c/kkbox-churn-prediction-challenge) where KKBOX, an Asian leading __music streaming service__, is interested in learning from their customer behavior to prevent them from churning.\n",
    "\n",
    "The __grace period is 30 days__ in order to consider a customer has churned after its current membership ends. The goal is to determine churn from one month to the next."
   ]
  },
  {
   "cell_type": "code",
   "execution_count": 2,
   "metadata": {
    "collapsed": true
   },
   "outputs": [],
   "source": [
    "# train.csv only contains \n",
    "train_dir = os.path.join(os.pardir, 'data', 'raw', 'train.csv')\n",
    "df_train = pd.read_csv(train_dir, index_col = 'msno')"
   ]
  },
  {
   "cell_type": "code",
   "execution_count": 3,
   "metadata": {
    "scrolled": true
   },
   "outputs": [
    {
     "data": {
      "text/html": [
       "<div>\n",
       "<style>\n",
       "    .dataframe thead tr:only-child th {\n",
       "        text-align: right;\n",
       "    }\n",
       "\n",
       "    .dataframe thead th {\n",
       "        text-align: left;\n",
       "    }\n",
       "\n",
       "    .dataframe tbody tr th {\n",
       "        vertical-align: top;\n",
       "    }\n",
       "</style>\n",
       "<table border=\"1\" class=\"dataframe\">\n",
       "  <thead>\n",
       "    <tr style=\"text-align: right;\">\n",
       "      <th></th>\n",
       "      <th>is_churn</th>\n",
       "    </tr>\n",
       "    <tr>\n",
       "      <th>msno</th>\n",
       "      <th></th>\n",
       "    </tr>\n",
       "  </thead>\n",
       "  <tbody>\n",
       "    <tr>\n",
       "      <th>waLDQMmcOu2jLDaV1ddDkgCrB/jl6sD66Xzs0Vqax1Y=</th>\n",
       "      <td>1</td>\n",
       "    </tr>\n",
       "    <tr>\n",
       "      <th>QA7uiXy8vIbUSPOkCf9RwQ3FsT8jVq2OxDr8zqa7bRQ=</th>\n",
       "      <td>1</td>\n",
       "    </tr>\n",
       "    <tr>\n",
       "      <th>fGwBva6hikQmTJzrbz/2Ezjm5Cth5jZUNvXigKK2AFA=</th>\n",
       "      <td>1</td>\n",
       "    </tr>\n",
       "    <tr>\n",
       "      <th>mT5V8rEpa+8wuqi6x0DoVd3H5icMKkE9Prt49UlmK+4=</th>\n",
       "      <td>1</td>\n",
       "    </tr>\n",
       "    <tr>\n",
       "      <th>XaPhtGLk/5UvvOYHcONTwsnH97P4eGECeq+BARGItRw=</th>\n",
       "      <td>1</td>\n",
       "    </tr>\n",
       "  </tbody>\n",
       "</table>\n",
       "</div>"
      ],
      "text/plain": [
       "                                              is_churn\n",
       "msno                                                  \n",
       "waLDQMmcOu2jLDaV1ddDkgCrB/jl6sD66Xzs0Vqax1Y=         1\n",
       "QA7uiXy8vIbUSPOkCf9RwQ3FsT8jVq2OxDr8zqa7bRQ=         1\n",
       "fGwBva6hikQmTJzrbz/2Ezjm5Cth5jZUNvXigKK2AFA=         1\n",
       "mT5V8rEpa+8wuqi6x0DoVd3H5icMKkE9Prt49UlmK+4=         1\n",
       "XaPhtGLk/5UvvOYHcONTwsnH97P4eGECeq+BARGItRw=         1"
      ]
     },
     "execution_count": 3,
     "metadata": {},
     "output_type": "execute_result"
    }
   ],
   "source": [
    "df_train.head()"
   ]
  },
  {
   "cell_type": "code",
   "execution_count": 4,
   "metadata": {},
   "outputs": [
    {
     "name": "stdout",
     "output_type": "stream",
     "text": [
      "<class 'pandas.core.frame.DataFrame'>\n",
      "Index: 992931 entries, waLDQMmcOu2jLDaV1ddDkgCrB/jl6sD66Xzs0Vqax1Y= to ZoVEIVMCpKT9/MJgqO+fh9xYrNM2vNisLhJ4xY/CVyk=\n",
      "Data columns (total 1 columns):\n",
      "is_churn    992931 non-null int64\n",
      "dtypes: int64(1)\n",
      "memory usage: 15.2+ MB\n"
     ]
    }
   ],
   "source": [
    "df_train.info()"
   ]
  },
  {
   "cell_type": "code",
   "execution_count": 5,
   "metadata": {
    "collapsed": true
   },
   "outputs": [],
   "source": [
    "# _ , axChurn = plt.subplots(figsize=(10, 2))\n",
    "\n",
    "# # one could histogram is_churn column directly but it doesn't look good\n",
    "# # df_train.is_churn.plot(kind='hist', bins=[0, 1, 2], rwidth=0.5, align = 'left', ax=axChurn)\n",
    "\n",
    "# # histogram via value_counts() then make bar plot, change ticks labels\n",
    "# # churn_distrib = df_train.is_churn.value_counts()\n",
    "# # churn_distrib.plot(kind='barh', ax=axChurn)\n",
    "# # axChurn.set_yticklabels(('No Churn', 'Churn'), rotation = 0)\n",
    "# ## plt.xticks(churn_distrib.index, ('No Churn', 'Churn'), rotation = 0)"
   ]
  },
  {
   "cell_type": "code",
   "execution_count": 6,
   "metadata": {
    "scrolled": false
   },
   "outputs": [
    {
     "data": {
      "text/plain": [
       "(0.0, 1.05, -0.44000000000000006, 0.44000000000000006)"
      ]
     },
     "execution_count": 6,
     "metadata": {},
     "output_type": "execute_result"
    },
    {
     "data": {
      "image/png": "[encoded data removed]",
      "text/plain": [
       "<matplotlib.figure.Figure at 0x1fc3c0b9eb8>"
      ]
     },
     "metadata": {},
     "output_type": "display_data"
    }
   ],
   "source": [
    "# axes configuration\n",
    "_ , axChurn = plt.subplots(figsize=(9, 2))\n",
    "axChurn.set_position([0.05, 0.05, 0.9, 0.65])\n",
    "\n",
    "# histogram via value_counts()\n",
    "churn_distrib = df_train.is_churn.value_counts(normalize=True)\n",
    "\n",
    "# bar plot of no churn first\n",
    "no_churn = churn_distrib.loc[0]\n",
    "axChurn.barh(0, no_churn)\n",
    "\n",
    "# bar plot of churn stacked on no churn horizontally\n",
    "h_bar2 = axChurn.barh(0, churn_distrib.loc[1],  left = no_churn)\n",
    "\n",
    "# add legend\n",
    "axChurn.legend(['No Churn', 'Churn'], bbox_to_anchor=(0.5,1.4), loc = 'upper center')\n",
    "\n",
    "# show a line at 50% if it were balanced\n",
    "bar_height = h_bar2.patches[-1].get_height()/2\n",
    "axChurn.plot([0.5]*2, [-bar_height, bar_height], color = 'b', linestyle = ':')\n",
    "axChurn.text(0.5,-bar_height*1.2, '50%')\n",
    "\n",
    "# show a line at the atually split of no churn - churn\n",
    "axChurn.plot([no_churn]*2, [-bar_height, bar_height], color = 'k', linestyle = '-')\n",
    "axChurn.text(no_churn,-bar_height*1.2, '{:.0f}%'.format(no_churn*100))\n",
    "\n",
    "# removes axis spines altogether\n",
    "axChurn.axis('off')"
   ]
  },
  {
   "cell_type": "markdown",
   "metadata": {},
   "source": [
    "# Data Description\n",
    "There 3 data files that can tell us about customer behavior."
   ]
  },
  {
   "cell_type": "markdown",
   "metadata": {},
   "source": [
    "                                                \n",
    "\n",
    "|                                       transactions.csv                                        |\n",
    "|-----------------------------------------------------------------------------------------------|\n",
    "| msno                   | user id  (letters, digits and special characters)                    |\n",
    "| payment_method_id      | payment method   (masked)                                            |\n",
    "| payment_plan_days      | length of membership plan in days                                    |\n",
    "| plan_list_price        | in New Taiwan Dollar (NTD)                                           |\n",
    "| actual_amount_paid     | in New Taiwan Dollar (NTD)                                           |\n",
    "| is_auto_renew          | true when customer opted in renewing its subscription automatically  |\n",
    "| transaction_date       | format %Y%m%d                                                        |\n",
    "| membership_expire_date | format %Y%m%d                                                        |\n",
    "| is_cancel              | whether or not the user canceled the membership in this transaction. |\n",
    "\n"
   ]
  },
  {
   "cell_type": "markdown",
   "metadata": {},
   "source": [
    "|              user_logs.csv                                              |\n",
    "|-------------------------------------------------------------------------|\n",
    "| msno       | user id  (letters, digits and special characters)          |\n",
    "| date       | format %Y%m%d                                              |\n",
    "| num_25     | # of songs played less than 25% of the song length         |\n",
    "| num_50     | # of songs played between 25% to 50% of the song length    |\n",
    "| num_75     | # of songs played between 50% to 75% of of the song length |\n",
    "| num_985    | # of songs played between 75% to 98.5% of the song length  |\n",
    "| num_100    | # of songs played over 98.5% of the song length            |\n",
    "| num_unq    | # of unique songs played                                   |\n",
    "| total_secs | total seconds played                                       |"
   ]
  },
  {
   "cell_type": "markdown",
   "metadata": {},
   "source": [
    "|                                    members.csv                  |\n",
    "|---------------------------------|-------------------------------|\n",
    "| msno                            |user id  (letters, digits and special characters) |\n",
    "| city                            |          name of city         |\n",
    "| bd                              | age$^i$                       |\n",
    "| gender                          |            gender             |\n",
    "| registered_via                  |     registration method       |\n",
    "| registration_init_time          |          format %Y%m%d        |\n",
    "| expiration_date                 | format %Y%m%d $^{ii}$         |\n",
    "\n",
    "$^i$Note: this column has outlier values ranging from -7000 to 2015 please use your judgement.\n",
    "\n",
    "$^{ii}$Note: taken as a snapshot at which the member.csv is extracted. Not representing the actual churn behavior."
   ]
  },
  {
   "cell_type": "markdown",
   "metadata": {},
   "source": [
    "### Transactions"
   ]
  },
  {
   "cell_type": "code",
   "execution_count": 7,
   "metadata": {
    "collapsed": true
   },
   "outputs": [],
   "source": [
    "transaction_dir = os.path.join(os.pardir, 'data', 'raw', 'transactions.csv')\n",
    "df_transac = pd.read_csv(transaction_dir, index_col = 'msno', parse_dates=['transaction_date', 'membership_expire_date'])"
   ]
  },
  {
   "cell_type": "code",
   "execution_count": 8,
   "metadata": {},
   "outputs": [
    {
     "data": {
      "text/plain": [
       "payment_method_id         21547746\n",
       "payment_plan_days         21547746\n",
       "plan_list_price           21547746\n",
       "actual_amount_paid        21547746\n",
       "is_auto_renew             21547746\n",
       "transaction_date          21547746\n",
       "membership_expire_date    21547746\n",
       "is_cancel                 21547746\n",
       "dtype: int64"
      ]
     },
     "execution_count": 8,
     "metadata": {},
     "output_type": "execute_result"
    }
   ],
   "source": [
    "df_transac.count()"
   ]
  },
  {
   "cell_type": "code",
   "execution_count": 9,
   "metadata": {
    "collapsed": true
   },
   "outputs": [],
   "source": [
    "# treat payment_method_id as a category\n",
    "df_transac.payment_method_id = df_transac.payment_method_id.astype('category')\n",
    "# convert relevant columns to boolean\n",
    "df_transac.is_auto_renew = df_transac.is_auto_renew.astype(bool)\n",
    "df_transac.is_cancel = df_transac.is_cancel.astype(bool)"
   ]
  },
  {
   "cell_type": "code",
   "execution_count": 10,
   "metadata": {
    "scrolled": false
   },
   "outputs": [
    {
     "name": "stdout",
     "output_type": "stream",
     "text": [
      "<class 'pandas.core.frame.DataFrame'>\n",
      "Index: 21547746 entries, YyO+tlZtAXYXoZhNr3Vg3+dfVQvrBVGO8j1mfqe4ZHc= to oE4y2wK5E7OR8zyrCHeW02uTeI6wTwT4QTApEVBNEdM=\n",
      "Data columns (total 8 columns):\n",
      "payment_method_id         category\n",
      "payment_plan_days         int64\n",
      "plan_list_price           int64\n",
      "actual_amount_paid        int64\n",
      "is_auto_renew             bool\n",
      "transaction_date          datetime64[ns]\n",
      "membership_expire_date    datetime64[ns]\n",
      "is_cancel                 bool\n",
      "dtypes: bool(2), category(1), datetime64[ns](2), int64(3)\n",
      "memory usage: 1.0+ GB\n"
     ]
    }
   ],
   "source": [
    "df_transac.info()"
   ]
  },
  {
   "cell_type": "code",
   "execution_count": 11,
   "metadata": {
    "collapsed": true
   },
   "outputs": [],
   "source": [
    "def plot_bar(df, bar_list, is_Norm=True):\n",
    "    \"\"\"\n",
    "        Make a bar plot using dataframe df and associated columns in bar_list\n",
    "        is_Norm will normalize distribution by counts\n",
    "        df: pandas DataFrame\n",
    "        bar_list: list of column names\n",
    "    \"\"\"\n",
    "    subrows = int(np.ceil(len(bar_list) / 2))\n",
    "    discard_last_ax = bool(len(bar_list) % 2)\n",
    "    # special case when there is only one column specified\n",
    "    if subrows == 1 and discard_last_ax:\n",
    "        _ , ax = plt.subplots(figsize=(9,5))\n",
    "        ax = [ax]\n",
    "    else:\n",
    "        _ , ax = plt.subplots(subrows, 2)\n",
    "        ax = ax.flatten()\n",
    "    for k, colname in enumerate(bar_list):\n",
    "        \n",
    "        # select column and make bar plot\n",
    "        s_colname = df[colname]\n",
    "        distrib = s_colname.value_counts(normalize = is_Norm).sort_index()*100\n",
    "        distrib.plot(kind='bar', ax=ax[k], color='b')\n",
    "        \n",
    "        # add percent character to y tick label if plot normalized\n",
    "        if is_Norm:\n",
    "            # add percent on y axis labels, uses numerical value of each tick (just in case scale has changed)\n",
    "            ax[k].set_yticklabels([ '{:.0f}%'.format(l)  for l in ax[k].get_yticks()])\n",
    "        \n",
    "        # set x ticklabels to integer, reformat existing labels (categories must be treated as string here)\n",
    "        # ax[k].set_xticklabels([ '{:.0f}'.format(float(l.get_text()))  for l in ax[k].get_xticklabels()])\n",
    "        \n",
    "        # add title\n",
    "        ax[k].set_title(distrib.name + ' Distribution')\n",
    "        \n",
    "        # reset x axis label to 45 rotation\n",
    "        ax[k].tick_params(axis = 'x', rotation = 45)\n",
    "        \n",
    "    # decide to keep last axes\n",
    "    if discard_last_ax and subrows > 1: ax[-1].set_visible(False)\n",
    "    plt.tight_layout()"
   ]
  },
  {
   "cell_type": "markdown",
   "metadata": {},
   "source": [
    "### Payment ID method\n",
    "Payment ID 41 represents more than 50% of transactions"
   ]
  },
  {
   "cell_type": "code",
   "execution_count": 12,
   "metadata": {
    "scrolled": false
   },
   "outputs": [
    {
     "data": {
      "image/png": "[encoded data removed]",
      "text/plain": [
       "<matplotlib.figure.Figure at 0x1fc3c0b1160>"
      ]
     },
     "metadata": {},
     "output_type": "display_data"
    }
   ],
   "source": [
    "plot_bar(df_transac, ['payment_method_id'])"
   ]
  },
  {
   "cell_type": "markdown",
   "metadata": {},
   "source": [
    "### Payment Plan in days\n",
    "There is a lot more variety in subscriptions than I expected\n",
    "From [KKBOX website](https://help.kkbox.com/hk/zh-tw/billing/pay-types/260), here are the options:\n",
    "1. Options are monthly plan (30/31 days) with automatic renewal (is_auto_renew true) \n",
    "2. Single purchase, no automatic renewal but more expensive:\n",
    "    3. 30 days\n",
    "    4. 90 days (plus 7 days bonus?)\n",
    "    5. 180 days (plus 21 days bonus?)\n",
    "    6. 365 days (plus 50 days bonus?)\n",
    "There are discount programs too (getting a credit card with their partners and so on)"
   ]
  },
  {
   "cell_type": "markdown",
   "metadata": {},
   "source": [
    "0 days doesn't make sense. Because it is low percentage, we can discard it.\n",
    "\n",
    "We may want to keep only plans shorter than 30/31 days as predicitons are made on a monthly basis.\n",
    "Indeed, longer subscription means customer will not churn next month"
   ]
  },
  {
   "cell_type": "code",
   "execution_count": 13,
   "metadata": {},
   "outputs": [
    {
     "data": {
      "image/png": "[encoded data removed]",
      "text/plain": [
       "<matplotlib.figure.Figure at 0x1fc69abe0f0>"
      ]
     },
     "metadata": {},
     "output_type": "display_data"
    }
   ],
   "source": [
    "plot_bar(df_transac, ['payment_plan_days'])"
   ]
  },
  {
   "cell_type": "markdown",
   "metadata": {},
   "source": [
    "### Auto-renew and active cancellation\n",
    "People who have auto renewal active also don't cancel actively. It is consitent with the fact that most customers don't churn."
   ]
  },
  {
   "cell_type": "code",
   "execution_count": 14,
   "metadata": {},
   "outputs": [
    {
     "data": {
      "image/png": "[encoded data removed]",
      "text/plain": [
       "<matplotlib.figure.Figure at 0x1fc556427f0>"
      ]
     },
     "metadata": {},
     "output_type": "display_data"
    }
   ],
   "source": [
    "plot_bar(df_transac, ['is_auto_renew' , 'is_cancel'])"
   ]
  },
  {
   "cell_type": "markdown",
   "metadata": {},
   "source": [
    "### Plan list price\n",
    "Plan prices are rather discrete therefore there could be categorized for analysis.<br>\n",
    "Notice some transactions were free probably due to trial period or initial offering. Although, I would expect the actual price paid to be zero. <br>\n",
    "PS: Plan prices greater than 180 NTD only represents 2% of all transactions."
   ]
  },
  {
   "cell_type": "code",
   "execution_count": 15,
   "metadata": {},
   "outputs": [
    {
     "data": {
      "text/plain": [
       "180.0"
      ]
     },
     "execution_count": 15,
     "metadata": {},
     "output_type": "execute_result"
    }
   ],
   "source": [
    "df_transac.plan_list_price.quantile(q = 0.98)"
   ]
  },
  {
   "cell_type": "code",
   "execution_count": 16,
   "metadata": {},
   "outputs": [
    {
     "data": {
      "text/plain": [
       "<matplotlib.axes._subplots.AxesSubplot at 0x1fc64f73668>"
      ]
     },
     "execution_count": 16,
     "metadata": {},
     "output_type": "execute_result"
    },
    {
     "data": {
      "image/png": "[encoded data removed]",
      "text/plain": [
       "<matplotlib.figure.Figure at 0x1fc637b8eb8>"
      ]
     },
     "metadata": {},
     "output_type": "display_data"
    }
   ],
   "source": [
    "_ , axListPrice = plt.subplots()\n",
    "df_transac.plan_list_price.plot(kind = 'hist', \\\n",
    "                                bins = 250, range = (0,250), density = True,\\\n",
    "                                ax = axListPrice)"
   ]
  },
  {
   "cell_type": "markdown",
   "metadata": {},
   "source": [
    "### Subscription cost per subscription length\n",
    "How do subscription length scale with list price ? <br>\n",
    "First, let's group plan duration by the following intervals in days:\n",
    "| 0 - 7 | 8 - 29 | 30 - 89 | 90 - 179 | 180 - 364  | 365 - 450 |\n"
   ]
  },
  {
   "cell_type": "code",
   "execution_count": 17,
   "metadata": {},
   "outputs": [
    {
     "name": "stdout",
     "output_type": "stream",
     "text": [
      "Bin edges = [0, 8, 30, 90, 180, 365, 451]\n",
      "Associated labels = ['0 - 7', '8 - 29', '30 - 89', '90 - 179', '180 - 364', '365 - 451']\n"
     ]
    }
   ],
   "source": [
    "# create custom intervals (bin edges will be left inclusive) in increasing order\n",
    "days_plan = [0, 8, 30, 90, 180, 365, 451 ]\n",
    "\n",
    "# compile labels\n",
    "days_plan_upperbounds = [d-1 for d in days_plan[1:-1] ]\n",
    "days_plan_upperbounds.append(days_plan[-1])\n",
    "days_plan_labels = [ \"{} - {}\".format(l,u) for l,u in zip(days_plan[:-1], days_plan_upperbounds) ]\n",
    "\n",
    "print('Bin edges = {}'.format(days_plan))\n",
    "print('Associated labels = {}'.format(days_plan_labels))"
   ]
  },
  {
   "cell_type": "code",
   "execution_count": 18,
   "metadata": {
    "collapsed": true
   },
   "outputs": [],
   "source": [
    "# create new column with plan duration category\n",
    "df_transac['plan_duration'] = pd.cut(df_transac.payment_plan_days, days_plan, right=False, labels=days_plan_labels)"
   ]
  },
  {
   "cell_type": "markdown",
   "metadata": {},
   "source": [
    "Create bar plot for each auto renew state (True or False) and observe the list price going up with subscription length globally.<br> Free subscription are available across all subscription length."
   ]
  },
  {
   "cell_type": "code",
   "execution_count": 19,
   "metadata": {},
   "outputs": [
    {
     "data": {
      "image/png": "[encoded data removed]",
      "text/plain": [
       "<matplotlib.figure.Figure at 0x1fc5c717b70>"
      ]
     },
     "metadata": {},
     "output_type": "display_data"
    }
   ],
   "source": [
    "# prepare axis\n",
    "_ , axCostDays = plt.subplots(2, 1, \\\n",
    "                              figsize=(8, 8), \\\n",
    "                              gridspec_kw=dict(height_ratios=[1, 3]))\n",
    "\n",
    "# pivot on relevant columns, values can be anything as we are just counting here\n",
    "df_plan = df_transac.pivot_table(index = 'plan_duration', columns = 'is_auto_renew',\\\n",
    "                                 values = 'plan_list_price', aggfunc = 'count', fill_value = 0)\n",
    "\n",
    "# normalize each column by counts\n",
    "df_plan = df_plan.divide(df_plan.sum()) * 100\n",
    "\n",
    "# make a bar plot for each auto renew state\n",
    "df_plan.plot(kind = 'bar', ax = axCostDays[0])\n",
    "\n",
    "# change tick orientation and add labels\n",
    "axCostDays[0].tick_params(axis = 'x', rotation = 0)\n",
    "axCostDays[0].set_ylabel('Percent')\n",
    "axCostDays[0].set_xlabel('plan_duration')\n",
    "\n",
    "\n",
    "# use seaborn to add plan list price as another dimension\n",
    "sns.stripplot(x=\"plan_duration\", y=\"plan_list_price\", hue = 'is_auto_renew',\\\n",
    "              dodge = True, jitter = True, alpha = 0.25,\\\n",
    "              data=df_transac, ax = axCostDays[1])\n",
    "\n",
    "plt.tight_layout()"
   ]
  },
  {
   "cell_type": "markdown",
   "metadata": {},
   "source": [
    "### List price vs paid price\n",
    "If we compile the percent discount between actual amount and list price (assuming actual amount is always lower or equal to list price), some value will be infinity between we would divide by 0 (when x->0 (1/x)->Inf) <br>\n",
    "So we should filter out those events that represents ~ 7.5% of all transactions."
   ]
  },
  {
   "cell_type": "code",
   "execution_count": 20,
   "metadata": {
    "collapsed": true
   },
   "outputs": [],
   "source": [
    "df_discount = df_transac[~(df_transac.plan_list_price == 0)]"
   ]
  },
  {
   "cell_type": "code",
   "execution_count": 21,
   "metadata": {
    "collapsed": true
   },
   "outputs": [],
   "source": [
    "# percent difference between plan price and price actually paid\n",
    "discount_percent = 1 - (df_discount.actual_amount_paid/df_discount.plan_list_price)"
   ]
  },
  {
   "cell_type": "markdown",
   "metadata": {},
   "source": [
    "It appears that an overwhelming majority of transcations do not have any discount (more than 95%).<br>\n",
    "Note: bin width is 0.1 thus normalization is multiplied by 10 (divided by 0.1). It means 100% corresponds to 10 on the y scale."
   ]
  },
  {
   "cell_type": "code",
   "execution_count": 22,
   "metadata": {},
   "outputs": [
    {
     "data": {
      "text/plain": [
       "<matplotlib.axes._subplots.AxesSubplot at 0x1fc69b39ef0>"
      ]
     },
     "execution_count": 22,
     "metadata": {},
     "output_type": "execute_result"
    },
    {
     "data": {
      "image/png": "[encoded data removed]",
      "text/plain": [
       "<matplotlib.figure.Figure at 0x1fc3c0b1a20>"
      ]
     },
     "metadata": {},
     "output_type": "display_data"
    }
   ],
   "source": [
    "# plot histogram of discounts\n",
    "_ , axDiscount = plt.subplots()\n",
    "\n",
    "# plot histogram, bin by 10% intervals\n",
    "discount_percent.plot(kind = 'hist', range = (-1,1), bins = 20, ax = axDiscount, density = True)"
   ]
  },
  {
   "cell_type": "markdown",
   "metadata": {},
   "source": [
    "### Transaction and expiration dates\n",
    "Transactions start in January 2015 up to February 2017. <br>\n",
    "Membership expiration date takes into account the result of this transaction. For instance, a user who signs up for 2 months will have a membership expiration date 2 months after transaction date. In constrast, a user who actively cancels his plan is recorded as a transaction where expiration date is typically the day after transaction date."
   ]
  },
  {
   "cell_type": "code",
   "execution_count": 23,
   "metadata": {},
   "outputs": [
    {
     "data": {
      "text/plain": [
       "count                21547746\n",
       "unique                    790\n",
       "top       2016-08-31 00:00:00\n",
       "freq                   203688\n",
       "first     2015-01-01 00:00:00\n",
       "last      2017-02-28 00:00:00\n",
       "Name: transaction_date, dtype: object"
      ]
     },
     "execution_count": 23,
     "metadata": {},
     "output_type": "execute_result"
    }
   ],
   "source": [
    "df_transac.transaction_date.describe()"
   ]
  },
  {
   "cell_type": "code",
   "execution_count": 24,
   "metadata": {
    "collapsed": true
   },
   "outputs": [],
   "source": [
    "# compute difference in time between expiration date and transaction date\n",
    "deltaTransacDate = df_transac.membership_expire_date - df_transac.transaction_date\n",
    "\n",
    "# convert timedelta to days (it will produce integer)\n",
    "deltaTransacDate = deltaTransacDate.astype('timedelta64[D]')\n",
    "# convert timedelta object to days (keep decimals)\n",
    "# deltaTransacDate = deltaTransacDate/pd.Timedelta('1 day')\n",
    "# deltaTransacDate = deltaTransacDate/np.timedelta64(1, 'D')"
   ]
  },
  {
   "cell_type": "markdown",
   "metadata": {},
   "source": [
    "Without surprise, most people renew their membership for 30 or 31 days (Most popular plan). There are other smaller peaks at 0 day, 60 days and 90 days. Users who actively cancels is represented by the 0 day peak."
   ]
  },
  {
   "cell_type": "code",
   "execution_count": 25,
   "metadata": {},
   "outputs": [
    {
     "data": {
      "text/plain": [
       "<matplotlib.axes._subplots.AxesSubplot at 0x1fd6fc49ba8>"
      ]
     },
     "execution_count": 25,
     "metadata": {},
     "output_type": "execute_result"
    },
    {
     "data": {
      "image/png": "[encoded data removed]",
      "text/plain": [
       "<matplotlib.figure.Figure at 0x1fc4ea6d8d0>"
      ]
     },
     "metadata": {},
     "output_type": "display_data"
    }
   ],
   "source": [
    "# histogram days, matplotlib hist composes bin with right edge excluded EXCEPT for the last bin\n",
    "_ , axTransacDate = plt.subplots()\n",
    "deltaTransacDate.plot(kind = 'hist', range= (-30, 90), bins = 120, density = True, ax = axTransacDate)\n",
    "\n",
    "# NOTE: there are some unrealistic out of range values like -17599 days"
   ]
  },
  {
   "cell_type": "code",
   "execution_count": null,
   "metadata": {
    "collapsed": true
   },
   "outputs": [],
   "source": []
  }
 ],
 "metadata": {
  "kernelspec": {
   "display_name": "Python 3",
   "language": "python",
   "name": "python3"
  },
  "language_info": {
   "codemirror_mode": {
    "name": "ipython",
    "version": 3
   },
   "file_extension": ".py",
   "mimetype": "text/x-python",
   "name": "python",
   "nbconvert_exporter": "python",
   "pygments_lexer": "ipython3",
   "version": "3.5.4"
  }
 },
 "nbformat": 4,
 "nbformat_minor": 2
}
