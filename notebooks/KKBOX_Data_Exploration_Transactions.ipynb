{
 "cells": [
  {
   "cell_type": "markdown",
   "metadata": {},
   "source": [
    "# Imports"
   ]
  },
  {
   "cell_type": "code",
   "execution_count": 1,
   "metadata": {
    "collapsed": true
   },
   "outputs": [],
   "source": [
    "import os\n",
    "import pandas as pd\n",
    "import numpy as np\n",
    "import seaborn as sns\n",
    "import matplotlib.pyplot as plt\n",
    "\n",
    "# keep matplotlib interactive\n",
    "# NOTE: one must reload matplotlib to change of rendering style\n",
    "%matplotlib notebook\n",
    "# %matplotlib inline\n",
    "# use ggplot style\n",
    "plt.style.use('ggplot')"
   ]
  },
  {
   "cell_type": "markdown",
   "metadata": {},
   "source": [
    "# Data Description\n",
    "Description of transactions"
   ]
  },
  {
   "cell_type": "markdown",
   "metadata": {},
   "source": [
    "                                                \n",
    "\n",
    "|                                       transactions.csv                                        |\n",
    "|-----------------------------------------------------------------------------------------------|\n",
    "| msno                   | user id  (letters, digits and special characters)                    |\n",
    "| payment_method_id      | payment method   (masked)                                            |\n",
    "| payment_plan_days      | length of membership plan in days                                    |\n",
    "| plan_list_price        | in New Taiwan Dollar (NTD)                                           |\n",
    "| actual_amount_paid     | in New Taiwan Dollar (NTD)                                           |\n",
    "| is_auto_renew          | true when customer opted in renewing its subscription automatically  |\n",
    "| transaction_date       | format %Y%m%d                                                        |\n",
    "| membership_expire_date | format %Y%m%d                                                        |\n",
    "| is_cancel              | whether or not the user canceled the membership in this transaction. |\n",
    "\n"
   ]
  },
  {
   "cell_type": "markdown",
   "metadata": {},
   "source": [
    "### Transactions"
   ]
  },
  {
   "cell_type": "code",
   "execution_count": 2,
   "metadata": {
    "collapsed": true
   },
   "outputs": [],
   "source": [
    "transaction_dir = os.path.join(os.pardir, 'data', 'raw', 'transactions.csv')\n",
    "df_transac = pd.read_csv(transaction_dir, parse_dates=['transaction_date', 'membership_expire_date'])"
   ]
  },
  {
   "cell_type": "code",
   "execution_count": 3,
   "metadata": {},
   "outputs": [
    {
     "data": {
      "text/plain": [
       "msno                      21547746\n",
       "payment_method_id         21547746\n",
       "payment_plan_days         21547746\n",
       "plan_list_price           21547746\n",
       "actual_amount_paid        21547746\n",
       "is_auto_renew             21547746\n",
       "transaction_date          21547746\n",
       "membership_expire_date    21547746\n",
       "is_cancel                 21547746\n",
       "dtype: int64"
      ]
     },
     "execution_count": 3,
     "metadata": {},
     "output_type": "execute_result"
    }
   ],
   "source": [
    "df_transac.count()"
   ]
  },
  {
   "cell_type": "code",
   "execution_count": 4,
   "metadata": {
    "collapsed": true
   },
   "outputs": [],
   "source": [
    "# treat payment_method_id as a category\n",
    "df_transac.payment_method_id = df_transac.payment_method_id.astype('category')\n",
    "# same for user\n",
    "df_transac.msno = df_transac.msno.astype('category')\n",
    "# convert relevant columns to boolean\n",
    "df_transac.is_auto_renew = df_transac.is_auto_renew.astype(bool)\n",
    "df_transac.is_cancel = df_transac.is_cancel.astype(bool)"
   ]
  },
  {
   "cell_type": "code",
   "execution_count": 5,
   "metadata": {
    "scrolled": false
   },
   "outputs": [
    {
     "name": "stdout",
     "output_type": "stream",
     "text": [
      "<class 'pandas.core.frame.DataFrame'>\n",
      "RangeIndex: 21547746 entries, 0 to 21547745\n",
      "Data columns (total 9 columns):\n",
      "msno                      category\n",
      "payment_method_id         category\n",
      "payment_plan_days         int64\n",
      "plan_list_price           int64\n",
      "actual_amount_paid        int64\n",
      "is_auto_renew             bool\n",
      "transaction_date          datetime64[ns]\n",
      "membership_expire_date    datetime64[ns]\n",
      "is_cancel                 bool\n",
      "dtypes: bool(2), category(2), datetime64[ns](2), int64(3)\n",
      "memory usage: 1.0 GB\n"
     ]
    }
   ],
   "source": [
    "df_transac.info()"
   ]
  },
  {
   "cell_type": "code",
   "execution_count": 6,
   "metadata": {
    "collapsed": true
   },
   "outputs": [],
   "source": [
    "def plot_bar(df, bar_list, is_Norm=True):\n",
    "    \"\"\"\n",
    "        Make a bar plot using dataframe df and associated columns in bar_list\n",
    "        is_Norm will normalize distribution by counts\n",
    "        df: pandas DataFrame\n",
    "        bar_list: list of column names\n",
    "    \"\"\"\n",
    "    # keep 2 columns and compute number of rows needed in subpots\n",
    "    subrows = int(np.ceil(len(bar_list) / 2))\n",
    "    discard_last_ax = bool(len(bar_list) % 2)\n",
    "    \n",
    "    # special case when there is only one column specified\n",
    "    # then keep one figure and make it bigger\n",
    "    if subrows == 1 and discard_last_ax:\n",
    "        _ , ax = plt.subplots(figsize=(9,5))\n",
    "        ax = [ax]\n",
    "    else:\n",
    "        _ , ax = plt.subplots(subrows, 2)\n",
    "        ax = ax.flatten()\n",
    "    for k, colname in enumerate(bar_list):\n",
    "        \n",
    "        # select column and make bar plot\n",
    "        s_colname = df[colname]\n",
    "        distrib = s_colname.value_counts(normalize = is_Norm).sort_index()*100\n",
    "        distrib.plot(kind='bar', ax=ax[k], color='b')\n",
    "        \n",
    "        # add percent character to y tick label if plot normalized\n",
    "        if is_Norm:\n",
    "            # add percent on y axis labels, uses numerical value of each tick (just in case scale has changed)\n",
    "#             ax[k].set_yticklabels([ '{:.0f}%'.format(l)  for l in ax[k].get_yticks()])\n",
    "            pass\n",
    "        else:\n",
    "            ax[k].set_ylabel('Count')\n",
    "                \n",
    "        # reformat existing x ticklabels to integer (may not be required)\n",
    "        # When numeric columns have Nans then it will show float number\n",
    "        # ax[k].set_xticklabels([ '{:.0f}'.format(float(l.get_text()))  for l in ax[k].get_xticklabels()])\n",
    "        \n",
    "        # add title\n",
    "        ax[k].set_title(distrib.name + ' Distribution')\n",
    "        \n",
    "        # reset x axis label to 45 rotation\n",
    "        ax[k].tick_params(axis = 'x', rotation = 45)\n",
    "        \n",
    "        # add x axis label\n",
    "        ax[k].set_xlabel(distrib.name)\n",
    "        \n",
    "    # decide to keep last axes\n",
    "    if discard_last_ax and subrows > 1: ax[-1].set_visible(False)\n",
    "    plt.tight_layout()\n",
    "    \n",
    "    # save figure to file as png\n",
    "    plt.savefig(os.path.join(os.pardir, 'reports', 'figures', distrib.name +'.png'))"
   ]
  },
  {
   "cell_type": "markdown",
   "metadata": {},
   "source": [
    "### Payment ID method\n",
    "Payment ID 41 represents more than 50% of transactions"
   ]
  },
  {
   "cell_type": "code",
   "execution_count": 7,
   "metadata": {
    "scrolled": false
   },
   "outputs": [
    {
     "data": {
      "image/png": "[encoded data removed]",
      "text/plain": [
       "<matplotlib.figure.Figure at 0x2544178b4e0>"
      ]
     },
     "metadata": {},
     "output_type": "display_data"
    }
   ],
   "source": [
    "plot_bar(df_transac, ['payment_method_id'])"
   ]
  },
  {
   "cell_type": "markdown",
   "metadata": {},
   "source": [
    "### Payment Plan in days\n",
    "There is a lot more variety in subscriptions than I expected\n",
    "from [KKBOX website](https://help.kkbox.com/hk/zh-tw/billing/pay-types/260), here are the options:\n",
    "1. Options are monthly plan (30/31 days) with automatic renewal (is_auto_renew true) \n",
    "2. Single purchase, no automatic renewal but more expensive:\n",
    "    3. 30 days\n",
    "    4. 90 days (plus 7 days bonus?)\n",
    "    5. 180 days (plus 21 days bonus?)\n",
    "    6. 365 days (plus 50 days bonus?)\n",
    "There are discount programs too (getting a credit card with their partners and so on)"
   ]
  },
  {
   "cell_type": "markdown",
   "metadata": {},
   "source": [
    "0 days doesn't make sense. Because it is low percentage, we can discard it.\n",
    "\n",
    "We may want to keep only plans shorter than 30/31 days as predicitons are made on a monthly basis.\n",
    "Indeed, longer subscription means customer will not churn next month"
   ]
  },
  {
   "cell_type": "code",
   "execution_count": 8,
   "metadata": {},
   "outputs": [
    {
     "data": {
      "image/png": "[encoded data removed]",
      "text/plain": [
       "<matplotlib.figure.Figure at 0x254384005f8>"
      ]
     },
     "metadata": {},
     "output_type": "display_data"
    }
   ],
   "source": [
    "plot_bar(df_transac, ['payment_plan_days'], is_Norm=True)"
   ]
  },
  {
   "cell_type": "markdown",
   "metadata": {},
   "source": [
    "### A closer look at 0 day plans"
   ]
  },
  {
   "cell_type": "markdown",
   "metadata": {},
   "source": [
    "Records of 0 day plans also have a list price of 0. All other columns appears to contain legitimate information.\n",
    "\n",
    "Therefore, payment plan days can be inferred by looking at the time difference between expiration date and transaction date. However, when cancellation is active, it will not work as expiration date is not meaningful. In this latter case, we could look at previous transaction from each respective user if needed.\n",
    "\n",
    "Note that those transactions occur in 2015 except for 3 in 2016 and 1 in 2017."
   ]
  },
  {
   "cell_type": "code",
   "execution_count": 9,
   "metadata": {
    "collapsed": true
   },
   "outputs": [],
   "source": [
    "# select rows where payment plan days are zero\n",
    "df_zero_day = df_transac[df_transac.payment_plan_days == 0]"
   ]
  },
  {
   "cell_type": "code",
   "execution_count": 10,
   "metadata": {},
   "outputs": [
    {
     "name": "stdout",
     "output_type": "stream",
     "text": [
      "4.04% of total transactions\n"
     ]
    }
   ],
   "source": [
    "# number of missing value is small\n",
    "print( '{:.2f}% of total transactions'.format(df_zero_day.shape[0]/df_transac.shape[0] * 100))"
   ]
  },
  {
   "cell_type": "code",
   "execution_count": 11,
   "metadata": {},
   "outputs": [
    {
     "data": {
      "text/plain": [
       "0"
      ]
     },
     "execution_count": 11,
     "metadata": {},
     "output_type": "execute_result"
    }
   ],
   "source": [
    "# show that list prices are also zero\n",
    "df_zero_day.plan_list_price.sum()"
   ]
  },
  {
   "cell_type": "markdown",
   "metadata": {},
   "source": [
    "#### Replacing 0 payment plan days with no active cancellation"
   ]
  },
  {
   "cell_type": "markdown",
   "metadata": {},
   "source": [
    "Here we assume that expiration and membership dates are valid and number of days ellapsed between those two dates correspond to the plan duration. We should check if this is true for non-zero payment plan days."
   ]
  },
  {
   "cell_type": "code",
   "execution_count": 12,
   "metadata": {
    "collapsed": true
   },
   "outputs": [],
   "source": [
    "df_temp = df_transac[(df_transac.payment_plan_days != 0) & (df_transac.is_cancel == False)].copy()"
   ]
  },
  {
   "cell_type": "code",
   "execution_count": 13,
   "metadata": {
    "collapsed": true
   },
   "outputs": [],
   "source": [
    "# compute payment plan days from transaction date and expiration date\n",
    "df_temp['delta_days'] = (df_temp['membership_expire_date'] - \\\n",
    "                         df_temp['transaction_date']).astype('timedelta64[D]').astype('int64')"
   ]
  },
  {
   "cell_type": "code",
   "execution_count": 14,
   "metadata": {},
   "outputs": [
    {
     "name": "stdout",
     "output_type": "stream",
     "text": [
      "Percent of Payment Plan Days matching delta plan days = 33.8 %\n"
     ]
    }
   ],
   "source": [
    "df_temp_match = df_temp.loc[df_temp.delta_days == df_temp.payment_plan_days]\n",
    "print('Percent of Payment Plan Days matching delta plan days = {:.1f} %'.format(\\\n",
    "                                    df_temp_match.shape[0]/df_temp.shape[0]*100))"
   ]
  },
  {
   "cell_type": "markdown",
   "metadata": {},
   "source": [
    "Using transaction date and expiration date works only for 33.8% of known transactions!\n",
    "\n",
    "When did it work?\n",
    "\n",
    "Most likely hapenning when automatic renewal is enabled and transaction date is at the end of the month. Not a reliable method!!!"
   ]
  },
  {
   "cell_type": "code",
   "execution_count": 15,
   "metadata": {},
   "outputs": [
    {
     "data": {
      "text/html": [
       "<div>\n",
       "<style scoped>\n",
       "    .dataframe tbody tr th:only-of-type {\n",
       "        vertical-align: middle;\n",
       "    }\n",
       "\n",
       "    .dataframe tbody tr th {\n",
       "        vertical-align: top;\n",
       "    }\n",
       "\n",
       "    .dataframe thead th {\n",
       "        text-align: right;\n",
       "    }\n",
       "</style>\n",
       "<table border=\"1\" class=\"dataframe\">\n",
       "  <thead>\n",
       "    <tr style=\"text-align: right;\">\n",
       "      <th></th>\n",
       "      <th>msno</th>\n",
       "      <th>payment_method_id</th>\n",
       "      <th>payment_plan_days</th>\n",
       "      <th>plan_list_price</th>\n",
       "      <th>actual_amount_paid</th>\n",
       "      <th>is_auto_renew</th>\n",
       "      <th>transaction_date</th>\n",
       "      <th>membership_expire_date</th>\n",
       "      <th>is_cancel</th>\n",
       "      <th>delta_days</th>\n",
       "    </tr>\n",
       "  </thead>\n",
       "  <tbody>\n",
       "    <tr>\n",
       "      <th>22</th>\n",
       "      <td>pArK2x3bNZW0sAYaFg0h5c3xkx+2RhLa0RXG88jpt6I=</td>\n",
       "      <td>37</td>\n",
       "      <td>30</td>\n",
       "      <td>149</td>\n",
       "      <td>149</td>\n",
       "      <td>True</td>\n",
       "      <td>2015-10-01</td>\n",
       "      <td>2015-10-31</td>\n",
       "      <td>False</td>\n",
       "      <td>30</td>\n",
       "    </tr>\n",
       "    <tr>\n",
       "      <th>62</th>\n",
       "      <td>svvuo4JCElN6TLQZUrMPLuZMpRwcaePM02X3ybNN1dg=</td>\n",
       "      <td>38</td>\n",
       "      <td>30</td>\n",
       "      <td>149</td>\n",
       "      <td>149</td>\n",
       "      <td>False</td>\n",
       "      <td>2015-11-30</td>\n",
       "      <td>2015-12-30</td>\n",
       "      <td>False</td>\n",
       "      <td>30</td>\n",
       "    </tr>\n",
       "    <tr>\n",
       "      <th>63</th>\n",
       "      <td>uxUOp7bS37/tqyaiJZnGVAg68YyA7AXEgJ5WDTb6jYE=</td>\n",
       "      <td>37</td>\n",
       "      <td>30</td>\n",
       "      <td>149</td>\n",
       "      <td>149</td>\n",
       "      <td>True</td>\n",
       "      <td>2015-12-01</td>\n",
       "      <td>2015-12-31</td>\n",
       "      <td>False</td>\n",
       "      <td>30</td>\n",
       "    </tr>\n",
       "    <tr>\n",
       "      <th>66</th>\n",
       "      <td>aUB5tfRl4tO/EefPzjhKOmAuCVqsmHWYDVgBPpC1/ps=</td>\n",
       "      <td>38</td>\n",
       "      <td>10</td>\n",
       "      <td>0</td>\n",
       "      <td>0</td>\n",
       "      <td>False</td>\n",
       "      <td>2015-12-01</td>\n",
       "      <td>2015-12-11</td>\n",
       "      <td>False</td>\n",
       "      <td>10</td>\n",
       "    </tr>\n",
       "    <tr>\n",
       "      <th>67</th>\n",
       "      <td>vIpqkb/ck3zAOqMgqirkrM1rI49dNLPREdznv2X6eTQ=</td>\n",
       "      <td>38</td>\n",
       "      <td>30</td>\n",
       "      <td>149</td>\n",
       "      <td>149</td>\n",
       "      <td>False</td>\n",
       "      <td>2015-12-01</td>\n",
       "      <td>2015-12-31</td>\n",
       "      <td>False</td>\n",
       "      <td>30</td>\n",
       "    </tr>\n",
       "  </tbody>\n",
       "</table>\n",
       "</div>"
      ],
      "text/plain": [
       "                                            msno payment_method_id  \\\n",
       "22  pArK2x3bNZW0sAYaFg0h5c3xkx+2RhLa0RXG88jpt6I=                37   \n",
       "62  svvuo4JCElN6TLQZUrMPLuZMpRwcaePM02X3ybNN1dg=                38   \n",
       "63  uxUOp7bS37/tqyaiJZnGVAg68YyA7AXEgJ5WDTb6jYE=                37   \n",
       "66  aUB5tfRl4tO/EefPzjhKOmAuCVqsmHWYDVgBPpC1/ps=                38   \n",
       "67  vIpqkb/ck3zAOqMgqirkrM1rI49dNLPREdznv2X6eTQ=                38   \n",
       "\n",
       "    payment_plan_days  plan_list_price  actual_amount_paid  is_auto_renew  \\\n",
       "22                 30              149                 149           True   \n",
       "62                 30              149                 149          False   \n",
       "63                 30              149                 149           True   \n",
       "66                 10                0                   0          False   \n",
       "67                 30              149                 149          False   \n",
       "\n",
       "   transaction_date membership_expire_date  is_cancel  delta_days  \n",
       "22       2015-10-01             2015-10-31      False          30  \n",
       "62       2015-11-30             2015-12-30      False          30  \n",
       "63       2015-12-01             2015-12-31      False          30  \n",
       "66       2015-12-01             2015-12-11      False          10  \n",
       "67       2015-12-01             2015-12-31      False          30  "
      ]
     },
     "execution_count": 15,
     "metadata": {},
     "output_type": "execute_result"
    }
   ],
   "source": [
    "df_temp_match.head()"
   ]
  },
  {
   "cell_type": "markdown",
   "metadata": {},
   "source": [
    "### Better approach to substitute 0-day payment plan\n",
    "Looking at the time ellapsed between two consecutives expiration date is a better way to determine payment plan days. Current transaction date must be anterior to previous expiration date meaning user always renewed before the expiration date.\n",
    "\n",
    "When there is no overlap between successive transaction and expiration dates, then we can estimate using the difference in days between current transaction and its associated expiration date.\n",
    "\n",
    "For active cancellation, we can propagate forward last known plan duration."
   ]
  },
  {
   "cell_type": "markdown",
   "metadata": {},
   "source": [
    "Instead of looping through each group (i.e. using groupby), we can apply our calculation on the whole dataframe at once if we know the index of each customer first transaction. Indeed, we don't want to propagate expiration date from one customer to another."
   ]
  },
  {
   "cell_type": "code",
   "execution_count": 16,
   "metadata": {
    "collapsed": true
   },
   "outputs": [],
   "source": [
    "# sort dataframe by msno, transaction date then expiration date\n",
    "df_transac.sort_values(['msno', 'transaction_date', 'membership_expire_date'], inplace=True)"
   ]
  },
  {
   "cell_type": "code",
   "execution_count": 17,
   "metadata": {
    "collapsed": true
   },
   "outputs": [],
   "source": [
    "# group by users, no need to sort as it is pre-sorted\n",
    "df_group = df_transac.groupby('msno', sort=False)"
   ]
  },
  {
   "cell_type": "markdown",
   "metadata": {},
   "source": [
    "Collect index of user's first transaction"
   ]
  },
  {
   "cell_type": "code",
   "execution_count": 18,
   "metadata": {},
   "outputs": [
    {
     "name": "stdout",
     "output_type": "stream",
     "text": [
      "--- 398.2860851287842 seconds ellapsed in for loop---\n"
     ]
    }
   ],
   "source": [
    "import time\n",
    "start_time = time.time()\n",
    "# keep track of each user's first transaction\n",
    "first_trans = []\n",
    "\n",
    "# aggregation function first set msno as indexes (original indexes are lost)\n",
    "for user_name, user_df in df_group:\n",
    "    # get transactions from user\n",
    "    first_trans.append(user_df.index[0])\n",
    "    \n",
    "print(\"--- %s seconds ellapsed in for loop---\" % (time.time() - start_time))"
   ]
  },
  {
   "cell_type": "code",
   "execution_count": 19,
   "metadata": {
    "collapsed": true
   },
   "outputs": [],
   "source": [
    "# create new column showing preceding expiration date for each record\n",
    "# expect for the first record obviously\n",
    "# Note: must use .values otherwise it will attempt to align data\n",
    "df_transac.loc[df_transac.index[1:],'prior_expiration'] =\\\n",
    "                            df_transac.loc[df_transac.index[:-1],'membership_expire_date'].values"
   ]
  },
  {
   "cell_type": "code",
   "execution_count": 20,
   "metadata": {
    "collapsed": true
   },
   "outputs": [],
   "source": [
    "# set each user's first transaction to pd.Timedelta('nan') (aka NaT) for prior_expiration.\n",
    "# It was set to last transaction of preceding user from last operation.\n",
    "df_transac.loc[first_trans, 'prior_expiration'] = pd.Timedelta('nan')"
   ]
  },
  {
   "cell_type": "markdown",
   "metadata": {},
   "source": [
    "#### Estimate payment plan days for users who always renew in time."
   ]
  },
  {
   "cell_type": "code",
   "execution_count": 21,
   "metadata": {
    "collapsed": true
   },
   "outputs": [],
   "source": [
    "# compute delta days when transaction date is anterior to prior expiration date and no active cancellation\n",
    "# This condition captures all transactions when auto renew is enabled unless a user starts again \n",
    "# his membership after a while and chooses automatic renewal\n",
    "# OR user's first transaction (no existing prior expiration date)\n",
    "# NOTE: inequality comparison with NaT will always yield False\n",
    "crit_mem = (df_transac.transaction_date <= df_transac.prior_expiration) & (df_transac.is_cancel == False)"
   ]
  },
  {
   "cell_type": "code",
   "execution_count": 22,
   "metadata": {},
   "outputs": [
    {
     "name": "stdout",
     "output_type": "stream",
     "text": [
      "Percentage of timely transaction without automatic renewal = 3.8%\n"
     ]
    }
   ],
   "source": [
    "# percentage of transactions renewed on time WITHOUT automatic renewal\n",
    "s_timely_renew = df_transac.loc[crit_mem, 'is_auto_renew']\n",
    "no_auto_renew_fraction = 1 - (s_timely_renew.sum() /len(s_timely_renew))\n",
    "print('Percentage of timely transaction without automatic renewal = {:.1f}%'.format(no_auto_renew_fraction*100))"
   ]
  },
  {
   "cell_type": "code",
   "execution_count": 23,
   "metadata": {
    "collapsed": true
   },
   "outputs": [],
   "source": [
    "# estimate payment plan days\n",
    "df_transac.loc[crit_mem,'delta_days'] = (df_transac.loc[crit_mem, 'membership_expire_date'] - \\\n",
    "                                         df_transac.loc[crit_mem, 'prior_expiration']\n",
    "                                        ).astype('timedelta64[D]')"
   ]
  },
  {
   "cell_type": "markdown",
   "metadata": {},
   "source": [
    "#### Estimate payment plan days for independent transactions (no transaction date/prior expiration date overlap)"
   ]
  },
  {
   "cell_type": "code",
   "execution_count": 24,
   "metadata": {
    "collapsed": true
   },
   "outputs": [],
   "source": [
    "# user didn't keep up with its membership in a timely manner and no active cancellation\n",
    "# For user's first transaction, we cannot tell if there is an overlap or not\n",
    "crit_ept = (df_transac.delta_days.isnull()) & (df_transac.is_cancel == False) & (~df_transac.index.isin(first_trans))"
   ]
  },
  {
   "cell_type": "code",
   "execution_count": 25,
   "metadata": {
    "collapsed": true
   },
   "outputs": [],
   "source": [
    "# when there is no overlap with prior transaction, use expiration-transaction date difference\n",
    "df_transac.loc[crit_ept, 'delta_days'] = (df_transac.loc[crit_ept, 'membership_expire_date'] - \\\n",
    "                                         df_transac.loc[crit_ept, 'transaction_date']\n",
    "                                        ).astype('timedelta64[D]')"
   ]
  },
  {
   "cell_type": "markdown",
   "metadata": {},
   "source": [
    "#### Estimate payment plan days when cancellation is active\n",
    "At this point we have user's first transactions and active cancellation unfilled. <br>\n",
    "NOTE: active cancellation only happens when automatic renewal is in place."
   ]
  },
  {
   "cell_type": "code",
   "execution_count": 26,
   "metadata": {
    "collapsed": true
   },
   "outputs": [],
   "source": [
    "# Use fillna() with forward fill, intended for cancellation with prior history for each user\n",
    "# When a user cancels, he/she signed up at the first place\n",
    "df_transac.delta_days.fillna(method='ffill', inplace=True)\n",
    "\n",
    "# reset each user's first transaction to nan\n",
    "df_transac.loc[df_transac.index.isin(first_trans), 'delta_days'] = np.nan"
   ]
  },
  {
   "cell_type": "markdown",
   "metadata": {},
   "source": [
    "### Expiration date inconsistency\n",
    "When delta_days is negative, it means membership expiration date is not in a chronological order. It indicates poor data collection and there is no consistent way to fix it unless we know how data were recorded. We have no choice but to drop all transactions from users with no consitency in expiration date. (There is only 4459 records, and often multiple records per user)"
   ]
  },
  {
   "cell_type": "code",
   "execution_count": 27,
   "metadata": {
    "collapsed": true
   },
   "outputs": [],
   "source": [
    "# select users who have one or more negative estimated plan duration\n",
    "users2remove = set(df_transac.loc[(df_transac.delta_days <= 0), 'msno'].values)\n",
    "\n",
    "# remove users with inconsistency in expiration date\n",
    "df_transac = df_transac.loc[ ~df_transac.msno.isin(users2remove) ,:]"
   ]
  },
  {
   "cell_type": "markdown",
   "metadata": {},
   "source": [
    "### Missing payment plan days in Unique transactions\n",
    "When users have a unique transaction and payment plan days is missing (zero), it is tricky to find a replacement. We know transaction/expiration dates are not reliable without prior history and plan list price is zero.\n",
    "\n",
    "We could try to rely on actual paid price. However, non-missing payment plan days shows that actual amount paid occasionally varies for the same payment plan days. Even if we select the most common actual amount, it corresponds to multiple payment plan days.\n",
    "It will most likely add more noise than signal trying to fill missing values based on the most common of most common value."
   ]
  },
  {
   "cell_type": "code",
   "execution_count": 28,
   "metadata": {
    "collapsed": true
   },
   "outputs": [],
   "source": [
    "# number of transactions per user\n",
    "s_trans_num = df_group.size()\n",
    "\n",
    "# list of user's having just one transaction\n",
    "users_unq_trans = s_trans_num[s_trans_num == 1].index"
   ]
  },
  {
   "cell_type": "code",
   "execution_count": 29,
   "metadata": {
    "collapsed": true
   },
   "outputs": [],
   "source": [
    "# remove users with single transaction and missing payment plan days\n",
    "crit_single = (df_transac.msno.isin(users_unq_trans)) & (df_transac.payment_plan_days == 0)\n",
    "df_transac = df_transac.loc[ ~crit_single ,:]"
   ]
  },
  {
   "cell_type": "markdown",
   "metadata": {},
   "source": [
    "### Payment plan days missing value as first transaction\n",
    "At this point delta days has missing value only for the first transaction of each user."
   ]
  },
  {
   "cell_type": "code",
   "execution_count": 30,
   "metadata": {},
   "outputs": [
    {
     "data": {
      "text/plain": [
       "True"
      ]
     },
     "execution_count": 30,
     "metadata": {},
     "output_type": "execute_result"
    }
   ],
   "source": [
    "# verify only user's first transaction do not have a delta days estimate\n",
    "((df_transac.index.isin(first_trans)) == (df_transac.delta_days.isnull())).all()"
   ]
  },
  {
   "cell_type": "markdown",
   "metadata": {},
   "source": [
    "* We can backpropagate payment plan days as long as auto renew is true over two successive automatic renewal transactions. It means plan duration has not changed."
   ]
  },
  {
   "cell_type": "code",
   "execution_count": 31,
   "metadata": {
    "collapsed": true
   },
   "outputs": [],
   "source": [
    "# get indexes of user's first transaction with auto renew true\n",
    "crit_first_auto = (df_transac.index.isin(first_trans)) & (df_transac.is_auto_renew == True)\n",
    "first_trans_auto = df_transac[crit_first_auto].index"
   ]
  },
  {
   "cell_type": "code",
   "execution_count": 32,
   "metadata": {
    "collapsed": true
   },
   "outputs": [],
   "source": [
    "# indexes of user's second transaction knowing first transaction has auto renew true\n",
    "second_trans = [ i+1 for i in first_trans_auto]\n",
    "\n",
    "# index of second transaction with automatic renewal in addition to first transaction\n",
    "crit_second = (df_transac.index.isin(second_trans)) & (df_transac.is_auto_renew == True)\n",
    "second_trans_auto = df_transac[crit_second].index"
   ]
  },
  {
   "cell_type": "code",
   "execution_count": 33,
   "metadata": {
    "collapsed": true
   },
   "outputs": [],
   "source": [
    "# get user's first transaction indexes where both first and second transactions are true\n",
    "first_trans_valid = [ i-1 for i in second_trans_auto]\n",
    "\n",
    "# assign first transaction delta days to second transaction delta days\n",
    "df_transac.loc[ df_transac.index.isin(first_trans_valid), 'delta_days'] = \\\n",
    "                                        df_transac.loc[df_transac.index.isin(second_trans_auto), 'delta_days']"
   ]
  },
  {
   "cell_type": "markdown",
   "metadata": {},
   "source": [
    "* When both auto renew and cancellation are false, it means a user subscribed on his own agenda. Without prior history, we don't know if this is an independent transaction. Based on the existing data, it appears that transaction-expiration time difference does work for 90% of transactions given the same conditions. Because the last 10% has high error, we will simply disregard those transactions (~12k over 21M+ total). Also actual amount is not reliable."
   ]
  },
  {
   "cell_type": "code",
   "execution_count": 34,
   "metadata": {
    "collapsed": true
   },
   "outputs": [],
   "source": [
    "crit_inde = (df_transac.payment_plan_days == 0) & (df_transac.index.isin(first_trans)) & \\\n",
    "            (df_transac.is_auto_renew == False) & (df_transac.is_cancel == False)"
   ]
  },
  {
   "cell_type": "code",
   "execution_count": 35,
   "metadata": {},
   "outputs": [
    {
     "data": {
      "text/plain": [
       "12252"
      ]
     },
     "execution_count": 35,
     "metadata": {},
     "output_type": "execute_result"
    }
   ],
   "source": [
    "crit_inde.sum()"
   ]
  },
  {
   "cell_type": "code",
   "execution_count": 36,
   "metadata": {
    "collapsed": true
   },
   "outputs": [],
   "source": [
    "df_transac = df_transac[~crit_inde]"
   ]
  },
  {
   "cell_type": "markdown",
   "metadata": {},
   "source": [
    "* For all other scenarios, we only have actual amount as a hint. We already saw it wasn't reliable (see unique transactions). Thus we will disregard those (additional 82k transactions)."
   ]
  },
  {
   "cell_type": "code",
   "execution_count": 37,
   "metadata": {
    "collapsed": true
   },
   "outputs": [],
   "source": [
    "crit_cancel_auto = ((df_transac.payment_plan_days == 0) & df_transac.delta_days.isnull())"
   ]
  },
  {
   "cell_type": "code",
   "execution_count": 38,
   "metadata": {},
   "outputs": [
    {
     "data": {
      "text/plain": [
       "82563"
      ]
     },
     "execution_count": 38,
     "metadata": {},
     "output_type": "execute_result"
    }
   ],
   "source": [
    "crit_cancel_auto.sum()"
   ]
  },
  {
   "cell_type": "code",
   "execution_count": 39,
   "metadata": {
    "collapsed": true
   },
   "outputs": [],
   "source": [
    "df_transac = df_transac[~crit_cancel_auto]"
   ]
  },
  {
   "cell_type": "markdown",
   "metadata": {
    "collapsed": true
   },
   "source": [
    "Our estimated monthly plan duration is always between 28 and 32 days depending on the month. Therefore, we adjust our estimation to 30 days. The same operation can be done for payment plan days."
   ]
  },
  {
   "cell_type": "code",
   "execution_count": 40,
   "metadata": {
    "collapsed": true
   },
   "outputs": [],
   "source": [
    "crit_30_delta = (df_transac.delta_days >= 28) & (df_transac.delta_days <= 32)\n",
    "df_transac.loc[crit_30_delta, 'delta_days'] = 30"
   ]
  },
  {
   "cell_type": "code",
   "execution_count": 41,
   "metadata": {
    "collapsed": true
   },
   "outputs": [],
   "source": [
    "crit_30 = (df_transac.payment_plan_days >= 28) & (df_transac.payment_plan_days <= 32)\n",
    "df_transac.loc[crit_30, 'payment_plan_days'] = 30"
   ]
  },
  {
   "cell_type": "markdown",
   "metadata": {
    "collapsed": true
   },
   "source": [
    "#### Replace missing payment plan days!"
   ]
  },
  {
   "cell_type": "code",
   "execution_count": 42,
   "metadata": {
    "collapsed": true
   },
   "outputs": [],
   "source": [
    "crit_plan = df_transac.payment_plan_days == 0\n",
    "df_transac.loc[crit_plan, 'payment_plan_days'] = df_transac.loc[crit_plan, 'delta_days']"
   ]
  },
  {
   "cell_type": "code",
   "execution_count": 43,
   "metadata": {
    "collapsed": true
   },
   "outputs": [],
   "source": [
    "# drop delta days and prior expiration\n",
    "df_transac = df_transac.drop(['delta_days', 'prior_expiration'], axis = 1)"
   ]
  },
  {
   "cell_type": "markdown",
   "metadata": {},
   "source": [
    "As a result of filling missing values, we have a wider variety in payment plan days."
   ]
  },
  {
   "cell_type": "code",
   "execution_count": 44,
   "metadata": {},
   "outputs": [
    {
     "name": "stdout",
     "output_type": "stream",
     "text": [
      "Initial number of plan duration = 34       \n",
      "Number of plans duration after replacement = 104\n"
     ]
    }
   ],
   "source": [
    "num_of_plan_ini = df_transac.loc[~crit_plan, 'payment_plan_days'].value_counts().count()\n",
    "num_of_plan = df_transac.payment_plan_days.value_counts().count()\n",
    "print('Initial number of plan duration = {} \\\n",
    "      \\nNumber of plans duration after replacement = {}'.format(num_of_plan_ini, num_of_plan))"
   ]
  },
  {
   "cell_type": "markdown",
   "metadata": {},
   "source": [
    "Let's group plan duration by the following intervals in days:\n",
    "| 0 - 7 | 8 - 29 | 30 - 89 | 90 - 179 | 180 - 364  | 365 - 485 |\n",
    "\n",
    "Those intervals are based on the information available on KKBOX website. For instance, there is a 30 days and 90 days plan hence we make an interval between 30 and 89 days. The assumption is you can only have extra days in your subscription."
   ]
  },
  {
   "cell_type": "code",
   "execution_count": 45,
   "metadata": {},
   "outputs": [
    {
     "name": "stdout",
     "output_type": "stream",
     "text": [
      "Bin edges = [0, 8, 30, 90, 180, 365, 485]\n",
      "Associated labels = ['0 - 7', '8 - 29', '30 - 89', '90 - 179', '180 - 364', '365 - 485']\n"
     ]
    }
   ],
   "source": [
    "# create custom intervals (bin edges will be left inclusive) in increasing order\n",
    "days_plan = [0, 8, 30, 90, 180, 365, 485 ]\n",
    "\n",
    "# compile labels\n",
    "days_plan_upperbounds = [d-1 for d in days_plan[1:-1] ]\n",
    "days_plan_upperbounds.append(days_plan[-1])\n",
    "days_plan_labels = [ \"{} - {}\".format(l,u) for l,u in zip(days_plan[:-1], days_plan_upperbounds) ]\n",
    "\n",
    "print('Bin edges = {}'.format(days_plan))\n",
    "print('Associated labels = {}'.format(days_plan_labels))"
   ]
  },
  {
   "cell_type": "code",
   "execution_count": 46,
   "metadata": {
    "collapsed": true
   },
   "outputs": [],
   "source": [
    "# create new column with plan duration category\n",
    "df_transac['plan_duration'] = pd.cut(df_transac.payment_plan_days, days_plan, right=False, labels=days_plan_labels)"
   ]
  },
  {
   "cell_type": "code",
   "execution_count": 47,
   "metadata": {},
   "outputs": [
    {
     "data": {
      "image/png": "[encoded data removed]",
      "text/plain": [
       "<matplotlib.figure.Figure at 0x2547ed7e6a0>"
      ]
     },
     "metadata": {},
     "output_type": "display_data"
    }
   ],
   "source": [
    "plot_bar(df_transac, ['plan_duration'])"
   ]
  },
  {
   "cell_type": "markdown",
   "metadata": {},
   "source": [
    "### Auto-renew and active cancellation\n",
    "Most people who have auto renewal active also don't cancel actively. It is consistent with the fact that most customers don't churn."
   ]
  },
  {
   "cell_type": "code",
   "execution_count": 48,
   "metadata": {},
   "outputs": [
    {
     "data": {
      "image/png": "[encoded data removed]",
      "text/plain": [
       "<matplotlib.figure.Figure at 0x2541f77b4a8>"
      ]
     },
     "metadata": {},
     "output_type": "display_data"
    }
   ],
   "source": [
    "plot_bar(df_transac, ['is_auto_renew' , 'is_cancel'])"
   ]
  },
  {
   "cell_type": "code",
   "execution_count": 49,
   "metadata": {},
   "outputs": [
    {
     "name": "stdout",
     "output_type": "stream",
     "text": [
      "Percentage of active cancellation while auto renew activated = 4.61%\n"
     ]
    }
   ],
   "source": [
    "# number of active cancellation with automatic renewal enabled\n",
    "count_cancel_auto = df_transac.loc[df_transac.is_auto_renew == True, 'is_cancel'].sum()\n",
    "count_auto = (df_transac.is_auto_renew == True).sum()\n",
    "print('Percentage of active cancellation while auto renew activated = {:.2f}%'.format(count_cancel_auto / count_auto *100))"
   ]
  },
  {
   "cell_type": "markdown",
   "metadata": {},
   "source": [
    "### Plan list price\n",
    "90% of list price are below 150. There are 0 list price which indicates missing values.<br>\n",
    "Top 3 most freqent list price are 99, 129 and 149."
   ]
  },
  {
   "cell_type": "code",
   "execution_count": 50,
   "metadata": {},
   "outputs": [
    {
     "data": {
      "image/png": "[encoded data removed]",
      "text/plain": [
       "<matplotlib.figure.Figure at 0x25425da5ac8>"
      ]
     },
     "metadata": {},
     "output_type": "display_data"
    }
   ],
   "source": [
    "figpllist , axpllist = plt.subplots()\n",
    "pl_x = df_transac.plan_list_price.sort_values().values\n",
    "pl_y = np.arange(1, len(pl_x)+1) / len(pl_x)\n",
    "axpllist.plot(pl_x, pl_y, '.')\n",
    "axpllist.set_xlabel('List Price')\n",
    "axpllist.set_ylabel('ECDF')\n",
    "\n",
    "# save figure to file as png\n",
    "figpllist.savefig(os.path.join(os.pardir, 'reports', 'figures', 'Plan_list_price_ecdf.png'))"
   ]
  },
  {
   "cell_type": "markdown",
   "metadata": {},
   "source": [
    "Let's see if we can replace those missing values. Note we won't find a list price replacement for new estimated payment plan days so we should use our plan duration intervals."
   ]
  },
  {
   "cell_type": "code",
   "execution_count": 51,
   "metadata": {
    "collapsed": true
   },
   "outputs": [],
   "source": [
    "# select transactions with no missing list price and group by plan duration then list price\n",
    "df_plan_grouped = \\\n",
    "        df_transac[df_transac.plan_list_price != 0].groupby(['plan_duration', 'plan_list_price'])"
   ]
  },
  {
   "cell_type": "code",
   "execution_count": 52,
   "metadata": {
    "collapsed": true
   },
   "outputs": [],
   "source": [
    "# frequency count of plan duration-list price combination\n",
    "s_listprice_rpl = df_plan_grouped.msno.count()\n",
    "# s_listprice_rpl.head(50)"
   ]
  },
  {
   "cell_type": "markdown",
   "metadata": {},
   "source": [
    "There are multiple list price for the same plan duration! I would think there should be a unique list price for each plan. This is not the case even if we look at the same data per payment plan days and per calendar year. <br>\n",
    "Thus we will pick the most frequently occurring plan duration and list price combination."
   ]
  },
  {
   "cell_type": "code",
   "execution_count": 53,
   "metadata": {
    "collapsed": true
   },
   "outputs": [],
   "source": [
    "# move plan_duration from index to column and regroup by keeping the most frequent list price\n",
    "s_listprice_rpl = s_listprice_rpl.reset_index(level = 0).groupby('plan_duration').msno.nlargest(n=1)"
   ]
  },
  {
   "cell_type": "code",
   "execution_count": 54,
   "metadata": {
    "collapsed": true
   },
   "outputs": [],
   "source": [
    "# move list price from index to column\n",
    "s_listprice_rpl = s_listprice_rpl.reset_index(level = 1)"
   ]
  },
  {
   "cell_type": "code",
   "execution_count": 55,
   "metadata": {
    "collapsed": true
   },
   "outputs": [],
   "source": [
    "# remove count column (msno here)\n",
    "s_listprice_rpl.drop('msno', axis = 1, inplace = True)"
   ]
  },
  {
   "cell_type": "code",
   "execution_count": 56,
   "metadata": {},
   "outputs": [
    {
     "data": {
      "text/html": [
       "<div>\n",
       "<style scoped>\n",
       "    .dataframe tbody tr th:only-of-type {\n",
       "        vertical-align: middle;\n",
       "    }\n",
       "\n",
       "    .dataframe tbody tr th {\n",
       "        vertical-align: top;\n",
       "    }\n",
       "\n",
       "    .dataframe thead th {\n",
       "        text-align: right;\n",
       "    }\n",
       "</style>\n",
       "<table border=\"1\" class=\"dataframe\">\n",
       "  <thead>\n",
       "    <tr style=\"text-align: right;\">\n",
       "      <th></th>\n",
       "      <th>plan_list_price</th>\n",
       "    </tr>\n",
       "    <tr>\n",
       "      <th>plan_duration</th>\n",
       "      <th></th>\n",
       "    </tr>\n",
       "  </thead>\n",
       "  <tbody>\n",
       "    <tr>\n",
       "      <th>0 - 7</th>\n",
       "      <td>35</td>\n",
       "    </tr>\n",
       "    <tr>\n",
       "      <th>8 - 29</th>\n",
       "      <td>50</td>\n",
       "    </tr>\n",
       "    <tr>\n",
       "      <th>30 - 89</th>\n",
       "      <td>149</td>\n",
       "    </tr>\n",
       "    <tr>\n",
       "      <th>90 - 179</th>\n",
       "      <td>480</td>\n",
       "    </tr>\n",
       "    <tr>\n",
       "      <th>180 - 364</th>\n",
       "      <td>894</td>\n",
       "    </tr>\n",
       "    <tr>\n",
       "      <th>365 - 485</th>\n",
       "      <td>1788</td>\n",
       "    </tr>\n",
       "  </tbody>\n",
       "</table>\n",
       "</div>"
      ],
      "text/plain": [
       "               plan_list_price\n",
       "plan_duration                 \n",
       "0 - 7                       35\n",
       "8 - 29                      50\n",
       "30 - 89                    149\n",
       "90 - 179                   480\n",
       "180 - 364                  894\n",
       "365 - 485                 1788"
      ]
     },
     "execution_count": 56,
     "metadata": {},
     "output_type": "execute_result"
    }
   ],
   "source": [
    "s_listprice_rpl\n",
    "# s_listprice_rpl.to_clipboard()"
   ]
  },
  {
   "cell_type": "markdown",
   "metadata": {},
   "source": [
    "Substitute zero list price with our mapping."
   ]
  },
  {
   "cell_type": "code",
   "execution_count": 57,
   "metadata": {
    "collapsed": true
   },
   "outputs": [],
   "source": [
    "df_transac.loc[df_transac.plan_list_price == 0, 'plan_list_price'] = \\\n",
    "                    df_transac.loc[df_transac.plan_list_price == 0, 'plan_duration'].map(s_listprice_rpl.plan_list_price)"
   ]
  },
  {
   "cell_type": "markdown",
   "metadata": {},
   "source": [
    "### Subscription cost per subscription length\n",
    "How do subscription length scale with list price ? <br>\n",
    "One can observe the list price going up with subscription length globally. However, there are overlaps in list price between plan duration except for long term plans (> 365 days) which are clearly the most expensive."
   ]
  },
  {
   "cell_type": "markdown",
   "metadata": {},
   "source": [
    "Create bar plot for each auto renew state (True or False). Does not include cancellation transactions as it would be redundant."
   ]
  },
  {
   "cell_type": "code",
   "execution_count": 58,
   "metadata": {},
   "outputs": [
    {
     "data": {
      "image/png": "[encoded data removed]",
      "text/plain": [
       "<matplotlib.figure.Figure at 0x2541caa6400>"
      ]
     },
     "metadata": {},
     "output_type": "display_data"
    }
   ],
   "source": [
    "# prepare axis\n",
    "figCostDays , axCostDays = plt.subplots(2, 1, \\\n",
    "                              figsize=(8, 8), \\\n",
    "                              gridspec_kw=dict(height_ratios=[1, 3]))\n",
    "\n",
    "# pivot on relevant columns, values can be anything as we are just counting here\n",
    "df_plan = df_transac[df_transac.is_cancel == False].pivot_table(index = 'plan_duration', columns = 'is_auto_renew',\\\n",
    "                                 values = 'plan_list_price', aggfunc = 'count', fill_value = 0)\n",
    "\n",
    "# normalize each column by counts\n",
    "df_plan = df_plan.divide(df_plan.sum()) * 100\n",
    "\n",
    "# make a bar plot for each auto renew state\n",
    "df_plan.plot(kind = 'bar', ax = axCostDays[0])\n",
    "\n",
    "# change tick orientation and add labels\n",
    "axCostDays[0].tick_params(axis = 'x', rotation = 0)\n",
    "axCostDays[0].set_ylabel('Percent (%)')\n",
    "axCostDays[0].set_xlabel('plan_duration')\n",
    "\n",
    "\n",
    "# use seaborn to add plan list price as another dimension\n",
    "sns.stripplot(x=\"plan_duration\", y=\"plan_list_price\", hue = 'is_auto_renew',\\\n",
    "              dodge = True, jitter = True, alpha = 0.25,\\\n",
    "              data=df_transac, ax = axCostDays[1])\n",
    "# sns.swarmplot(x=\"plan_duration\", y=\"plan_list_price\", hue = 'is_auto_renew',\\\n",
    "#               dodge = True, alpha = 0.25,\\\n",
    "#               data=df_transac, ax = axCostDays[1])\n",
    "\n",
    "plt.tight_layout()\n",
    "\n",
    "# save figure to file as png\n",
    "figCostDays.savefig(os.path.join(os.pardir, 'reports', 'figures', 'List_Price_Duration.png'))"
   ]
  },
  {
   "cell_type": "markdown",
   "metadata": {},
   "source": [
    "The Empirical cumulative distribution function (ECDF) can give us another view when there are too many points to plot."
   ]
  },
  {
   "cell_type": "code",
   "execution_count": 59,
   "metadata": {},
   "outputs": [
    {
     "data": {
      "image/png": "[encoded data removed]",
      "text/plain": [
       "<matplotlib.figure.Figure at 0x2541caa62e8>"
      ]
     },
     "metadata": {},
     "output_type": "display_data"
    }
   ],
   "source": [
    "_ , axEcdf = plt.subplots(1, 2, figsize=(9, 6), gridspec_kw=dict(width_ratios=[3, 1]))\n",
    "\n",
    "for i in range(2):\n",
    "    # sort your data and plot it versus its percentage increment\n",
    "    for pl in days_plan_labels:\n",
    "        filt_pl = (df_transac.is_auto_renew == i ) & (df_transac.plan_duration == pl) & df_transac.is_cancel == False\n",
    "        pl_x = df_transac.loc[filt_pl, 'plan_list_price'].sort_values().values\n",
    "        pl_y = np.arange(1, len(pl_x)+1) / len(pl_x)\n",
    "        axEcdf[i].plot(pl_x, pl_y, '.')\n",
    "        axEcdf[i].set_xlabel('Plan List Price (auto_renew = ' + str(bool(i)) + ')'  )\n",
    "        axEcdf[i].set_ylabel('ECDF')\n",
    "    axEcdf[i].legend(days_plan_labels)"
   ]
  },
  {
   "cell_type": "markdown",
   "metadata": {
    "collapsed": true
   },
   "source": [
    "### List price vs paid price\n",
    "Here we would like to know the difference in price between list price and actual amount paid."
   ]
  },
  {
   "cell_type": "code",
   "execution_count": 60,
   "metadata": {
    "collapsed": true
   },
   "outputs": [],
   "source": [
    "# percent difference between plan price and price actually paid\n",
    "df_discount_percent = 1 - (df_transac.actual_amount_paid/df_transac.plan_list_price)"
   ]
  },
  {
   "cell_type": "markdown",
   "metadata": {},
   "source": [
    "It appears that an overwhelming majority of transcations do not have any discount (more than 92%) and some transaction were at no charge. Note that some percentage discount are negative which should not happen as one cannot pay more than the list price. <br>\n",
    "Let's adjust the actual amount paid to match its corresponding list price in those cases."
   ]
  },
  {
   "cell_type": "code",
   "execution_count": 61,
   "metadata": {},
   "outputs": [
    {
     "data": {
      "image/png": "[encoded data removed]",
      "text/plain": [
       "<matplotlib.figure.Figure at 0x25424b66c18>"
      ]
     },
     "metadata": {},
     "output_type": "display_data"
    }
   ],
   "source": [
    "# plot histogram of discounts\n",
    "_ , axDiscount = plt.subplots()\n",
    "\n",
    "# plot histogram, bin by 10% intervals\n",
    "_ = df_discount_percent[df_transac.is_cancel == False].plot(kind = 'hist', range = (-1,1), bins = 20, \\\n",
    "                                                              ax = axDiscount, density = True)\n",
    "\n",
    "_ = axDiscount.set_xlabel('Discount fraction')\n",
    "# Note: bin width is 0.1 thus normalization multiplies by 10 (divided by 0.1, see hist documentation).\n",
    "# It means 100% corresponds to 10 on the y scale."
   ]
  },
  {
   "cell_type": "markdown",
   "metadata": {},
   "source": [
    "Same data using Empirical Cumulative Distribution function"
   ]
  },
  {
   "cell_type": "code",
   "execution_count": 62,
   "metadata": {},
   "outputs": [
    {
     "data": {
      "text/plain": [
       "Text(0,0.5,'ECDF')"
      ]
     },
     "execution_count": 62,
     "metadata": {},
     "output_type": "execute_result"
    },
    {
     "data": {
      "image/png": "[encoded data removed]",
      "text/plain": [
       "<matplotlib.figure.Figure at 0x254b4da5940>"
      ]
     },
     "metadata": {},
     "output_type": "display_data"
    }
   ],
   "source": [
    "_ , axdisc = plt.subplots()\n",
    "pl_x = df_discount_percent[df_transac.is_cancel == False].sort_values().values\n",
    "pl_y = np.arange(1, len(pl_x)+1) / len(pl_x)\n",
    "axdisc.plot(pl_x, pl_y, '.')\n",
    "axdisc.set_xlabel('Discount Percentage')\n",
    "axdisc.set_ylabel('ECDF')"
   ]
  },
  {
   "cell_type": "code",
   "execution_count": 63,
   "metadata": {
    "collapsed": true
   },
   "outputs": [],
   "source": [
    "# adjust actual amount paid where discount is negative\n",
    "df_transac.loc[df_discount_percent < 0, 'actual_amount_paid'] = \\\n",
    "                                        df_transac.loc[df_discount_percent < 0, 'plan_list_price']"
   ]
  },
  {
   "cell_type": "markdown",
   "metadata": {},
   "source": [
    "Calculate discount again and generate new plot"
   ]
  },
  {
   "cell_type": "code",
   "execution_count": 64,
   "metadata": {},
   "outputs": [
    {
     "data": {
      "image/png": "[encoded data removed]",
      "text/plain": [
       "<matplotlib.figure.Figure at 0x254c13590f0>"
      ]
     },
     "metadata": {},
     "output_type": "display_data"
    }
   ],
   "source": [
    "# percent difference between plan price and price actually paid\n",
    "df_discount_percent = 1 - (df_transac.actual_amount_paid/df_transac.plan_list_price)\n",
    "\n",
    "figdisc2 , axdisc2 = plt.subplots()\n",
    "pl_x = df_discount_percent[df_transac.is_cancel == False].sort_values().values\n",
    "pl_y = np.arange(1, len(pl_x)+1) / len(pl_x)\n",
    "axdisc2.plot(pl_x, pl_y, '.')\n",
    "axdisc2.set_xlabel('Discount Percentage')\n",
    "axdisc2.set_ylabel('ECDF')\n",
    "\n",
    "# save figure to file as png\n",
    "figdisc2.savefig(os.path.join(os.pardir, 'reports', 'figures', 'ListPrice_vs_actualAmount.png'))"
   ]
  },
  {
   "cell_type": "code",
   "execution_count": 69,
   "metadata": {},
   "outputs": [],
   "source": [
    "transaction_inter_dir = os.path.join(os.pardir, 'data', 'interim', 'transactions_clean.csv')\n",
    "df_transac.to_csv(transaction_inter_dir, index = False)"
   ]
  },
  {
   "cell_type": "code",
   "execution_count": null,
   "metadata": {
    "collapsed": true
   },
   "outputs": [],
   "source": []
  }
 ],
 "metadata": {
  "kernelspec": {
   "display_name": "kkbox_churn_kernel",
   "language": "python",
   "name": "kkbox_churn"
  },
  "language_info": {
   "codemirror_mode": {
    "name": "ipython",
    "version": 3
   },
   "file_extension": ".py",
   "mimetype": "text/x-python",
   "name": "python",
   "nbconvert_exporter": "python",
   "pygments_lexer": "ipython3",
   "version": "3.6.4"
  }
 },
 "nbformat": 4,
 "nbformat_minor": 2
}
