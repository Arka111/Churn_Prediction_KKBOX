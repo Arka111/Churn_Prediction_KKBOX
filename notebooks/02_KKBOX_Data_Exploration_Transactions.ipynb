{
 "cells": [
  {
   "cell_type": "markdown",
   "metadata": {},
   "source": [
    "# Imports"
   ]
  },
  {
   "cell_type": "code",
   "execution_count": 1,
   "metadata": {},
   "outputs": [],
   "source": [
    "import os\n",
    "import pandas as pd\n",
    "import numpy as np\n",
    "import time\n",
    "import seaborn as sns\n",
    "import matplotlib.pyplot as plt\n",
    "\n",
    "# keep matplotlib interactive (notebook) or not (inline)\n",
    "# NOTE: one must reload matplotlib to change of rendering style\n",
    "# %matplotlib notebook\n",
    "%matplotlib inline\n",
    "# use ggplot style\n",
    "plt.style.use('ggplot')"
   ]
  },
  {
   "cell_type": "markdown",
   "metadata": {},
   "source": [
    "# Data Description\n",
    "Description of transactions"
   ]
  },
  {
   "cell_type": "markdown",
   "metadata": {},
   "source": [
    "                                                \n",
    "\n",
    "|                                       transactions.csv                                        |\n",
    "|-----------------------------------------------------------------------------------------------|\n",
    "| msno                   | user id  (letters, digits and special characters)                    |\n",
    "| payment_method_id      | payment method   (masked)                                            |\n",
    "| payment_plan_days      | length of membership plan in days                                    |\n",
    "| plan_list_price        | in New Taiwan Dollar (NTD)                                           |\n",
    "| actual_amount_paid     | in New Taiwan Dollar (NTD)                                           |\n",
    "| is_auto_renew          | true when customer opted in renewing its subscription automatically  |\n",
    "| transaction_date       | format %Y%m%d                                                        |\n",
    "| membership_expire_date | format %Y%m%d                                                        |\n",
    "| is_cancel              | whether or not the user canceled the membership in this transaction. |\n",
    "\n"
   ]
  },
  {
   "cell_type": "markdown",
   "metadata": {},
   "source": [
    "### Transactions"
   ]
  },
  {
   "cell_type": "code",
   "execution_count": 2,
   "metadata": {},
   "outputs": [],
   "source": [
    "transaction_dir = os.path.join(os.pardir, 'data', 'raw', 'transactions.csv')\n",
    "df_transac = pd.read_csv(transaction_dir, parse_dates=['transaction_date', 'membership_expire_date'])"
   ]
  },
  {
   "cell_type": "code",
   "execution_count": 3,
   "metadata": {},
   "outputs": [
    {
     "data": {
      "text/plain": [
       "(21547746, 9)"
      ]
     },
     "execution_count": 3,
     "metadata": {},
     "output_type": "execute_result"
    }
   ],
   "source": [
    "df_transac.shape"
   ]
  },
  {
   "cell_type": "code",
   "execution_count": 4,
   "metadata": {},
   "outputs": [
    {
     "data": {
      "text/html": [
       "<div>\n",
       "<style scoped>\n",
       "    .dataframe tbody tr th:only-of-type {\n",
       "        vertical-align: middle;\n",
       "    }\n",
       "\n",
       "    .dataframe tbody tr th {\n",
       "        vertical-align: top;\n",
       "    }\n",
       "\n",
       "    .dataframe thead th {\n",
       "        text-align: right;\n",
       "    }\n",
       "</style>\n",
       "<table border=\"1\" class=\"dataframe\">\n",
       "  <thead>\n",
       "    <tr style=\"text-align: right;\">\n",
       "      <th></th>\n",
       "      <th>msno</th>\n",
       "      <th>payment_method_id</th>\n",
       "      <th>payment_plan_days</th>\n",
       "      <th>plan_list_price</th>\n",
       "      <th>actual_amount_paid</th>\n",
       "      <th>is_auto_renew</th>\n",
       "      <th>transaction_date</th>\n",
       "      <th>membership_expire_date</th>\n",
       "      <th>is_cancel</th>\n",
       "    </tr>\n",
       "  </thead>\n",
       "  <tbody>\n",
       "    <tr>\n",
       "      <th>0</th>\n",
       "      <td>YyO+tlZtAXYXoZhNr3Vg3+dfVQvrBVGO8j1mfqe4ZHc=</td>\n",
       "      <td>41</td>\n",
       "      <td>30</td>\n",
       "      <td>129</td>\n",
       "      <td>129</td>\n",
       "      <td>1</td>\n",
       "      <td>2015-09-30</td>\n",
       "      <td>2015-11-01</td>\n",
       "      <td>0</td>\n",
       "    </tr>\n",
       "    <tr>\n",
       "      <th>1</th>\n",
       "      <td>AZtu6Wl0gPojrEQYB8Q3vBSmE2wnZ3hi1FbK1rQQ0A4=</td>\n",
       "      <td>41</td>\n",
       "      <td>30</td>\n",
       "      <td>149</td>\n",
       "      <td>149</td>\n",
       "      <td>1</td>\n",
       "      <td>2015-09-30</td>\n",
       "      <td>2015-10-31</td>\n",
       "      <td>0</td>\n",
       "    </tr>\n",
       "    <tr>\n",
       "      <th>2</th>\n",
       "      <td>UkDFI97Qb6+s2LWcijVVv4rMAsORbVDT2wNXF0aVbns=</td>\n",
       "      <td>41</td>\n",
       "      <td>30</td>\n",
       "      <td>129</td>\n",
       "      <td>129</td>\n",
       "      <td>1</td>\n",
       "      <td>2015-09-30</td>\n",
       "      <td>2016-04-27</td>\n",
       "      <td>0</td>\n",
       "    </tr>\n",
       "    <tr>\n",
       "      <th>3</th>\n",
       "      <td>M1C56ijxozNaGD0t2h68PnH2xtx5iO5iR2MVYQB6nBI=</td>\n",
       "      <td>39</td>\n",
       "      <td>30</td>\n",
       "      <td>149</td>\n",
       "      <td>149</td>\n",
       "      <td>1</td>\n",
       "      <td>2015-09-30</td>\n",
       "      <td>2015-11-28</td>\n",
       "      <td>0</td>\n",
       "    </tr>\n",
       "    <tr>\n",
       "      <th>4</th>\n",
       "      <td>yvj6zyBUaqdbUQSrKsrZ+xNDVM62knauSZJzakS9OW4=</td>\n",
       "      <td>39</td>\n",
       "      <td>30</td>\n",
       "      <td>149</td>\n",
       "      <td>149</td>\n",
       "      <td>1</td>\n",
       "      <td>2015-09-30</td>\n",
       "      <td>2015-11-21</td>\n",
       "      <td>0</td>\n",
       "    </tr>\n",
       "  </tbody>\n",
       "</table>\n",
       "</div>"
      ],
      "text/plain": [
       "                                           msno  payment_method_id  \\\n",
       "0  YyO+tlZtAXYXoZhNr3Vg3+dfVQvrBVGO8j1mfqe4ZHc=                 41   \n",
       "1  AZtu6Wl0gPojrEQYB8Q3vBSmE2wnZ3hi1FbK1rQQ0A4=                 41   \n",
       "2  UkDFI97Qb6+s2LWcijVVv4rMAsORbVDT2wNXF0aVbns=                 41   \n",
       "3  M1C56ijxozNaGD0t2h68PnH2xtx5iO5iR2MVYQB6nBI=                 39   \n",
       "4  yvj6zyBUaqdbUQSrKsrZ+xNDVM62knauSZJzakS9OW4=                 39   \n",
       "\n",
       "   payment_plan_days  plan_list_price  actual_amount_paid  is_auto_renew  \\\n",
       "0                 30              129                 129              1   \n",
       "1                 30              149                 149              1   \n",
       "2                 30              129                 129              1   \n",
       "3                 30              149                 149              1   \n",
       "4                 30              149                 149              1   \n",
       "\n",
       "  transaction_date membership_expire_date  is_cancel  \n",
       "0       2015-09-30             2015-11-01          0  \n",
       "1       2015-09-30             2015-10-31          0  \n",
       "2       2015-09-30             2016-04-27          0  \n",
       "3       2015-09-30             2015-11-28          0  \n",
       "4       2015-09-30             2015-11-21          0  "
      ]
     },
     "execution_count": 4,
     "metadata": {},
     "output_type": "execute_result"
    }
   ],
   "source": [
    "df_transac.head()"
   ]
  },
  {
   "cell_type": "code",
   "execution_count": 5,
   "metadata": {},
   "outputs": [],
   "source": [
    "# treat payment_method_id as a category\n",
    "df_transac.payment_method_id = df_transac.payment_method_id.astype('category')\n",
    "\n",
    "# same for user\n",
    "df_transac.msno = df_transac.msno.astype('category')\n",
    "\n",
    "# convert relevant columns to boolean\n",
    "df_transac.is_auto_renew = df_transac.is_auto_renew.astype(bool)\n",
    "df_transac.is_cancel = df_transac.is_cancel.astype(bool)"
   ]
  },
  {
   "cell_type": "code",
   "execution_count": 6,
   "metadata": {
    "scrolled": false
   },
   "outputs": [
    {
     "name": "stdout",
     "output_type": "stream",
     "text": [
      "<class 'pandas.core.frame.DataFrame'>\n",
      "RangeIndex: 21547746 entries, 0 to 21547745\n",
      "Data columns (total 9 columns):\n",
      "msno                      category\n",
      "payment_method_id         category\n",
      "payment_plan_days         int64\n",
      "plan_list_price           int64\n",
      "actual_amount_paid        int64\n",
      "is_auto_renew             bool\n",
      "transaction_date          datetime64[ns]\n",
      "membership_expire_date    datetime64[ns]\n",
      "is_cancel                 bool\n",
      "dtypes: bool(2), category(2), datetime64[ns](2), int64(3)\n",
      "memory usage: 1.0 GB\n"
     ]
    }
   ],
   "source": [
    "df_transac.info()"
   ]
  },
  {
   "cell_type": "code",
   "execution_count": 7,
   "metadata": {},
   "outputs": [],
   "source": [
    "def plot_bar(df, bar_list, is_Norm=True):\n",
    "    \"\"\"\n",
    "        Make a bar plot using dataframe df and associated columns in bar_list\n",
    "        is_Norm will normalize distribution by counts\n",
    "        df: pandas DataFrame\n",
    "        bar_list: list of column names\n",
    "    \"\"\"\n",
    "    # keep 2 columns and compute number of rows needed in subpots\n",
    "    subrows = int(np.ceil(len(bar_list) / 2))\n",
    "    discard_last_ax = bool(len(bar_list) % 2)\n",
    "    \n",
    "    # special case when there is only one column specified\n",
    "    # then keep one figure and make it bigger\n",
    "    if subrows == 1 and discard_last_ax:\n",
    "        _ , ax = plt.subplots(figsize=(9,5))\n",
    "        ax = [ax]\n",
    "    else:\n",
    "        _ , ax = plt.subplots(subrows, 2)\n",
    "        ax = ax.flatten()\n",
    "    for k, colname in enumerate(bar_list):\n",
    "        \n",
    "        # select column and make bar plot\n",
    "        s_colname = df[colname]\n",
    "        distrib = s_colname.value_counts(normalize = is_Norm).sort_index()*100\n",
    "        distrib.plot(kind='bar', ax=ax[k], color='b')\n",
    "        \n",
    "        # add percent character to y tick label if plot normalized\n",
    "        if is_Norm:\n",
    "            # add percent on y axis labels, uses numerical value of each tick (just in case scale has changed)\n",
    "#             ax[k].set_yticklabels([ '{:.0f}%'.format(l)  for l in ax[k].get_yticks()])\n",
    "            pass\n",
    "        else:\n",
    "            ax[k].set_ylabel('Count')\n",
    "                \n",
    "        # reformat existing x ticklabels to integer (may not be required)\n",
    "        # When numeric columns have Nans then it will show float number\n",
    "        # ax[k].set_xticklabels([ '{:.0f}'.format(float(l.get_text()))  for l in ax[k].get_xticklabels()])\n",
    "        \n",
    "        # add title\n",
    "        ax[k].set_title(distrib.name + ' Distribution')\n",
    "        \n",
    "        # reset x axis label to 45 rotation\n",
    "        ax[k].tick_params(axis = 'x', rotation = 45)\n",
    "        \n",
    "        # add x axis label\n",
    "        ax[k].set_xlabel(distrib.name)\n",
    "        \n",
    "    # decide to keep last axes\n",
    "    if discard_last_ax and subrows > 1: ax[-1].set_visible(False)\n",
    "    plt.tight_layout()\n",
    "    \n",
    "    # save figure to file as png\n",
    "    plt.savefig(os.path.join(os.pardir, 'reports', 'figures', distrib.name +'.png'))"
   ]
  },
  {
   "cell_type": "markdown",
   "metadata": {},
   "source": [
    "### Payment ID method\n",
    "Payment ID 41 represents more than 50% of transactions"
   ]
  },
  {
   "cell_type": "code",
   "execution_count": 8,
   "metadata": {
    "scrolled": false
   },
   "outputs": [
    {
     "data": {
      "image/png": "[encoded data removed]",
      "text/plain": [
       "<matplotlib.figure.Figure at 0x2110636d240>"
      ]
     },
     "metadata": {},
     "output_type": "display_data"
    }
   ],
   "source": [
    "plot_bar(df_transac, ['payment_method_id'])"
   ]
  },
  {
   "cell_type": "markdown",
   "metadata": {},
   "source": [
    "Here we will only remember if payment ID is 41 or not as it is the most important payment method."
   ]
  },
  {
   "cell_type": "code",
   "execution_count": 9,
   "metadata": {},
   "outputs": [],
   "source": [
    "# create new payment column\n",
    "df_transac['is_payid_41'] = df_transac.payment_method_id == 41"
   ]
  },
  {
   "cell_type": "code",
   "execution_count": 10,
   "metadata": {},
   "outputs": [],
   "source": [
    "# remove payment method column\n",
    "df_transac = df_transac.drop('payment_method_id', axis = 1)"
   ]
  },
  {
   "cell_type": "code",
   "execution_count": 11,
   "metadata": {},
   "outputs": [
    {
     "data": {
      "image/png": "[encoded data removed]",
      "text/plain": [
       "<matplotlib.figure.Figure at 0x2115e9cbcf8>"
      ]
     },
     "metadata": {},
     "output_type": "display_data"
    }
   ],
   "source": [
    "# show new column results\n",
    "plot_bar(df_transac, ['is_payid_41'])"
   ]
  },
  {
   "cell_type": "markdown",
   "metadata": {},
   "source": [
    "### Payment Plan in days\n",
    "There is a lot more variety in subscriptions than expected\n",
    "from [KKBOX website](https://help.kkbox.com/hk/zh-tw/billing/pay-types/260), here are the options:\n",
    "1. Options are monthly plan (30/31 days) with automatic renewal (is_auto_renew true) \n",
    "2. Single purchase, no automatic renewal but more expensive:\n",
    "    3. 30 days\n",
    "    4. 90 days (plus 7 days bonus?)\n",
    "    5. 180 days (plus 21 days bonus?)\n",
    "    6. 365 days (plus 50 days bonus?)\n",
    "There are discount programs too (getting a credit card with their partners and so on)"
   ]
  },
  {
   "cell_type": "code",
   "execution_count": 12,
   "metadata": {},
   "outputs": [
    {
     "data": {
      "image/png": "[encoded data removed]",
      "text/plain": [
       "<matplotlib.figure.Figure at 0x211cca497b8>"
      ]
     },
     "metadata": {},
     "output_type": "display_data"
    }
   ],
   "source": [
    "plot_bar(df_transac, ['payment_plan_days'], is_Norm=True)"
   ]
  },
  {
   "cell_type": "markdown",
   "metadata": {},
   "source": [
    "### A closer look at 0 day plans"
   ]
  },
  {
   "cell_type": "markdown",
   "metadata": {},
   "source": [
    "Records of 0 day plans also have a list price of 0. All other columns appears to contain legitimate information.\n",
    "\n",
    "Note that most 0 day plans occur in 2015 except for 3 in 2016 and 1 in 2017."
   ]
  },
  {
   "cell_type": "code",
   "execution_count": 13,
   "metadata": {},
   "outputs": [],
   "source": [
    "# set 0 day plans to Nan\n",
    "df_transac.loc[df_transac.payment_plan_days == 0, 'payment_plan_days'] = np.nan"
   ]
  },
  {
   "cell_type": "code",
   "execution_count": 14,
   "metadata": {},
   "outputs": [],
   "source": [
    "# select rows where payment plan days are zero\n",
    "df_zero_day = df_transac[df_transac.payment_plan_days.isnull()]"
   ]
  },
  {
   "cell_type": "code",
   "execution_count": 15,
   "metadata": {},
   "outputs": [
    {
     "name": "stdout",
     "output_type": "stream",
     "text": [
      "4.04% of total transactions\n"
     ]
    }
   ],
   "source": [
    "# number of missing value is small\n",
    "print( '{:.2f}% of total transactions'.format(df_zero_day.shape[0]/df_transac.shape[0] * 100))"
   ]
  },
  {
   "cell_type": "code",
   "execution_count": 16,
   "metadata": {},
   "outputs": [
    {
     "data": {
      "text/plain": [
       "0"
      ]
     },
     "execution_count": 16,
     "metadata": {},
     "output_type": "execute_result"
    }
   ],
   "source": [
    "# show that list prices are also zero\n",
    "df_zero_day.plan_list_price.sum()"
   ]
  },
  {
   "cell_type": "markdown",
   "metadata": {},
   "source": [
    "### Substitution of 0-day payment plan\n",
    "* Looking at the time elapsed between two consecutives expiration date is the best way to determine payment plan days. However, current transaction date must be anterior to previous expiration date meaning user always renewed before the expiration date.\n",
    "\n",
    "* When there is no overlap between successive transaction and expiration dates, then we can estimate using the difference in days between current transaction and its associated expiration date.\n",
    "\n",
    "* For active cancellation, transaction/expiration dates are not relevant, we can propagate forward last known plan duration."
   ]
  },
  {
   "cell_type": "code",
   "execution_count": 17,
   "metadata": {},
   "outputs": [],
   "source": [
    "# sort dataframe by msno, transaction date then expiration date\n",
    "df_transac.sort_values(['msno', 'transaction_date', 'membership_expire_date'], inplace=True)"
   ]
  },
  {
   "cell_type": "code",
   "execution_count": 18,
   "metadata": {},
   "outputs": [],
   "source": [
    "# create new column showing preceding expiration date for each user\n",
    "df_transac['prior_expiration'] = df_transac.groupby('msno', sort = False).membership_expire_date.shift(periods = 1)"
   ]
  },
  {
   "cell_type": "markdown",
   "metadata": {},
   "source": [
    "#### Estimate payment plan days for users who always renew on time."
   ]
  },
  {
   "cell_type": "code",
   "execution_count": 19,
   "metadata": {},
   "outputs": [],
   "source": [
    "# compute delta days when transaction date is anterior to prior expiration date and no active cancellation\n",
    "crit_mem = (df_transac.transaction_date <= df_transac.prior_expiration) & (df_transac.is_cancel == False)\n",
    "# NOTE: inequality comparison with NaT will always yield False (meaning first transactions are not considered)"
   ]
  },
  {
   "cell_type": "code",
   "execution_count": 20,
   "metadata": {},
   "outputs": [],
   "source": [
    "# estimate payment plan days\n",
    "df_transac.loc[crit_mem,'delta_days'] = (df_transac.loc[crit_mem, 'membership_expire_date'] - \\\n",
    "                                         df_transac.loc[crit_mem, 'prior_expiration']\n",
    "                                        ).astype('timedelta64[D]')"
   ]
  },
  {
   "cell_type": "code",
   "execution_count": 21,
   "metadata": {},
   "outputs": [
    {
     "name": "stdout",
     "output_type": "stream",
     "text": [
      "Percentage of timely transaction without automatic renewal = 3.8%\n"
     ]
    }
   ],
   "source": [
    "# percentage of transactions renewed on time WITHOUT automatic renewal\n",
    "s_timely_renew = df_transac.loc[crit_mem, 'is_auto_renew']\n",
    "no_auto_renew_fraction = 1 - (s_timely_renew.sum() / len(s_timely_renew))\n",
    "print('Percentage of timely transaction without automatic renewal = {:.1f}%'.format(no_auto_renew_fraction*100))"
   ]
  },
  {
   "cell_type": "markdown",
   "metadata": {},
   "source": [
    "#### Estimate payment plan days for independent transactions (no overlap between transaction date and prior expiration date)\n",
    "For user's first transaction, we cannot tell if there is an overlap or not. We will ignore those for now."
   ]
  },
  {
   "cell_type": "code",
   "execution_count": 22,
   "metadata": {},
   "outputs": [],
   "source": [
    "# add rank column to easily identify user's first transactions\n",
    "df_transac['trans_num'] = df_transac.groupby('msno', sort = False).cumcount()"
   ]
  },
  {
   "cell_type": "code",
   "execution_count": 23,
   "metadata": {},
   "outputs": [],
   "source": [
    "# Still ignore active cancellation and first transactions\n",
    "crit_ept = (df_transac.delta_days.isnull()) & (df_transac.is_cancel == False) & (df_transac.trans_num > 0)"
   ]
  },
  {
   "cell_type": "code",
   "execution_count": 24,
   "metadata": {},
   "outputs": [],
   "source": [
    "# when there is no overlap with prior transaction, use expiration-transaction date difference\n",
    "df_transac.loc[crit_ept, 'delta_days'] = (df_transac.loc[crit_ept, 'membership_expire_date'] - \\\n",
    "                                         df_transac.loc[crit_ept, 'transaction_date']\n",
    "                                        ).astype('timedelta64[D]')"
   ]
  },
  {
   "cell_type": "markdown",
   "metadata": {},
   "source": [
    "#### Estimate payment plan days for active cancellation (expect for first transactions)\n",
    "At this point we have user's first transactions and active cancellation unfilled. <br> \n",
    "Active cancellation only happens when a user has an active plan thus we can use the latest plan duration as a replacement. <br>Note that it won't work for first transactions."
   ]
  },
  {
   "cell_type": "code",
   "execution_count": 25,
   "metadata": {},
   "outputs": [],
   "source": [
    "# Use fillna() with forward fill, intended for cancellation with prior history for each user\n",
    "# When a user cancels, he/she signed up at the first place\n",
    "df_transac.delta_days = df_transac.delta_days.fillna(method='ffill')\n",
    "# reset first transactions\n",
    "df_transac.loc[df_transac.trans_num == 0, 'delta_days'] = np.nan\n",
    "\n",
    "# NOTE: it is faster to forward fill on the whole dataframe and reset first transactions rather than the following:\n",
    "# df_transac.delta_days = df_transac.groupby('msno', sort = False).delta_days.fillna(method='ffill')"
   ]
  },
  {
   "cell_type": "markdown",
   "metadata": {},
   "source": [
    "#### Payment plan days missing value as first transaction\n",
    "At this point delta days has missing value only for the first transaction of each user."
   ]
  },
  {
   "cell_type": "code",
   "execution_count": 26,
   "metadata": {},
   "outputs": [
    {
     "data": {
      "text/plain": [
       "0"
      ]
     },
     "execution_count": 26,
     "metadata": {},
     "output_type": "execute_result"
    }
   ],
   "source": [
    "# verify only user's first transaction do not have a delta days estimate (result must be 0)\n",
    "df_transac.loc[df_transac.trans_num > 0, 'delta_days'].isnull().sum()"
   ]
  },
  {
   "cell_type": "markdown",
   "metadata": {},
   "source": [
    "* We can backpropagate payment plan days as long as auto renew is true over two successive automatic renewal transactions. It means plan duration has not changed."
   ]
  },
  {
   "cell_type": "code",
   "execution_count": 27,
   "metadata": {},
   "outputs": [],
   "source": [
    "# select first transactions where its following transaction also has auto renew enabled\n",
    "crit_auto = (df_transac.trans_num == 0) \\\n",
    "            & (df_transac.is_auto_renew == df_transac.groupby('msno', sort = False).is_auto_renew.shift(-1) )"
   ]
  },
  {
   "cell_type": "code",
   "execution_count": 28,
   "metadata": {},
   "outputs": [],
   "source": [
    "# assign same delta days\n",
    "df_transac.loc[crit_auto, 'delta_days'] = \\\n",
    "                df_transac.groupby('msno', sort = False).delta_days.shift(-1).loc[crit_auto]"
   ]
  },
  {
   "cell_type": "markdown",
   "metadata": {},
   "source": [
    "* Next, when the first two transactions have the same actual amount then we can use the same delta days."
   ]
  },
  {
   "cell_type": "code",
   "execution_count": 29,
   "metadata": {},
   "outputs": [],
   "source": [
    "# select first transactions where second transaction ahs the same actual amount\n",
    "# only get first transactions with missing values\n",
    "crit_actual = (df_transac.trans_num == 0) \\\n",
    "            & (df_transac.trans_num.isnull()) \\\n",
    "            & (df_transac.actual_amount_paid == df_transac.groupby('msno', sort = False).actual_amount_paid.shift(-1) )"
   ]
  },
  {
   "cell_type": "code",
   "execution_count": 30,
   "metadata": {},
   "outputs": [],
   "source": [
    "# assign same delta days\n",
    "df_transac.loc[crit_actual, 'delta_days'] = \\\n",
    "                df_transac.groupby('msno', sort = False).delta_days.shift(-1).loc[crit_actual]"
   ]
  },
  {
   "cell_type": "markdown",
   "metadata": {},
   "source": [
    "* There is a variety of payment plan where the actual amount paid is 0. As a first known transaction, it is most likely a free trial and thus we can use transaction and expiration date to estimate payment plan."
   ]
  },
  {
   "cell_type": "code",
   "execution_count": 31,
   "metadata": {},
   "outputs": [],
   "source": [
    "crit_trial = (df_transac.delta_days.isnull()) \\\n",
    "            & (df_transac.actual_amount_paid == 0) \\\n",
    "            & (df_transac.is_cancel == False)"
   ]
  },
  {
   "cell_type": "code",
   "execution_count": 32,
   "metadata": {},
   "outputs": [],
   "source": [
    "df_transac.loc[crit_trial, 'delta_days'] = (df_transac.loc[crit_trial, 'membership_expire_date'] - \\\n",
    "                                         df_transac.loc[crit_trial, 'transaction_date']\n",
    "                                        ).astype('timedelta64[D]')"
   ]
  },
  {
   "cell_type": "markdown",
   "metadata": {},
   "source": [
    "* For all other cases, we can only guess based on the actual amount paid (i.e. we cannot use list price as it is also missing)\n",
    "\n",
    "Here we need to map each actual amount to a unique payment plan."
   ]
  },
  {
   "cell_type": "code",
   "execution_count": 33,
   "metadata": {},
   "outputs": [],
   "source": [
    "# keep \"clean\" instances (no active cancellation, no missing payment plan days)\n",
    "crit_clean = (df_transac.is_cancel == False) & (df_transac.payment_plan_days.notnull())\n",
    "df_temp_delta = df_transac.loc[crit_clean,['payment_plan_days', 'actual_amount_paid']]"
   ]
  },
  {
   "cell_type": "code",
   "execution_count": 34,
   "metadata": {},
   "outputs": [],
   "source": [
    "# value count will put the most common payment plan first for each actual amount\n",
    "s_amount_map = df_temp_delta.groupby('actual_amount_paid').payment_plan_days.value_counts()"
   ]
  },
  {
   "cell_type": "code",
   "execution_count": 35,
   "metadata": {},
   "outputs": [],
   "source": [
    "# rename series name to avoid conflict later\n",
    "s_amount_map.name = 'plan_count'"
   ]
  },
  {
   "cell_type": "code",
   "execution_count": 36,
   "metadata": {},
   "outputs": [],
   "source": [
    "# reset indexes and keep largest count (first row of each group)\n",
    "# NOTE: cannot using multiIndex slicing as our index are numbers and thus not lexsorted\n",
    "s_amount_map = s_amount_map.reset_index().groupby('actual_amount_paid').payment_plan_days.first()"
   ]
  },
  {
   "cell_type": "code",
   "execution_count": 37,
   "metadata": {},
   "outputs": [],
   "source": [
    "# make sure we map actual amount paid to delta days below\n",
    "s_amount_map.name = 'delta_days'"
   ]
  },
  {
   "cell_type": "code",
   "execution_count": 38,
   "metadata": {},
   "outputs": [
    {
     "data": {
      "text/plain": [
       "actual_amount_paid\n",
       "0      7.0\n",
       "1     30.0\n",
       "10     2.0\n",
       "15     3.0\n",
       "30    30.0\n",
       "35     7.0\n",
       "41    30.0\n",
       "45    95.0\n",
       "50    10.0\n",
       "70    14.0\n",
       "Name: delta_days, dtype: float64"
      ]
     },
     "execution_count": 38,
     "metadata": {},
     "output_type": "execute_result"
    }
   ],
   "source": [
    "s_amount_map.head(10)"
   ]
  },
  {
   "cell_type": "code",
   "execution_count": 39,
   "metadata": {},
   "outputs": [],
   "source": [
    "# Use our actual amount to delta days mapping to replace our remaining missing values\n",
    "crit_map = df_transac.delta_days.isnull()\n",
    "df_transac.loc[crit_map, 'delta_days'] = df_transac.loc[crit_map, 'actual_amount_paid'].map(s_amount_map)"
   ]
  },
  {
   "cell_type": "code",
   "execution_count": 40,
   "metadata": {},
   "outputs": [
    {
     "data": {
      "text/plain": [
       "0"
      ]
     },
     "execution_count": 40,
     "metadata": {},
     "output_type": "execute_result"
    }
   ],
   "source": [
    "# all payment plans have been calculated as delta days\n",
    "df_transac.delta_days.isnull().sum()"
   ]
  },
  {
   "cell_type": "markdown",
   "metadata": {
    "collapsed": true
   },
   "source": [
    "#### Replace missing payment plan days!"
   ]
  },
  {
   "cell_type": "code",
   "execution_count": 41,
   "metadata": {},
   "outputs": [],
   "source": [
    "crit_plan = df_transac.payment_plan_days.isnull()\n",
    "df_transac.loc[crit_plan, 'payment_plan_days'] = df_transac.loc[crit_plan, 'delta_days']"
   ]
  },
  {
   "cell_type": "code",
   "execution_count": 42,
   "metadata": {},
   "outputs": [],
   "source": [
    "# drop delta days and prior expiration\n",
    "df_transac = df_transac.drop(['delta_days', 'prior_expiration', 'trans_num'], axis = 1)"
   ]
  },
  {
   "cell_type": "markdown",
   "metadata": {
    "collapsed": true
   },
   "source": [
    "Our estimated monthly plan duration is always between 28 and 32 days depending on the month. Therefore, we adjust our estimation to 30 days. The same operation can be done for payment plan days."
   ]
  },
  {
   "cell_type": "code",
   "execution_count": 43,
   "metadata": {},
   "outputs": [],
   "source": [
    "crit_30 = (df_transac.payment_plan_days >= 28) & (df_transac.payment_plan_days <= 32)\n",
    "df_transac.loc[crit_30, 'payment_plan_days'] = 30"
   ]
  },
  {
   "cell_type": "code",
   "execution_count": 44,
   "metadata": {},
   "outputs": [
    {
     "data": {
      "text/html": [
       "<div>\n",
       "<style scoped>\n",
       "    .dataframe tbody tr th:only-of-type {\n",
       "        vertical-align: middle;\n",
       "    }\n",
       "\n",
       "    .dataframe tbody tr th {\n",
       "        vertical-align: top;\n",
       "    }\n",
       "\n",
       "    .dataframe thead th {\n",
       "        text-align: right;\n",
       "    }\n",
       "</style>\n",
       "<table border=\"1\" class=\"dataframe\">\n",
       "  <thead>\n",
       "    <tr style=\"text-align: right;\">\n",
       "      <th></th>\n",
       "      <th>msno</th>\n",
       "      <th>payment_plan_days</th>\n",
       "      <th>plan_list_price</th>\n",
       "      <th>actual_amount_paid</th>\n",
       "      <th>is_auto_renew</th>\n",
       "      <th>transaction_date</th>\n",
       "      <th>membership_expire_date</th>\n",
       "      <th>is_cancel</th>\n",
       "      <th>is_payid_41</th>\n",
       "    </tr>\n",
       "  </thead>\n",
       "  <tbody>\n",
       "    <tr>\n",
       "      <th>6797850</th>\n",
       "      <td>+++FOrTS7ab3tIgIh8eWwX4FqRv8w/FoiOuyXsFvphY=</td>\n",
       "      <td>7.0</td>\n",
       "      <td>0</td>\n",
       "      <td>0</td>\n",
       "      <td>False</td>\n",
       "      <td>2016-09-09</td>\n",
       "      <td>2016-09-14</td>\n",
       "      <td>False</td>\n",
       "      <td>False</td>\n",
       "    </tr>\n",
       "    <tr>\n",
       "      <th>1521480</th>\n",
       "      <td>+++IZseRRiQS9aaSkH6cMYU6bGDcxUieAi/tH67sC5s=</td>\n",
       "      <td>410.0</td>\n",
       "      <td>1788</td>\n",
       "      <td>1788</td>\n",
       "      <td>False</td>\n",
       "      <td>2015-11-21</td>\n",
       "      <td>2017-01-04</td>\n",
       "      <td>False</td>\n",
       "      <td>False</td>\n",
       "    </tr>\n",
       "    <tr>\n",
       "      <th>1498592</th>\n",
       "      <td>+++hVY1rZox/33YtvDgmKA2Frg/2qhkz12B9ylCvh8o=</td>\n",
       "      <td>30.0</td>\n",
       "      <td>99</td>\n",
       "      <td>99</td>\n",
       "      <td>True</td>\n",
       "      <td>2016-11-16</td>\n",
       "      <td>2016-12-15</td>\n",
       "      <td>False</td>\n",
       "      <td>True</td>\n",
       "    </tr>\n",
       "    <tr>\n",
       "      <th>17923235</th>\n",
       "      <td>+++hVY1rZox/33YtvDgmKA2Frg/2qhkz12B9ylCvh8o=</td>\n",
       "      <td>30.0</td>\n",
       "      <td>99</td>\n",
       "      <td>99</td>\n",
       "      <td>True</td>\n",
       "      <td>2016-12-15</td>\n",
       "      <td>2017-01-15</td>\n",
       "      <td>False</td>\n",
       "      <td>True</td>\n",
       "    </tr>\n",
       "    <tr>\n",
       "      <th>58566</th>\n",
       "      <td>+++hVY1rZox/33YtvDgmKA2Frg/2qhkz12B9ylCvh8o=</td>\n",
       "      <td>30.0</td>\n",
       "      <td>99</td>\n",
       "      <td>99</td>\n",
       "      <td>True</td>\n",
       "      <td>2017-01-15</td>\n",
       "      <td>2017-02-15</td>\n",
       "      <td>False</td>\n",
       "      <td>True</td>\n",
       "    </tr>\n",
       "  </tbody>\n",
       "</table>\n",
       "</div>"
      ],
      "text/plain": [
       "                                                  msno  payment_plan_days  \\\n",
       "6797850   +++FOrTS7ab3tIgIh8eWwX4FqRv8w/FoiOuyXsFvphY=                7.0   \n",
       "1521480   +++IZseRRiQS9aaSkH6cMYU6bGDcxUieAi/tH67sC5s=              410.0   \n",
       "1498592   +++hVY1rZox/33YtvDgmKA2Frg/2qhkz12B9ylCvh8o=               30.0   \n",
       "17923235  +++hVY1rZox/33YtvDgmKA2Frg/2qhkz12B9ylCvh8o=               30.0   \n",
       "58566     +++hVY1rZox/33YtvDgmKA2Frg/2qhkz12B9ylCvh8o=               30.0   \n",
       "\n",
       "          plan_list_price  actual_amount_paid  is_auto_renew transaction_date  \\\n",
       "6797850                 0                   0          False       2016-09-09   \n",
       "1521480              1788                1788          False       2015-11-21   \n",
       "1498592                99                  99           True       2016-11-16   \n",
       "17923235               99                  99           True       2016-12-15   \n",
       "58566                  99                  99           True       2017-01-15   \n",
       "\n",
       "         membership_expire_date  is_cancel  is_payid_41  \n",
       "6797850              2016-09-14      False        False  \n",
       "1521480              2017-01-04      False        False  \n",
       "1498592              2016-12-15      False         True  \n",
       "17923235             2017-01-15      False         True  \n",
       "58566                2017-02-15      False         True  "
      ]
     },
     "execution_count": 44,
     "metadata": {},
     "output_type": "execute_result"
    }
   ],
   "source": [
    "df_transac.head()"
   ]
  },
  {
   "cell_type": "markdown",
   "metadata": {},
   "source": [
    "As a result of filling missing values, we have a wider variety in payment plan days."
   ]
  },
  {
   "cell_type": "code",
   "execution_count": 45,
   "metadata": {},
   "outputs": [
    {
     "name": "stdout",
     "output_type": "stream",
     "text": [
      "Initial number of plan duration = 35       \n",
      "Number of plans duration after replacement = 196\n"
     ]
    }
   ],
   "source": [
    "num_of_plan_ini = df_transac.loc[~crit_plan, 'payment_plan_days'].value_counts().count()\n",
    "num_of_plan = df_transac.payment_plan_days.value_counts().count()\n",
    "print('Initial number of plan duration = {} \\\n",
    "      \\nNumber of plans duration after replacement = {}'.format(num_of_plan_ini, num_of_plan))"
   ]
  },
  {
   "cell_type": "markdown",
   "metadata": {},
   "source": [
    "Let's group plan duration by the following intervals in days:\n",
    "| 0 - 7 | 8 - 29 | 30 - 89 | 90 - 179 | 180 - 269 | 270 - 364  | 365 - 485 |\n",
    "\n",
    "Those intervals are based on the information available on KKBOX website. For instance, there is a 30 days and 90 days plan hence we make an interval between 30 and 89 days. The assumption is you can only have extra days in your subscription."
   ]
  },
  {
   "cell_type": "code",
   "execution_count": 46,
   "metadata": {},
   "outputs": [
    {
     "name": "stdout",
     "output_type": "stream",
     "text": [
      "Bin edges = [0, 8, 30, 90, 180, 270, 365, 485]\n",
      "Associated labels = ['0 - 7', '8 - 29', '30 - 89', '90 - 179', '180 - 269', '270 - 364', '365 - 485']\n"
     ]
    }
   ],
   "source": [
    "# create custom intervals (bin edges will be left inclusive) in increasing order\n",
    "days_plan = [0, 8, 30, 90, 180, 270, 365, 485 ]\n",
    "\n",
    "# compile labels\n",
    "days_plan_upperbounds = [d-1 for d in days_plan[1:-1] ]\n",
    "days_plan_upperbounds.append(days_plan[-1])\n",
    "days_plan_labels = [ \"{} - {}\".format(l,u) for l,u in zip(days_plan[:-1], days_plan_upperbounds) ]\n",
    "\n",
    "print('Bin edges = {}'.format(days_plan))\n",
    "print('Associated labels = {}'.format(days_plan_labels))"
   ]
  },
  {
   "cell_type": "code",
   "execution_count": 47,
   "metadata": {},
   "outputs": [],
   "source": [
    "# create new column with plan duration category\n",
    "df_transac['plan_duration'] = pd.cut(df_transac.payment_plan_days, days_plan, right=False, labels=days_plan_labels)"
   ]
  },
  {
   "cell_type": "code",
   "execution_count": 48,
   "metadata": {},
   "outputs": [
    {
     "data": {
      "image/png": "[encoded data removed]",
      "text/plain": [
       "<matplotlib.figure.Figure at 0x2118a248518>"
      ]
     },
     "metadata": {},
     "output_type": "display_data"
    }
   ],
   "source": [
    "plot_bar(df_transac, ['plan_duration'])"
   ]
  },
  {
   "cell_type": "markdown",
   "metadata": {},
   "source": [
    "### Auto-renew and active cancellation\n",
    "Most people who have auto renewal active also don't cancel actively. It is consistent with the fact that most customers don't churn."
   ]
  },
  {
   "cell_type": "code",
   "execution_count": 49,
   "metadata": {},
   "outputs": [
    {
     "data": {
      "image/png": "[encoded data removed]",
      "text/plain": [
       "<matplotlib.figure.Figure at 0x2112f564f98>"
      ]
     },
     "metadata": {},
     "output_type": "display_data"
    }
   ],
   "source": [
    "plot_bar(df_transac, ['is_auto_renew' , 'is_cancel'])"
   ]
  },
  {
   "cell_type": "code",
   "execution_count": 50,
   "metadata": {},
   "outputs": [
    {
     "name": "stdout",
     "output_type": "stream",
     "text": [
      "Percentage of active cancellation while auto renew activated = 4.67%\n"
     ]
    }
   ],
   "source": [
    "# number of active cancellation with automatic renewal enabled\n",
    "count_cancel_auto = df_transac.loc[df_transac.is_auto_renew == True, 'is_cancel'].sum()\n",
    "count_auto = (df_transac.is_auto_renew == True).sum()\n",
    "print('Percentage of active cancellation while auto renew activated = {:.2f}%'.format(count_cancel_auto / count_auto *100))"
   ]
  },
  {
   "cell_type": "markdown",
   "metadata": {},
   "source": [
    "### Plan list price\n",
    "90% of list price are below 150. There are 0 list price which indicates missing values.<br>\n",
    "Top 3 most freqent list price are 99, 129 and 149."
   ]
  },
  {
   "cell_type": "code",
   "execution_count": 51,
   "metadata": {},
   "outputs": [
    {
     "data": {
      "image/png": "[encoded data removed]",
      "text/plain": [
       "<matplotlib.figure.Figure at 0x2118a246e80>"
      ]
     },
     "metadata": {},
     "output_type": "display_data"
    }
   ],
   "source": [
    "figpllist , axpllist = plt.subplots()\n",
    "pl_x = df_transac.plan_list_price.sort_values().values\n",
    "pl_y = np.arange(1, len(pl_x)+1) / len(pl_x)\n",
    "axpllist.plot(pl_x, pl_y, '.')\n",
    "axpllist.set_xlabel('List Price')\n",
    "axpllist.set_ylabel('ECDF')\n",
    "\n",
    "# save figure to file as png\n",
    "figpllist.savefig(os.path.join(os.pardir, 'reports', 'figures', 'Plan_list_price_ecdf.png'))"
   ]
  },
  {
   "cell_type": "markdown",
   "metadata": {},
   "source": [
    "Let's see if we can replace those missing values. Note we won't find a list price replacement for new estimated payment plan days so we should use our plan duration intervals."
   ]
  },
  {
   "cell_type": "code",
   "execution_count": 52,
   "metadata": {},
   "outputs": [],
   "source": [
    "# select transactions with no missing list price and group by plan duration then list price\n",
    "df_plan_grouped = \\\n",
    "        df_transac[df_transac.plan_list_price != 0].groupby(['plan_duration', 'plan_list_price'])"
   ]
  },
  {
   "cell_type": "code",
   "execution_count": 53,
   "metadata": {},
   "outputs": [],
   "source": [
    "# frequency count of plan duration-list price combination\n",
    "s_listprice_rpl = df_plan_grouped.msno.count()\n",
    "# s_listprice_rpl.head(50)"
   ]
  },
  {
   "cell_type": "markdown",
   "metadata": {},
   "source": [
    "There are multiple list price for the same plan duration! There should be a unique list price for each plan.<br>\n",
    "This is not the case even if we look at the same data per payment plan days and per calendar year. <br>\n",
    "Thus we will pick the most frequently occurring plan duration and list price combination."
   ]
  },
  {
   "cell_type": "code",
   "execution_count": 54,
   "metadata": {},
   "outputs": [],
   "source": [
    "# move plan_duration from index to column and regroup by keeping the most frequent list price\n",
    "s_listprice_rpl = s_listprice_rpl.reset_index(level = 0).groupby('plan_duration').msno.nlargest(n=1)"
   ]
  },
  {
   "cell_type": "code",
   "execution_count": 55,
   "metadata": {},
   "outputs": [],
   "source": [
    "# move list price from index to column\n",
    "s_listprice_rpl = s_listprice_rpl.reset_index(level = 1)"
   ]
  },
  {
   "cell_type": "code",
   "execution_count": 56,
   "metadata": {},
   "outputs": [],
   "source": [
    "# remove count column (msno here)\n",
    "s_listprice_rpl.drop('msno', axis = 1, inplace = True)"
   ]
  },
  {
   "cell_type": "code",
   "execution_count": 57,
   "metadata": {},
   "outputs": [
    {
     "data": {
      "text/html": [
       "<div>\n",
       "<style scoped>\n",
       "    .dataframe tbody tr th:only-of-type {\n",
       "        vertical-align: middle;\n",
       "    }\n",
       "\n",
       "    .dataframe tbody tr th {\n",
       "        vertical-align: top;\n",
       "    }\n",
       "\n",
       "    .dataframe thead th {\n",
       "        text-align: right;\n",
       "    }\n",
       "</style>\n",
       "<table border=\"1\" class=\"dataframe\">\n",
       "  <thead>\n",
       "    <tr style=\"text-align: right;\">\n",
       "      <th></th>\n",
       "      <th>plan_list_price</th>\n",
       "    </tr>\n",
       "    <tr>\n",
       "      <th>plan_duration</th>\n",
       "      <th></th>\n",
       "    </tr>\n",
       "  </thead>\n",
       "  <tbody>\n",
       "    <tr>\n",
       "      <th>0 - 7</th>\n",
       "      <td>35</td>\n",
       "    </tr>\n",
       "    <tr>\n",
       "      <th>8 - 29</th>\n",
       "      <td>50</td>\n",
       "    </tr>\n",
       "    <tr>\n",
       "      <th>30 - 89</th>\n",
       "      <td>149</td>\n",
       "    </tr>\n",
       "    <tr>\n",
       "      <th>90 - 179</th>\n",
       "      <td>480</td>\n",
       "    </tr>\n",
       "    <tr>\n",
       "      <th>180 - 269</th>\n",
       "      <td>894</td>\n",
       "    </tr>\n",
       "    <tr>\n",
       "      <th>270 - 364</th>\n",
       "      <td>1200</td>\n",
       "    </tr>\n",
       "    <tr>\n",
       "      <th>365 - 485</th>\n",
       "      <td>1788</td>\n",
       "    </tr>\n",
       "  </tbody>\n",
       "</table>\n",
       "</div>"
      ],
      "text/plain": [
       "               plan_list_price\n",
       "plan_duration                 \n",
       "0 - 7                       35\n",
       "8 - 29                      50\n",
       "30 - 89                    149\n",
       "90 - 179                   480\n",
       "180 - 269                  894\n",
       "270 - 364                 1200\n",
       "365 - 485                 1788"
      ]
     },
     "execution_count": 57,
     "metadata": {},
     "output_type": "execute_result"
    }
   ],
   "source": [
    "s_listprice_rpl\n",
    "# get mapping value to paste in report\n",
    "# s_listprice_rpl.to_clipboard()"
   ]
  },
  {
   "cell_type": "markdown",
   "metadata": {},
   "source": [
    "Substitute zero list price with our mapping."
   ]
  },
  {
   "cell_type": "code",
   "execution_count": 58,
   "metadata": {},
   "outputs": [],
   "source": [
    "df_transac.loc[df_transac.plan_list_price == 0, 'plan_list_price'] = \\\n",
    "                    df_transac.loc[df_transac.plan_list_price == 0, 'plan_duration'].map(s_listprice_rpl.plan_list_price)"
   ]
  },
  {
   "cell_type": "markdown",
   "metadata": {},
   "source": [
    "### Subscription cost per subscription length\n",
    "How do subscription length scale with list price ? <br>\n",
    "One can observe the list price going up with subscription length globally. However, there are overlaps in list price between plan duration except for long term plans (> 365 days) which are clearly the most expensive."
   ]
  },
  {
   "cell_type": "markdown",
   "metadata": {},
   "source": [
    "Create bar plot for each auto renew state (True or False). Does not include cancellation transactions as it would be redundant."
   ]
  },
  {
   "cell_type": "code",
   "execution_count": 59,
   "metadata": {},
   "outputs": [
    {
     "data": {
      "image/png": "[encoded data removed]",
      "text/plain": [
       "<matplotlib.figure.Figure at 0x211abae7898>"
      ]
     },
     "metadata": {},
     "output_type": "display_data"
    }
   ],
   "source": [
    "# prepare axis\n",
    "figCostDays , axCostDays = plt.subplots(2, 1, \\\n",
    "                              figsize=(8, 8), \\\n",
    "                              gridspec_kw=dict(height_ratios=[1, 3]))\n",
    "\n",
    "# pivot on relevant columns, values can be anything as we are just counting here\n",
    "df_plan = df_transac[df_transac.is_cancel == False].pivot_table(index = 'plan_duration', columns = 'is_auto_renew',\\\n",
    "                                 values = 'plan_list_price', aggfunc = 'count', fill_value = 0)\n",
    "\n",
    "# normalize each column by counts\n",
    "df_plan = df_plan.divide(df_plan.sum()) * 100\n",
    "\n",
    "# make a bar plot for each auto renew state\n",
    "df_plan.plot(kind = 'bar', ax = axCostDays[0])\n",
    "\n",
    "# change tick orientation and add labels\n",
    "axCostDays[0].tick_params(axis = 'x', rotation = 0)\n",
    "axCostDays[0].set_ylabel('Percent (%)')\n",
    "axCostDays[0].set_xlabel('plan_duration')\n",
    "\n",
    "\n",
    "# use seaborn to add plan list price as another dimension\n",
    "sns.stripplot(x=\"plan_duration\", y=\"plan_list_price\", hue = 'is_auto_renew',\\\n",
    "              dodge = True, jitter = True, alpha = 0.25,\\\n",
    "              data=df_transac, ax = axCostDays[1])\n",
    "\n",
    "# sns.swarmplot(x=\"plan_duration\", y=\"plan_list_price\", hue = 'is_auto_renew',\\\n",
    "#               dodge = True, alpha = 0.25,\\\n",
    "#               data=df_transac, ax = axCostDays[1])\n",
    "\n",
    "plt.tight_layout()\n",
    "\n",
    "# save figure to file as png\n",
    "figCostDays.savefig(os.path.join(os.pardir, 'reports', 'figures', 'List_Price_Duration.png'))"
   ]
  },
  {
   "cell_type": "markdown",
   "metadata": {},
   "source": [
    "The Empirical cumulative distribution function (ECDF) can give us another view when there are too many points to plot."
   ]
  },
  {
   "cell_type": "code",
   "execution_count": 60,
   "metadata": {},
   "outputs": [
    {
     "data": {
      "image/png": "[encoded data removed]",
      "text/plain": [
       "<matplotlib.figure.Figure at 0x211cc6fe278>"
      ]
     },
     "metadata": {},
     "output_type": "display_data"
    }
   ],
   "source": [
    "# _ , axEcdf = plt.subplots(1, 2, figsize=(9, 6), gridspec_kw=dict(width_ratios=[3, 1]))\n",
    "_ , axEcdf = plt.subplots(2, 1, figsize=(9, 6))\n",
    "\n",
    "for i in range(2):\n",
    "    # sort your data and plot it versus its percentage increment\n",
    "    for pl in days_plan_labels:\n",
    "        filt_pl = (df_transac.is_auto_renew == i ) & (df_transac.plan_duration == pl) & df_transac.is_cancel == False\n",
    "        pl_x = df_transac.loc[filt_pl, 'plan_list_price'].sort_values().reset_index(drop=True)\n",
    "        axEcdf[i].plot(pl_x, pl_x.index, linestyle = '', marker='.')\n",
    "        axEcdf[i].set_xlabel('Plan List Price (auto_renew = ' + str(bool(i)) + ')'  )\n",
    "        axEcdf[i].set_ylabel('ECDF')\n",
    "    axEcdf[i].legend(days_plan_labels)"
   ]
  },
  {
   "cell_type": "markdown",
   "metadata": {
    "collapsed": true
   },
   "source": [
    "### List price vs paid price\n",
    "Here we would like to know the difference in price between list price and actual amount paid."
   ]
  },
  {
   "cell_type": "code",
   "execution_count": 61,
   "metadata": {},
   "outputs": [],
   "source": [
    "# percent difference between plan price and price actually paid\n",
    "df_discount_percent = 1 - (df_transac.actual_amount_paid/df_transac.plan_list_price)"
   ]
  },
  {
   "cell_type": "markdown",
   "metadata": {},
   "source": [
    "It appears that an overwhelming majority of transcations do not have any discount (more than 92%) and some transaction were at no charge. Note that some percentage discount are negative which should not happen as one cannot pay more than the list price. <br>\n",
    "Let's adjust the actual amount paid to match its corresponding list price in those cases."
   ]
  },
  {
   "cell_type": "code",
   "execution_count": 62,
   "metadata": {},
   "outputs": [
    {
     "data": {
      "image/png": "[encoded data removed]",
      "text/plain": [
       "<matplotlib.figure.Figure at 0x211cc6fe048>"
      ]
     },
     "metadata": {},
     "output_type": "display_data"
    }
   ],
   "source": [
    "# plot histogram of discounts\n",
    "_ , axDiscount = plt.subplots()\n",
    "\n",
    "# plot histogram, bin by 10% intervals\n",
    "_ = df_discount_percent[df_transac.is_cancel == False].plot(kind = 'hist', range = (-1,1), bins = 20, \\\n",
    "                                                              ax = axDiscount, density = True)\n",
    "\n",
    "_ = axDiscount.set_xlabel('Discount fraction')\n",
    "# Note: bin width is 0.1 thus normalization multiplies by 10 (divided by 0.1, see hist documentation).\n",
    "# It means 100% corresponds to 10 on the y scale."
   ]
  },
  {
   "cell_type": "markdown",
   "metadata": {},
   "source": [
    "Same data using Empirical Cumulative Distribution function"
   ]
  },
  {
   "cell_type": "code",
   "execution_count": 63,
   "metadata": {},
   "outputs": [
    {
     "data": {
      "text/plain": [
       "Text(0,0.5,'ECDF')"
      ]
     },
     "execution_count": 63,
     "metadata": {},
     "output_type": "execute_result"
    },
    {
     "data": {
      "image/png": "[encoded data removed]",
      "text/plain": [
       "<matplotlib.figure.Figure at 0x2116baecbe0>"
      ]
     },
     "metadata": {},
     "output_type": "display_data"
    }
   ],
   "source": [
    "_ , axdisc = plt.subplots()\n",
    "pl_x = df_discount_percent[df_transac.is_cancel == False].sort_values().values\n",
    "pl_y = np.arange(1, len(pl_x)+1) / len(pl_x)\n",
    "axdisc.plot(pl_x, pl_y, '.')\n",
    "axdisc.set_xlabel('Discount Percentage')\n",
    "axdisc.set_ylabel('ECDF')"
   ]
  },
  {
   "cell_type": "code",
   "execution_count": 64,
   "metadata": {},
   "outputs": [],
   "source": [
    "# adjust actual amount paid where discount is negative\n",
    "df_transac.loc[df_discount_percent < 0, 'actual_amount_paid'] = \\\n",
    "                                        df_transac.loc[df_discount_percent < 0, 'plan_list_price']"
   ]
  },
  {
   "cell_type": "markdown",
   "metadata": {},
   "source": [
    "Calculate discount again and generate new plot"
   ]
  },
  {
   "cell_type": "code",
   "execution_count": 65,
   "metadata": {},
   "outputs": [
    {
     "data": {
      "image/png": "[encoded data removed]",
      "text/plain": [
       "<matplotlib.figure.Figure at 0x211998ee6a0>"
      ]
     },
     "metadata": {},
     "output_type": "display_data"
    }
   ],
   "source": [
    "# percent difference between plan price and price actually paid\n",
    "df_discount_percent = 1 - (df_transac.actual_amount_paid/df_transac.plan_list_price)\n",
    "\n",
    "figdisc2 , axdisc2 = plt.subplots()\n",
    "pl_x = df_discount_percent[df_transac.is_cancel == False].sort_values().values\n",
    "pl_y = np.arange(1, len(pl_x)+1) / len(pl_x)\n",
    "axdisc2.plot(pl_x, pl_y, '.')\n",
    "axdisc2.set_xlabel('Discount Percentage')\n",
    "axdisc2.set_ylabel('ECDF')\n",
    "\n",
    "# save figure to file as png\n",
    "figdisc2.savefig(os.path.join(os.pardir, 'reports', 'figures', 'ListPrice_vs_actualAmount.png'))"
   ]
  },
  {
   "cell_type": "markdown",
   "metadata": {},
   "source": [
    "### Save cleaned transactions"
   ]
  },
  {
   "cell_type": "code",
   "execution_count": 66,
   "metadata": {},
   "outputs": [],
   "source": [
    "# transaction_inter_dir = os.path.join(os.pardir, 'data', 'interim', 'transactions_clean.csv')\n",
    "# df_transac.to_csv(transaction_inter_dir, index = False)"
   ]
  },
  {
   "cell_type": "code",
   "execution_count": null,
   "metadata": {},
   "outputs": [],
   "source": []
  }
 ],
 "metadata": {
  "kernelspec": {
   "display_name": "kkbox_churn_kernel",
   "language": "python",
   "name": "kkbox_churn"
  },
  "language_info": {
   "codemirror_mode": {
    "name": "ipython",
    "version": 3
   },
   "file_extension": ".py",
   "mimetype": "text/x-python",
   "name": "python",
   "nbconvert_exporter": "python",
   "pygments_lexer": "ipython3",
   "version": "3.6.4"
  }
 },
 "nbformat": 4,
 "nbformat_minor": 2
}
