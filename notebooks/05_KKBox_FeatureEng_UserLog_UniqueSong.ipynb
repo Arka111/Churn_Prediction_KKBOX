{
 "cells": [
  {
   "cell_type": "code",
   "execution_count": 1,
   "metadata": {
    "collapsed": true
   },
   "outputs": [],
   "source": [
    "import os\n",
    "import pandas as pd\n",
    "import numpy as np\n",
    "from time import time\n",
    "from datetime import timedelta"
   ]
  },
  {
   "cell_type": "markdown",
   "metadata": {},
   "source": [
    "#### Retrieve eligible users for prediction"
   ]
  },
  {
   "cell_type": "code",
   "execution_count": 2,
   "metadata": {
    "collapsed": true
   },
   "outputs": [],
   "source": [
    "train_dir = os.path.join(os.pardir, 'data', 'raw', 'train.csv')\n",
    "s_users = pd.read_csv(train_dir, usecols = ['msno'])"
   ]
  },
  {
   "cell_type": "code",
   "execution_count": 3,
   "metadata": {
    "collapsed": true
   },
   "outputs": [],
   "source": [
    "current_users = s_users.msno.values"
   ]
  },
  {
   "cell_type": "markdown",
   "metadata": {},
   "source": [
    "#### Compute monthly activity"
   ]
  },
  {
   "cell_type": "code",
   "execution_count": 4,
   "metadata": {},
   "outputs": [
    {
     "name": "stdout",
     "output_type": "stream",
     "text": [
      "Number of rows =  392106544\n"
     ]
    }
   ],
   "source": [
    "# create file path and compute total number of lines\n",
    "user_log_dir = os.path.join(os.pardir, 'data', 'raw', 'user_logs.csv')\n",
    "Total_rows = sum(1 for line in open(user_log_dir))\n",
    "print('Number of rows = ', Total_rows)"
   ]
  },
  {
   "cell_type": "code",
   "execution_count": 5,
   "metadata": {
    "collapsed": true
   },
   "outputs": [],
   "source": [
    "# number of rows\n",
    "# Num_rows = 1e6\n",
    "Num_rows = 20e6"
   ]
  },
  {
   "cell_type": "code",
   "execution_count": 6,
   "metadata": {
    "collapsed": true
   },
   "outputs": [],
   "source": [
    "# USERS LOG IS SORTED BY CUSTOMER ID\n",
    "# create file iterator\n",
    "reader_iter = pd.read_csv(user_log_dir, index_col = 'date', parse_dates=['date'], chunksize=Num_rows,\\\n",
    "        usecols = ['msno', 'date', 'num_unq'])"
   ]
  },
  {
   "cell_type": "code",
   "execution_count": 7,
   "metadata": {
    "collapsed": true
   },
   "outputs": [],
   "source": [
    "df_song_unq = pd.DataFrame(index= pd.MultiIndex( levels=[[]]*2, labels = [[]]*2, names=['msno', 'date']), \\\n",
    "                 columns=['num_unq']).astype('int64')\n",
    "# dtype matches reader_iter inferred type (int64)"
   ]
  },
  {
   "cell_type": "code",
   "execution_count": 8,
   "metadata": {},
   "outputs": [
    {
     "name": "stdout",
     "output_type": "stream",
     "text": [
      "      100.0% done \t--- 0:34:00.406870 seconds ellapsed ---"
     ]
    }
   ],
   "source": [
    "# get start time of timer for processing time\n",
    "start_time = time()\n",
    "row_counter = 0\n",
    "\n",
    "for df_chunk in reader_iter:\n",
    "    \n",
    "    # keep track of progress\n",
    "    row_counter += df_chunk.shape[0]\n",
    "    \n",
    "    # keep only eligible users\n",
    "    df_chunk = df_chunk[df_chunk.msno.isin(current_users)]\n",
    "\n",
    "    # group by user and month\n",
    "    df_song_unq_chunk = df_chunk.groupby(['msno', pd.Grouper(level='date', freq='M')], sort = False).sum()\n",
    "    \n",
    "    # add last time serie to global time serie\n",
    "    df_song_unq = df_song_unq.add(df_song_unq_chunk, fill_value = 0)\n",
    "    \n",
    "    # print progress after each processed chunk\n",
    "    print('\\r {:10.1f}% done \\t--- {} seconds ellapsed ---'.format(row_counter/Total_rows*100,\\\n",
    "                                timedelta(seconds = time() - start_time)) ,end='', flush=True)"
   ]
  },
  {
   "cell_type": "markdown",
   "metadata": {
    "collapsed": true
   },
   "source": [
    "#### Pivot dates"
   ]
  },
  {
   "cell_type": "code",
   "execution_count": 21,
   "metadata": {
    "collapsed": true
   },
   "outputs": [],
   "source": [
    "df_unstack = df_song_unq.unstack(level='date', fill_value=0)"
   ]
  },
  {
   "cell_type": "code",
   "execution_count": 22,
   "metadata": {
    "collapsed": true
   },
   "outputs": [],
   "source": [
    "Uniquefull_inter_dir = os.path.join(os.pardir, 'data', 'interim', 'song_unique_fulldate_rawcount.p34')\n",
    "df_unstack.to_pickle(Uniquefull_inter_dir)"
   ]
  },
  {
   "cell_type": "code",
   "execution_count": 13,
   "metadata": {
    "collapsed": true
   },
   "outputs": [],
   "source": [
    "# recover only the last 6 months labels\n",
    "post_6_month = df_unstack.columns.get_level_values(level = 1).unique()[:-6]"
   ]
  },
  {
   "cell_type": "code",
   "execution_count": 14,
   "metadata": {
    "collapsed": true
   },
   "outputs": [],
   "source": [
    "# discard months prior to to 6 months\n",
    "df_unstack = df_unstack.drop(labels=post_6_month, axis = 1, level = 1)"
   ]
  },
  {
   "cell_type": "markdown",
   "metadata": {},
   "source": [
    "NOTE: There are users who have a membership but did not show any activity"
   ]
  },
  {
   "cell_type": "code",
   "execution_count": 15,
   "metadata": {},
   "outputs": [
    {
     "name": "stdout",
     "output_type": "stream",
     "text": [
      "Number of missing users = 123005\n"
     ]
    }
   ],
   "source": [
    "# number of eligible users who have no activity\n",
    "num_missing_users = len(current_users) - df_unstack.shape[0]\n",
    "print('Number of missing users =', num_missing_users)"
   ]
  },
  {
   "cell_type": "markdown",
   "metadata": {},
   "source": [
    "#### Convert count to average number of songs per month"
   ]
  },
  {
   "cell_type": "code",
   "execution_count": 18,
   "metadata": {
    "collapsed": true
   },
   "outputs": [],
   "source": [
    "# normalize count by number of days\n",
    "df_unstack = df_unstack.divide(df_unstack.columns.get_level_values(level = 1).daysinmonth)"
   ]
  },
  {
   "cell_type": "code",
   "execution_count": 19,
   "metadata": {},
   "outputs": [
    {
     "data": {
      "text/html": [
       "<div>\n",
       "<style scoped>\n",
       "    .dataframe tbody tr th:only-of-type {\n",
       "        vertical-align: middle;\n",
       "    }\n",
       "\n",
       "    .dataframe tbody tr th {\n",
       "        vertical-align: top;\n",
       "    }\n",
       "\n",
       "    .dataframe thead tr th {\n",
       "        text-align: left;\n",
       "    }\n",
       "\n",
       "    .dataframe thead tr:last-of-type th {\n",
       "        text-align: right;\n",
       "    }\n",
       "</style>\n",
       "<table border=\"1\" class=\"dataframe\">\n",
       "  <thead>\n",
       "    <tr>\n",
       "      <th></th>\n",
       "      <th colspan=\"6\" halign=\"left\">num_unq</th>\n",
       "    </tr>\n",
       "    <tr>\n",
       "      <th>date</th>\n",
       "      <th>2016-09-30</th>\n",
       "      <th>2016-10-31</th>\n",
       "      <th>2016-11-30</th>\n",
       "      <th>2016-12-31</th>\n",
       "      <th>2017-01-31</th>\n",
       "      <th>2017-02-28</th>\n",
       "    </tr>\n",
       "    <tr>\n",
       "      <th>msno</th>\n",
       "      <th></th>\n",
       "      <th></th>\n",
       "      <th></th>\n",
       "      <th></th>\n",
       "      <th></th>\n",
       "      <th></th>\n",
       "    </tr>\n",
       "  </thead>\n",
       "  <tbody>\n",
       "    <tr>\n",
       "      <th>+++hVY1rZox/33YtvDgmKA2Frg/2qhkz12B9ylCvh8o=</th>\n",
       "      <td>0.000000</td>\n",
       "      <td>0.000000</td>\n",
       "      <td>16.266667</td>\n",
       "      <td>31.580645</td>\n",
       "      <td>22.451613</td>\n",
       "      <td>22.928571</td>\n",
       "    </tr>\n",
       "    <tr>\n",
       "      <th>+++l/EXNMLTijfLBa8p2TUVVVp2aFGSuUI/h7mLmthw=</th>\n",
       "      <td>23.566667</td>\n",
       "      <td>25.516129</td>\n",
       "      <td>18.166667</td>\n",
       "      <td>21.806452</td>\n",
       "      <td>27.096774</td>\n",
       "      <td>25.785714</td>\n",
       "    </tr>\n",
       "    <tr>\n",
       "      <th>+++snpr7pmobhLKUgSHTv/mpkqgBT0tQJ0zQj6qKrqc=</th>\n",
       "      <td>18.666667</td>\n",
       "      <td>23.935484</td>\n",
       "      <td>32.966667</td>\n",
       "      <td>20.806452</td>\n",
       "      <td>35.096774</td>\n",
       "      <td>19.678571</td>\n",
       "    </tr>\n",
       "    <tr>\n",
       "      <th>++/9R3sX37CjxbY/AaGvbwr3QkwElKBCtSvVzhCBDOk=</th>\n",
       "      <td>19.033333</td>\n",
       "      <td>11.225806</td>\n",
       "      <td>8.166667</td>\n",
       "      <td>11.032258</td>\n",
       "      <td>4.193548</td>\n",
       "      <td>6.928571</td>\n",
       "    </tr>\n",
       "    <tr>\n",
       "      <th>++/UDNo9DLrxT8QVGiDi1OnWfczAdEwThaVyD0fXO50=</th>\n",
       "      <td>8.000000</td>\n",
       "      <td>7.516129</td>\n",
       "      <td>5.500000</td>\n",
       "      <td>8.709677</td>\n",
       "      <td>9.806452</td>\n",
       "      <td>9.321429</td>\n",
       "    </tr>\n",
       "  </tbody>\n",
       "</table>\n",
       "</div>"
      ],
      "text/plain": [
       "                                                num_unq                        \\\n",
       "date                                         2016-09-30 2016-10-31 2016-11-30   \n",
       "msno                                                                            \n",
       "+++hVY1rZox/33YtvDgmKA2Frg/2qhkz12B9ylCvh8o=   0.000000   0.000000  16.266667   \n",
       "+++l/EXNMLTijfLBa8p2TUVVVp2aFGSuUI/h7mLmthw=  23.566667  25.516129  18.166667   \n",
       "+++snpr7pmobhLKUgSHTv/mpkqgBT0tQJ0zQj6qKrqc=  18.666667  23.935484  32.966667   \n",
       "++/9R3sX37CjxbY/AaGvbwr3QkwElKBCtSvVzhCBDOk=  19.033333  11.225806   8.166667   \n",
       "++/UDNo9DLrxT8QVGiDi1OnWfczAdEwThaVyD0fXO50=   8.000000   7.516129   5.500000   \n",
       "\n",
       "                                                                               \n",
       "date                                         2016-12-31 2017-01-31 2017-02-28  \n",
       "msno                                                                           \n",
       "+++hVY1rZox/33YtvDgmKA2Frg/2qhkz12B9ylCvh8o=  31.580645  22.451613  22.928571  \n",
       "+++l/EXNMLTijfLBa8p2TUVVVp2aFGSuUI/h7mLmthw=  21.806452  27.096774  25.785714  \n",
       "+++snpr7pmobhLKUgSHTv/mpkqgBT0tQJ0zQj6qKrqc=  20.806452  35.096774  19.678571  \n",
       "++/9R3sX37CjxbY/AaGvbwr3QkwElKBCtSvVzhCBDOk=  11.032258   4.193548   6.928571  \n",
       "++/UDNo9DLrxT8QVGiDi1OnWfczAdEwThaVyD0fXO50=   8.709677   9.806452   9.321429  "
      ]
     },
     "execution_count": 19,
     "metadata": {},
     "output_type": "execute_result"
    }
   ],
   "source": [
    "df_unstack.head()"
   ]
  },
  {
   "cell_type": "code",
   "execution_count": 20,
   "metadata": {
    "collapsed": true
   },
   "outputs": [],
   "source": [
    "# pickle this dataframe\n",
    "Unique_proc_dir = os.path.join(os.pardir, 'data', 'processed', 'song_unique.p34')\n",
    "df_unstack.to_pickle(Unique_proc_dir)"
   ]
  }
 ],
 "metadata": {
  "kernelspec": {
   "display_name": "kkbox_churn_kernel",
   "language": "python",
   "name": "kkbox_churn"
  },
  "language_info": {
   "codemirror_mode": {
    "name": "ipython",
    "version": 3
   },
   "file_extension": ".py",
   "mimetype": "text/x-python",
   "name": "python",
   "nbconvert_exporter": "python",
   "pygments_lexer": "ipython3",
   "version": "3.6.4"
  }
 },
 "nbformat": 4,
 "nbformat_minor": 2
}
