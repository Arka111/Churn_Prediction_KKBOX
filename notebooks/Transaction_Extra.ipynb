{
 "cells": [
  {
   "cell_type": "markdown",
   "metadata": {},
   "source": [
    "## Calculation of payment plan days (looping through groupby)"
   ]
  },
  {
   "cell_type": "code",
   "execution_count": 31,
   "metadata": {
    "collapsed": true
   },
   "outputs": [],
   "source": [
    "# refine number of days to match plans\n",
    "def match_plan(df_in):\n",
    "    # set to 30-days when delta days is between 28 and 32\n",
    "    crit_30 = (df_in.delta_days >= 28) & (df_in.delta_days <= 32)\n",
    "    df_in.loc[crit_30, 'delta_days'] = 30\n",
    "    \n",
    "    return df_in"
   ]
  },
  {
   "cell_type": "code",
   "execution_count": 32,
   "metadata": {
    "collapsed": true,
    "scrolled": false
   },
   "outputs": [],
   "source": [
    "def compute_plan_days(df_current):\n",
    "    # offset date by one row (must use .values otherwise it will attempt to align data)\n",
    "    # df_current.iloc[1:, 10] = df_current.iloc[:-1, 7].values\n",
    "    df_current.loc[df_current.index[1:],'prior_expiration'] =\\\n",
    "                                df_current.loc[df_current.index[:-1],'membership_expire_date'].values\n",
    "\n",
    "    # compute delta days when transaction date is anterior to prior expiration date and no active cancellation\n",
    "    crit_mem = (df_current.transaction_date <= df_current.prior_expiration) & (df_current.is_cancel == False)\n",
    "    df_current.loc[crit_mem,'delta_days'] = (df_current.loc[crit_mem, 'membership_expire_date'] -\\\n",
    "                                df_current.loc[crit_mem, 'prior_expiration']).astype('timedelta64[D]')\n",
    "\n",
    "    # take care of one time occurrence when transaction date and expiration date do not overlap\n",
    "    crit_unq = (df_current.delta_days.isnull()) & (df_current.is_cancel == False)\n",
    "    df_current.loc[crit_unq, 'delta_days'] = np.floor((df_current.loc[crit_unq, 'membership_expire_date'] - \\\n",
    "                                            df_current.loc[crit_unq, 'transaction_date'])/pd.Timedelta('1 day'))\n",
    "\n",
    "    # fillna() with forward fill for active cancellation (all remaining NaN except if first record in current df)\n",
    "    df_current.delta_days = df_current.delta_days.fillna(method='ffill')\n",
    "\n",
    "    return df_current"
   ]
  },
  {
   "cell_type": "code",
   "execution_count": 157,
   "metadata": {
    "collapsed": true
   },
   "outputs": [],
   "source": [
    "# 2,363,626 users\n",
    "# df_group.groups.keys()\n",
    "import time"
   ]
  },
  {
   "cell_type": "code",
   "execution_count": 54,
   "metadata": {
    "collapsed": true
   },
   "outputs": [],
   "source": [
    "df_group = df_transac.groupby('msno', sort=False)"
   ]
  },
  {
   "cell_type": "code",
   "execution_count": 57,
   "metadata": {},
   "outputs": [
    {
     "name": "stdout",
     "output_type": "stream",
     "text": [
      "--- 6.549419403076172 seconds ellapsed in for loop---\n"
     ]
    }
   ],
   "source": [
    "# Take 345 second for 100 => 3.45s per group! that's 92 days of running time! not acceptable\n",
    "# Not dropping any records and keeping track of them instead, 28.5s for 100 => 0.285s per group, that's 7 days\n",
    "# In addition not making changes and keeping track of them, 11s for 100 => 0.11s per group, that's 3 days\n",
    "#(1.7 days if msno is categorical)\n",
    "# get start time of timer for processing time\n",
    "start_time = time.time()\n",
    "counter = 0\n",
    "record2remove = []\n",
    "\n",
    "for user_name, user_df in df_group:\n",
    "    # get transactions from user\n",
    "    df_current = compute_plan_days(user_df.sort_values(['transaction_date', 'membership_expire_date']))\n",
    "    \n",
    "    # remove any remaining NaN and negative delta days\n",
    "    crit_rm = (df_current.delta_days.isnull())  | ( df_current.delta_days <= 0 )\n",
    "    \n",
    "    # remove them in the master dataframe\n",
    "#     df_transac.drop(df_current[crit_rm].index, inplace = True)\n",
    "    record2remove.extend(df_current[crit_rm].index)\n",
    "    # have to do it after I used it for df_transac\n",
    "    df_current = df_current[~crit_rm].copy()\n",
    "\n",
    "    # adjust days to match monthly plan when applicable\n",
    "    df_current = match_plan(df_current)\n",
    "\n",
    "    # replace 0-days payment plan by delta days\n",
    "    crit_rpl = df_current.payment_plan_days == 0\n",
    "    # df_current.loc[crit_rpl, 'payment_plan_days'] = df_current.loc[crit_rpl, 'delta_days'].astype('int64')\n",
    "    # do it again on the master dataframe...\n",
    "    index2change = df_current[crit_rpl].index\n",
    "#     df_transac.loc[index2change, 'payment_plan_days'] = df_current.loc[crit_rpl, 'delta_days'].astype('int64')\n",
    "    \n",
    "    counter += 1\n",
    "    if counter > 100: break\n",
    "\n",
    "print(\"--- %s seconds ellapsed in for loop---\" % (time.time() - start_time))"
   ]
  },
  {
   "cell_type": "code",
   "execution_count": null,
   "metadata": {
    "collapsed": true
   },
   "outputs": [],
   "source": []
  },
  {
   "cell_type": "code",
   "execution_count": null,
   "metadata": {
    "collapsed": true
   },
   "outputs": [],
   "source": []
  },
  {
   "cell_type": "code",
   "execution_count": null,
   "metadata": {
    "collapsed": true
   },
   "outputs": [],
   "source": []
  },
  {
   "cell_type": "markdown",
   "metadata": {},
   "source": [
    "### Unique transaction, missing payment plan days replacement strategy\n",
    "From unique transaction without missing payment plan days values, get the most popular actual amount paid.\n",
    "When an amount is linked to multiple plan days then pick the most significant plan days in terms of count."
   ]
  },
  {
   "cell_type": "code",
   "execution_count": null,
   "metadata": {
    "collapsed": true
   },
   "outputs": [],
   "source": [
    "# discard active cancellation, unique transaction with missing payment days\n",
    "crit_unq_cancel = (df_transac.msno.isin(users_unq_trans)) & (df_transac.payment_plan_days == 0) & (df_transac.is_cancel == True)\n",
    "df_transac = df_transac.loc[ ~crit_unq_cancel ,:]"
   ]
  },
  {
   "cell_type": "code",
   "execution_count": 329,
   "metadata": {
    "collapsed": true
   },
   "outputs": [],
   "source": [
    "crit_fill_plan = (df_transac.msno.isin(users_unq_trans)) & (df_transac.payment_plan_days != 0) & (df_transac.is_cancel == False)\n",
    "\n",
    "df_plan_grouped = df_transac.loc[ crit_fill_plan, ['payment_plan_days', 'actual_amount_paid']].groupby('payment_plan_days')\n",
    "\n",
    "# most common actual ammount paid and its associated count\n",
    "df_mcommon = df_plan_grouped.agg([lambda x: x.mode(), 'size'] )\n",
    "\n",
    "# remove top level column\n",
    "df_mcommon.columns = df_mcommon.columns.droplevel(0)\n",
    "\n",
    "# rename columns\n",
    "df_mcommon.columns = ['top_actual_amount', 'freq_count']\n",
    "\n",
    "# group by top actual amount paid and keep top payment plan days\n",
    "s_mcommon = df_mcommon.groupby('top_actual_amount')['freq_count'].nlargest(n=1)\n",
    "\n",
    "# move second level index (payment plan days) to a column\n",
    "s_mcommon = s_mcommon.reset_index(level = 1)\n",
    "\n",
    "# drop frequency count column (not needed anymore)\n",
    "s_mcommon.drop('freq_count', axis = 1, inplace = True)"
   ]
  },
  {
   "cell_type": "code",
   "execution_count": 317,
   "metadata": {
    "collapsed": true
   },
   "outputs": [],
   "source": [
    "# df_plan_grouped.nth(0)\n",
    "# df_plan_grouped.ngroup()\n",
    "# df_plan_grouped.describe()\n",
    "# len(df_plan_grouped)"
   ]
  },
  {
   "cell_type": "code",
   "execution_count": 308,
   "metadata": {
    "collapsed": true,
    "scrolled": false
   },
   "outputs": [],
   "source": [
    "# _ , axunq = plt.subplots(len(df_plan_grouped),1, figsize=(8, 80))\n",
    "\n",
    "# for ind, (plan_name, plan_df) in enumerate(df_plan_grouped):\n",
    "#     pl_x = plan_df['actual_amount_paid'].sort_values().values\n",
    "#     pl_y = np.arange(1, len(pl_x)+1) / len(pl_x)\n",
    "#     axunq[ind].plot(pl_x, pl_y, '.')\n",
    "#     axunq[ind].set_ylabel('{:.2f}'.format(plan_name))"
   ]
  },
  {
   "cell_type": "code",
   "execution_count": null,
   "metadata": {
    "collapsed": true
   },
   "outputs": [],
   "source": []
  },
  {
   "cell_type": "code",
   "execution_count": null,
   "metadata": {
    "collapsed": true
   },
   "outputs": [],
   "source": []
  },
  {
   "cell_type": "code",
   "execution_count": null,
   "metadata": {
    "collapsed": true
   },
   "outputs": [],
   "source": []
  }
 ],
 "metadata": {
  "kernelspec": {
   "display_name": "kkbox_churn_kernel",
   "language": "python",
   "name": "kkbox_churn"
  },
  "language_info": {
   "codemirror_mode": {
    "name": "ipython",
    "version": 3
   },
   "file_extension": ".py",
   "mimetype": "text/x-python",
   "name": "python",
   "nbconvert_exporter": "python",
   "pygments_lexer": "ipython3",
   "version": "3.6.4"
  }
 },
 "nbformat": 4,
 "nbformat_minor": 2
}
