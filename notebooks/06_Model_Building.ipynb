{
 "cells": [
  {
   "cell_type": "code",
   "execution_count": 120,
   "metadata": {},
   "outputs": [],
   "source": [
    "import pandas as pd\n",
    "import numpy as np\n",
    "import os\n",
    "import re\n",
    "import matplotlib.pyplot as plt\n",
    "from collections import Counter\n",
    "\n",
    "# keep matplotlib interactive\n",
    "# %matplotlib notebook\n",
    "%matplotlib inline\n",
    "\n",
    "# use ggplot style\n",
    "plt.style.use('ggplot')"
   ]
  },
  {
   "cell_type": "markdown",
   "metadata": {},
   "source": [
    "# Preface\n",
    "Prior to building a model, we first need to make sure categorical data are encoded then we need to split our data into a train and test set. Because of class imbalance we will need to use upsampling (SMOTE or ADASYN) or downsampling.\n"
   ]
  },
  {
   "cell_type": "code",
   "execution_count": 88,
   "metadata": {},
   "outputs": [],
   "source": [
    "feature_list = []"
   ]
  },
  {
   "cell_type": "markdown",
   "metadata": {},
   "source": [
    "### Activity log features"
   ]
  },
  {
   "cell_type": "code",
   "execution_count": 89,
   "metadata": {},
   "outputs": [],
   "source": [
    "proc_dir = os.path.join(os.pardir, 'data', 'processed', 'activity_features.p34')\n",
    "df_proc = pd.read_pickle(proc_dir)"
   ]
  },
  {
   "cell_type": "code",
   "execution_count": 90,
   "metadata": {},
   "outputs": [],
   "source": [
    "# remove data from February 2017 (last month and prediction month) and July 2016 (first month, keep 6 months history only)\n",
    "rm_month = df_proc.columns.get_level_values(level = 1).unique()[[0,1,2,3,-1]]\n",
    "df_proc = df_proc.drop(labels=rm_month, axis = 1, level = 1)"
   ]
  },
  {
   "cell_type": "code",
   "execution_count": 91,
   "metadata": {},
   "outputs": [],
   "source": [
    "notpercent_column = [col for col in df_proc.columns.get_level_values(level = 0).unique() if not re.match('\\w+_pct', col)]\n",
    "df_proc = df_proc.drop(labels=notpercent_column, axis = 1, level = 0)"
   ]
  },
  {
   "cell_type": "code",
   "execution_count": 92,
   "metadata": {},
   "outputs": [],
   "source": [
    "# temporary: replace infinity values by 1\n",
    "df_proc = df_proc.replace(to_replace = np.inf, value = 1)"
   ]
  },
  {
   "cell_type": "code",
   "execution_count": 93,
   "metadata": {},
   "outputs": [],
   "source": [
    "# collect activity dataframe\n",
    "feature_list.append(df_proc)"
   ]
  },
  {
   "cell_type": "markdown",
   "metadata": {},
   "source": [
    "### Transaction features"
   ]
  },
  {
   "cell_type": "code",
   "execution_count": 94,
   "metadata": {},
   "outputs": [],
   "source": [
    "# import our transaction features\n",
    "trans_proc_dir = os.path.join(os.pardir, 'data', 'processed', 'transactions_February2017.p34')\n",
    "df_trans = pd.read_pickle(trans_proc_dir)"
   ]
  },
  {
   "cell_type": "code",
   "execution_count": 95,
   "metadata": {},
   "outputs": [],
   "source": [
    "# change pay_id to integer from boolean\n",
    "df_trans.pay_id = df_trans.pay_id.astype('int64')"
   ]
  },
  {
   "cell_type": "markdown",
   "metadata": {},
   "source": [
    "Encode payment ID and plan duration. Plan duration is an object type thus it will be encoded. Payment ID was an integer so we had to convert it to categorical."
   ]
  },
  {
   "cell_type": "code",
   "execution_count": 96,
   "metadata": {},
   "outputs": [],
   "source": [
    "# one-hot encoding scheme for plan duration\n",
    "df_trans = pd.get_dummies(df_trans, drop_first=True)"
   ]
  },
  {
   "cell_type": "code",
   "execution_count": 97,
   "metadata": {},
   "outputs": [],
   "source": [
    "feature_list.append(df_trans)"
   ]
  },
  {
   "cell_type": "markdown",
   "metadata": {},
   "source": [
    "### Combine features\n",
    "Encode category and consolidate hierarchical index to a single index"
   ]
  },
  {
   "cell_type": "code",
   "execution_count": 98,
   "metadata": {},
   "outputs": [],
   "source": [
    "# add target values\n",
    "# eligible users are provided in a csv file\n",
    "train_dir = os.path.join(os.pardir, 'data', 'processed', 'train.csv')\n",
    "s_users = pd.read_csv(train_dir, index_col='msno', dtype = {'is_churn' : np.bool})"
   ]
  },
  {
   "cell_type": "code",
   "execution_count": 99,
   "metadata": {},
   "outputs": [],
   "source": [
    "feature_list.append(s_users)"
   ]
  },
  {
   "cell_type": "code",
   "execution_count": 100,
   "metadata": {},
   "outputs": [],
   "source": [
    "# concatenate all features\n",
    "df_full = pd.concat(feature_list, axis = 1)"
   ]
  },
  {
   "cell_type": "code",
   "execution_count": 101,
   "metadata": {},
   "outputs": [
    {
     "data": {
      "text/plain": [
       "((987814, 11), (834803, 36))"
      ]
     },
     "execution_count": 101,
     "metadata": {},
     "output_type": "execute_result"
    }
   ],
   "source": [
    "df_trans.shape, df_proc.shape"
   ]
  },
  {
   "cell_type": "code",
   "execution_count": 102,
   "metadata": {},
   "outputs": [],
   "source": [
    "# some users have transaction but no activity\n",
    "df_full = df_full.fillna(value=0)"
   ]
  },
  {
   "cell_type": "code",
   "execution_count": 103,
   "metadata": {},
   "outputs": [],
   "source": [
    "# rename columns with tuple from multiIndex\n",
    "col_names = df_full.columns\n",
    "name_formatted = [ '_'.join([col[0], col[1].strftime('%b_%Y')]) if isinstance(col, tuple) else col for col in col_names ]\n",
    "df_full.columns = name_formatted"
   ]
  },
  {
   "cell_type": "code",
   "execution_count": 104,
   "metadata": {},
   "outputs": [
    {
     "data": {
      "text/html": [
       "<div>\n",
       "<style scoped>\n",
       "    .dataframe tbody tr th:only-of-type {\n",
       "        vertical-align: middle;\n",
       "    }\n",
       "\n",
       "    .dataframe tbody tr th {\n",
       "        vertical-align: top;\n",
       "    }\n",
       "\n",
       "    .dataframe thead th {\n",
       "        text-align: right;\n",
       "    }\n",
       "</style>\n",
       "<table border=\"1\" class=\"dataframe\">\n",
       "  <thead>\n",
       "    <tr style=\"text-align: right;\">\n",
       "      <th></th>\n",
       "      <th>cum_100_pct_Nov_2016</th>\n",
       "      <th>cum_100_pct_Dec_2016</th>\n",
       "      <th>cum_100_pct_Jan_2017</th>\n",
       "      <th>cum_50_pct_Nov_2016</th>\n",
       "      <th>cum_50_pct_Dec_2016</th>\n",
       "      <th>cum_50_pct_Jan_2017</th>\n",
       "      <th>cum_75_pct_Nov_2016</th>\n",
       "      <th>cum_75_pct_Dec_2016</th>\n",
       "      <th>cum_75_pct_Jan_2017</th>\n",
       "      <th>cum_985_pct_Nov_2016</th>\n",
       "      <th>...</th>\n",
       "      <th>auto_renew_ratio</th>\n",
       "      <th>uninterrupted_days</th>\n",
       "      <th>pay_id</th>\n",
       "      <th>plan_duration_180 - 269</th>\n",
       "      <th>plan_duration_270 - 364</th>\n",
       "      <th>plan_duration_30 - 89</th>\n",
       "      <th>plan_duration_365 - 485</th>\n",
       "      <th>plan_duration_8 - 29</th>\n",
       "      <th>plan_duration_90 - 179</th>\n",
       "      <th>is_churn</th>\n",
       "    </tr>\n",
       "  </thead>\n",
       "  <tbody>\n",
       "    <tr>\n",
       "      <th>+++hVY1rZox/33YtvDgmKA2Frg/2qhkz12B9ylCvh8o=</th>\n",
       "      <td>0.000000</td>\n",
       "      <td>-0.188041</td>\n",
       "      <td>-0.348910</td>\n",
       "      <td>0.000000</td>\n",
       "      <td>-0.316745</td>\n",
       "      <td>-0.249822</td>\n",
       "      <td>0.000000</td>\n",
       "      <td>-0.263506</td>\n",
       "      <td>-0.231135</td>\n",
       "      <td>0.000000</td>\n",
       "      <td>...</td>\n",
       "      <td>1.0</td>\n",
       "      <td>91</td>\n",
       "      <td>1</td>\n",
       "      <td>0</td>\n",
       "      <td>0</td>\n",
       "      <td>1</td>\n",
       "      <td>0</td>\n",
       "      <td>0</td>\n",
       "      <td>0</td>\n",
       "      <td>False</td>\n",
       "    </tr>\n",
       "    <tr>\n",
       "      <th>+++l/EXNMLTijfLBa8p2TUVVVp2aFGSuUI/h7mLmthw=</th>\n",
       "      <td>-0.212651</td>\n",
       "      <td>0.063855</td>\n",
       "      <td>0.337032</td>\n",
       "      <td>0.927900</td>\n",
       "      <td>-0.224233</td>\n",
       "      <td>1.117647</td>\n",
       "      <td>0.658740</td>\n",
       "      <td>-0.074575</td>\n",
       "      <td>0.891304</td>\n",
       "      <td>0.511936</td>\n",
       "      <td>...</td>\n",
       "      <td>1.0</td>\n",
       "      <td>181</td>\n",
       "      <td>0</td>\n",
       "      <td>0</td>\n",
       "      <td>0</td>\n",
       "      <td>1</td>\n",
       "      <td>0</td>\n",
       "      <td>0</td>\n",
       "      <td>0</td>\n",
       "      <td>False</td>\n",
       "    </tr>\n",
       "    <tr>\n",
       "      <th>+++snpr7pmobhLKUgSHTv/mpkqgBT0tQJ0zQj6qKrqc=</th>\n",
       "      <td>0.553265</td>\n",
       "      <td>-0.524644</td>\n",
       "      <td>0.263980</td>\n",
       "      <td>-0.443223</td>\n",
       "      <td>0.113761</td>\n",
       "      <td>0.725709</td>\n",
       "      <td>-0.427692</td>\n",
       "      <td>0.096774</td>\n",
       "      <td>0.731481</td>\n",
       "      <td>-0.406162</td>\n",
       "      <td>...</td>\n",
       "      <td>1.0</td>\n",
       "      <td>762</td>\n",
       "      <td>1</td>\n",
       "      <td>0</td>\n",
       "      <td>0</td>\n",
       "      <td>1</td>\n",
       "      <td>0</td>\n",
       "      <td>0</td>\n",
       "      <td>0</td>\n",
       "      <td>False</td>\n",
       "    </tr>\n",
       "    <tr>\n",
       "      <th>++/9R3sX37CjxbY/AaGvbwr3QkwElKBCtSvVzhCBDOk=</th>\n",
       "      <td>0.013899</td>\n",
       "      <td>-0.092958</td>\n",
       "      <td>-0.288245</td>\n",
       "      <td>-0.248546</td>\n",
       "      <td>-0.290323</td>\n",
       "      <td>-0.448485</td>\n",
       "      <td>-0.195677</td>\n",
       "      <td>-0.277487</td>\n",
       "      <td>-0.504563</td>\n",
       "      <td>-0.181574</td>\n",
       "      <td>...</td>\n",
       "      <td>1.0</td>\n",
       "      <td>337</td>\n",
       "      <td>1</td>\n",
       "      <td>0</td>\n",
       "      <td>0</td>\n",
       "      <td>1</td>\n",
       "      <td>0</td>\n",
       "      <td>0</td>\n",
       "      <td>0</td>\n",
       "      <td>False</td>\n",
       "    </tr>\n",
       "    <tr>\n",
       "      <th>++/UDNo9DLrxT8QVGiDi1OnWfczAdEwThaVyD0fXO50=</th>\n",
       "      <td>-0.156595</td>\n",
       "      <td>0.765223</td>\n",
       "      <td>-0.286036</td>\n",
       "      <td>-0.073684</td>\n",
       "      <td>0.442593</td>\n",
       "      <td>-0.130081</td>\n",
       "      <td>-0.073684</td>\n",
       "      <td>0.474673</td>\n",
       "      <td>-0.150877</td>\n",
       "      <td>-0.004211</td>\n",
       "      <td>...</td>\n",
       "      <td>1.0</td>\n",
       "      <td>181</td>\n",
       "      <td>0</td>\n",
       "      <td>0</td>\n",
       "      <td>0</td>\n",
       "      <td>1</td>\n",
       "      <td>0</td>\n",
       "      <td>0</td>\n",
       "      <td>0</td>\n",
       "      <td>False</td>\n",
       "    </tr>\n",
       "  </tbody>\n",
       "</table>\n",
       "<p>5 rows × 48 columns</p>\n",
       "</div>"
      ],
      "text/plain": [
       "                                              cum_100_pct_Nov_2016  \\\n",
       "+++hVY1rZox/33YtvDgmKA2Frg/2qhkz12B9ylCvh8o=              0.000000   \n",
       "+++l/EXNMLTijfLBa8p2TUVVVp2aFGSuUI/h7mLmthw=             -0.212651   \n",
       "+++snpr7pmobhLKUgSHTv/mpkqgBT0tQJ0zQj6qKrqc=              0.553265   \n",
       "++/9R3sX37CjxbY/AaGvbwr3QkwElKBCtSvVzhCBDOk=              0.013899   \n",
       "++/UDNo9DLrxT8QVGiDi1OnWfczAdEwThaVyD0fXO50=             -0.156595   \n",
       "\n",
       "                                              cum_100_pct_Dec_2016  \\\n",
       "+++hVY1rZox/33YtvDgmKA2Frg/2qhkz12B9ylCvh8o=             -0.188041   \n",
       "+++l/EXNMLTijfLBa8p2TUVVVp2aFGSuUI/h7mLmthw=              0.063855   \n",
       "+++snpr7pmobhLKUgSHTv/mpkqgBT0tQJ0zQj6qKrqc=             -0.524644   \n",
       "++/9R3sX37CjxbY/AaGvbwr3QkwElKBCtSvVzhCBDOk=             -0.092958   \n",
       "++/UDNo9DLrxT8QVGiDi1OnWfczAdEwThaVyD0fXO50=              0.765223   \n",
       "\n",
       "                                              cum_100_pct_Jan_2017  \\\n",
       "+++hVY1rZox/33YtvDgmKA2Frg/2qhkz12B9ylCvh8o=             -0.348910   \n",
       "+++l/EXNMLTijfLBa8p2TUVVVp2aFGSuUI/h7mLmthw=              0.337032   \n",
       "+++snpr7pmobhLKUgSHTv/mpkqgBT0tQJ0zQj6qKrqc=              0.263980   \n",
       "++/9R3sX37CjxbY/AaGvbwr3QkwElKBCtSvVzhCBDOk=             -0.288245   \n",
       "++/UDNo9DLrxT8QVGiDi1OnWfczAdEwThaVyD0fXO50=             -0.286036   \n",
       "\n",
       "                                              cum_50_pct_Nov_2016  \\\n",
       "+++hVY1rZox/33YtvDgmKA2Frg/2qhkz12B9ylCvh8o=             0.000000   \n",
       "+++l/EXNMLTijfLBa8p2TUVVVp2aFGSuUI/h7mLmthw=             0.927900   \n",
       "+++snpr7pmobhLKUgSHTv/mpkqgBT0tQJ0zQj6qKrqc=            -0.443223   \n",
       "++/9R3sX37CjxbY/AaGvbwr3QkwElKBCtSvVzhCBDOk=            -0.248546   \n",
       "++/UDNo9DLrxT8QVGiDi1OnWfczAdEwThaVyD0fXO50=            -0.073684   \n",
       "\n",
       "                                              cum_50_pct_Dec_2016  \\\n",
       "+++hVY1rZox/33YtvDgmKA2Frg/2qhkz12B9ylCvh8o=            -0.316745   \n",
       "+++l/EXNMLTijfLBa8p2TUVVVp2aFGSuUI/h7mLmthw=            -0.224233   \n",
       "+++snpr7pmobhLKUgSHTv/mpkqgBT0tQJ0zQj6qKrqc=             0.113761   \n",
       "++/9R3sX37CjxbY/AaGvbwr3QkwElKBCtSvVzhCBDOk=            -0.290323   \n",
       "++/UDNo9DLrxT8QVGiDi1OnWfczAdEwThaVyD0fXO50=             0.442593   \n",
       "\n",
       "                                              cum_50_pct_Jan_2017  \\\n",
       "+++hVY1rZox/33YtvDgmKA2Frg/2qhkz12B9ylCvh8o=            -0.249822   \n",
       "+++l/EXNMLTijfLBa8p2TUVVVp2aFGSuUI/h7mLmthw=             1.117647   \n",
       "+++snpr7pmobhLKUgSHTv/mpkqgBT0tQJ0zQj6qKrqc=             0.725709   \n",
       "++/9R3sX37CjxbY/AaGvbwr3QkwElKBCtSvVzhCBDOk=            -0.448485   \n",
       "++/UDNo9DLrxT8QVGiDi1OnWfczAdEwThaVyD0fXO50=            -0.130081   \n",
       "\n",
       "                                              cum_75_pct_Nov_2016  \\\n",
       "+++hVY1rZox/33YtvDgmKA2Frg/2qhkz12B9ylCvh8o=             0.000000   \n",
       "+++l/EXNMLTijfLBa8p2TUVVVp2aFGSuUI/h7mLmthw=             0.658740   \n",
       "+++snpr7pmobhLKUgSHTv/mpkqgBT0tQJ0zQj6qKrqc=            -0.427692   \n",
       "++/9R3sX37CjxbY/AaGvbwr3QkwElKBCtSvVzhCBDOk=            -0.195677   \n",
       "++/UDNo9DLrxT8QVGiDi1OnWfczAdEwThaVyD0fXO50=            -0.073684   \n",
       "\n",
       "                                              cum_75_pct_Dec_2016  \\\n",
       "+++hVY1rZox/33YtvDgmKA2Frg/2qhkz12B9ylCvh8o=            -0.263506   \n",
       "+++l/EXNMLTijfLBa8p2TUVVVp2aFGSuUI/h7mLmthw=            -0.074575   \n",
       "+++snpr7pmobhLKUgSHTv/mpkqgBT0tQJ0zQj6qKrqc=             0.096774   \n",
       "++/9R3sX37CjxbY/AaGvbwr3QkwElKBCtSvVzhCBDOk=            -0.277487   \n",
       "++/UDNo9DLrxT8QVGiDi1OnWfczAdEwThaVyD0fXO50=             0.474673   \n",
       "\n",
       "                                              cum_75_pct_Jan_2017  \\\n",
       "+++hVY1rZox/33YtvDgmKA2Frg/2qhkz12B9ylCvh8o=            -0.231135   \n",
       "+++l/EXNMLTijfLBa8p2TUVVVp2aFGSuUI/h7mLmthw=             0.891304   \n",
       "+++snpr7pmobhLKUgSHTv/mpkqgBT0tQJ0zQj6qKrqc=             0.731481   \n",
       "++/9R3sX37CjxbY/AaGvbwr3QkwElKBCtSvVzhCBDOk=            -0.504563   \n",
       "++/UDNo9DLrxT8QVGiDi1OnWfczAdEwThaVyD0fXO50=            -0.150877   \n",
       "\n",
       "                                              cum_985_pct_Nov_2016    ...     \\\n",
       "+++hVY1rZox/33YtvDgmKA2Frg/2qhkz12B9ylCvh8o=              0.000000    ...      \n",
       "+++l/EXNMLTijfLBa8p2TUVVVp2aFGSuUI/h7mLmthw=              0.511936    ...      \n",
       "+++snpr7pmobhLKUgSHTv/mpkqgBT0tQJ0zQj6qKrqc=             -0.406162    ...      \n",
       "++/9R3sX37CjxbY/AaGvbwr3QkwElKBCtSvVzhCBDOk=             -0.181574    ...      \n",
       "++/UDNo9DLrxT8QVGiDi1OnWfczAdEwThaVyD0fXO50=             -0.004211    ...      \n",
       "\n",
       "                                              auto_renew_ratio  \\\n",
       "+++hVY1rZox/33YtvDgmKA2Frg/2qhkz12B9ylCvh8o=               1.0   \n",
       "+++l/EXNMLTijfLBa8p2TUVVVp2aFGSuUI/h7mLmthw=               1.0   \n",
       "+++snpr7pmobhLKUgSHTv/mpkqgBT0tQJ0zQj6qKrqc=               1.0   \n",
       "++/9R3sX37CjxbY/AaGvbwr3QkwElKBCtSvVzhCBDOk=               1.0   \n",
       "++/UDNo9DLrxT8QVGiDi1OnWfczAdEwThaVyD0fXO50=               1.0   \n",
       "\n",
       "                                              uninterrupted_days  pay_id  \\\n",
       "+++hVY1rZox/33YtvDgmKA2Frg/2qhkz12B9ylCvh8o=                  91       1   \n",
       "+++l/EXNMLTijfLBa8p2TUVVVp2aFGSuUI/h7mLmthw=                 181       0   \n",
       "+++snpr7pmobhLKUgSHTv/mpkqgBT0tQJ0zQj6qKrqc=                 762       1   \n",
       "++/9R3sX37CjxbY/AaGvbwr3QkwElKBCtSvVzhCBDOk=                 337       1   \n",
       "++/UDNo9DLrxT8QVGiDi1OnWfczAdEwThaVyD0fXO50=                 181       0   \n",
       "\n",
       "                                              plan_duration_180 - 269  \\\n",
       "+++hVY1rZox/33YtvDgmKA2Frg/2qhkz12B9ylCvh8o=                        0   \n",
       "+++l/EXNMLTijfLBa8p2TUVVVp2aFGSuUI/h7mLmthw=                        0   \n",
       "+++snpr7pmobhLKUgSHTv/mpkqgBT0tQJ0zQj6qKrqc=                        0   \n",
       "++/9R3sX37CjxbY/AaGvbwr3QkwElKBCtSvVzhCBDOk=                        0   \n",
       "++/UDNo9DLrxT8QVGiDi1OnWfczAdEwThaVyD0fXO50=                        0   \n",
       "\n",
       "                                              plan_duration_270 - 364  \\\n",
       "+++hVY1rZox/33YtvDgmKA2Frg/2qhkz12B9ylCvh8o=                        0   \n",
       "+++l/EXNMLTijfLBa8p2TUVVVp2aFGSuUI/h7mLmthw=                        0   \n",
       "+++snpr7pmobhLKUgSHTv/mpkqgBT0tQJ0zQj6qKrqc=                        0   \n",
       "++/9R3sX37CjxbY/AaGvbwr3QkwElKBCtSvVzhCBDOk=                        0   \n",
       "++/UDNo9DLrxT8QVGiDi1OnWfczAdEwThaVyD0fXO50=                        0   \n",
       "\n",
       "                                              plan_duration_30 - 89  \\\n",
       "+++hVY1rZox/33YtvDgmKA2Frg/2qhkz12B9ylCvh8o=                      1   \n",
       "+++l/EXNMLTijfLBa8p2TUVVVp2aFGSuUI/h7mLmthw=                      1   \n",
       "+++snpr7pmobhLKUgSHTv/mpkqgBT0tQJ0zQj6qKrqc=                      1   \n",
       "++/9R3sX37CjxbY/AaGvbwr3QkwElKBCtSvVzhCBDOk=                      1   \n",
       "++/UDNo9DLrxT8QVGiDi1OnWfczAdEwThaVyD0fXO50=                      1   \n",
       "\n",
       "                                              plan_duration_365 - 485  \\\n",
       "+++hVY1rZox/33YtvDgmKA2Frg/2qhkz12B9ylCvh8o=                        0   \n",
       "+++l/EXNMLTijfLBa8p2TUVVVp2aFGSuUI/h7mLmthw=                        0   \n",
       "+++snpr7pmobhLKUgSHTv/mpkqgBT0tQJ0zQj6qKrqc=                        0   \n",
       "++/9R3sX37CjxbY/AaGvbwr3QkwElKBCtSvVzhCBDOk=                        0   \n",
       "++/UDNo9DLrxT8QVGiDi1OnWfczAdEwThaVyD0fXO50=                        0   \n",
       "\n",
       "                                              plan_duration_8 - 29  \\\n",
       "+++hVY1rZox/33YtvDgmKA2Frg/2qhkz12B9ylCvh8o=                     0   \n",
       "+++l/EXNMLTijfLBa8p2TUVVVp2aFGSuUI/h7mLmthw=                     0   \n",
       "+++snpr7pmobhLKUgSHTv/mpkqgBT0tQJ0zQj6qKrqc=                     0   \n",
       "++/9R3sX37CjxbY/AaGvbwr3QkwElKBCtSvVzhCBDOk=                     0   \n",
       "++/UDNo9DLrxT8QVGiDi1OnWfczAdEwThaVyD0fXO50=                     0   \n",
       "\n",
       "                                              plan_duration_90 - 179  is_churn  \n",
       "+++hVY1rZox/33YtvDgmKA2Frg/2qhkz12B9ylCvh8o=                       0     False  \n",
       "+++l/EXNMLTijfLBa8p2TUVVVp2aFGSuUI/h7mLmthw=                       0     False  \n",
       "+++snpr7pmobhLKUgSHTv/mpkqgBT0tQJ0zQj6qKrqc=                       0     False  \n",
       "++/9R3sX37CjxbY/AaGvbwr3QkwElKBCtSvVzhCBDOk=                       0     False  \n",
       "++/UDNo9DLrxT8QVGiDi1OnWfczAdEwThaVyD0fXO50=                       0     False  \n",
       "\n",
       "[5 rows x 48 columns]"
      ]
     },
     "execution_count": 104,
     "metadata": {},
     "output_type": "execute_result"
    }
   ],
   "source": [
    "df_full.head()"
   ]
  },
  {
   "cell_type": "markdown",
   "metadata": {},
   "source": [
    "# Modeling"
   ]
  },
  {
   "cell_type": "code",
   "execution_count": 105,
   "metadata": {},
   "outputs": [],
   "source": [
    "from sklearn.model_selection import cross_validate, GridSearchCV, train_test_split\n",
    "from sklearn.preprocessing import MinMaxScaler\n",
    "from sklearn.linear_model import LogisticRegression\n",
    "from sklearn.pipeline import Pipeline\n",
    "from imblearn.pipeline import Pipeline as imbPipeline\n",
    "from imblearn.over_sampling import SMOTE\n",
    "from imblearn.under_sampling import EditedNearestNeighbours\n",
    "from sklearn.metrics import roc_curve, precision_recall_curve, classification_report"
   ]
  },
  {
   "cell_type": "markdown",
   "metadata": {},
   "source": [
    "### Train-Test split"
   ]
  },
  {
   "cell_type": "code",
   "execution_count": 106,
   "metadata": {},
   "outputs": [],
   "source": [
    "# get target values\n",
    "y = df_full.is_churn.values\n",
    "X = df_full.drop(labels='is_churn', axis = 1).values\n",
    "\n",
    "# keep test set\n",
    "X_train, X_test, y_train, y_test = \\\n",
    "            train_test_split( X , y, test_size = 0.1, random_state = 7, stratify = y)"
   ]
  },
  {
   "cell_type": "code",
   "execution_count": 107,
   "metadata": {},
   "outputs": [],
   "source": [
    "# # reduced size for debugging\n",
    "# X_train = X_train[:int(1e4),:]\n",
    "# y_train = y_train[:int(1e4)]"
   ]
  },
  {
   "cell_type": "code",
   "execution_count": 108,
   "metadata": {},
   "outputs": [
    {
     "name": "stdout",
     "output_type": "stream",
     "text": [
      "Training set size: (889032, 47) Size in memory: 334,276,032 Bytes\n",
      "Test set size: (98782, 47) Size in memory: 37,142,032 Bytes\n"
     ]
    }
   ],
   "source": [
    "# numpy array size\n",
    "print('Training set size:', X_train.shape, 'Size in memory:', '{:,} Bytes'.format(X_train.nbytes) )\n",
    "print('Test set size:', X_test.shape, 'Size in memory:', '{:,} Bytes'.format(X_test.nbytes))"
   ]
  },
  {
   "cell_type": "code",
   "execution_count": 109,
   "metadata": {},
   "outputs": [
    {
     "name": "stdout",
     "output_type": "stream",
     "text": [
      "No churn count (Negative class): 834,972 \n",
      "Churn count (Positive class): 54,060\n",
      "16:1 imbalance ratio\n"
     ]
    }
   ],
   "source": [
    "# figure out how much memory we need post upsampling\n",
    "imb = Counter(y_train)\n",
    "num_majo = imb[False]\n",
    "num_mino = imb[True]\n",
    "\n",
    "print('No churn count (Negative class): {:,}'.format(num_majo), '\\nChurn count (Positive class): {:,}'.format(num_mino))\n",
    "print('{:.0f}:1 imbalance ratio'.format(np.ceil(num_majo/num_mino)))"
   ]
  },
  {
   "cell_type": "code",
   "execution_count": 110,
   "metadata": {},
   "outputs": [
    {
     "name": "stdout",
     "output_type": "stream",
     "text": [
      "Training set size with minority class at 2:1 ratio : 470,924,208 Bytes (363426 samples added)\n"
     ]
    }
   ],
   "source": [
    "# size after upsampling for imbalance ratio of 2:1\n",
    "smote_sample = int(num_majo/2) - num_mino\n",
    "post_smote_byte = (X_train.shape[0] + smote_sample ) / X_train.shape[0] * X_train.nbytes\n",
    "print('Training set size with minority class at 2:1 ratio : {:,.0f} Bytes ({} samples added)'.format(\n",
    "                            post_smote_byte, smote_sample))"
   ]
  },
  {
   "cell_type": "markdown",
   "metadata": {},
   "source": [
    "### Logistic regression with regularization and class weights"
   ]
  },
  {
   "cell_type": "code",
   "execution_count": 123,
   "metadata": {},
   "outputs": [],
   "source": [
    "logw_clf = Pipeline([\n",
    "                       ('scaler', MinMaxScaler()),\n",
    "                       ('clf', LogisticRegression(random_state=7, class_weight='balanced', max_iter=200)),\n",
    "                    ])\n",
    "\n",
    "# paramter grid search\n",
    "parameters = [\n",
    "              {\n",
    "              'clf__C': [0.003, 0.01, 0.05],\n",
    "              'clf__penalty': ['l1'],\n",
    "              'clf__solver': ['saga'],\n",
    "              },\n",
    "#               {\n",
    "#               'clf__C': [0.1, 0.3, 1],\n",
    "#               'clf__penalty': ['l2'],\n",
    "#               'clf__solver': ['sag'],\n",
    "#               }\n",
    "            ]\n",
    "\n",
    "# set up grid search\n",
    "# f1 score to take into account precision and recall for the positive class (churn)\n",
    "# NOTE: during xval, it will default to stratified kfold for classifiers\n",
    "gsw_clf = GridSearchCV(logw_clf, param_grid = parameters, cv = 5 , scoring='f1' , n_jobs = -1, verbose = 3)"
   ]
  },
  {
   "cell_type": "code",
   "execution_count": 124,
   "metadata": {},
   "outputs": [
    {
     "name": "stdout",
     "output_type": "stream",
     "text": [
      "Fitting 5 folds for each of 3 candidates, totalling 15 fits\n"
     ]
    },
    {
     "name": "stderr",
     "output_type": "stream",
     "text": [
      "[Parallel(n_jobs=-1)]: Done   6 out of  15 | elapsed:   54.3s remaining:  1.4min\n",
      "[Parallel(n_jobs=-1)]: Done  12 out of  15 | elapsed:  1.7min remaining:   24.9s\n",
      "[Parallel(n_jobs=-1)]: Done  15 out of  15 | elapsed:  1.8min finished\n"
     ]
    }
   ],
   "source": [
    "# perform grid search CV on pipeline\n",
    "_ = gsw_clf.fit(X_train, y_train)"
   ]
  },
  {
   "cell_type": "code",
   "execution_count": 125,
   "metadata": {},
   "outputs": [
    {
     "data": {
      "text/plain": [
       "{'clf__C': 0.003, 'clf__penalty': 'l1', 'clf__solver': 'saga'}"
      ]
     },
     "execution_count": 125,
     "metadata": {},
     "output_type": "execute_result"
    }
   ],
   "source": [
    "gsw_clf.best_params_"
   ]
  },
  {
   "cell_type": "code",
   "execution_count": 126,
   "metadata": {},
   "outputs": [
    {
     "name": "stdout",
     "output_type": "stream",
     "text": [
      "Train f1 score =  0.3446174610209097\n",
      "Test f1 score =  0.344406779661017\n"
     ]
    }
   ],
   "source": [
    "# training set score\n",
    "print('Train f1 score = ', gsw_clf.score(X_train, y_train))\n",
    "# test set score\n",
    "print('Test f1 score = ', gsw_clf.score(X_test, y_test))"
   ]
  },
  {
   "cell_type": "code",
   "execution_count": 127,
   "metadata": {},
   "outputs": [
    {
     "name": "stdout",
     "output_type": "stream",
     "text": [
      "             precision    recall  f1-score   support\n",
      "\n",
      "   no churn       0.97      0.87      0.92    834972\n",
      "      churn       0.24      0.63      0.34     54060\n",
      "\n",
      "avg / total       0.93      0.85      0.88    889032\n",
      "\n"
     ]
    }
   ],
   "source": [
    "# show classification report\n",
    "y_pred_train = gsw_clf.predict(X_train)\n",
    "print(classification_report(y_train, y_pred_train, target_names=[\"no churn\", \"churn\"]))"
   ]
  },
  {
   "cell_type": "code",
   "execution_count": 128,
   "metadata": {},
   "outputs": [
    {
     "name": "stdout",
     "output_type": "stream",
     "text": [
      "             precision    recall  f1-score   support\n",
      "\n",
      "   no churn       0.97      0.87      0.92     92775\n",
      "      churn       0.24      0.63      0.34      6007\n",
      "\n",
      "avg / total       0.93      0.85      0.88     98782\n",
      "\n"
     ]
    }
   ],
   "source": [
    "# show classification report\n",
    "y_pred = gsw_clf.predict(X_test)\n",
    "print(classification_report(y_test, y_pred, target_names=[\"no churn\", \"churn\"]))"
   ]
  },
  {
   "cell_type": "code",
   "execution_count": 129,
   "metadata": {},
   "outputs": [
    {
     "data": {
      "image/png": "[encoded data removed]",
      "text/plain": [
       "<matplotlib.figure.Figure at 0x1f1c512c6a0>"
      ]
     },
     "metadata": {},
     "output_type": "display_data"
    }
   ],
   "source": [
    "y_pred_prob = gsw_clf.predict_proba(X_test)[:,1]\n",
    "precision, recall, thresholds = precision_recall_curve(y_test, y_pred_prob)\n",
    "close_zero = np.argmin(np.abs(thresholds-0.5))\n",
    "\n",
    "figimp , axpr = plt.subplots(figsize = (8, 5))\n",
    "# plot precision-recall\n",
    "axpr.plot(precision, recall, label='Logistic Regression')\n",
    "axpr.set_xlabel('Precision')\n",
    "axpr.set_ylabel('Recall (True Positive Rate)')\n",
    "axpr.set_title('Logistic Regression Precision-Recall Curve')\n",
    "# plot zero threshold\n",
    "axpr.plot(precision[close_zero], recall[close_zero], 'o', markersize=10,\n",
    "         label=\"threshold 0.5\", fillstyle=\"none\", c='k', mew=2)\n",
    "# mew: markeredgewidth\n",
    "_ = plt.legend()\n",
    "figimp.savefig(os.path.join(os.pardir, 'reports', 'figures', 'Precision_recall.png'))"
   ]
  },
  {
   "cell_type": "code",
   "execution_count": 118,
   "metadata": {
    "scrolled": true
   },
   "outputs": [],
   "source": [
    "import mglearn\n",
    "mglearn.plots.plot_binary_confusion_matrix()"
   ]
  },
  {
   "cell_type": "code",
   "execution_count": 130,
   "metadata": {
    "scrolled": false
   },
   "outputs": [
    {
     "data": {
      "image/png": "[encoded data removed]",
      "text/plain": [
       "<matplotlib.figure.Figure at 0x1f1aa899e80>"
      ]
     },
     "metadata": {},
     "output_type": "display_data"
    }
   ],
   "source": [
    "# get column names except target\n",
    "names = df_full.drop(labels='is_churn', axis = 1).columns\n",
    "\n",
    "# get coefficient of logistic regression model\n",
    "l1_coef = gsw_clf.best_estimator_.named_steps['clf'].coef_\n",
    "# flatten it\n",
    "l1_coef = np.abs(l1_coef.ravel())\n",
    "# get indices for sorting in descending order\n",
    "indsorted = l1_coef.argsort()[::-1]\n",
    "# apply indices to names and coeff\n",
    "names = names[indsorted[:10]]\n",
    "l1_coef = l1_coef[indsorted[:10]]\n",
    "y_pos = range(len(names))\n",
    "\n",
    "# make plot\n",
    "figimp , aximp = plt.subplots(figsize = (8, 10))\n",
    "aximp.barh(y_pos, l1_coef)\n",
    "aximp.set_yticks(y_pos)\n",
    "aximp.set_yticklabels(names)\n",
    "aximp.set_ylabel('Feature name')\n",
    "aximp.set_xlabel('Coefficients Importance')\n",
    "aximp.invert_yaxis()\n",
    "\n",
    "figimp.savefig(os.path.join(os.pardir, 'reports', 'figures', 'top_features.png'))"
   ]
  },
  {
   "cell_type": "markdown",
   "metadata": {},
   "source": [
    "### WIthout class weights\n",
    "(For comparison only)"
   ]
  },
  {
   "cell_type": "code",
   "execution_count": 131,
   "metadata": {},
   "outputs": [
    {
     "name": "stderr",
     "output_type": "stream",
     "text": [
      "[Parallel(n_jobs=-1)]: Done   2 out of   5 | elapsed:   20.5s remaining:   30.8s\n",
      "[Parallel(n_jobs=-1)]: Done   5 out of   5 | elapsed:   22.4s finished\n"
     ]
    },
    {
     "data": {
      "text/plain": [
       "0.07672231374993768"
      ]
     },
     "execution_count": 131,
     "metadata": {},
     "output_type": "execute_result"
    }
   ],
   "source": [
    "log_noweights = Pipeline([\n",
    "                       ('scaler', MinMaxScaler()),\n",
    "                       ('clf', LogisticRegression(C = 0.003, penalty = 'l1', solver='saga', random_state=7)),\n",
    "                     ])\n",
    "scores = cross_validate(log_noweights, X_train, y_train, cv = 5 , scoring='f1', verbose=3, n_jobs=-1)\n",
    "scores['test_score'].mean()"
   ]
  },
  {
   "cell_type": "code",
   "execution_count": 132,
   "metadata": {},
   "outputs": [],
   "source": [
    "_ = log_noweights.fit(X_train, y_train)"
   ]
  },
  {
   "cell_type": "code",
   "execution_count": 133,
   "metadata": {},
   "outputs": [
    {
     "name": "stdout",
     "output_type": "stream",
     "text": [
      "             precision    recall  f1-score   support\n",
      "\n",
      "      False       0.94      1.00      0.97     92775\n",
      "       True       0.55      0.07      0.12      6007\n",
      "\n",
      "avg / total       0.92      0.94      0.92     98782\n",
      "\n"
     ]
    }
   ],
   "source": [
    "# show classification report\n",
    "y_pred_lognoweights = log_noweights.predict(X_test)\n",
    "print(classification_report(y_test, y_pred_lognoweights))"
   ]
  },
  {
   "cell_type": "code",
   "execution_count": 134,
   "metadata": {},
   "outputs": [
    {
     "data": {
      "image/png": "[encoded data removed]",
      "text/plain": [
       "<matplotlib.figure.Figure at 0x1f1c512c4e0>"
      ]
     },
     "metadata": {},
     "output_type": "display_data"
    }
   ],
   "source": [
    "y_pred_prob_lognoweights = log_noweights.predict_proba(X_test)[:,1]\n",
    "precision_nw, recall_nw, thresholds_nw = precision_recall_curve(y_test, y_pred_prob_lognoweights)\n",
    "close_zero_nw = np.argmin(np.abs(thresholds_nw-0.5))\n",
    "\n",
    "figimp_nw , axpr_nw = plt.subplots(figsize = (8, 5))\n",
    "# plot precision-recall\n",
    "axpr_nw.plot(precision_nw, recall_nw, label='Logistic Regression No Weights', c='g')\n",
    "axpr_nw.set_xlabel('Precision')\n",
    "axpr_nw.set_ylabel('Recall (True Positive Rate)')\n",
    "axpr_nw.set_title('Logistic Regression Precision-Recall Curve')\n",
    "# plot zero threshold\n",
    "axpr_nw.plot(precision_nw[close_zero_nw], recall_nw[close_zero_nw], '^', markersize=10,\n",
    "         label=\"threshold 0.5 (No Weigths)\", fillstyle=\"none\", c='k', mew=2)\n",
    "\n",
    "# adding weighted model\n",
    "axpr_nw.plot(precision, recall, label='Logistic Regression', c='r')\n",
    "# plot zero threshold\n",
    "axpr_nw.plot(precision[close_zero], recall[close_zero], 'o', markersize=10,\n",
    "         label=\"threshold 0.5\", fillstyle=\"none\", c='k', mew=2)\n",
    "\n",
    "_ = plt.legend()"
   ]
  },
  {
   "cell_type": "markdown",
   "metadata": {},
   "source": [
    "# Random forest"
   ]
  },
  {
   "cell_type": "code",
   "execution_count": 135,
   "metadata": {},
   "outputs": [],
   "source": [
    "from sklearn.ensemble import RandomForestClassifier"
   ]
  },
  {
   "cell_type": "code",
   "execution_count": 136,
   "metadata": {},
   "outputs": [],
   "source": [
    "rf_clf = Pipeline([\n",
    "                       ('scaler', MinMaxScaler()),\n",
    "                       ('clf', RandomForestClassifier( random_state=7, class_weight='balanced_subsample')),\n",
    "                    ])\n",
    "\n",
    "# paramter grid search\n",
    "parameters = [\n",
    "              {\n",
    "              'clf__n_estimators': [100, 200, 300],\n",
    "              'clf__min_samples_leaf': [2,4,6],\n",
    "#               'clf__max_depth': [10, 15, 20],\n",
    "              }\n",
    "            ]\n",
    "\n",
    "# set up grid search\n",
    "gs_rf = GridSearchCV(rf_clf, param_grid = parameters, cv = 5 , scoring='f1' , n_jobs = -1, verbose = 3)"
   ]
  },
  {
   "cell_type": "code",
   "execution_count": null,
   "metadata": {},
   "outputs": [
    {
     "name": "stdout",
     "output_type": "stream",
     "text": [
      "Fitting 5 folds for each of 9 candidates, totalling 45 fits\n"
     ]
    },
    {
     "name": "stderr",
     "output_type": "stream",
     "text": [
      "[Parallel(n_jobs=-1)]: Done  16 tasks      | elapsed: 61.1min\n"
     ]
    }
   ],
   "source": [
    "# perform grid search CV on pipeline\n",
    "_ = gs_rf.fit(X_train, y_train)"
   ]
  },
  {
   "cell_type": "code",
   "execution_count": null,
   "metadata": {},
   "outputs": [],
   "source": [
    "gs_rf.best_params_"
   ]
  },
  {
   "cell_type": "code",
   "execution_count": 44,
   "metadata": {},
   "outputs": [],
   "source": [
    "# recover estimator from grid search (best estimator as it refit it at the end)\n",
    "# [t.tree_.max_depth for t in gs_rf.best_estimator_.named_steps['clf'].estimators_]"
   ]
  },
  {
   "cell_type": "code",
   "execution_count": 45,
   "metadata": {},
   "outputs": [
    {
     "name": "stdout",
     "output_type": "stream",
     "text": [
      "             precision    recall  f1-score   support\n",
      "\n",
      "not adopted       1.00      0.97      0.99      8318\n",
      "    adopted       0.86      0.99      0.92      1282\n",
      "\n",
      "avg / total       0.98      0.98      0.98      9600\n",
      "\n"
     ]
    }
   ],
   "source": [
    "# show classification report\n",
    "y_train_pred = gs_rf.predict(X_train)\n",
    "print(classification_report(y_train, y_train_pred, target_names=[\"not adopted\", \"adopted\"]))"
   ]
  },
  {
   "cell_type": "code",
   "execution_count": 46,
   "metadata": {},
   "outputs": [
    {
     "name": "stdout",
     "output_type": "stream",
     "text": [
      "             precision    recall  f1-score   support\n",
      "\n",
      "not adopted       0.99      0.97      0.98      2080\n",
      "    adopted       0.85      0.94      0.89       320\n",
      "\n",
      "avg / total       0.97      0.97      0.97      2400\n",
      "\n"
     ]
    }
   ],
   "source": [
    "# show classification report\n",
    "y_pred = gs_rf.predict(X_test)\n",
    "print(classification_report(y_test, y_pred, target_names=[\"not adopted\", \"adopted\"]))"
   ]
  },
  {
   "cell_type": "code",
   "execution_count": null,
   "metadata": {},
   "outputs": [],
   "source": [
    "# get column names except target\n",
    "names = df_full.drop(labels='is_churn', axis = 1).columns\n",
    "\n",
    "# get coefficient of logistic regression model\n",
    "l1_coef = gs_rf.best_estimator_.named_steps['clf'].feature_importances_\n",
    "# flatten it\n",
    "l1_coef = np.abs(l1_coef.ravel())\n",
    "# get indices for sorting in descending order\n",
    "indsorted = l1_coef.argsort()[::-1]\n",
    "# apply indices to names and coeff\n",
    "names = names[indsorted[:10]]\n",
    "l1_coef = l1_coef[indsorted[:10]]\n",
    "y_pos = range(len(names))\n",
    "\n",
    "# make plot\n",
    "figimp , aximp = plt.subplots(figsize = (8, 10))\n",
    "aximp.barh(y_pos, l1_coef)\n",
    "aximp.set_yticks(y_pos)\n",
    "aximp.set_yticklabels(names)\n",
    "aximp.set_ylabel('Feature name')\n",
    "aximp.set_xlabel('Importance')\n",
    "aximp.invert_yaxis()\n",
    "\n",
    "figimp.savefig(os.path.join(os.pardir, 'reports', 'figures', 'top_features_RF.png'))"
   ]
  },
  {
   "cell_type": "markdown",
   "metadata": {},
   "source": [
    "# Other approach using over-sampling/under-sampling\n",
    "\n",
    "It takes a long time to perform a grid search, think manys days, maybe a couple of weeks."
   ]
  },
  {
   "cell_type": "markdown",
   "metadata": {},
   "source": [
    "#### One step at a time for testing only"
   ]
  },
  {
   "cell_type": "code",
   "execution_count": null,
   "metadata": {},
   "outputs": [],
   "source": [
    "X_scaled = MinMaxScaler().fit_transform(X_train)"
   ]
  },
  {
   "cell_type": "code",
   "execution_count": null,
   "metadata": {},
   "outputs": [],
   "source": [
    "X_up, y_up = SMOTE(ratio = {0 : num_majo, 1: int(num_majo/2)},\\\n",
    "                   k_neighbors = 5, random_state=7, n_jobs=-1).fit_sample(X_scaled, y_train)\n",
    "# Counter(y_up)"
   ]
  },
  {
   "cell_type": "code",
   "execution_count": null,
   "metadata": {},
   "outputs": [],
   "source": [
    "LogisticRegression(C = 1, penalty = 'l1', solver='saga').fit(X_up, y_up)"
   ]
  },
  {
   "cell_type": "markdown",
   "metadata": {},
   "source": [
    "#### Single cross-validation"
   ]
  },
  {
   "cell_type": "code",
   "execution_count": null,
   "metadata": {},
   "outputs": [],
   "source": [
    "log_clf_xval = imbPipeline([\n",
    "                       ('scaler', MinMaxScaler()),\n",
    "                       ('imb', SMOTE(ratio = {0 : num_majo, 1: int(num_majo/2)}, k_neighbors = 5, random_state=7)),\n",
    "                       ('clf', LogisticRegression(C = 1, penalty = 'l2', solver='sag')),\n",
    "                     ])\n",
    "cross_validate(log_clf_xval, X_train, y_train, cv = 5 , scoring='f1', verbose=3, n_jobs=-1)"
   ]
  },
  {
   "cell_type": "markdown",
   "metadata": {},
   "source": [
    "#### Testing SMOTE and ENN separately"
   ]
  },
  {
   "cell_type": "code",
   "execution_count": null,
   "metadata": {},
   "outputs": [],
   "source": [
    "smx, smy = SMOTE(ratio = {0 : num_majo, 1: int(num_majo/2)}, k_neighbors = 5, n_jobs=-1).fit_sample(X_scaled, y_train)\n",
    "Counter(smy)"
   ]
  },
  {
   "cell_type": "code",
   "execution_count": null,
   "metadata": {},
   "outputs": [],
   "source": [
    "ennx, enny = EditedNearestNeighbours(ratio = 'all', kind_sel = 'mode', n_neighbors = 3, n_jobs=-1).fit_sample(smx, smy)\n",
    "Counter(enny)"
   ]
  },
  {
   "cell_type": "markdown",
   "metadata": {},
   "source": [
    "#### Testing SOMTE and ENN together (ratio in SMOTEENN is not used, SMOTE comes first then ENN with their respective ratio)"
   ]
  },
  {
   "cell_type": "code",
   "execution_count": null,
   "metadata": {},
   "outputs": [],
   "source": [
    "sm = SMOTE(ratio = {0 : num_majo, 1: int(num_majo/2)}, k_neighbors = 5, n_jobs=-1)\n",
    "enn = EditedNearestNeighbours(ratio = 'all', kind_sel = 'mode', n_neighbors = 3, n_jobs=-1)\n",
    "Xou, you = SMOTEENN(random_state=7, smote=sm, enn = enn).fit_sample(X_scaled, y_train)"
   ]
  },
  {
   "cell_type": "code",
   "execution_count": null,
   "metadata": {},
   "outputs": [],
   "source": [
    "Counter(you)"
   ]
  },
  {
   "cell_type": "markdown",
   "metadata": {},
   "source": [
    "#### Full grid search using over-sampling (SMOTE) and under-sampling (ENN)\n",
    "\n",
    "**Warnings** : it will takes days to run this grid search"
   ]
  },
  {
   "cell_type": "code",
   "execution_count": null,
   "metadata": {},
   "outputs": [],
   "source": [
    "# # cache transformer results for faster grid search\n",
    "# from tempfile import mkdtemp\n",
    "# cachedir = mkdtemp(dir=os.path.join(os.pardir))"
   ]
  },
  {
   "cell_type": "code",
   "execution_count": null,
   "metadata": {},
   "outputs": [],
   "source": [
    "log_clf = imbPipeline([\n",
    "                       ('scaler', MinMaxScaler()),\n",
    "                       ('imbup', SMOTE(random_state=7)),\n",
    "                       ('imbdown', EditedNearestNeighbours(random_state=7)),\n",
    "                       ('clf', LogisticRegression(random_state=7))),\n",
    "                     ])\n",
    "\n",
    "# paramter grid search\n",
    "parameters = [\n",
    "              {\n",
    "              'imbup__ratio': [{0 : num_majo, 1: int(num_majo/2)},\n",
    "                             {0 : num_majo, 1: int(num_majo/3)},\n",
    "                             {0 : num_majo, 1: int(num_majo/4)}],\n",
    "              'imbup__k_neighbors': [5, 6, 7],\n",
    "              'imbdown__ratio': ['all'],\n",
    "              'imbdown__n_neighbors': [2, 3, 4],\n",
    "              'imbdown__kind_sel': ['all', 'mode'],\n",
    "              'clf__C': [0.1, 0.3, 1],\n",
    "              'clf__penalty': ['l1'],\n",
    "              'clf__solver': ['saga'],\n",
    "              }\n",
    "              {\n",
    "              'imbup__ratio': [{0 : num_majo, 1: int(num_majo/2)},\n",
    "                             {0 : num_majo, 1: int(num_majo/3)},\n",
    "                             {0 : num_majo, 1: int(num_majo/4)}],\n",
    "              'imbup__k_neighbors': [5, 6, 7],\n",
    "              'imbdown__ratio': ['all'],\n",
    "              'imbdown__n_neighbors': [2, 3, 4],\n",
    "              'imbdown__kind_sel': ['all', 'mode'],\n",
    "              'clf__C': [0.1, 0.3, 1],\n",
    "              'clf__penalty': ['l2'],\n",
    "              'clf__solver': ['sag'],\n",
    "              }\n",
    "            ]\n",
    "\n",
    "# set up grid search\n",
    "# NOTE: during xval, it will default to stratified kfold for classifiers (f1 score)\n",
    "gs_clf = GridSearchCV(log_clf, param_grid = parameters, cv = 5 , scoring='f1' , n_jobs = -1, verbose = 3)"
   ]
  },
  {
   "cell_type": "code",
   "execution_count": null,
   "metadata": {},
   "outputs": [],
   "source": [
    "# perform grid search CV on pipeline\n",
    "gs_clf.fit(X_train, y_train)"
   ]
  },
  {
   "cell_type": "code",
   "execution_count": null,
   "metadata": {},
   "outputs": [],
   "source": [
    "# from shutil import rmtree\n",
    "# # Clear the cache directory when you don't need it anymore\n",
    "# rmtree(cachedir)"
   ]
  },
  {
   "cell_type": "code",
   "execution_count": null,
   "metadata": {},
   "outputs": [],
   "source": [
    "# ROC_AUC is not ideal for class imbalance as it doesn't focus on the minority class\n",
    "y_pred_prob = gsw_clf.predict_proba(X_test)[:,1]\n",
    "fpr, tpr, thresholds = roc_curve(y_test, y_pred_prob)\n",
    "close_zero = np.argmin(np.abs(thresholds-0.5))\n",
    "\n",
    "figimp , axroc = plt.subplots(figsize = (8, 5))\n",
    "# diagonal\n",
    "axroc.plot([0, 1], [0, 1], 'k--')\n",
    "# plot ROC\n",
    "axroc.plot(fpr, tpr, label='Logistic Regression')\n",
    "axroc.set_xlabel('False Positive Rate')\n",
    "axroc.set_ylabel('True Positive Rate (recall)')\n",
    "axroc.set_title('Logistic Regression ROC Curve')\n",
    "# plot zero threshold\n",
    "axroc.plot(fpr[close_zero], tpr[close_zero], 'o', markersize=10,\n",
    "         label=\"threshold 0.5\", fillstyle=\"none\", c='k', mew=2)\n",
    "_ = plt.legend()"
   ]
  }
 ],
 "metadata": {
  "kernelspec": {
   "display_name": "kkbox_churn_kernel",
   "language": "python",
   "name": "kkbox_churn"
  },
  "language_info": {
   "codemirror_mode": {
    "name": "ipython",
    "version": 3
   },
   "file_extension": ".py",
   "mimetype": "text/x-python",
   "name": "python",
   "nbconvert_exporter": "python",
   "pygments_lexer": "ipython3",
   "version": "3.6.4"
  }
 },
 "nbformat": 4,
 "nbformat_minor": 2
}
