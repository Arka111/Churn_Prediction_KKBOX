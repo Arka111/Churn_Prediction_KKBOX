{
 "cells": [
  {
   "cell_type": "code",
   "execution_count": 1,
   "metadata": {
    "collapsed": true
   },
   "outputs": [],
   "source": [
    "# import PostgreSQL python library\n",
    "import psycopg2 as pg2\n",
    "import os"
   ]
  },
  {
   "cell_type": "markdown",
   "metadata": {},
   "source": [
    "### Connect to database and get cursor"
   ]
  },
  {
   "cell_type": "code",
   "execution_count": 2,
   "metadata": {
    "collapsed": true
   },
   "outputs": [],
   "source": [
    "# connect to database\n",
    "conn = pg2.connect(dbname = 'kkbox', user='postgres', password = 'Hallmark')\n",
    "# create a cursor for queries\n",
    "cur = conn.cursor()"
   ]
  },
  {
   "cell_type": "markdown",
   "metadata": {},
   "source": [
    "### Create Activity Table"
   ]
  },
  {
   "cell_type": "code",
   "execution_count": 3,
   "metadata": {
    "collapsed": true
   },
   "outputs": [],
   "source": [
    "query1 = '''\n",
    "        CREATE TABLE Activity (\n",
    "            log_id serial PRIMARY KEY,\n",
    "            msno VARCHAR(50) NOT NULL,\n",
    "            date DATE,\n",
    "            num_25 integer,\n",
    "            num_50 integer,\n",
    "            num_75 integer,\n",
    "            num_985 integer,\n",
    "            num_100 integer,\n",
    "            num_unq integer,\n",
    "            total_secs real\n",
    "        );\n",
    "        '''"
   ]
  },
  {
   "cell_type": "code",
   "execution_count": 4,
   "metadata": {
    "collapsed": true
   },
   "outputs": [],
   "source": [
    "# run/execute query\n",
    "cur.execute(query1)"
   ]
  },
  {
   "cell_type": "markdown",
   "metadata": {},
   "source": [
    "### Insert data from csv file\n",
    "This operation took less than 30 minutes. When one aggreagates with Pandas by chunk, it takes 35-40 min to go through the whole log file."
   ]
  },
  {
   "cell_type": "code",
   "execution_count": 5,
   "metadata": {
    "collapsed": true
   },
   "outputs": [],
   "source": [
    "query2 = '''\n",
    "        COPY Activity (msno, date, num_25, num_50, num_75, num_985, num_100, num_unq, total_secs)\n",
    "        FROM %(file_path)s\n",
    "        (FORMAT CSV,\n",
    "        HEADER TRUE)\n",
    "        ;\n",
    "        '''\n",
    "user_log_dir = os.path.abspath(os.path.join(os.pardir, 'data', 'raw', 'user_logs.csv'))"
   ]
  },
  {
   "cell_type": "code",
   "execution_count": 6,
   "metadata": {
    "collapsed": true
   },
   "outputs": [],
   "source": [
    "# run/execute query with file path as argument\n",
    "cur.execute(query2, {'file_path': user_log_dir})"
   ]
  },
  {
   "cell_type": "markdown",
   "metadata": {},
   "source": [
    "### Commit changes, close cursor and connection"
   ]
  },
  {
   "cell_type": "code",
   "execution_count": 7,
   "metadata": {
    "collapsed": true
   },
   "outputs": [],
   "source": [
    "# Don't forget to commit your changes\n",
    "conn.commit()"
   ]
  },
  {
   "cell_type": "code",
   "execution_count": 8,
   "metadata": {
    "collapsed": true
   },
   "outputs": [],
   "source": [
    "# close cursor and connection\n",
    "cur.close()\n",
    "conn.close()"
   ]
  },
  {
   "cell_type": "markdown",
   "metadata": {},
   "source": [
    "### Data cleansing on total listening time\n",
    "Activity log is a daily activity log. We learned from data exploratory that total seconds have unrealistic high values (~1e9) or even negative values. Here we set them to NULL. An alternative would be to use the mean over a month for each user. However, we are planning to use the average engagement per month so even if we replace extreme value by the montly mean, it won't change our monthly average! It saves us time. "
   ]
  },
  {
   "cell_type": "code",
   "execution_count": 12,
   "metadata": {
    "collapsed": true
   },
   "outputs": [],
   "source": [
    "# connect to database\n",
    "with pg2.connect(dbname = 'kkbox', user='postgres', password = 'Hallmark') as conn:\n",
    "\n",
    "    # create a cursor for queries\n",
    "    cur = conn.cursor()\n",
    "    # compose query\n",
    "    query_totsec = '''\n",
    "            UPDATE Activity\n",
    "            SET total_secs = NULL\n",
    "            WHERE total_secs < 0 OR total_secs > 86400;\n",
    "            '''\n",
    "    cur.execute(query_totsec)\n",
    "    # Don't forget to commit your changes\n",
    "    conn.commit()\n",
    "    # close cursor\n",
    "    cur.close()"
   ]
  },
  {
   "cell_type": "code",
   "execution_count": null,
   "metadata": {},
   "outputs": [],
   "source": []
  },
  {
   "cell_type": "code",
   "execution_count": null,
   "metadata": {},
   "outputs": [],
   "source": []
  },
  {
   "cell_type": "code",
   "execution_count": null,
   "metadata": {},
   "outputs": [],
   "source": []
  },
  {
   "cell_type": "markdown",
   "metadata": {},
   "source": [
    "### Draft (Query data Example and others)"
   ]
  },
  {
   "cell_type": "code",
   "execution_count": 10,
   "metadata": {
    "collapsed": true
   },
   "outputs": [],
   "source": [
    "# # create query\n",
    "# query1 = '''\n",
    "#         SELECT starttime, firstname || ' ' || surname AS fullname\n",
    "#         FROM cd.bookings AS book\n",
    "#         JOIN cd.members AS me ON me.memid = book.memid\n",
    "#         WHERE firstname || ' ' || surname = 'David Farrell'\n",
    "#         '''\n",
    "\n",
    "# # exe query\n",
    "# cur.execute(query1)\n",
    "# # recover result of query\n",
    "# line = cur.fetchone()\n",
    "# lines = cur.fetchmany(5)\n",
    "# alllines = cur.fetchall()"
   ]
  },
  {
   "cell_type": "code",
   "execution_count": 11,
   "metadata": {
    "collapsed": true
   },
   "outputs": [],
   "source": [
    "# query1 = '''\n",
    "#         CREATE TABLE Activity_temp (\n",
    "#             log_id serial PRIMARY KEY,\n",
    "#             msno VARCHAR(50) NOT NULL,\n",
    "#             date DATE,\n",
    "#             num_25 integer CONSTRAINT positive_num25 CHECK(num_25 >= 0),\n",
    "#             num_50 integer CONSTRAINT positive_num50 CHECK(num_50 >= 0),\n",
    "#             num_75 integer CONSTRAINT positive_num75 CHECK(num_75 >= 0),\n",
    "#             num_985 integer CONSTRAINT positive_num985 CHECK(num_985 >= 0),\n",
    "#             num_100 integer CONSTRAINT positive_num100 CHECK(num_100 >= 0),\n",
    "#             num_unq integer CONSTRAINT positive_numunq CHECK(num_unq >= 0),\n",
    "#             total_secs real CONSTRAINT realistic_sec CHECK(total_secs > 0 AND total_secs < 86400)\n",
    "#         );\n",
    "#         '''"
   ]
  },
  {
   "cell_type": "markdown",
   "metadata": {},
   "source": [
    "### Cast total listening time to integer\n",
    "We could cast total time to an integer having the effect to round each value to the lowest second. It is better to to do so after aggregation as the difference between the rounded value and actual value can become non-negligible."
   ]
  },
  {
   "cell_type": "code",
   "execution_count": null,
   "metadata": {
    "collapsed": true
   },
   "outputs": [],
   "source": [
    "# ALTER TABLE Activity ALTER COLUMN total_secs TYPE integer;"
   ]
  }
 ],
 "metadata": {
  "kernelspec": {
   "display_name": "kkbox_churn_kernel",
   "language": "python",
   "name": "kkbox_churn"
  },
  "language_info": {
   "codemirror_mode": {
    "name": "ipython",
    "version": 3
   },
   "file_extension": ".py",
   "mimetype": "text/x-python",
   "name": "python",
   "nbconvert_exporter": "python",
   "pygments_lexer": "ipython3",
   "version": "3.6.4"
  }
 },
 "nbformat": 4,
 "nbformat_minor": 2
}
