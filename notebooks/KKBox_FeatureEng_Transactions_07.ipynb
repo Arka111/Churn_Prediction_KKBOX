{
 "cells": [
  {
   "cell_type": "markdown",
   "metadata": {},
   "source": [
    "### Clean Transaction file description:\n",
    "\n",
    "|                                       transactions.csv                                        |\n",
    "|-----------------------------------------------------------------------------------------------|\n",
    "| msno                   | user id  (letters, digits and special characters)                    |\n",
    "| payment_method_id      | payment method   (masked)                                            |\n",
    "| payment_plan_days      | length of membership plan in days                                    |\n",
    "| plan_list_price        | in New Taiwan Dollar (NTD)                                           |\n",
    "| actual_amount_paid     | in New Taiwan Dollar (NTD)                                           |\n",
    "| is_auto_renew          | true when customer opted in renewing its subscription automatically  |\n",
    "| transaction_date       | format %Y%m%d                                                        |\n",
    "| membership_expire_date | format %Y%m%d                                                        |\n",
    "| is_cancel              | whether or not the user canceled the membership in this transaction. |\n",
    "| plan_duration          | Intervals in days that fit payment_plan_days |"
   ]
  },
  {
   "cell_type": "markdown",
   "metadata": {},
   "source": [
    "### List of features:\n",
    "- Fraction of number of days left in expiration month (s_frac_day)\n",
    "- Number of days in or out of churning zone at the end of prediction month (s_churn_zone)\n",
    "- Ratio of active cancellation to number of transactions (s_cancel_ratio)\n",
    "- Ratio of auto renew to number of transactions (s_autorenew_ratio)\n",
    "- Number of uninterrupted days of membership (s_uninterusers)\n",
    "- Last Plan duration which is an added column during EDA (s_planduration)\n",
    "- Last Payment ID (s_payID)"
   ]
  },
  {
   "cell_type": "markdown",
   "metadata": {},
   "source": [
    "#### Necessary imports"
   ]
  },
  {
   "cell_type": "code",
   "execution_count": 1,
   "metadata": {
    "collapsed": true
   },
   "outputs": [],
   "source": [
    "import os\n",
    "import pandas as pd\n",
    "import numpy as np\n",
    "from time import time\n",
    "from datetime import timedelta"
   ]
  },
  {
   "cell_type": "markdown",
   "metadata": {},
   "source": [
    "#### Retrieve eligible users for training"
   ]
  },
  {
   "cell_type": "code",
   "execution_count": 2,
   "metadata": {
    "collapsed": true
   },
   "outputs": [],
   "source": [
    "# eligible users are provided in a csv file\n",
    "train_dir = os.path.join(os.pardir, 'data', 'raw', 'train.csv')\n",
    "s_users = pd.read_csv(train_dir, dtype = {'is_churn' : np.bool})"
   ]
  },
  {
   "cell_type": "code",
   "execution_count": 3,
   "metadata": {
    "collapsed": true
   },
   "outputs": [],
   "source": [
    "current_users = s_users.msno.values\n",
    "print('Number of eligible users for churn prediction', len(current_users))"
   ]
  },
  {
   "cell_type": "code",
   "execution_count": 5,
   "metadata": {},
   "outputs": [
    {
     "data": {
      "text/plain": [
       "992931"
      ]
     },
     "execution_count": 5,
     "metadata": {},
     "output_type": "execute_result"
    }
   ],
   "source": [
    "# Just checking for duplicates. There is none.\n",
    "s_users.msno.value_counts().count()"
   ]
  },
  {
   "cell_type": "markdown",
   "metadata": {},
   "source": [
    "#### Get cleaned transaction histories"
   ]
  },
  {
   "cell_type": "code",
   "execution_count": 8,
   "metadata": {
    "collapsed": true
   },
   "outputs": [],
   "source": [
    "transaction_dir = os.path.join(os.pardir, 'data', 'interim', 'transactions_clean.csv')\n",
    "df_transac = pd.read_csv(transaction_dir, parse_dates=['transaction_date', 'membership_expire_date'])"
   ]
  },
  {
   "cell_type": "code",
   "execution_count": 9,
   "metadata": {},
   "outputs": [
    {
     "name": "stdout",
     "output_type": "stream",
     "text": [
      "Number of distinct users in transaction history = 2328615\n"
     ]
    }
   ],
   "source": [
    "# Total distinct users\n",
    "Num_distinct_users = df_transac.msno.value_counts().count()\n",
    "print('Number of distinct users in transaction history =', Num_distinct_users)"
   ]
  },
  {
   "cell_type": "code",
   "execution_count": 10,
   "metadata": {
    "collapsed": true
   },
   "outputs": [],
   "source": [
    "# only keep eligible users as provided by KKBOX\n",
    "df_transac = df_transac[df_transac.msno.isin(current_users)]"
   ]
  },
  {
   "cell_type": "code",
   "execution_count": 11,
   "metadata": {},
   "outputs": [
    {
     "name": "stdout",
     "output_type": "stream",
     "text": [
      "Number of unique users: 972332\n"
     ]
    }
   ],
   "source": [
    "# some eligible users were removed during data wrangling of transaction data!\n",
    "# they were removed because I couldn't find a satisfying replacement for missing values\n",
    "unique_users = df_transac.msno.value_counts()\n",
    "print('Number of unique users:', unique_users.count())"
   ]
  },
  {
   "cell_type": "markdown",
   "metadata": {},
   "source": [
    "#### Recover discarded transactions (I didn't keep transactions for ~20k eligible users)"
   ]
  },
  {
   "cell_type": "code",
   "execution_count": 12,
   "metadata": {
    "collapsed": true
   },
   "outputs": [],
   "source": [
    "# load raw transaction data\n",
    "transaction_origin_dir = os.path.join(os.pardir, 'data', 'raw', 'transactions.csv')\n",
    "df_transac_origin = pd.read_csv(transaction_origin_dir, parse_dates=['transaction_date', 'membership_expire_date'])"
   ]
  },
  {
   "cell_type": "code",
   "execution_count": 13,
   "metadata": {
    "collapsed": true
   },
   "outputs": [],
   "source": [
    "# only keep eligible users\n",
    "df_transac_origin = df_transac_origin[df_transac_origin.msno.isin(current_users)]"
   ]
  },
  {
   "cell_type": "code",
   "execution_count": 14,
   "metadata": {
    "collapsed": true
   },
   "outputs": [],
   "source": [
    "# now we have all transactions from eligible users\n",
    "# df_transac_origin.msno.value_counts()"
   ]
  },
  {
   "cell_type": "code",
   "execution_count": 15,
   "metadata": {
    "collapsed": true
   },
   "outputs": [],
   "source": [
    "# keep discarded transactions not already present in cleaned data\n",
    "df_transac_origin = df_transac_origin[~df_transac_origin.msno.isin(unique_users.index)]"
   ]
  },
  {
   "cell_type": "markdown",
   "metadata": {},
   "source": [
    "Need to input data for plan duration"
   ]
  },
  {
   "cell_type": "code",
   "execution_count": 16,
   "metadata": {
    "collapsed": true
   },
   "outputs": [],
   "source": [
    "crit_30 = (df_transac_origin.payment_plan_days >= 28) & (df_transac_origin.payment_plan_days <= 32)\n",
    "df_transac_origin.loc[crit_30, 'payment_plan_days'] = 30"
   ]
  },
  {
   "cell_type": "code",
   "execution_count": 17,
   "metadata": {},
   "outputs": [
    {
     "name": "stdout",
     "output_type": "stream",
     "text": [
      "Bin edges = [0, 8, 30, 90, 180, 365, 485]\n",
      "Associated labels = ['0 - 7', '8 - 29', '30 - 89', '90 - 179', '180 - 364', '365 - 485']\n"
     ]
    }
   ],
   "source": [
    "# create custom intervals (bin edges will be left inclusive) in increasing order\n",
    "days_plan = [0, 8, 30, 90, 180, 365, 485 ]\n",
    "\n",
    "# compile labels\n",
    "days_plan_upperbounds = [d-1 for d in days_plan[1:-1] ]\n",
    "days_plan_upperbounds.append(days_plan[-1])\n",
    "days_plan_labels = [ \"{} - {}\".format(l,u) for l,u in zip(days_plan[:-1], days_plan_upperbounds) ]\n",
    "\n",
    "print('Bin edges = {}'.format(days_plan))\n",
    "print('Associated labels = {}'.format(days_plan_labels))"
   ]
  },
  {
   "cell_type": "code",
   "execution_count": 18,
   "metadata": {
    "collapsed": true
   },
   "outputs": [],
   "source": [
    "# create new column with plan duration category\n",
    "df_transac_origin['plan_duration'] = pd.cut(df_transac_origin.payment_plan_days, days_plan, right=False, labels=days_plan_labels)"
   ]
  },
  {
   "cell_type": "markdown",
   "metadata": {},
   "source": [
    "#### Concatenate previously discarded transactions to our main dataframe"
   ]
  },
  {
   "cell_type": "code",
   "execution_count": 19,
   "metadata": {
    "collapsed": true
   },
   "outputs": [],
   "source": [
    "# concat reorder columns so keep columns order before concat\n",
    "col_order = df_transac.columns.tolist()\n",
    "\n",
    "# do concatenation\n",
    "df_transac = pd.concat([df_transac, df_transac_origin], ignore_index=True)\n",
    "\n",
    "# re-assign column order\n",
    "df_transac = df_transac[col_order]"
   ]
  },
  {
   "cell_type": "code",
   "execution_count": 20,
   "metadata": {},
   "outputs": [],
   "source": [
    "# only keep transaction up to January 2017 (We have transactions up to February 2018 here)\n",
    "# When we make predicitons for month X, we only know transactions in month X-1\n",
    "df_transac = df_transac[df_transac.transaction_date < '2017-02-01']"
   ]
  },
  {
   "cell_type": "code",
   "execution_count": 21,
   "metadata": {
    "collapsed": true
   },
   "outputs": [],
   "source": [
    "# sort dataframe by msno, transaction date then expiration date\n",
    "df_transac.sort_values(['msno', 'transaction_date', 'membership_expire_date'], inplace=True)"
   ]
  },
  {
   "cell_type": "code",
   "execution_count": 22,
   "metadata": {},
   "outputs": [
    {
     "data": {
      "text/html": [
       "<div>\n",
       "<style scoped>\n",
       "    .dataframe tbody tr th:only-of-type {\n",
       "        vertical-align: middle;\n",
       "    }\n",
       "\n",
       "    .dataframe tbody tr th {\n",
       "        vertical-align: top;\n",
       "    }\n",
       "\n",
       "    .dataframe thead th {\n",
       "        text-align: right;\n",
       "    }\n",
       "</style>\n",
       "<table border=\"1\" class=\"dataframe\">\n",
       "  <thead>\n",
       "    <tr style=\"text-align: right;\">\n",
       "      <th></th>\n",
       "      <th>msno</th>\n",
       "      <th>payment_method_id</th>\n",
       "      <th>payment_plan_days</th>\n",
       "      <th>plan_list_price</th>\n",
       "      <th>actual_amount_paid</th>\n",
       "      <th>is_auto_renew</th>\n",
       "      <th>transaction_date</th>\n",
       "      <th>membership_expire_date</th>\n",
       "      <th>is_cancel</th>\n",
       "      <th>plan_duration</th>\n",
       "    </tr>\n",
       "  </thead>\n",
       "  <tbody>\n",
       "    <tr>\n",
       "      <th>15397993</th>\n",
       "      <td>zzzN9thH22os1dRS0VHReY/8FTfGHOi86//d+wGGFsQ=</td>\n",
       "      <td>41</td>\n",
       "      <td>30.0</td>\n",
       "      <td>99</td>\n",
       "      <td>99</td>\n",
       "      <td>1</td>\n",
       "      <td>2016-09-04</td>\n",
       "      <td>2016-10-04</td>\n",
       "      <td>0</td>\n",
       "      <td>30 - 89</td>\n",
       "    </tr>\n",
       "    <tr>\n",
       "      <th>15397994</th>\n",
       "      <td>zzzN9thH22os1dRS0VHReY/8FTfGHOi86//d+wGGFsQ=</td>\n",
       "      <td>41</td>\n",
       "      <td>30.0</td>\n",
       "      <td>99</td>\n",
       "      <td>99</td>\n",
       "      <td>1</td>\n",
       "      <td>2016-10-04</td>\n",
       "      <td>2016-11-04</td>\n",
       "      <td>0</td>\n",
       "      <td>30 - 89</td>\n",
       "    </tr>\n",
       "    <tr>\n",
       "      <th>15397995</th>\n",
       "      <td>zzzN9thH22os1dRS0VHReY/8FTfGHOi86//d+wGGFsQ=</td>\n",
       "      <td>41</td>\n",
       "      <td>30.0</td>\n",
       "      <td>99</td>\n",
       "      <td>99</td>\n",
       "      <td>1</td>\n",
       "      <td>2016-11-04</td>\n",
       "      <td>2016-12-04</td>\n",
       "      <td>0</td>\n",
       "      <td>30 - 89</td>\n",
       "    </tr>\n",
       "    <tr>\n",
       "      <th>15397996</th>\n",
       "      <td>zzzN9thH22os1dRS0VHReY/8FTfGHOi86//d+wGGFsQ=</td>\n",
       "      <td>41</td>\n",
       "      <td>30.0</td>\n",
       "      <td>99</td>\n",
       "      <td>99</td>\n",
       "      <td>1</td>\n",
       "      <td>2016-12-04</td>\n",
       "      <td>2017-01-04</td>\n",
       "      <td>0</td>\n",
       "      <td>30 - 89</td>\n",
       "    </tr>\n",
       "    <tr>\n",
       "      <th>15397997</th>\n",
       "      <td>zzzN9thH22os1dRS0VHReY/8FTfGHOi86//d+wGGFsQ=</td>\n",
       "      <td>41</td>\n",
       "      <td>30.0</td>\n",
       "      <td>99</td>\n",
       "      <td>99</td>\n",
       "      <td>1</td>\n",
       "      <td>2017-01-04</td>\n",
       "      <td>2017-02-04</td>\n",
       "      <td>0</td>\n",
       "      <td>30 - 89</td>\n",
       "    </tr>\n",
       "  </tbody>\n",
       "</table>\n",
       "</div>"
      ],
      "text/plain": [
       "                                                  msno  payment_method_id  \\\n",
       "15397993  zzzN9thH22os1dRS0VHReY/8FTfGHOi86//d+wGGFsQ=                 41   \n",
       "15397994  zzzN9thH22os1dRS0VHReY/8FTfGHOi86//d+wGGFsQ=                 41   \n",
       "15397995  zzzN9thH22os1dRS0VHReY/8FTfGHOi86//d+wGGFsQ=                 41   \n",
       "15397996  zzzN9thH22os1dRS0VHReY/8FTfGHOi86//d+wGGFsQ=                 41   \n",
       "15397997  zzzN9thH22os1dRS0VHReY/8FTfGHOi86//d+wGGFsQ=                 41   \n",
       "\n",
       "          payment_plan_days  plan_list_price  actual_amount_paid  \\\n",
       "15397993               30.0               99                  99   \n",
       "15397994               30.0               99                  99   \n",
       "15397995               30.0               99                  99   \n",
       "15397996               30.0               99                  99   \n",
       "15397997               30.0               99                  99   \n",
       "\n",
       "          is_auto_renew transaction_date membership_expire_date  is_cancel  \\\n",
       "15397993              1       2016-09-04             2016-10-04          0   \n",
       "15397994              1       2016-10-04             2016-11-04          0   \n",
       "15397995              1       2016-11-04             2016-12-04          0   \n",
       "15397996              1       2016-12-04             2017-01-04          0   \n",
       "15397997              1       2017-01-04             2017-02-04          0   \n",
       "\n",
       "         plan_duration  \n",
       "15397993       30 - 89  \n",
       "15397994       30 - 89  \n",
       "15397995       30 - 89  \n",
       "15397996       30 - 89  \n",
       "15397997       30 - 89  "
      ]
     },
     "execution_count": 22,
     "metadata": {},
     "output_type": "execute_result"
    }
   ],
   "source": [
    "df_transac.tail()"
   ]
  },
  {
   "cell_type": "code",
   "execution_count": 23,
   "metadata": {},
   "outputs": [],
   "source": [
    "# df_transac[df_transac.msno == '+12RZ32vDGh9930rExes758LIwn51H0ADIBtbQ1ysNc=']"
   ]
  },
  {
   "cell_type": "markdown",
   "metadata": {},
   "source": [
    "# 1st feature\n",
    "- Fraction of number of days left in expiration month.\n",
    "\n",
    "The idea is that people may be more inclined to churn when their expiration date is closer to the end of the month.\n",
    "\n",
    "Don't take into account expiration date where cancellation is active. When people actively cancels, their expiration date changes to whatever date they want to stop. Most people stops same day or the day after they chose to cancel."
   ]
  },
  {
   "cell_type": "code",
   "execution_count": 24,
   "metadata": {},
   "outputs": [],
   "source": [
    "# filter active cancellation and only keep last transaction of each user\n",
    "df_frac_day = df_transac[df_transac.is_cancel == False].groupby('msno', sort=False).nth(-1)\n",
    "\n",
    "# NOTE: dataframe is pre-sorted so we don't need to sort after grouby"
   ]
  },
  {
   "cell_type": "code",
   "execution_count": 25,
   "metadata": {},
   "outputs": [],
   "source": [
    "# compute fraction\n",
    "s_frac_day = (df_frac_day.membership_expire_date.dt.daysinmonth - df_frac_day.membership_expire_date.dt.day) / \\\n",
    "                            df_frac_day.membership_expire_date.dt.daysinmonth"
   ]
  },
  {
   "cell_type": "code",
   "execution_count": 26,
   "metadata": {},
   "outputs": [
    {
     "data": {
      "text/plain": [
       "(990827,)"
      ]
     },
     "execution_count": 26,
     "metadata": {},
     "output_type": "execute_result"
    }
   ],
   "source": [
    "# total number of eligible users: 992931, Two reasons for not having all users:\n",
    "# 1) There are 5 users who have only one transaction up to January 31st and it is an active cancellation\n",
    "# 2) Also there are ~2,000 users who have no transactions at all prior to February 1st\n",
    "s_frac_day.shape"
   ]
  },
  {
   "cell_type": "code",
   "execution_count": 27,
   "metadata": {},
   "outputs": [],
   "source": [
    "def add_missing_users(s_in, default_val):\n",
    "    \"\"\"\n",
    "    Given an input Serie with user's id as indexes, add unseen users from prediction Serie s_users.\n",
    "    s_users must defined earlier. For unseen users, assign them default_val\n",
    "    \"\"\"\n",
    "    # find remaining users\n",
    "    other_users = set(s_users.msno).difference(s_in.index)\n",
    "\n",
    "    # create series, default value is zero (end of the month expiration date)\n",
    "    s_others = pd.Series([default_val]*len(other_users), index=other_users)\n",
    "\n",
    "    # concatenate with s_frac_day\n",
    "    s_complete = pd.concat([s_in, s_others])\n",
    "    # check that serie is complete\n",
    "    assert len(s_users) == len(s_complete)\n",
    "    \n",
    "    return s_complete"
   ]
  },
  {
   "cell_type": "code",
   "execution_count": 28,
   "metadata": {
    "collapsed": true
   },
   "outputs": [],
   "source": [
    "# add remaining users\n",
    "s_frac_day = add_missing_users(s_frac_day, 0)\n",
    "assert len(s_frac_day) == len(s_users)"
   ]
  },
  {
   "cell_type": "code",
   "execution_count": 130,
   "metadata": {
    "collapsed": true
   },
   "outputs": [],
   "source": [
    "# give serie a name\n",
    "s_frac_day.name = 'time_of_month'"
   ]
  },
  {
   "cell_type": "markdown",
   "metadata": {},
   "source": [
    "# 2nd feature\n",
    "- Number of days in or out of churning zone at the end of prediction month\n",
    "\n",
    "Based on transactions up to January 31st, we know each user membership expiration date. Here we derive how many days elapsed past membership expiration date to the end of February. Some instances have an expiration date past end of February so it will be negative."
   ]
  },
  {
   "cell_type": "code",
   "execution_count": 29,
   "metadata": {
    "collapsed": true
   },
   "outputs": [],
   "source": [
    "# keep last expiration date for each user\n",
    "df_churn_zone = df_transac.groupby('msno', sort=False).nth(-1)"
   ]
  },
  {
   "cell_type": "code",
   "execution_count": 30,
   "metadata": {
    "collapsed": true
   },
   "outputs": [],
   "source": [
    "# time difference with end of February\n",
    "s_churn_zone = pd.Timestamp('2017-02-28') - df_churn_zone.membership_expire_date \n",
    "\n",
    "# convert time stamp to integer (number of days)\n",
    "s_churn_zone = s_churn_zone.dt.days"
   ]
  },
  {
   "cell_type": "code",
   "execution_count": 31,
   "metadata": {},
   "outputs": [
    {
     "data": {
      "text/plain": [
       "(990832,)"
      ]
     },
     "execution_count": 31,
     "metadata": {},
     "output_type": "execute_result"
    }
   ],
   "source": [
    "# Again we need to include new users\n",
    "s_churn_zone.shape"
   ]
  },
  {
   "cell_type": "code",
   "execution_count": 32,
   "metadata": {},
   "outputs": [],
   "source": [
    "# Assign best case scenario to new users which is 31 days until they get in the churning zone\n",
    "s_churn_zone = add_missing_users(s_churn_zone, s_churn_zone.min())\n",
    "assert len(s_churn_zone) == len(s_users)"
   ]
  },
  {
   "cell_type": "code",
   "execution_count": 129,
   "metadata": {
    "collapsed": true
   },
   "outputs": [],
   "source": [
    "# give serie a name\n",
    "s_churn_zone.name = 'churn_zone_days'"
   ]
  },
  {
   "cell_type": "markdown",
   "metadata": {},
   "source": [
    "# 3rd feature\n",
    "- Ratio of active cancellation to number of transactions\n",
    "\n",
    "The idea is that a long time user may just signed up for another plan after an active cancellation. Whereas a recent member may just not enjoy this music streaming service and will churn."
   ]
  },
  {
   "cell_type": "code",
   "execution_count": 33,
   "metadata": {
    "collapsed": true
   },
   "outputs": [],
   "source": [
    "# number of transactions per user\n",
    "s_num_trans = df_transac.groupby('msno', sort=False).is_cancel.count()"
   ]
  },
  {
   "cell_type": "code",
   "execution_count": 34,
   "metadata": {
    "collapsed": true
   },
   "outputs": [],
   "source": [
    "# number of active cancellation per user\n",
    "s_num_cancel = df_transac[df_transac.is_cancel == True].groupby('msno', sort=False).is_cancel.count()"
   ]
  },
  {
   "cell_type": "code",
   "execution_count": 35,
   "metadata": {
    "collapsed": true
   },
   "outputs": [],
   "source": [
    "# ratio of active cancellation to total number of transactions\n",
    "s_cancel_ratio = s_num_cancel.divide(s_num_trans, fill_value=0)"
   ]
  },
  {
   "cell_type": "code",
   "execution_count": 36,
   "metadata": {},
   "outputs": [],
   "source": [
    "# add unseen users\n",
    "s_cancel_ratio = add_missing_users(s_cancel_ratio, 0)\n",
    "assert len(s_cancel_ratio) == len(s_users)"
   ]
  },
  {
   "cell_type": "code",
   "execution_count": 128,
   "metadata": {
    "collapsed": true
   },
   "outputs": [],
   "source": [
    "# give serie a name\n",
    "s_cancel_ratio.name = 'cancel_ratio'"
   ]
  },
  {
   "cell_type": "markdown",
   "metadata": {},
   "source": [
    "# 4th feature\n",
    "- Ratio of auto renew to number of transactions"
   ]
  },
  {
   "cell_type": "code",
   "execution_count": 37,
   "metadata": {
    "collapsed": true
   },
   "outputs": [],
   "source": [
    "# number of active cancellation per user\n",
    "s_num_autorenew = df_transac[df_transac.is_auto_renew == True].groupby('msno', sort=False).is_auto_renew.count()"
   ]
  },
  {
   "cell_type": "code",
   "execution_count": 38,
   "metadata": {
    "collapsed": true
   },
   "outputs": [],
   "source": [
    "# ratio of active cancellation to total number of transactions\n",
    "s_autorenew_ratio = s_num_autorenew.divide(s_num_trans, fill_value=0)"
   ]
  },
  {
   "cell_type": "code",
   "execution_count": 39,
   "metadata": {
    "collapsed": true
   },
   "outputs": [],
   "source": [
    "# add unseen users\n",
    "s_autorenew_ratio = add_missing_users(s_autorenew_ratio, 0)\n",
    "assert len(s_autorenew_ratio) == len(s_users)"
   ]
  },
  {
   "cell_type": "code",
   "execution_count": 127,
   "metadata": {
    "collapsed": true
   },
   "outputs": [],
   "source": [
    "# give serie a name\n",
    "s_autorenew_ratio.name = 'auto_renew_ratio'"
   ]
  },
  {
   "cell_type": "markdown",
   "metadata": {},
   "source": [
    "# 5th feature\n",
    "- Number of uninterrupted days of membership\n",
    "\n",
    "Interruption could be an active cancellation (i.e. even if user signs up again) and transaction date must be anterior to previous transaction date."
   ]
  },
  {
   "cell_type": "code",
   "execution_count": 40,
   "metadata": {
    "collapsed": true
   },
   "outputs": [],
   "source": [
    "df_uninter = df_transac[['msno', 'transaction_date', 'membership_expire_date']].copy()"
   ]
  },
  {
   "cell_type": "code",
   "execution_count": 41,
   "metadata": {
    "scrolled": false
   },
   "outputs": [],
   "source": [
    "# forward transaction by one index for each user\n",
    "df_uninter['prev_exp_date'] = df_uninter.groupby('msno', sort=False).membership_expire_date.shift(periods=1)\n",
    "\n",
    "# NOTE: it is faster to use shift and make the difference rather than doing it at once like this:\n",
    "# df_transac['delta_exp_date'] = df_transac.groupby('msno', sort=False).membership_expire_date.diff(periods=1)"
   ]
  },
  {
   "cell_type": "code",
   "execution_count": 42,
   "metadata": {
    "collapsed": true
   },
   "outputs": [],
   "source": [
    "# remove user's first transaction (no prior data for first transactions!)\n",
    "df_uninter = df_uninter[df_uninter.prev_exp_date.notnull()]"
   ]
  },
  {
   "cell_type": "code",
   "execution_count": 43,
   "metadata": {},
   "outputs": [],
   "source": [
    "# compute number of days between successive expiration dates\n",
    "df_uninter['delta_exp_date'] = (df_uninter.membership_expire_date - \\\n",
    "                                df_uninter.prev_exp_date).astype('timedelta64[D]').astype('int64')\n",
    "\n",
    "# NOTE: use .astype('timedelta64[D]') as opposed to .dt.days which is much slower\n",
    "# # SIDE NOTE: we could have done it this way:\n",
    "# # compute difference in membership expiration date (dataframe must be pre-sorted by users and date)\n",
    "# df_uninter['delta_exp_date'] = df_uninter.membership_expire_date.diff(periods=1)\n",
    "# # remove user's overlap\n",
    "# df_uninter = df_uninter[df_uninter.msno == df_uninter.msno.shift(periods=1)]\n",
    "# similar time complexity"
   ]
  },
  {
   "cell_type": "code",
   "execution_count": 44,
   "metadata": {
    "collapsed": true
   },
   "outputs": [],
   "source": [
    "# determine overlap between transaction date and prior expiration date\n",
    "df_uninter['membership_overlap'] = (df_uninter.prev_exp_date - \\\n",
    "                                df_uninter.transaction_date).astype('timedelta64[D]').astype('int64')"
   ]
  },
  {
   "cell_type": "code",
   "execution_count": 45,
   "metadata": {
    "collapsed": true
   },
   "outputs": [],
   "source": [
    "# label uninterrupted membership transactions\n",
    "# delta_exp_date catches active cancellation\n",
    "# membership_overlap catches gap in membership\n",
    "df_uninter['is_continuous'] = (df_uninter.delta_exp_date >= 0) & (df_uninter.membership_overlap >= 0)\n",
    "\n",
    "# convert bool to integer for subsequent shift\n",
    "# df_uninter.is_continuous = df_uninter.is_continuous.astype('int64')"
   ]
  },
  {
   "cell_type": "markdown",
   "metadata": {},
   "source": [
    "#### Process contineous membership first."
   ]
  },
  {
   "cell_type": "code",
   "execution_count": 46,
   "metadata": {},
   "outputs": [],
   "source": [
    "# some users have been contineously renewing their membership on time\n",
    "# this behavior can be detected easily by comparing sum() to count()\n",
    "df_contusers = df_uninter.groupby('msno', sort=False).is_continuous.agg(['count', 'sum'])"
   ]
  },
  {
   "cell_type": "code",
   "execution_count": 47,
   "metadata": {},
   "outputs": [],
   "source": [
    "# retrieve loyal members\n",
    "continuous_users = df_contusers[df_contusers['count'] == df_contusers['sum']].index"
   ]
  },
  {
   "cell_type": "code",
   "execution_count": 48,
   "metadata": {},
   "outputs": [],
   "source": [
    "# keep first and last transaction of each user\n",
    "df_firstlast = df_uninter.loc[df_uninter.msno.isin(continuous_users), ['msno', 'membership_expire_date', 'prev_exp_date']]\n",
    "df_firstlast = df_firstlast.groupby('msno', sort=False).nth([0, -1])"
   ]
  },
  {
   "cell_type": "code",
   "execution_count": 49,
   "metadata": {},
   "outputs": [],
   "source": [
    "# we need to make the difference between the earliest previous expiration date and the latest expiration date\n",
    "# do a shift on prev_exp_date and make the difference with membership_expire_date\n",
    "df_firstlast['uninterrupted_days'] = \\\n",
    "(df_firstlast.membership_expire_date - df_firstlast.groupby('msno', sort=False).prev_exp_date.shift()).astype('timedelta64[D]')"
   ]
  },
  {
   "cell_type": "code",
   "execution_count": 74,
   "metadata": {},
   "outputs": [],
   "source": [
    "# df_firstlast.head()"
   ]
  },
  {
   "cell_type": "code",
   "execution_count": 51,
   "metadata": {},
   "outputs": [],
   "source": [
    "# remove NaN rows as it is not useful anymore\n",
    "s_contdays = df_firstlast.loc[df_firstlast.uninterrupted_days.notnull(),'uninterrupted_days'].astype('int64')"
   ]
  },
  {
   "cell_type": "markdown",
   "metadata": {},
   "source": [
    "#### Take care of non-continuous transaction history"
   ]
  },
  {
   "cell_type": "code",
   "execution_count": 52,
   "metadata": {
    "collapsed": true
   },
   "outputs": [],
   "source": [
    "# process users with non-continuous transactions\n",
    "df_noncontusers = df_uninter.loc[~df_uninter.msno.isin(continuous_users), :]"
   ]
  },
  {
   "cell_type": "code",
   "execution_count": 53,
   "metadata": {},
   "outputs": [
    {
     "data": {
      "text/plain": [
       "458800"
      ]
     },
     "execution_count": 53,
     "metadata": {},
     "output_type": "execute_result"
    }
   ],
   "source": [
    "df_noncontusers.msno.value_counts().count()"
   ]
  },
  {
   "cell_type": "code",
   "execution_count": 54,
   "metadata": {},
   "outputs": [
    {
     "data": {
      "text/plain": [
       "(7247363, 7)"
      ]
     },
     "execution_count": 54,
     "metadata": {},
     "output_type": "execute_result"
    }
   ],
   "source": [
    "df_noncontusers.shape"
   ]
  },
  {
   "cell_type": "code",
   "execution_count": 55,
   "metadata": {
    "collapsed": true
   },
   "outputs": [],
   "source": [
    "# sort by most recent transaction date\n",
    "df_noncontusers = df_noncontusers.sort_values(['msno', 'transaction_date', 'membership_expire_date'], ascending=False)"
   ]
  },
  {
   "cell_type": "code",
   "execution_count": 58,
   "metadata": {},
   "outputs": [],
   "source": [
    "def derive_uninterrupted_days(rows):\n",
    "    \"\"\"\n",
    "    derive number of uninterrupted days for each user\n",
    "    rows : dataframe of one user sorted by transaction date\n",
    "    \"\"\"\n",
    "    # flag for change of state\n",
    "    cont_up = False\n",
    "    \n",
    "    # variable to compute date range\n",
    "    stop_date = 0\n",
    "    start_date = 0\n",
    "\n",
    "    for l in rows.itertuples(index=False):\n",
    "\n",
    "        # use current expiration date as stop date when it is an active cancellation\n",
    "        # and as long as we didn't detect a contineous transaction\n",
    "        if not cont_up and l.delta_exp_date < 0:\n",
    "            stop_date = l.membership_expire_date\n",
    "            \n",
    "        # look for first continuous transaction\n",
    "        if l.is_continuous:\n",
    "            # contineous transaction found\n",
    "            cont_up = True\n",
    "            # set stop date if it wasn't set already\n",
    "            if stop_date == 0:\n",
    "                stop_date = l.membership_expire_date\n",
    "            # update start date\n",
    "            start_date = l.prev_exp_date\n",
    "            \n",
    "        # condition not fulfilled\n",
    "        elif cont_up:\n",
    "            break\n",
    "            \n",
    "    # make sure start_date is a timedelta object\n",
    "    if start_date == 0 or stop_date == 0:\n",
    "        membership_loyalty = pd.Timedelta(days=0)\n",
    "    else:\n",
    "        membership_loyalty = stop_date - start_date\n",
    "    \n",
    "    # return number of days elapsed\n",
    "    return membership_loyalty"
   ]
  },
  {
   "cell_type": "code",
   "execution_count": 59,
   "metadata": {
    "scrolled": false
   },
   "outputs": [
    {
     "name": "stdout",
     "output_type": "stream",
     "text": [
      "\n",
      "--- 0:08:03.091467 seconds ellapsed ---\n"
     ]
    }
   ],
   "source": [
    "# compute number of uninterrupted days for each user\n",
    "start_time = time()\n",
    "s_noncontusers = df_noncontusers.groupby('msno', sort=False).apply(derive_uninterrupted_days)\n",
    "print(\"\\n--- %s seconds elapsed ---\" % (timedelta(seconds = time() - start_time)))"
   ]
  },
  {
   "cell_type": "code",
   "execution_count": 86,
   "metadata": {},
   "outputs": [],
   "source": [
    "# convert timedelta to integer\n",
    "s_noncontusers = s_noncontusers.astype('timedelta64[D]').astype('int64')"
   ]
  },
  {
   "cell_type": "code",
   "execution_count": 95,
   "metadata": {},
   "outputs": [],
   "source": [
    "# comnbine continuous and non-continuous cases\n",
    "s_uninterusers = pd.concat([s_contdays, s_noncontusers])"
   ]
  },
  {
   "cell_type": "code",
   "execution_count": 99,
   "metadata": {},
   "outputs": [],
   "source": [
    "# add unseen users and assign them 0 days of uninterrupted membership\n",
    "s_uninterusers = add_missing_users(s_uninterusers, 0)\n",
    "assert len(s_uninterusers) == len(s_users)"
   ]
  },
  {
   "cell_type": "code",
   "execution_count": 126,
   "metadata": {
    "collapsed": true
   },
   "outputs": [],
   "source": [
    "# give serie a name\n",
    "s_uninterusers.name = 'uninterrupted_days'"
   ]
  },
  {
   "cell_type": "markdown",
   "metadata": {},
   "source": [
    "# 6th feature\n",
    "- Last Plan duration (added column during EDA)"
   ]
  },
  {
   "cell_type": "code",
   "execution_count": 102,
   "metadata": {},
   "outputs": [],
   "source": [
    "# last plan duration (active cancellation were filtered out as plan_duration may be missing)\n",
    "s_planduration = df_frac_day.plan_duration"
   ]
  },
  {
   "cell_type": "code",
   "execution_count": 111,
   "metadata": {},
   "outputs": [],
   "source": [
    "# add unseen users and assign them the most popular plan duration\n",
    "s_planduration = add_missing_users(s_planduration, s_planduration.value_counts().index[0])\n",
    "assert len(s_planduration) == len(s_users)"
   ]
  },
  {
   "cell_type": "code",
   "execution_count": 125,
   "metadata": {
    "collapsed": true
   },
   "outputs": [],
   "source": [
    "# give serie a name\n",
    "s_planduration.name = 'plan_duration'"
   ]
  },
  {
   "cell_type": "markdown",
   "metadata": {},
   "source": [
    "# 7th feature\n",
    "- Last Payment ID"
   ]
  },
  {
   "cell_type": "code",
   "execution_count": 114,
   "metadata": {
    "collapsed": true
   },
   "outputs": [],
   "source": [
    "# last payment ID (active cancellation were filtered out as plan_duration may be missing)\n",
    "s_payID = df_frac_day.payment_method_id"
   ]
  },
  {
   "cell_type": "code",
   "execution_count": 115,
   "metadata": {
    "collapsed": true
   },
   "outputs": [],
   "source": [
    "# add unseen users and assign them the most popular plan duration\n",
    "s_payID = add_missing_users(s_payID, s_payID.value_counts().index[0])\n",
    "assert len(s_payID) == len(s_users)"
   ]
  },
  {
   "cell_type": "code",
   "execution_count": 120,
   "metadata": {},
   "outputs": [],
   "source": [
    "# give serie a name\n",
    "s_payID.name = 'pay_id'"
   ]
  },
  {
   "cell_type": "markdown",
   "metadata": {},
   "source": [
    "# Combine all features into one dataframe"
   ]
  },
  {
   "cell_type": "code",
   "execution_count": 131,
   "metadata": {
    "collapsed": true
   },
   "outputs": [],
   "source": [
    "df_transfeatures = pd.concat([s_frac_day, s_churn_zone, s_cancel_ratio,\\\n",
    "           s_autorenew_ratio, s_uninterusers, s_planduration, s_payID], axis = 1)"
   ]
  },
  {
   "cell_type": "code",
   "execution_count": 132,
   "metadata": {},
   "outputs": [
    {
     "data": {
      "text/html": [
       "<div>\n",
       "<style scoped>\n",
       "    .dataframe tbody tr th:only-of-type {\n",
       "        vertical-align: middle;\n",
       "    }\n",
       "\n",
       "    .dataframe tbody tr th {\n",
       "        vertical-align: top;\n",
       "    }\n",
       "\n",
       "    .dataframe thead th {\n",
       "        text-align: right;\n",
       "    }\n",
       "</style>\n",
       "<table border=\"1\" class=\"dataframe\">\n",
       "  <thead>\n",
       "    <tr style=\"text-align: right;\">\n",
       "      <th></th>\n",
       "      <th>time_of_month</th>\n",
       "      <th>churn_zone_days</th>\n",
       "      <th>cancel_ratio</th>\n",
       "      <th>auto_renew_ratio</th>\n",
       "      <th>uninterrupted_days</th>\n",
       "      <th>plan_duration</th>\n",
       "      <th>pay_id</th>\n",
       "    </tr>\n",
       "  </thead>\n",
       "  <tbody>\n",
       "    <tr>\n",
       "      <th>+++hVY1rZox/33YtvDgmKA2Frg/2qhkz12B9ylCvh8o=</th>\n",
       "      <td>0.464286</td>\n",
       "      <td>13</td>\n",
       "      <td>0.0</td>\n",
       "      <td>1.0</td>\n",
       "      <td>62</td>\n",
       "      <td>30 - 89</td>\n",
       "      <td>41</td>\n",
       "    </tr>\n",
       "    <tr>\n",
       "      <th>+++l/EXNMLTijfLBa8p2TUVVVp2aFGSuUI/h7mLmthw=</th>\n",
       "      <td>0.387097</td>\n",
       "      <td>-19</td>\n",
       "      <td>0.0</td>\n",
       "      <td>1.0</td>\n",
       "      <td>181</td>\n",
       "      <td>30 - 89</td>\n",
       "      <td>39</td>\n",
       "    </tr>\n",
       "    <tr>\n",
       "      <th>+++snpr7pmobhLKUgSHTv/mpkqgBT0tQJ0zQj6qKrqc=</th>\n",
       "      <td>0.071429</td>\n",
       "      <td>2</td>\n",
       "      <td>0.0</td>\n",
       "      <td>1.0</td>\n",
       "      <td>731</td>\n",
       "      <td>30 - 89</td>\n",
       "      <td>41</td>\n",
       "    </tr>\n",
       "    <tr>\n",
       "      <th>++/9R3sX37CjxbY/AaGvbwr3QkwElKBCtSvVzhCBDOk=</th>\n",
       "      <td>0.464286</td>\n",
       "      <td>13</td>\n",
       "      <td>0.0</td>\n",
       "      <td>1.0</td>\n",
       "      <td>306</td>\n",
       "      <td>30 - 89</td>\n",
       "      <td>41</td>\n",
       "    </tr>\n",
       "    <tr>\n",
       "      <th>++/UDNo9DLrxT8QVGiDi1OnWfczAdEwThaVyD0fXO50=</th>\n",
       "      <td>0.258065</td>\n",
       "      <td>-23</td>\n",
       "      <td>0.0</td>\n",
       "      <td>1.0</td>\n",
       "      <td>181</td>\n",
       "      <td>30 - 89</td>\n",
       "      <td>39</td>\n",
       "    </tr>\n",
       "  </tbody>\n",
       "</table>\n",
       "</div>"
      ],
      "text/plain": [
       "                                              time_of_month  churn_zone_days  \\\n",
       "+++hVY1rZox/33YtvDgmKA2Frg/2qhkz12B9ylCvh8o=       0.464286               13   \n",
       "+++l/EXNMLTijfLBa8p2TUVVVp2aFGSuUI/h7mLmthw=       0.387097              -19   \n",
       "+++snpr7pmobhLKUgSHTv/mpkqgBT0tQJ0zQj6qKrqc=       0.071429                2   \n",
       "++/9R3sX37CjxbY/AaGvbwr3QkwElKBCtSvVzhCBDOk=       0.464286               13   \n",
       "++/UDNo9DLrxT8QVGiDi1OnWfczAdEwThaVyD0fXO50=       0.258065              -23   \n",
       "\n",
       "                                              cancel_ratio  auto_renew_ratio  \\\n",
       "+++hVY1rZox/33YtvDgmKA2Frg/2qhkz12B9ylCvh8o=           0.0               1.0   \n",
       "+++l/EXNMLTijfLBa8p2TUVVVp2aFGSuUI/h7mLmthw=           0.0               1.0   \n",
       "+++snpr7pmobhLKUgSHTv/mpkqgBT0tQJ0zQj6qKrqc=           0.0               1.0   \n",
       "++/9R3sX37CjxbY/AaGvbwr3QkwElKBCtSvVzhCBDOk=           0.0               1.0   \n",
       "++/UDNo9DLrxT8QVGiDi1OnWfczAdEwThaVyD0fXO50=           0.0               1.0   \n",
       "\n",
       "                                              uninterrupted_days  \\\n",
       "+++hVY1rZox/33YtvDgmKA2Frg/2qhkz12B9ylCvh8o=                  62   \n",
       "+++l/EXNMLTijfLBa8p2TUVVVp2aFGSuUI/h7mLmthw=                 181   \n",
       "+++snpr7pmobhLKUgSHTv/mpkqgBT0tQJ0zQj6qKrqc=                 731   \n",
       "++/9R3sX37CjxbY/AaGvbwr3QkwElKBCtSvVzhCBDOk=                 306   \n",
       "++/UDNo9DLrxT8QVGiDi1OnWfczAdEwThaVyD0fXO50=                 181   \n",
       "\n",
       "                                             plan_duration  pay_id  \n",
       "+++hVY1rZox/33YtvDgmKA2Frg/2qhkz12B9ylCvh8o=       30 - 89      41  \n",
       "+++l/EXNMLTijfLBa8p2TUVVVp2aFGSuUI/h7mLmthw=       30 - 89      39  \n",
       "+++snpr7pmobhLKUgSHTv/mpkqgBT0tQJ0zQj6qKrqc=       30 - 89      41  \n",
       "++/9R3sX37CjxbY/AaGvbwr3QkwElKBCtSvVzhCBDOk=       30 - 89      41  \n",
       "++/UDNo9DLrxT8QVGiDi1OnWfczAdEwThaVyD0fXO50=       30 - 89      39  "
      ]
     },
     "execution_count": 132,
     "metadata": {},
     "output_type": "execute_result"
    }
   ],
   "source": [
    "df_transfeatures.head()"
   ]
  },
  {
   "cell_type": "code",
   "execution_count": 133,
   "metadata": {
    "collapsed": true
   },
   "outputs": [],
   "source": [
    "# save dataframe to file (pickle)\n",
    "trans_proc_dir = os.path.join(os.pardir, 'data', 'processed', 'transactions_February2017.p34')\n",
    "df_transfeatures.to_pickle(trans_proc_dir)"
   ]
  },
  {
   "cell_type": "markdown",
   "metadata": {},
   "source": [
    "# Draft"
   ]
  },
  {
   "cell_type": "code",
   "execution_count": 63,
   "metadata": {},
   "outputs": [],
   "source": [
    "# # Delay-substract the whole column\n",
    "# df_noncontusers['is_contineous_diff'] = df_noncontusers.is_contineous.diff()\n",
    "\n",
    "# # correct for propagation from one user to another\n",
    "# df_noncontusers.loc[df_noncontusers.msno != df_noncontusers.msno.shift(periods=1), 'is_contineous_diff'] = np.nan"
   ]
  },
  {
   "cell_type": "code",
   "execution_count": null,
   "metadata": {
    "collapsed": true
   },
   "outputs": [],
   "source": [
    "# # assign rank to is_contineous_diff\n",
    "# df_noncontusers['is_contineous_rank'] = df_noncontusers.groupby('msno', sort=False).is_contineous_diff.rank(method='first')"
   ]
  }
 ],
 "metadata": {
  "kernelspec": {
   "display_name": "kkbox_churn_kernel",
   "language": "python",
   "name": "kkbox_churn"
  },
  "language_info": {
   "codemirror_mode": {
    "name": "ipython",
    "version": 3
   },
   "file_extension": ".py",
   "mimetype": "text/x-python",
   "name": "python",
   "nbconvert_exporter": "python",
   "pygments_lexer": "ipython3",
   "version": "3.6.4"
  }
 },
 "nbformat": 4,
 "nbformat_minor": 2
}
