{
 "cells": [
  {
   "cell_type": "code",
   "execution_count": 1,
   "metadata": {
    "collapsed": true
   },
   "outputs": [],
   "source": [
    "# Import `requests`\n",
    "import requests\n",
    "# Import BeautifulSoup from bs4\n",
    "from bs4 import BeautifulSoup\n",
    "# pandas for dataframe\n",
    "import pandas as pd\n",
    "# use defaultdict with list\n",
    "from collections import defaultdict\n",
    "import os"
   ]
  },
  {
   "cell_type": "code",
   "execution_count": 2,
   "metadata": {
    "collapsed": true
   },
   "outputs": [],
   "source": [
    "# scrape 3 years of holidays from China\n",
    "holidays_df = []\n",
    "for y in range(2015, 2017+1):\n",
    "    \n",
    "    # Store url\n",
    "    url = 'https://www.timeanddate.com/holidays/china/' + str(y)\n",
    "\n",
    "    # Make the request and check object type\n",
    "    # could use scrapy\n",
    "    r = requests.get(url)\n",
    "\n",
    "    # Extract HTML from Response object and print\n",
    "    html = r.text\n",
    "\n",
    "    # Create a BeautifulSoup object from the HTML\n",
    "    soup = BeautifulSoup(html, 'html5lib')\n",
    "\n",
    "    # extract holiday table\n",
    "    Holiday_list = []\n",
    "    for i in range(365):\n",
    "        holiday_id = 'tr{:d}'.format(i)\n",
    "        holiday_html = soup.find(id=holiday_id)\n",
    "        if not holiday_html:\n",
    "            break\n",
    "        else:\n",
    "            Holiday_list.append(holiday_html)\n",
    "\n",
    "    # extract date, description and category from html list\n",
    "    holiday_dict = defaultdict(list)\n",
    "    for h in Holiday_list:\n",
    "        holiday_dict['month_day'].append(  ','.join([h.find('th').string, str(y)])  )\n",
    "        holiday_dict['name'].append(h.find('a').string)\n",
    "        holiday_dict['category'].append(h.td.next_sibling.next_sibling.string)\n",
    "\n",
    "    # collect holidays in list as dataframe\n",
    "    holidays_df.append(pd.DataFrame(holiday_dict))"
   ]
  },
  {
   "cell_type": "code",
   "execution_count": 3,
   "metadata": {
    "collapsed": true
   },
   "outputs": [],
   "source": [
    "# combine dataframe for each year\n",
    "df_holidays = pd.concat(holidays_df)"
   ]
  },
  {
   "cell_type": "code",
   "execution_count": 4,
   "metadata": {
    "collapsed": true
   },
   "outputs": [],
   "source": [
    "# convert date to datetime object and set it as index\n",
    "df_holidays.month_day = pd.to_datetime(df_holidays.month_day, infer_datetime_format=True)\n",
    "df_holidays = df_holidays.set_index('month_day')"
   ]
  },
  {
   "cell_type": "code",
   "execution_count": 6,
   "metadata": {},
   "outputs": [
    {
     "data": {
      "text/plain": [
       "(154, 2)"
      ]
     },
     "execution_count": 6,
     "metadata": {},
     "output_type": "execute_result"
    }
   ],
   "source": [
    "df_holidays.shape"
   ]
  },
  {
   "cell_type": "code",
   "execution_count": 7,
   "metadata": {},
   "outputs": [
    {
     "data": {
      "text/html": [
       "<div>\n",
       "<style>\n",
       "    .dataframe thead tr:only-child th {\n",
       "        text-align: right;\n",
       "    }\n",
       "\n",
       "    .dataframe thead th {\n",
       "        text-align: left;\n",
       "    }\n",
       "\n",
       "    .dataframe tbody tr th {\n",
       "        vertical-align: top;\n",
       "    }\n",
       "</style>\n",
       "<table border=\"1\" class=\"dataframe\">\n",
       "  <thead>\n",
       "    <tr style=\"text-align: right;\">\n",
       "      <th></th>\n",
       "      <th>category</th>\n",
       "      <th>name</th>\n",
       "    </tr>\n",
       "    <tr>\n",
       "      <th>month_day</th>\n",
       "      <th></th>\n",
       "      <th></th>\n",
       "    </tr>\n",
       "  </thead>\n",
       "  <tbody>\n",
       "    <tr>\n",
       "      <th>2015-01-01</th>\n",
       "      <td>National holiday</td>\n",
       "      <td>New Year's Day</td>\n",
       "    </tr>\n",
       "    <tr>\n",
       "      <th>2015-01-02</th>\n",
       "      <td>National holiday</td>\n",
       "      <td>New Year's weekend</td>\n",
       "    </tr>\n",
       "    <tr>\n",
       "      <th>2015-01-03</th>\n",
       "      <td>National holiday</td>\n",
       "      <td>New Year's weekend</td>\n",
       "    </tr>\n",
       "    <tr>\n",
       "      <th>2015-01-04</th>\n",
       "      <td>Working day in weekend</td>\n",
       "      <td>Special Working Day</td>\n",
       "    </tr>\n",
       "    <tr>\n",
       "      <th>2015-02-15</th>\n",
       "      <td>Working day in weekend</td>\n",
       "      <td>Special Working Day</td>\n",
       "    </tr>\n",
       "  </tbody>\n",
       "</table>\n",
       "</div>"
      ],
      "text/plain": [
       "                          category                 name\n",
       "month_day                                              \n",
       "2015-01-01        National holiday       New Year's Day\n",
       "2015-01-02        National holiday   New Year's weekend\n",
       "2015-01-03        National holiday   New Year's weekend\n",
       "2015-01-04  Working day in weekend  Special Working Day\n",
       "2015-02-15  Working day in weekend  Special Working Day"
      ]
     },
     "execution_count": 7,
     "metadata": {},
     "output_type": "execute_result"
    }
   ],
   "source": [
    "df_holidays.head()"
   ]
  },
  {
   "cell_type": "code",
   "execution_count": 9,
   "metadata": {
    "collapsed": true
   },
   "outputs": [],
   "source": [
    "# save data as external data\n",
    "holidays_path = os.path.join(os.pardir, 'data', 'external', 'holidays_taiwan.csv')\n",
    "df_holidays.to_csv(holidays_path)"
   ]
  },
  {
   "cell_type": "code",
   "execution_count": null,
   "metadata": {
    "collapsed": true
   },
   "outputs": [],
   "source": []
  }
 ],
 "metadata": {
  "kernelspec": {
   "display_name": "Python 3",
   "language": "python",
   "name": "python3"
  },
  "language_info": {
   "codemirror_mode": {
    "name": "ipython",
    "version": 3
   },
   "file_extension": ".py",
   "mimetype": "text/x-python",
   "name": "python",
   "nbconvert_exporter": "python",
   "pygments_lexer": "ipython3",
   "version": "3.5.4"
  }
 },
 "nbformat": 4,
 "nbformat_minor": 2
}
