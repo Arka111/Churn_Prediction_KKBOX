{
 "cells": [
  {
   "cell_type": "markdown",
   "metadata": {},
   "source": [
    "# Imports"
   ]
  },
  {
   "cell_type": "code",
   "execution_count": 1,
   "metadata": {
    "collapsed": true
   },
   "outputs": [],
   "source": [
    "import os\n",
    "import pandas as pd\n",
    "import numpy as np\n",
    "import seaborn as sns\n",
    "import matplotlib.pyplot as plt\n",
    "\n",
    "# keep matplotlib interactive\n",
    "# NOTE: one must reload matplotlib to change of rendering style\n",
    "%matplotlib notebook\n",
    "# %matplotlib inline\n",
    "# use ggplot style\n",
    "plt.style.use('ggplot')"
   ]
  },
  {
   "cell_type": "markdown",
   "metadata": {},
   "source": [
    "# Churn Prediction"
   ]
  },
  {
   "cell_type": "markdown",
   "metadata": {},
   "source": [
    "Any subscription-based business is committed to keep their customer happy in exchange for their loyalty. Despite their efforts, some customers will eventually not renew their subscription. In this latter case, if a customer has not renewed within a time window after its subscription expiration date, this customer is said to have churned. Although each service provider offers several subscription options (monthly, yearly, basic, premium,...), the time window to consider a customer has churned varies quite a lot. It seems that each company sets their own."
   ]
  },
  {
   "cell_type": "markdown",
   "metadata": {},
   "source": [
    "This project is based on a [Kaggle competition](https://www.kaggle.com/c/kkbox-churn-prediction-challenge) where KKBOX, an Asian leading __music streaming service__, is interested in learning from their customer behavior to prevent them from churning.\n",
    "\n",
    "The __grace period is 30 days__ in order to consider a customer has churned after its current membership ends. The goal is to determine churn from one month to the next."
   ]
  },
  {
   "cell_type": "markdown",
   "metadata": {},
   "source": [
    "# Classification Labels\n",
    "Churn prediction is a classification problem where the ouput is binary. There is only two possible outcomes, either customer churned or keep their subscription. \n",
    "\n",
    "KKBOX provides a train.csv file that contains users identification and whether they have churned or not for the month of February 2017. Most users do not churn therefore we don't have many data points where users churned."
   ]
  },
  {
   "cell_type": "code",
   "execution_count": 2,
   "metadata": {
    "collapsed": true
   },
   "outputs": [],
   "source": [
    "# train.csv only contains \n",
    "train_dir = os.path.join(os.pardir, 'data', 'raw', 'train.csv')\n",
    "df_train = pd.read_csv(train_dir, index_col = 'msno')"
   ]
  },
  {
   "cell_type": "code",
   "execution_count": 3,
   "metadata": {
    "scrolled": true
   },
   "outputs": [
    {
     "data": {
      "text/html": [
       "<div>\n",
       "<style scoped>\n",
       "    .dataframe tbody tr th:only-of-type {\n",
       "        vertical-align: middle;\n",
       "    }\n",
       "\n",
       "    .dataframe tbody tr th {\n",
       "        vertical-align: top;\n",
       "    }\n",
       "\n",
       "    .dataframe thead th {\n",
       "        text-align: right;\n",
       "    }\n",
       "</style>\n",
       "<table border=\"1\" class=\"dataframe\">\n",
       "  <thead>\n",
       "    <tr style=\"text-align: right;\">\n",
       "      <th></th>\n",
       "      <th>is_churn</th>\n",
       "    </tr>\n",
       "    <tr>\n",
       "      <th>msno</th>\n",
       "      <th></th>\n",
       "    </tr>\n",
       "  </thead>\n",
       "  <tbody>\n",
       "    <tr>\n",
       "      <th>waLDQMmcOu2jLDaV1ddDkgCrB/jl6sD66Xzs0Vqax1Y=</th>\n",
       "      <td>1</td>\n",
       "    </tr>\n",
       "    <tr>\n",
       "      <th>QA7uiXy8vIbUSPOkCf9RwQ3FsT8jVq2OxDr8zqa7bRQ=</th>\n",
       "      <td>1</td>\n",
       "    </tr>\n",
       "    <tr>\n",
       "      <th>fGwBva6hikQmTJzrbz/2Ezjm5Cth5jZUNvXigKK2AFA=</th>\n",
       "      <td>1</td>\n",
       "    </tr>\n",
       "    <tr>\n",
       "      <th>mT5V8rEpa+8wuqi6x0DoVd3H5icMKkE9Prt49UlmK+4=</th>\n",
       "      <td>1</td>\n",
       "    </tr>\n",
       "    <tr>\n",
       "      <th>XaPhtGLk/5UvvOYHcONTwsnH97P4eGECeq+BARGItRw=</th>\n",
       "      <td>1</td>\n",
       "    </tr>\n",
       "  </tbody>\n",
       "</table>\n",
       "</div>"
      ],
      "text/plain": [
       "                                              is_churn\n",
       "msno                                                  \n",
       "waLDQMmcOu2jLDaV1ddDkgCrB/jl6sD66Xzs0Vqax1Y=         1\n",
       "QA7uiXy8vIbUSPOkCf9RwQ3FsT8jVq2OxDr8zqa7bRQ=         1\n",
       "fGwBva6hikQmTJzrbz/2Ezjm5Cth5jZUNvXigKK2AFA=         1\n",
       "mT5V8rEpa+8wuqi6x0DoVd3H5icMKkE9Prt49UlmK+4=         1\n",
       "XaPhtGLk/5UvvOYHcONTwsnH97P4eGECeq+BARGItRw=         1"
      ]
     },
     "execution_count": 3,
     "metadata": {},
     "output_type": "execute_result"
    }
   ],
   "source": [
    "df_train.head()"
   ]
  },
  {
   "cell_type": "code",
   "execution_count": 4,
   "metadata": {},
   "outputs": [
    {
     "name": "stdout",
     "output_type": "stream",
     "text": [
      "<class 'pandas.core.frame.DataFrame'>\n",
      "Index: 992931 entries, waLDQMmcOu2jLDaV1ddDkgCrB/jl6sD66Xzs0Vqax1Y= to ZoVEIVMCpKT9/MJgqO+fh9xYrNM2vNisLhJ4xY/CVyk=\n",
      "Data columns (total 1 columns):\n",
      "is_churn    992931 non-null int64\n",
      "dtypes: int64(1)\n",
      "memory usage: 15.2+ MB\n"
     ]
    }
   ],
   "source": [
    "df_train.info()"
   ]
  },
  {
   "cell_type": "code",
   "execution_count": 5,
   "metadata": {
    "scrolled": true
   },
   "outputs": [
    {
     "data": {
      "text/plain": [
       "(0.0, 1.05, -0.44000000000000006, 0.44000000000000006)"
      ]
     },
     "execution_count": 5,
     "metadata": {},
     "output_type": "execute_result"
    },
    {
     "data": {
      "image/png": "[encoded data removed]",
      "text/plain": [
       "<matplotlib.figure.Figure at 0x1c52f80d320>"
      ]
     },
     "metadata": {},
     "output_type": "display_data"
    }
   ],
   "source": [
    "# axes configuration\n",
    "_ , axChurn = plt.subplots(figsize=(9, 2))\n",
    "axChurn.set_position([0.05, 0.05, 0.9, 0.65])\n",
    "\n",
    "# histogram via value_counts()\n",
    "churn_distrib = df_train.is_churn.value_counts(normalize=True)\n",
    "\n",
    "# bar plot of no churn first\n",
    "no_churn = churn_distrib.loc[0]\n",
    "axChurn.barh(0, no_churn)\n",
    "\n",
    "# bar plot of churn stacked on no churn horizontally\n",
    "h_bar2 = axChurn.barh(0, churn_distrib.loc[1],  left = no_churn)\n",
    "\n",
    "# add legend\n",
    "axChurn.legend(['No Churn', 'Churn'], bbox_to_anchor=(0.5,1.4), loc = 'upper center')\n",
    "\n",
    "# show a line at 50% if it were balanced\n",
    "bar_height = h_bar2.patches[-1].get_height()/2\n",
    "axChurn.plot([0.5]*2, [-bar_height, bar_height], color = 'b', linestyle = ':')\n",
    "axChurn.text(0.5,-bar_height*1.2, '50%')\n",
    "\n",
    "# show a line at the atually split of no churn - churn\n",
    "axChurn.plot([no_churn]*2, [-bar_height, bar_height], color = 'k', linestyle = '-')\n",
    "axChurn.text(no_churn,-bar_height*1.2, '{:.0f}%'.format(no_churn*100))\n",
    "\n",
    "# removes axis spines altogether\n",
    "axChurn.axis('off')"
   ]
  },
  {
   "cell_type": "code",
   "execution_count": 6,
   "metadata": {
    "collapsed": true
   },
   "outputs": [],
   "source": [
    "# ALTERNATIVE SOLUTION TO GENERATE THE SAME PLOT\n",
    "# _ , axChurn = plt.subplots(figsize=(10, 2))\n",
    "\n",
    "# # one could histogram is_churn column directly but it doesn't look good\n",
    "# # df_train.is_churn.plot(kind='hist', bins=[0, 1, 2], rwidth=0.5, align = 'left', ax=axChurn)\n",
    "\n",
    "# # histogram via value_counts() then make bar plot, change ticks labels\n",
    "# # churn_distrib = df_train.is_churn.value_counts()\n",
    "# # churn_distrib.plot(kind='barh', ax=axChurn)\n",
    "# # axChurn.set_yticklabels(('No Churn', 'Churn'), rotation = 0)\n",
    "# ## plt.xticks(churn_distrib.index, ('No Churn', 'Churn'), rotation = 0)"
   ]
  },
  {
   "cell_type": "markdown",
   "metadata": {},
   "source": [
    "# Data Description\n",
    "There 3 data files that can tell us about customer behavior."
   ]
  },
  {
   "cell_type": "markdown",
   "metadata": {},
   "source": [
    "                                                \n",
    "\n",
    "|                                       transactions.csv                                        |\n",
    "|-----------------------------------------------------------------------------------------------|\n",
    "| msno                   | user id  (letters, digits and special characters)                    |\n",
    "| payment_method_id      | payment method   (masked)                                            |\n",
    "| payment_plan_days      | length of membership plan in days                                    |\n",
    "| plan_list_price        | in New Taiwan Dollar (NTD)                                           |\n",
    "| actual_amount_paid     | in New Taiwan Dollar (NTD)                                           |\n",
    "| is_auto_renew          | true when customer opted in renewing its subscription automatically  |\n",
    "| transaction_date       | format %Y%m%d                                                        |\n",
    "| membership_expire_date | format %Y%m%d                                                        |\n",
    "| is_cancel              | whether or not the user canceled the membership in this transaction. |\n",
    "\n"
   ]
  },
  {
   "cell_type": "markdown",
   "metadata": {},
   "source": [
    "|              user_logs.csv                                              |\n",
    "|-------------------------------------------------------------------------|\n",
    "| msno       | user id  (letters, digits and special characters)          |\n",
    "| date       | format %Y%m%d                                              |\n",
    "| num_25     | # of songs played less than 25% of the song length         |\n",
    "| num_50     | # of songs played between 25% to 50% of the song length    |\n",
    "| num_75     | # of songs played between 50% to 75% of of the song length |\n",
    "| num_985    | # of songs played between 75% to 98.5% of the song length  |\n",
    "| num_100    | # of songs played over 98.5% of the song length            |\n",
    "| num_unq    | # of unique songs played                                   |\n",
    "| total_secs | total seconds played                                       |"
   ]
  },
  {
   "cell_type": "markdown",
   "metadata": {},
   "source": [
    "|                                    members.csv                  |\n",
    "|---------------------------------|-------------------------------|\n",
    "| msno                            |user id  (letters, digits and special characters) |\n",
    "| city                            |          name of city         |\n",
    "| bd                              | age$^i$                       |\n",
    "| gender                          |            gender             |\n",
    "| registered_via                  |     registration method       |\n",
    "| registration_init_time          |          format %Y%m%d        |\n",
    "| expiration_date                 | format %Y%m%d $^{ii}$         |\n",
    "\n",
    "$^i$ this column has outlier values ranging from -7000 to 2015 please use your judgement.\n",
    "\n",
    "$^{ii}$ taken as a snapshot at which the member.csv is extracted. Not representing the actual churn behavior."
   ]
  },
  {
   "cell_type": "code",
   "execution_count": null,
   "metadata": {
    "collapsed": true
   },
   "outputs": [],
   "source": []
  }
 ],
 "metadata": {
  "kernelspec": {
   "display_name": "kkbox_churn_kernel",
   "language": "python",
   "name": "kkbox_churn"
  },
  "language_info": {
   "codemirror_mode": {
    "name": "ipython",
    "version": 3
   },
   "file_extension": ".py",
   "mimetype": "text/x-python",
   "name": "python",
   "nbconvert_exporter": "python",
   "pygments_lexer": "ipython3",
   "version": "3.6.4"
  }
 },
 "nbformat": 4,
 "nbformat_minor": 2
}
