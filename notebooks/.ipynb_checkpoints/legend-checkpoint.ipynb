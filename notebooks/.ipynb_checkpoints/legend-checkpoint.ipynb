{
 "cells": [
  {
   "cell_type": "markdown",
   "metadata": {},
   "source": [
    "The order each artist is being created by plt.hist is not obvious.\n",
    "so it is better to use label keyword in plt.hist for legend.\n",
    "[Matplotlib legend](https://matplotlib.org/tutorials/intermediate/legend_guide.html#sphx-glr-tutorials-intermediate-legend-guide-py)"
   ]
  },
  {
   "cell_type": "code",
   "execution_count": null,
   "metadata": {
    "collapsed": true
   },
   "outputs": [],
   "source": [
    "_ , ax = plt.subplots(figsize = (9, 5))\n",
    "\n",
    "# plot resulting histogram\n",
    "X_unit = np.tile(bin_edges[:-1], Ncol).reshape((-1,Ncol), order='F')\n",
    "\n",
    "# plot histogram using weights\n",
    "_, _, pat = ax.hist(X_unit, bins=bin_edges, weights=hist_num, histtype='step',\\\n",
    "            alpha=1, linewidth = 2, label = df_chunk.iloc[:,1:].columns)\n",
    "\n",
    "# change axis option\n",
    "ax.set_yscale('log')\n",
    "ax.set_ylabel('count')\n",
    "ax.set_xlabel('Daily number of songs played per song length')\n",
    "\n",
    "# if one uses sequence of string in legend, order must be reversed to match drawing order of hist\n",
    "ax.legend()"
   ]
  },
  {
   "cell_type": "markdown",
   "metadata": {},
   "source": [
    "Below, we get legend and handles (patches) to reassign in the right order. <br>\n",
    "AND we can add a title for instance. It wasn't possible above without specifying legend string again."
   ]
  },
  {
   "cell_type": "code",
   "execution_count": null,
   "metadata": {
    "collapsed": true
   },
   "outputs": [],
   "source": [
    "handles, labels = ax.get_legend_handles_labels()\n",
    "ax.legend(handles, labels, title = 'Legend title')"
   ]
  }
 ],
 "metadata": {
  "kernelspec": {
   "display_name": "Python 3",
   "language": "python",
   "name": "python3"
  },
  "language_info": {
   "codemirror_mode": {
    "name": "ipython",
    "version": 3
   },
   "file_extension": ".py",
   "mimetype": "text/x-python",
   "name": "python",
   "nbconvert_exporter": "python",
   "pygments_lexer": "ipython3",
   "version": "3.5.4"
  }
 },
 "nbformat": 4,
 "nbformat_minor": 2
}
