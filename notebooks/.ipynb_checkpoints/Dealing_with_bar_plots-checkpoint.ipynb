{
 "cells": [
  {
   "cell_type": "markdown",
   "metadata": {},
   "source": [
    "# Using pivot! (best solution)"
   ]
  },
  {
   "cell_type": "code",
   "execution_count": null,
   "metadata": {
    "collapsed": true
   },
   "outputs": [],
   "source": [
    "# pivot on relevant columns\n",
    "df_plan = df_transac.pivot_table(index = 'plan_duration', columns = 'is_auto_renew',\\\n",
    "                                 values = 'plan_list_price', aggfunc = 'count', fill_value = 0)\n",
    "\n",
    "# normalize each column by counts\n",
    "df_plan = df_plan.divide(df_plan.sum())"
   ]
  },
  {
   "cell_type": "code",
   "execution_count": null,
   "metadata": {
    "collapsed": true
   },
   "outputs": [],
   "source": [
    "_ , ax = plt.subplots()\n",
    "\n",
    "# make a bar plot for each column\n",
    "df_plan.plot(kind = 'bar', ax = ax)\n",
    "\n",
    "# change tick orientation and add labels\n",
    "ax.tick_params(axis = 'x', rotation = 0)\n",
    "ax.set_ylabel('Percent')\n",
    "ax.set_xlabel('plan_duration')"
   ]
  },
  {
   "cell_type": "markdown",
   "metadata": {},
   "source": [
    "# Using Seaborn"
   ]
  },
  {
   "cell_type": "markdown",
   "metadata": {},
   "source": [
    "countplot() (no normalization option though)"
   ]
  },
  {
   "cell_type": "code",
   "execution_count": null,
   "metadata": {
    "collapsed": true
   },
   "outputs": [],
   "source": [
    "_ , ax = plt.subplots()"
   ]
  },
  {
   "cell_type": "code",
   "execution_count": null,
   "metadata": {
    "collapsed": true
   },
   "outputs": [],
   "source": [
    "# This is simple and it works BUT there is no option to normalize count!!!\n",
    "sns.countplot(x=\"plan_duration\", hue = 'is_auto_renew',\\\n",
    "              alpha = 0.5, \\\n",
    "              data=df_transac, ax = ax)"
   ]
  },
  {
   "cell_type": "markdown",
   "metadata": {},
   "source": [
    "`barplot()` works if you specify an estimator that counts and normalizes.\n",
    "`y` also needs to be any __numeric__ column. It doesn't which column as long as it is numeric because estimator will take a count on it.\n",
    "\n",
    "NOTE: This is very slow"
   ]
  },
  {
   "cell_type": "code",
   "execution_count": null,
   "metadata": {
    "collapsed": true
   },
   "outputs": [],
   "source": [
    "# specify any numeric column as y and change estimator (default is mean()) to do a normalized count\n",
    "sns.barplot(x=\"plan_duration\", y=\"plan_list_price\", hue = 'is_auto_renew',\\\n",
    "              alpha = 0.5, estimator = lambda x: len(x) / len(df_transac) * 100,\\\n",
    "              data=df_transac, ax = ax)\n",
    "ax.set_ylabel('Percent')"
   ]
  },
  {
   "cell_type": "markdown",
   "metadata": {},
   "source": [
    "# Using boolean filtering and pandas plot"
   ]
  },
  {
   "cell_type": "code",
   "execution_count": null,
   "metadata": {
    "collapsed": true
   },
   "outputs": [],
   "source": [
    "def histogram_category_by( df_input, category_col, by_col)\n",
    "    \"\"\"\n",
    "    This function does a value_counts on category_col column for each by_col value\n",
    "    df_input: input dataframe\n",
    "    category_col: categorical column to histogram\n",
    "    by_col: column to filter category_col thus creating one histogram per by_col value\n",
    "    \"\"\"\n",
    "    # conditional state derived from by_col\n",
    "    auto_renew_state = df_input[by_col].value_counts(sort=False).index\n",
    "    s_list = []\n",
    "    \n",
    "    # loop through conditional state\n",
    "    for state in auto_renew_state:\n",
    "        # boolean indexing\n",
    "        df_plan = df_input.loc[df_input[by_col] == state, 'plan_duration']\n",
    "        # histogram with normalization\n",
    "        s_plan = df_plan.value_counts(normalize = True).sort_index() * 100\n",
    "        # rename column\n",
    "        s_plan.name = 'is_auto_renew_{}'.format(state)\n",
    "        # keep a list of each serie (histogram)\n",
    "        s_list.append(s_plan)\n",
    "        \n",
    "    # return concatenated dataframe\n",
    "    return pd.concat(s_list, axis = 1)"
   ]
  },
  {
   "cell_type": "code",
   "execution_count": null,
   "metadata": {
    "collapsed": true
   },
   "outputs": [],
   "source": [
    "_ , ax = plt.subplots()\n",
    "df_plan = histogram_category_by( df_transac, 'plan_duration', 'is_auto_renew')\n",
    "df_plan.plot(kind = 'bar', ax = ax)\n",
    "ax.tick_params(axis = 'x', rotation = 0)\n",
    "ax.set_ylabel('Percent')\n",
    "ax.set_xlabel('plan_duration')"
   ]
  },
  {
   "cell_type": "markdown",
   "metadata": {},
   "source": [
    "# Using GroupBy (Not a solution)\n",
    "This isn't the right path for my desired output"
   ]
  },
  {
   "cell_type": "code",
   "execution_count": null,
   "metadata": {
    "collapsed": true
   },
   "outputs": [],
   "source": [
    "# group by auto renew and keep plan_duration only\n",
    "auto_renew_group = df_transac.groupby('is_auto_renew')['plan_duration']"
   ]
  },
  {
   "cell_type": "code",
   "execution_count": null,
   "metadata": {
    "collapsed": true
   },
   "outputs": [],
   "source": [
    "# histogram with value_counts() resulting in two levels index\n",
    "auto_renew_plan_duration_distrib = auto_renew_group.value_counts(normalize = True)"
   ]
  },
  {
   "cell_type": "code",
   "execution_count": null,
   "metadata": {
    "collapsed": true
   },
   "outputs": [],
   "source": [
    "# trying to reorder indexes after categories lost their order post with multi-level indexing\n",
    "auto_renew_plan_duration_distrib.reindex(index = days_plan_labels, level = 'plan_duration')"
   ]
  }
 ],
 "metadata": {
  "kernelspec": {
   "display_name": "Python 3",
   "language": "python",
   "name": "python3"
  },
  "language_info": {
   "codemirror_mode": {
    "name": "ipython",
    "version": 3
   },
   "file_extension": ".py",
   "mimetype": "text/x-python",
   "name": "python",
   "nbconvert_exporter": "python",
   "pygments_lexer": "ipython3",
   "version": "3.5.4"
  }
 },
 "nbformat": 4,
 "nbformat_minor": 2
}
