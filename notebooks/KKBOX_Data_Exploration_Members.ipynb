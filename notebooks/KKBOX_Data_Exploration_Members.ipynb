{
 "cells": [
  {
   "cell_type": "markdown",
   "metadata": {},
   "source": [
    "# Imports"
   ]
  },
  {
   "cell_type": "code",
   "execution_count": 1,
   "metadata": {
    "collapsed": true
   },
   "outputs": [],
   "source": [
    "import os\n",
    "import pandas as pd\n",
    "import numpy as np\n",
    "import seaborn as sns\n",
    "import matplotlib.pyplot as plt\n",
    "\n",
    "# keep matplotlib interactive\n",
    "# NOTE: one must reload matplotlib to change of rendering style\n",
    "%matplotlib notebook\n",
    "# %matplotlib inline\n",
    "# use ggplot style\n",
    "plt.style.use('ggplot')"
   ]
  },
  {
   "cell_type": "markdown",
   "metadata": {},
   "source": [
    "# Data Description\n",
    "Description of members"
   ]
  },
  {
   "cell_type": "markdown",
   "metadata": {},
   "source": [
    "|                                    members.csv                  |\n",
    "|---------------------------------|-------------------------------|\n",
    "| msno                            |user id  (letters, digits and special characters) |\n",
    "| city                            |          name of city         |\n",
    "| bd                              | age$^i$                       |\n",
    "| gender                          |            gender             |\n",
    "| registered_via                  |     registration method       |\n",
    "| registration_init_time          |          format %Y%m%d        |\n",
    "| expiration_date                 | format %Y%m%d $^{ii}$         |\n",
    "\n",
    "$^i$ this column has outlier values ranging from -7000 to 2015 please use your judgement.\n",
    "\n",
    "$^{ii}$ taken as a snapshot at which the member.csv is extracted. Not representing the actual churn behavior."
   ]
  },
  {
   "cell_type": "code",
   "execution_count": null,
   "metadata": {
    "collapsed": true
   },
   "outputs": [],
   "source": []
  }
 ],
 "metadata": {
  "kernelspec": {
   "display_name": "kkbox_churn_kernel",
   "language": "python",
   "name": "kkbox_churn"
  },
  "language_info": {
   "codemirror_mode": {
    "name": "ipython",
    "version": 3
   },
   "file_extension": ".py",
   "mimetype": "text/x-python",
   "name": "python",
   "nbconvert_exporter": "python",
   "pygments_lexer": "ipython3",
   "version": "3.6.4"
  }
 },
 "nbformat": 4,
 "nbformat_minor": 2
}
