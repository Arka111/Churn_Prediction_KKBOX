{
 "cells": [
  {
   "cell_type": "markdown",
   "metadata": {},
   "source": [
    "### Clean Transaction file description:\n",
    "\n",
    "|                                       transactions.csv                                        |\n",
    "|-----------------------------------------------------------------------------------------------|\n",
    "| msno                   | user id  (letters, digits and special characters)                    |\n",
    "| payment_method_id      | payment method   (masked)                                            |\n",
    "| payment_plan_days      | length of membership plan in days                                    |\n",
    "| plan_list_price        | in New Taiwan Dollar (NTD)                                           |\n",
    "| actual_amount_paid     | in New Taiwan Dollar (NTD)                                           |\n",
    "| is_auto_renew          | true when customer opted in renewing its subscription automatically  |\n",
    "| transaction_date       | format %Y%m%d                                                        |\n",
    "| membership_expire_date | format %Y%m%d                                                        |\n",
    "| is_cancel              | whether or not the user canceled the membership in this transaction. |\n",
    "| plan_duration          | Intervals in days that fit payment_plan_days |"
   ]
  },
  {
   "cell_type": "markdown",
   "metadata": {},
   "source": [
    "### List of features:\n",
    "- Fraction of number of days left in expiration month (s_frac_day)\n",
    "- Ratio of active cancellation to number of transactions (s_cancel_ratio)\n",
    "- Ratio of auto renew to number of transactions (s_autorenew_ratio)\n",
    "- Number of uninterrupted days of membership (s_uninterusers)\n",
    "- Last Plan duration which is an added column during EDA (s_planduration)\n",
    "- Is Last Payment ID number 41 or not (s_payID)"
   ]
  },
  {
   "cell_type": "markdown",
   "metadata": {},
   "source": [
    "#### Necessary imports"
   ]
  },
  {
   "cell_type": "code",
   "execution_count": 1,
   "metadata": {},
   "outputs": [],
   "source": [
    "import os\n",
    "import pandas as pd\n",
    "import numpy as np\n",
    "from time import time\n",
    "from datetime import timedelta"
   ]
  },
  {
   "cell_type": "markdown",
   "metadata": {},
   "source": [
    "#### Retrieve eligible users for training"
   ]
  },
  {
   "cell_type": "code",
   "execution_count": 2,
   "metadata": {},
   "outputs": [],
   "source": [
    "# eligible users are provided in a csv file\n",
    "train_dir = os.path.join(os.pardir, 'data', 'processed', 'train.csv')\n",
    "s_users = pd.read_csv(train_dir, usecols = ['msno'])"
   ]
  },
  {
   "cell_type": "code",
   "execution_count": 3,
   "metadata": {},
   "outputs": [
    {
     "name": "stdout",
     "output_type": "stream",
     "text": [
      "Number of eligible users for churn prediction 987814\n"
     ]
    }
   ],
   "source": [
    "current_users = s_users.msno.values\n",
    "print('Number of eligible users for churn prediction', len(current_users))"
   ]
  },
  {
   "cell_type": "code",
   "execution_count": 4,
   "metadata": {},
   "outputs": [
    {
     "data": {
      "text/plain": [
       "987814"
      ]
     },
     "execution_count": 4,
     "metadata": {},
     "output_type": "execute_result"
    }
   ],
   "source": [
    "# Just checking for duplicates. There is none.\n",
    "s_users.msno.value_counts().count()"
   ]
  },
  {
   "cell_type": "markdown",
   "metadata": {},
   "source": [
    "#### Get cleaned transaction histories"
   ]
  },
  {
   "cell_type": "code",
   "execution_count": 5,
   "metadata": {},
   "outputs": [],
   "source": [
    "transaction_dir = os.path.join(os.pardir, 'data', 'interim', 'transactions_clean.csv')\n",
    "df_transac = pd.read_csv(transaction_dir, parse_dates=['transaction_date', 'membership_expire_date'])"
   ]
  },
  {
   "cell_type": "code",
   "execution_count": 6,
   "metadata": {},
   "outputs": [
    {
     "name": "stdout",
     "output_type": "stream",
     "text": [
      "Number of distinct users in transaction history = 2,363,626\n"
     ]
    }
   ],
   "source": [
    "# Total distinct users\n",
    "Num_distinct_users = df_transac.msno.value_counts().count()\n",
    "print('Number of distinct users in transaction history = {:,}'.format(Num_distinct_users))"
   ]
  },
  {
   "cell_type": "code",
   "execution_count": 7,
   "metadata": {},
   "outputs": [],
   "source": [
    "# only keep eligible users as provided by KKBOX\n",
    "df_transac = df_transac[df_transac.msno.isin(current_users)]"
   ]
  },
  {
   "cell_type": "code",
   "execution_count": 8,
   "metadata": {},
   "outputs": [
    {
     "name": "stdout",
     "output_type": "stream",
     "text": [
      "Number of unique users = 987,814\n"
     ]
    }
   ],
   "source": [
    "# unique eligible users\n",
    "unique_users = df_transac.msno.value_counts()\n",
    "print('Number of unique users = {:,}'.format(unique_users.count()))"
   ]
  },
  {
   "cell_type": "code",
   "execution_count": 9,
   "metadata": {},
   "outputs": [],
   "source": [
    "# only keep transaction up to January 2017 (We have transactions up to February 2017 here)\n",
    "# When we make predicitons for month X, we only know transactions up to month X-1\n",
    "df_transac = df_transac[df_transac.transaction_date < '2017-02-01']"
   ]
  },
  {
   "cell_type": "code",
   "execution_count": 10,
   "metadata": {},
   "outputs": [],
   "source": [
    "# sort dataframe by msno, transaction date then expiration date\n",
    "df_transac.sort_values(['msno', 'transaction_date', 'membership_expire_date'], inplace=True)"
   ]
  },
  {
   "cell_type": "code",
   "execution_count": 11,
   "metadata": {},
   "outputs": [
    {
     "data": {
      "text/html": [
       "<div>\n",
       "<style scoped>\n",
       "    .dataframe tbody tr th:only-of-type {\n",
       "        vertical-align: middle;\n",
       "    }\n",
       "\n",
       "    .dataframe tbody tr th {\n",
       "        vertical-align: top;\n",
       "    }\n",
       "\n",
       "    .dataframe thead th {\n",
       "        text-align: right;\n",
       "    }\n",
       "</style>\n",
       "<table border=\"1\" class=\"dataframe\">\n",
       "  <thead>\n",
       "    <tr style=\"text-align: right;\">\n",
       "      <th></th>\n",
       "      <th>msno</th>\n",
       "      <th>payment_plan_days</th>\n",
       "      <th>plan_list_price</th>\n",
       "      <th>actual_amount_paid</th>\n",
       "      <th>is_auto_renew</th>\n",
       "      <th>transaction_date</th>\n",
       "      <th>membership_expire_date</th>\n",
       "      <th>is_cancel</th>\n",
       "      <th>is_payid_41</th>\n",
       "      <th>plan_duration</th>\n",
       "    </tr>\n",
       "  </thead>\n",
       "  <tbody>\n",
       "    <tr>\n",
       "      <th>21547738</th>\n",
       "      <td>zzzN9thH22os1dRS0VHReY/8FTfGHOi86//d+wGGFsQ=</td>\n",
       "      <td>30.0</td>\n",
       "      <td>99.0</td>\n",
       "      <td>99.0</td>\n",
       "      <td>True</td>\n",
       "      <td>2016-09-04</td>\n",
       "      <td>2016-10-04</td>\n",
       "      <td>False</td>\n",
       "      <td>True</td>\n",
       "      <td>30 - 89</td>\n",
       "    </tr>\n",
       "    <tr>\n",
       "      <th>21547739</th>\n",
       "      <td>zzzN9thH22os1dRS0VHReY/8FTfGHOi86//d+wGGFsQ=</td>\n",
       "      <td>30.0</td>\n",
       "      <td>99.0</td>\n",
       "      <td>99.0</td>\n",
       "      <td>True</td>\n",
       "      <td>2016-10-04</td>\n",
       "      <td>2016-11-04</td>\n",
       "      <td>False</td>\n",
       "      <td>True</td>\n",
       "      <td>30 - 89</td>\n",
       "    </tr>\n",
       "    <tr>\n",
       "      <th>21547740</th>\n",
       "      <td>zzzN9thH22os1dRS0VHReY/8FTfGHOi86//d+wGGFsQ=</td>\n",
       "      <td>30.0</td>\n",
       "      <td>99.0</td>\n",
       "      <td>99.0</td>\n",
       "      <td>True</td>\n",
       "      <td>2016-11-04</td>\n",
       "      <td>2016-12-04</td>\n",
       "      <td>False</td>\n",
       "      <td>True</td>\n",
       "      <td>30 - 89</td>\n",
       "    </tr>\n",
       "    <tr>\n",
       "      <th>21547741</th>\n",
       "      <td>zzzN9thH22os1dRS0VHReY/8FTfGHOi86//d+wGGFsQ=</td>\n",
       "      <td>30.0</td>\n",
       "      <td>99.0</td>\n",
       "      <td>99.0</td>\n",
       "      <td>True</td>\n",
       "      <td>2016-12-04</td>\n",
       "      <td>2017-01-04</td>\n",
       "      <td>False</td>\n",
       "      <td>True</td>\n",
       "      <td>30 - 89</td>\n",
       "    </tr>\n",
       "    <tr>\n",
       "      <th>21547742</th>\n",
       "      <td>zzzN9thH22os1dRS0VHReY/8FTfGHOi86//d+wGGFsQ=</td>\n",
       "      <td>30.0</td>\n",
       "      <td>99.0</td>\n",
       "      <td>99.0</td>\n",
       "      <td>True</td>\n",
       "      <td>2017-01-04</td>\n",
       "      <td>2017-02-04</td>\n",
       "      <td>False</td>\n",
       "      <td>True</td>\n",
       "      <td>30 - 89</td>\n",
       "    </tr>\n",
       "  </tbody>\n",
       "</table>\n",
       "</div>"
      ],
      "text/plain": [
       "                                                  msno  payment_plan_days  \\\n",
       "21547738  zzzN9thH22os1dRS0VHReY/8FTfGHOi86//d+wGGFsQ=               30.0   \n",
       "21547739  zzzN9thH22os1dRS0VHReY/8FTfGHOi86//d+wGGFsQ=               30.0   \n",
       "21547740  zzzN9thH22os1dRS0VHReY/8FTfGHOi86//d+wGGFsQ=               30.0   \n",
       "21547741  zzzN9thH22os1dRS0VHReY/8FTfGHOi86//d+wGGFsQ=               30.0   \n",
       "21547742  zzzN9thH22os1dRS0VHReY/8FTfGHOi86//d+wGGFsQ=               30.0   \n",
       "\n",
       "          plan_list_price  actual_amount_paid  is_auto_renew transaction_date  \\\n",
       "21547738             99.0                99.0           True       2016-09-04   \n",
       "21547739             99.0                99.0           True       2016-10-04   \n",
       "21547740             99.0                99.0           True       2016-11-04   \n",
       "21547741             99.0                99.0           True       2016-12-04   \n",
       "21547742             99.0                99.0           True       2017-01-04   \n",
       "\n",
       "         membership_expire_date  is_cancel  is_payid_41 plan_duration  \n",
       "21547738             2016-10-04      False         True       30 - 89  \n",
       "21547739             2016-11-04      False         True       30 - 89  \n",
       "21547740             2016-12-04      False         True       30 - 89  \n",
       "21547741             2017-01-04      False         True       30 - 89  \n",
       "21547742             2017-02-04      False         True       30 - 89  "
      ]
     },
     "execution_count": 11,
     "metadata": {},
     "output_type": "execute_result"
    }
   ],
   "source": [
    "df_transac.tail()"
   ]
  },
  {
   "cell_type": "markdown",
   "metadata": {},
   "source": [
    "# Fraction of number of days left in expiration month.\n",
    "\n",
    "The idea is that people may be more inclined to churn when their expiration date is closer to the end of the month.\n",
    "\n",
    "Don't take into account expiration date where cancellation is active. When people actively cancels, their expiration date changes to whatever date they want to stop. Most people stops same day or the day after they chose to cancel."
   ]
  },
  {
   "cell_type": "code",
   "execution_count": 12,
   "metadata": {},
   "outputs": [],
   "source": [
    "# filter active cancellation and only keep last transaction of each user\n",
    "df_frac_day = df_transac[df_transac.is_cancel == False].groupby('msno', sort=False).nth(-1)\n",
    "\n",
    "# NOTE: dataframe is pre-sorted so we don't need to sort after groupby, it saves time"
   ]
  },
  {
   "cell_type": "code",
   "execution_count": 13,
   "metadata": {},
   "outputs": [],
   "source": [
    "# compute fraction\n",
    "s_frac_day = (df_frac_day.membership_expire_date.dt.daysinmonth - df_frac_day.membership_expire_date.dt.day) / \\\n",
    "                            df_frac_day.membership_expire_date.dt.daysinmonth"
   ]
  },
  {
   "cell_type": "code",
   "execution_count": 14,
   "metadata": {},
   "outputs": [
    {
     "data": {
      "text/plain": [
       "(987812,)"
      ]
     },
     "execution_count": 14,
     "metadata": {},
     "output_type": "execute_result"
    }
   ],
   "source": [
    "s_frac_day.shape"
   ]
  },
  {
   "cell_type": "markdown",
   "metadata": {},
   "source": [
    "Total number of eligible users: 987,814. <br>\n",
    "There are 2 users who have only one transaction up to January 31st and it is an active cancellation"
   ]
  },
  {
   "cell_type": "code",
   "execution_count": 23,
   "metadata": {},
   "outputs": [],
   "source": [
    "def add_missing_users(s_in, default_val):\n",
    "    \"\"\"\n",
    "    Given an input Serie with user's id as indexes, add unseen users from prediction Serie s_users.\n",
    "    s_users must defined earlier. For unseen users, assign them default_val\n",
    "    \"\"\"\n",
    "    # find remaining users\n",
    "    other_users = set(s_users.msno).difference(s_in.index)\n",
    "\n",
    "    # create series, default value is zero (end of the month expiration date)\n",
    "    s_others = pd.Series([default_val]*len(other_users), index=other_users)\n",
    "\n",
    "    # concatenate with s_frac_day\n",
    "    s_complete = pd.concat([s_in, s_others])\n",
    "    # check that serie is complete\n",
    "    assert len(s_users) == len(s_complete)\n",
    "    \n",
    "    return s_complete"
   ]
  },
  {
   "cell_type": "code",
   "execution_count": 24,
   "metadata": {},
   "outputs": [],
   "source": [
    "# add remaining users\n",
    "s_frac_day = add_missing_users(s_frac_day, s_frac_day.mean())\n",
    "assert len(s_frac_day) == len(s_users)"
   ]
  },
  {
   "cell_type": "code",
   "execution_count": 25,
   "metadata": {},
   "outputs": [],
   "source": [
    "# give serie a name\n",
    "s_frac_day.name = 'time_of_month'"
   ]
  },
  {
   "cell_type": "markdown",
   "metadata": {},
   "source": [
    "# Ratio of active cancellation to number of transactions\n",
    "\n",
    "The idea is that a long time user may just signed up for another plan after an active cancellation. Whereas a recent member may just not enjoy this music streaming service and will churn."
   ]
  },
  {
   "cell_type": "code",
   "execution_count": 26,
   "metadata": {},
   "outputs": [],
   "source": [
    "# number of transactions per user\n",
    "s_num_trans = df_transac.groupby('msno', sort=False).is_cancel.count()"
   ]
  },
  {
   "cell_type": "code",
   "execution_count": 27,
   "metadata": {},
   "outputs": [],
   "source": [
    "# number of active cancellation per user\n",
    "s_num_cancel = df_transac[df_transac.is_cancel == True].groupby('msno', sort=False).is_cancel.count()"
   ]
  },
  {
   "cell_type": "code",
   "execution_count": 28,
   "metadata": {},
   "outputs": [],
   "source": [
    "# ratio of active cancellation to total number of transactions\n",
    "s_cancel_ratio = s_num_cancel.divide(s_num_trans, fill_value=0)"
   ]
  },
  {
   "cell_type": "code",
   "execution_count": 29,
   "metadata": {},
   "outputs": [
    {
     "data": {
      "text/plain": [
       "(987814,)"
      ]
     },
     "execution_count": 29,
     "metadata": {},
     "output_type": "execute_result"
    }
   ],
   "source": [
    "s_cancel_ratio.shape"
   ]
  },
  {
   "cell_type": "code",
   "execution_count": 30,
   "metadata": {},
   "outputs": [],
   "source": [
    "# # no missing users for this feature\n",
    "# #add unseen users \n",
    "# s_cancel_ratio = add_missing_users(s_cancel_ratio, 0)\n",
    "# assert len(s_cancel_ratio) == len(s_users)"
   ]
  },
  {
   "cell_type": "code",
   "execution_count": 31,
   "metadata": {},
   "outputs": [],
   "source": [
    "# give serie a name\n",
    "s_cancel_ratio.name = 'cancel_ratio'"
   ]
  },
  {
   "cell_type": "markdown",
   "metadata": {},
   "source": [
    "# Ratio of auto renew to number of transactions"
   ]
  },
  {
   "cell_type": "code",
   "execution_count": 32,
   "metadata": {},
   "outputs": [],
   "source": [
    "# number of active cancellation per user\n",
    "s_num_autorenew = df_transac[df_transac.is_auto_renew == True].groupby('msno', sort=False).is_auto_renew.count()"
   ]
  },
  {
   "cell_type": "code",
   "execution_count": 33,
   "metadata": {},
   "outputs": [],
   "source": [
    "# ratio of active cancellation to total number of transactions\n",
    "s_autorenew_ratio = s_num_autorenew.divide(s_num_trans, fill_value=0)"
   ]
  },
  {
   "cell_type": "code",
   "execution_count": 34,
   "metadata": {},
   "outputs": [
    {
     "data": {
      "text/plain": [
       "(987814,)"
      ]
     },
     "execution_count": 34,
     "metadata": {},
     "output_type": "execute_result"
    }
   ],
   "source": [
    "s_autorenew_ratio.shape"
   ]
  },
  {
   "cell_type": "code",
   "execution_count": 35,
   "metadata": {},
   "outputs": [],
   "source": [
    "# # no missing users for this feature\n",
    "# # add unseen users\n",
    "# s_autorenew_ratio = add_missing_users(s_autorenew_ratio, 0)\n",
    "# assert len(s_autorenew_ratio) == len(s_users)"
   ]
  },
  {
   "cell_type": "code",
   "execution_count": 36,
   "metadata": {},
   "outputs": [],
   "source": [
    "# give serie a name\n",
    "s_autorenew_ratio.name = 'auto_renew_ratio'"
   ]
  },
  {
   "cell_type": "markdown",
   "metadata": {},
   "source": [
    "# Number of uninterrupted days of membership\n",
    "\n",
    "Interruption could be an active cancellation (i.e. even if user signs up again) and transaction date must be anterior to previous transaction date."
   ]
  },
  {
   "cell_type": "code",
   "execution_count": 37,
   "metadata": {},
   "outputs": [],
   "source": [
    "df_uninter = df_transac[['msno', 'transaction_date', 'membership_expire_date']].copy()"
   ]
  },
  {
   "cell_type": "code",
   "execution_count": 38,
   "metadata": {
    "scrolled": false
   },
   "outputs": [],
   "source": [
    "# forward transaction by one index for each user\n",
    "df_uninter['prev_exp_date'] = df_uninter.groupby('msno', sort=False).membership_expire_date.shift(periods=1)\n",
    "\n",
    "# NOTE: it is faster to use shift and make the difference rather than doing it in one line like this:\n",
    "# df_transac['delta_exp_date'] = df_transac.groupby('msno', sort=False).membership_expire_date.diff(periods=1)\n",
    "# operation on groupby() are expensive and diff() takes a long time compared to shift."
   ]
  },
  {
   "cell_type": "markdown",
   "metadata": {},
   "source": [
    "User's first transactions have no prior data. We can use transaction date as an estimation of previous expiration date.<br>\n",
    "Thus, first transactions are assumed to be contineous. It will help for users who have only one transaction."
   ]
  },
  {
   "cell_type": "code",
   "execution_count": 39,
   "metadata": {},
   "outputs": [],
   "source": [
    "# use transaction date as previous expiration for first transaction\n",
    "crit_first_transaction = df_uninter.prev_exp_date.isnull()\n",
    "df_uninter.loc[crit_first_transaction, 'prev_exp_date'] = df_uninter.loc[crit_first_transaction, 'transaction_date']"
   ]
  },
  {
   "cell_type": "code",
   "execution_count": 40,
   "metadata": {},
   "outputs": [],
   "source": [
    "# compute number of days between successive expiration dates\n",
    "df_uninter['delta_exp_date'] = (df_uninter.membership_expire_date - df_uninter.prev_exp_date) \\\n",
    "                                .astype('timedelta64[D]').astype('int64')\n",
    "\n",
    "# NOTE1: do use .astype('timedelta64[D]') as opposed to .dt.days (much slower)\n",
    "\n",
    "# NOTE2: we could have done it in two steps:\n",
    "# compute difference in membership expiration date (dataframe must be pre-sorted by users and date)\n",
    "# df_uninter['delta_exp_date'] = df_uninter.membership_expire_date.diff(periods=1)\n",
    "# remove user's overlap\n",
    "# df_uninter = df_uninter[df_uninter.msno == df_uninter.msno.shift(periods=1)]\n",
    "# similar time complexity because diff() operates on a Dataframe (i.e. not groupby object)"
   ]
  },
  {
   "cell_type": "code",
   "execution_count": 41,
   "metadata": {},
   "outputs": [],
   "source": [
    "# determine overlap between transaction date and prior expiration date\n",
    "df_uninter['membership_overlap'] = (df_uninter.prev_exp_date - df_uninter.transaction_date) \\\n",
    "                                .astype('timedelta64[D]').astype('int64')"
   ]
  },
  {
   "cell_type": "code",
   "execution_count": 42,
   "metadata": {},
   "outputs": [],
   "source": [
    "# label transactions as contineous if there is no interruption in membership from the previous one.\n",
    "# delta_exp_date catches active cancellation and membership_overlap catches gap in membership\n",
    "df_uninter['is_continuous'] = (df_uninter.delta_exp_date >= 0) & (df_uninter.membership_overlap >= 0)\n",
    "\n",
    "# convert bool to integer for subsequent shift (optional)\n",
    "# df_uninter.is_continuous = df_uninter.is_continuous.astype('int64')"
   ]
  },
  {
   "cell_type": "markdown",
   "metadata": {},
   "source": [
    "#### Process fully contineous membership first. (no lapse or cancellation in membership)"
   ]
  },
  {
   "cell_type": "code",
   "execution_count": 43,
   "metadata": {},
   "outputs": [],
   "source": [
    "# some users have been contineously renewing their membership on time\n",
    "# this behavior can be detected easily by comparing sum() to count() on is_contineous\n",
    "df_contusers = df_uninter.groupby('msno', sort=False).is_continuous.agg(['count', 'sum'])"
   ]
  },
  {
   "cell_type": "code",
   "execution_count": 44,
   "metadata": {},
   "outputs": [],
   "source": [
    "# retrieve loyal members\n",
    "continuous_users = df_contusers[df_contusers['count'] == df_contusers['sum']].index"
   ]
  },
  {
   "cell_type": "code",
   "execution_count": 45,
   "metadata": {},
   "outputs": [],
   "source": [
    "# keep first and last transaction of each user\n",
    "df_firstlast = df_uninter.loc[df_uninter.msno.isin(continuous_users), ['msno', 'membership_expire_date', 'prev_exp_date']]\n",
    "df_firstlast = df_firstlast.groupby('msno', sort=False).nth([0, -1])"
   ]
  },
  {
   "cell_type": "code",
   "execution_count": 46,
   "metadata": {},
   "outputs": [],
   "source": [
    "# we need to make the difference between the earliest previous expiration date and the latest expiration date\n",
    "# do a shift on prev_exp_date and make the difference with membership_expire_date\n",
    "df_firstlast['uninterrupted_days'] = (df_firstlast.membership_expire_date -\n",
    "                                     df_firstlast.groupby('msno', sort=False).prev_exp_date.shift()) \\\n",
    "                                     .astype('timedelta64[D]')"
   ]
  },
  {
   "cell_type": "code",
   "execution_count": 47,
   "metadata": {},
   "outputs": [],
   "source": [
    "# remove NaN rows as it is not useful anymore\n",
    "s_contdays = df_firstlast.loc[df_firstlast.uninterrupted_days.notnull(),'uninterrupted_days'].astype('int64')"
   ]
  },
  {
   "cell_type": "markdown",
   "metadata": {},
   "source": [
    "#### Take care of non-continuous transaction history\n",
    "In this case, there is an active cancellation or membership expired on its own."
   ]
  },
  {
   "cell_type": "code",
   "execution_count": 48,
   "metadata": {},
   "outputs": [],
   "source": [
    "# process users with non-continuous transactions\n",
    "df_noncontusers = df_uninter.loc[~df_uninter.msno.isin(continuous_users), :]"
   ]
  },
  {
   "cell_type": "code",
   "execution_count": 49,
   "metadata": {},
   "outputs": [
    {
     "data": {
      "text/plain": [
       "505587"
      ]
     },
     "execution_count": 49,
     "metadata": {},
     "output_type": "execute_result"
    }
   ],
   "source": [
    "df_noncontusers.msno.value_counts().count()"
   ]
  },
  {
   "cell_type": "code",
   "execution_count": 50,
   "metadata": {},
   "outputs": [],
   "source": [
    "# sort by most recent transaction date\n",
    "df_noncontusers = df_noncontusers.sort_values(['msno', 'transaction_date', 'membership_expire_date'], ascending=False)"
   ]
  },
  {
   "cell_type": "code",
   "execution_count": 51,
   "metadata": {},
   "outputs": [],
   "source": [
    "def derive_uninterrupted_days(rows):\n",
    "    \"\"\"\n",
    "    derive the most recent number of uninterrupted days for each user\n",
    "    rows : dataframe of one user sorted by transaction date\n",
    "    \"\"\"\n",
    "    # flag for change of state\n",
    "    cont_up = False\n",
    "    \n",
    "    # variable to compute date range\n",
    "    stop_date = 0\n",
    "    start_date = 0\n",
    "\n",
    "    for l in rows.itertuples(index=False):\n",
    "\n",
    "        # use current expiration date as stop date when it is an active cancellation\n",
    "        # and as long as we didn't detect a contineous transaction\n",
    "        if not cont_up and l.delta_exp_date < 0:\n",
    "            stop_date = l.membership_expire_date\n",
    "            \n",
    "        # look for first continuous transaction\n",
    "        if l.is_continuous:\n",
    "            # contineous transaction found\n",
    "            cont_up = True\n",
    "            # set stop date if it wasn't set already\n",
    "            if stop_date == 0:\n",
    "                stop_date = l.membership_expire_date\n",
    "            # update start date\n",
    "            start_date = l.prev_exp_date\n",
    "            \n",
    "        # condition not fulfilled\n",
    "        elif cont_up:\n",
    "            break\n",
    "            \n",
    "    # make sure start_date is a timedelta object\n",
    "    if start_date == 0 or stop_date == 0:\n",
    "        membership_loyalty = pd.Timedelta(days=0)\n",
    "    else:\n",
    "        membership_loyalty = stop_date - start_date\n",
    "    \n",
    "    # return number of days elapsed\n",
    "    return membership_loyalty"
   ]
  },
  {
   "cell_type": "code",
   "execution_count": 52,
   "metadata": {
    "scrolled": false
   },
   "outputs": [
    {
     "name": "stdout",
     "output_type": "stream",
     "text": [
      "\n",
      "--- 0:08:47.931366 seconds elapsed ---\n"
     ]
    }
   ],
   "source": [
    "# compute number of uninterrupted days for each user\n",
    "start_time = time()\n",
    "\n",
    "s_noncontusers = df_noncontusers.groupby('msno', sort=False).apply(derive_uninterrupted_days)\n",
    "\n",
    "print(\"\\n--- %s seconds elapsed ---\" % (timedelta(seconds = time() - start_time)))"
   ]
  },
  {
   "cell_type": "code",
   "execution_count": 53,
   "metadata": {},
   "outputs": [],
   "source": [
    "# convert timedelta to integer\n",
    "s_noncontusers = s_noncontusers.astype('timedelta64[D]').astype('int64')"
   ]
  },
  {
   "cell_type": "code",
   "execution_count": 54,
   "metadata": {},
   "outputs": [],
   "source": [
    "# combine continuous and non-continuous cases\n",
    "s_uninterusers = pd.concat([s_contdays, s_noncontusers])"
   ]
  },
  {
   "cell_type": "code",
   "execution_count": 55,
   "metadata": {},
   "outputs": [
    {
     "data": {
      "text/plain": [
       "(952235,)"
      ]
     },
     "execution_count": 55,
     "metadata": {},
     "output_type": "execute_result"
    }
   ],
   "source": [
    "s_uninterusers.shape"
   ]
  },
  {
   "cell_type": "code",
   "execution_count": 56,
   "metadata": {},
   "outputs": [],
   "source": [
    "# add users without this feature and assign them 0 days of uninterrupted membership\n",
    "s_uninterusers = add_missing_users(s_uninterusers, 0)\n",
    "assert len(s_uninterusers) == len(s_users)"
   ]
  },
  {
   "cell_type": "code",
   "execution_count": 57,
   "metadata": {},
   "outputs": [],
   "source": [
    "# give serie a name\n",
    "s_uninterusers.name = 'uninterrupted_days'"
   ]
  },
  {
   "cell_type": "markdown",
   "metadata": {},
   "source": [
    "# Last Plan duration (added column during EDA)"
   ]
  },
  {
   "cell_type": "code",
   "execution_count": 58,
   "metadata": {},
   "outputs": [],
   "source": [
    "# last plan duration (active cancellation were filtered out as plan_duration may be missing)\n",
    "s_planduration = df_frac_day.plan_duration"
   ]
  },
  {
   "cell_type": "code",
   "execution_count": 59,
   "metadata": {},
   "outputs": [
    {
     "data": {
      "text/plain": [
       "(987812,)"
      ]
     },
     "execution_count": 59,
     "metadata": {},
     "output_type": "execute_result"
    }
   ],
   "source": [
    "s_planduration.shape"
   ]
  },
  {
   "cell_type": "code",
   "execution_count": 60,
   "metadata": {},
   "outputs": [],
   "source": [
    "# add unseen users and assign them the most popular plan duration\n",
    "s_planduration = add_missing_users(s_planduration, s_planduration.value_counts().index[0])\n",
    "assert len(s_planduration) == len(s_users)"
   ]
  },
  {
   "cell_type": "code",
   "execution_count": 61,
   "metadata": {},
   "outputs": [],
   "source": [
    "# give serie a name\n",
    "s_planduration.name = 'plan_duration'"
   ]
  },
  {
   "cell_type": "markdown",
   "metadata": {},
   "source": [
    "# Last Payment ID"
   ]
  },
  {
   "cell_type": "code",
   "execution_count": 62,
   "metadata": {},
   "outputs": [],
   "source": [
    "# last payment ID (active cancellation were filtered out as plan_duration may be missing)\n",
    "s_payID = df_frac_day.is_payid_41"
   ]
  },
  {
   "cell_type": "code",
   "execution_count": 63,
   "metadata": {},
   "outputs": [
    {
     "data": {
      "text/plain": [
       "(987812,)"
      ]
     },
     "execution_count": 63,
     "metadata": {},
     "output_type": "execute_result"
    }
   ],
   "source": [
    "s_payID.shape"
   ]
  },
  {
   "cell_type": "code",
   "execution_count": 64,
   "metadata": {},
   "outputs": [],
   "source": [
    "# add unseen users and assign them payment ID 41\n",
    "s_payID = add_missing_users(s_payID, True)\n",
    "assert len(s_payID) == len(s_users)"
   ]
  },
  {
   "cell_type": "code",
   "execution_count": 65,
   "metadata": {},
   "outputs": [],
   "source": [
    "# give serie a name\n",
    "s_payID.name = 'pay_id'"
   ]
  },
  {
   "cell_type": "markdown",
   "metadata": {},
   "source": [
    "# Combine all features into one dataframe"
   ]
  },
  {
   "cell_type": "code",
   "execution_count": 66,
   "metadata": {},
   "outputs": [],
   "source": [
    "df_transfeatures = pd.concat([s_frac_day,\n",
    "                              s_cancel_ratio,\n",
    "                              s_autorenew_ratio,\n",
    "                              s_uninterusers,\n",
    "                              s_planduration,\n",
    "                              s_payID], axis = 1)"
   ]
  },
  {
   "cell_type": "code",
   "execution_count": 67,
   "metadata": {},
   "outputs": [
    {
     "data": {
      "text/html": [
       "<div>\n",
       "<style scoped>\n",
       "    .dataframe tbody tr th:only-of-type {\n",
       "        vertical-align: middle;\n",
       "    }\n",
       "\n",
       "    .dataframe tbody tr th {\n",
       "        vertical-align: top;\n",
       "    }\n",
       "\n",
       "    .dataframe thead th {\n",
       "        text-align: right;\n",
       "    }\n",
       "</style>\n",
       "<table border=\"1\" class=\"dataframe\">\n",
       "  <thead>\n",
       "    <tr style=\"text-align: right;\">\n",
       "      <th></th>\n",
       "      <th>time_of_month</th>\n",
       "      <th>cancel_ratio</th>\n",
       "      <th>auto_renew_ratio</th>\n",
       "      <th>uninterrupted_days</th>\n",
       "      <th>plan_duration</th>\n",
       "      <th>pay_id</th>\n",
       "    </tr>\n",
       "  </thead>\n",
       "  <tbody>\n",
       "    <tr>\n",
       "      <th>+++hVY1rZox/33YtvDgmKA2Frg/2qhkz12B9ylCvh8o=</th>\n",
       "      <td>0.464286</td>\n",
       "      <td>0.0</td>\n",
       "      <td>1.0</td>\n",
       "      <td>91</td>\n",
       "      <td>30 - 89</td>\n",
       "      <td>True</td>\n",
       "    </tr>\n",
       "    <tr>\n",
       "      <th>+++l/EXNMLTijfLBa8p2TUVVVp2aFGSuUI/h7mLmthw=</th>\n",
       "      <td>0.387097</td>\n",
       "      <td>0.0</td>\n",
       "      <td>1.0</td>\n",
       "      <td>181</td>\n",
       "      <td>30 - 89</td>\n",
       "      <td>False</td>\n",
       "    </tr>\n",
       "    <tr>\n",
       "      <th>+++snpr7pmobhLKUgSHTv/mpkqgBT0tQJ0zQj6qKrqc=</th>\n",
       "      <td>0.071429</td>\n",
       "      <td>0.0</td>\n",
       "      <td>1.0</td>\n",
       "      <td>762</td>\n",
       "      <td>30 - 89</td>\n",
       "      <td>True</td>\n",
       "    </tr>\n",
       "    <tr>\n",
       "      <th>++/9R3sX37CjxbY/AaGvbwr3QkwElKBCtSvVzhCBDOk=</th>\n",
       "      <td>0.464286</td>\n",
       "      <td>0.0</td>\n",
       "      <td>1.0</td>\n",
       "      <td>337</td>\n",
       "      <td>30 - 89</td>\n",
       "      <td>True</td>\n",
       "    </tr>\n",
       "    <tr>\n",
       "      <th>++/UDNo9DLrxT8QVGiDi1OnWfczAdEwThaVyD0fXO50=</th>\n",
       "      <td>0.258065</td>\n",
       "      <td>0.0</td>\n",
       "      <td>1.0</td>\n",
       "      <td>181</td>\n",
       "      <td>30 - 89</td>\n",
       "      <td>False</td>\n",
       "    </tr>\n",
       "  </tbody>\n",
       "</table>\n",
       "</div>"
      ],
      "text/plain": [
       "                                              time_of_month  cancel_ratio  \\\n",
       "+++hVY1rZox/33YtvDgmKA2Frg/2qhkz12B9ylCvh8o=       0.464286           0.0   \n",
       "+++l/EXNMLTijfLBa8p2TUVVVp2aFGSuUI/h7mLmthw=       0.387097           0.0   \n",
       "+++snpr7pmobhLKUgSHTv/mpkqgBT0tQJ0zQj6qKrqc=       0.071429           0.0   \n",
       "++/9R3sX37CjxbY/AaGvbwr3QkwElKBCtSvVzhCBDOk=       0.464286           0.0   \n",
       "++/UDNo9DLrxT8QVGiDi1OnWfczAdEwThaVyD0fXO50=       0.258065           0.0   \n",
       "\n",
       "                                              auto_renew_ratio  \\\n",
       "+++hVY1rZox/33YtvDgmKA2Frg/2qhkz12B9ylCvh8o=               1.0   \n",
       "+++l/EXNMLTijfLBa8p2TUVVVp2aFGSuUI/h7mLmthw=               1.0   \n",
       "+++snpr7pmobhLKUgSHTv/mpkqgBT0tQJ0zQj6qKrqc=               1.0   \n",
       "++/9R3sX37CjxbY/AaGvbwr3QkwElKBCtSvVzhCBDOk=               1.0   \n",
       "++/UDNo9DLrxT8QVGiDi1OnWfczAdEwThaVyD0fXO50=               1.0   \n",
       "\n",
       "                                              uninterrupted_days  \\\n",
       "+++hVY1rZox/33YtvDgmKA2Frg/2qhkz12B9ylCvh8o=                  91   \n",
       "+++l/EXNMLTijfLBa8p2TUVVVp2aFGSuUI/h7mLmthw=                 181   \n",
       "+++snpr7pmobhLKUgSHTv/mpkqgBT0tQJ0zQj6qKrqc=                 762   \n",
       "++/9R3sX37CjxbY/AaGvbwr3QkwElKBCtSvVzhCBDOk=                 337   \n",
       "++/UDNo9DLrxT8QVGiDi1OnWfczAdEwThaVyD0fXO50=                 181   \n",
       "\n",
       "                                             plan_duration  pay_id  \n",
       "+++hVY1rZox/33YtvDgmKA2Frg/2qhkz12B9ylCvh8o=       30 - 89    True  \n",
       "+++l/EXNMLTijfLBa8p2TUVVVp2aFGSuUI/h7mLmthw=       30 - 89   False  \n",
       "+++snpr7pmobhLKUgSHTv/mpkqgBT0tQJ0zQj6qKrqc=       30 - 89    True  \n",
       "++/9R3sX37CjxbY/AaGvbwr3QkwElKBCtSvVzhCBDOk=       30 - 89    True  \n",
       "++/UDNo9DLrxT8QVGiDi1OnWfczAdEwThaVyD0fXO50=       30 - 89   False  "
      ]
     },
     "execution_count": 67,
     "metadata": {},
     "output_type": "execute_result"
    }
   ],
   "source": [
    "df_transfeatures.head()"
   ]
  },
  {
   "cell_type": "code",
   "execution_count": 68,
   "metadata": {},
   "outputs": [],
   "source": [
    "# save dataframe to file (pickle)\n",
    "trans_proc_dir = os.path.join(os.pardir, 'data', 'processed', 'transactions_February2017.p34')\n",
    "df_transfeatures.to_pickle(trans_proc_dir)"
   ]
  },
  {
   "cell_type": "markdown",
   "metadata": {},
   "source": [
    "# Draft"
   ]
  },
  {
   "cell_type": "code",
   "execution_count": null,
   "metadata": {},
   "outputs": [],
   "source": [
    "# # Delay-substract the whole column\n",
    "# df_noncontusers['is_contineous_diff'] = df_noncontusers.is_contineous.diff()\n",
    "\n",
    "# # correct for propagation from one user to another\n",
    "# df_noncontusers.loc[df_noncontusers.msno != df_noncontusers.msno.shift(periods=1), 'is_contineous_diff'] = np.nan"
   ]
  },
  {
   "cell_type": "code",
   "execution_count": null,
   "metadata": {},
   "outputs": [],
   "source": [
    "# # assign rank to is_contineous_diff\n",
    "# df_noncontusers['is_contineous_rank'] = df_noncontusers.groupby('msno', sort=False).is_contineous_diff.rank(method='first')"
   ]
  },
  {
   "cell_type": "markdown",
   "metadata": {},
   "source": [
    "# 2nd feature\n",
    "- Number of days in or out of churning zone at the end of prediction month\n",
    "\n",
    "Based on transactions up to January 31st, we know each user membership expiration date. Here we derive how many days elapsed past membership expiration date to the end of February. Some instances have an expiration date past end of February so it will be negative."
   ]
  },
  {
   "cell_type": "code",
   "execution_count": null,
   "metadata": {},
   "outputs": [],
   "source": [
    "# keep last expiration date for each user\n",
    "df_churn_zone = df_transac.groupby('msno', sort=False).nth(-1)"
   ]
  },
  {
   "cell_type": "code",
   "execution_count": null,
   "metadata": {},
   "outputs": [],
   "source": [
    "# time difference with end of February\n",
    "s_churn_zone = pd.Timestamp('2017-02-28') - df_churn_zone.membership_expire_date \n",
    "\n",
    "# convert time stamp to integer (number of days)\n",
    "s_churn_zone = s_churn_zone.astype('timedelta64[D]').astype('int64')"
   ]
  },
  {
   "cell_type": "code",
   "execution_count": null,
   "metadata": {},
   "outputs": [],
   "source": [
    "# Again we need to include new users\n",
    "s_churn_zone.shape"
   ]
  },
  {
   "cell_type": "code",
   "execution_count": null,
   "metadata": {},
   "outputs": [],
   "source": [
    "# users who have churned as of January, 31st (no need to add them!)\n",
    "churned_users = s_churn_zone[s_churn_zone > 58].index\n",
    "len(churned_users)"
   ]
  },
  {
   "cell_type": "code",
   "execution_count": null,
   "metadata": {},
   "outputs": [],
   "source": [
    "# people who are signing up during prediction month (February)\n",
    "# we have no information on them!\n",
    "other_users = set(s_users.msno).difference(s_churn_zone.index)\n",
    "len(other_users)"
   ]
  },
  {
   "cell_type": "code",
   "execution_count": null,
   "metadata": {},
   "outputs": [],
   "source": [
    "# combination of the two above\n",
    "non_eligible = other_users.union(set(churned_users))\n",
    "len(non_eligible)"
   ]
  },
  {
   "cell_type": "code",
   "execution_count": null,
   "metadata": {},
   "outputs": [],
   "source": [
    "train_dir = os.path.join(os.pardir, 'data', 'processed', 'train.csv')\n",
    "new_users_s = s_users[~s_users.msno.isin(non_eligible)].copy()\n",
    "new_users_s.is_churn = new_users_s.is_churn.astype('int64')\n",
    "new_users_s.to_csv(train_dir, index=False)"
   ]
  },
  {
   "cell_type": "code",
   "execution_count": null,
   "metadata": {},
   "outputs": [],
   "source": [
    "# # Assign best case scenario to new users which is 31 days until they get in the churning zone\n",
    "# s_churn_zone = add_missing_users(s_churn_zone, s_churn_zone.min())\n",
    "# assert len(s_churn_zone) == len(s_users)"
   ]
  },
  {
   "cell_type": "code",
   "execution_count": null,
   "metadata": {},
   "outputs": [],
   "source": [
    "# give serie a name\n",
    "s_churn_zone.name = 'churn_zone_days'"
   ]
  }
 ],
 "metadata": {
  "kernelspec": {
   "display_name": "kkbox_churn_kernel",
   "language": "python",
   "name": "kkbox_churn"
  },
  "language_info": {
   "codemirror_mode": {
    "name": "ipython",
    "version": 3
   },
   "file_extension": ".py",
   "mimetype": "text/x-python",
   "name": "python",
   "nbconvert_exporter": "python",
   "pygments_lexer": "ipython3",
   "version": "3.6.4"
  }
 },
 "nbformat": 4,
 "nbformat_minor": 2
}
