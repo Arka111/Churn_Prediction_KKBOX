{
 "cells": [
  {
   "cell_type": "markdown",
   "metadata": {},
   "source": [
    "# Create features based on user's activity log"
   ]
  },
  {
   "cell_type": "code",
   "execution_count": 1,
   "metadata": {},
   "outputs": [],
   "source": [
    "import os\n",
    "import re\n",
    "import pandas as pd\n",
    "import numpy as np\n",
    "import psycopg2 as pg2\n",
    "from time import time\n",
    "from datetime import timedelta"
   ]
  },
  {
   "cell_type": "code",
   "execution_count": 2,
   "metadata": {},
   "outputs": [],
   "source": [
    "# query\n",
    "query_tot_agg = '''\n",
    "                SELECT msno, date_trunc('month', date) AS month_year,\n",
    "                SUM(total_secs) AS total_secs, COUNT(total_secs) AS total_secs_count,\n",
    "                SUM(num_25) AS num_25,\n",
    "                SUM(num_50) AS num_50,\n",
    "                SUM(num_75) AS num_75,\n",
    "                SUM(num_985) AS num_985,\n",
    "                SUM(num_100) AS num_100,\n",
    "                SUM(num_unq) AS num_unq,\n",
    "                COUNT(*) AS total_count\n",
    "                FROM Activity\n",
    "                WHERE date_trunc('month', date) >= '2016-07-01'\n",
    "                GROUP BY msno, month_year\n",
    "                ORDER BY msno, month_year\n",
    "                '''"
   ]
  },
  {
   "cell_type": "code",
   "execution_count": 3,
   "metadata": {},
   "outputs": [
    {
     "data": {
      "text/plain": [
       "datetime.timedelta(0, 2230, 43613)"
      ]
     },
     "execution_count": 3,
     "metadata": {},
     "output_type": "execute_result"
    }
   ],
   "source": [
    "start_time = time()\n",
    "# connect to database and retrieve aggregation\n",
    "with pg2.connect(dbname = 'kkbox', user='postgres', password = 'Hallmark') as conn:\n",
    "    df_activity = pd.read_sql_query(query_tot_agg, conn)\n",
    "\n",
    "print('{}'.format(timedelta(seconds = time() - start_time))"
   ]
  },
  {
   "cell_type": "code",
   "execution_count": 4,
   "metadata": {},
   "outputs": [
    {
     "data": {
      "text/plain": [
       "(9026403, 11)"
      ]
     },
     "execution_count": 4,
     "metadata": {},
     "output_type": "execute_result"
    }
   ],
   "source": [
    "df_activity.shape"
   ]
  },
  {
   "cell_type": "code",
   "execution_count": 5,
   "metadata": {},
   "outputs": [
    {
     "name": "stdout",
     "output_type": "stream",
     "text": [
      "<class 'pandas.core.frame.DataFrame'>\n",
      "RangeIndex: 9026403 entries, 0 to 9026402\n",
      "Data columns (total 11 columns):\n",
      "msno                object\n",
      "month_year          object\n",
      "total_secs          float64\n",
      "total_secs_count    int64\n",
      "num_25              int64\n",
      "num_50              int64\n",
      "num_75              int64\n",
      "num_985             int64\n",
      "num_100             int64\n",
      "num_unq             int64\n",
      "total_count         int64\n",
      "dtypes: float64(1), int64(8), object(2)\n",
      "memory usage: 757.5+ MB\n"
     ]
    }
   ],
   "source": [
    "df_activity.info()"
   ]
  },
  {
   "cell_type": "code",
   "execution_count": 6,
   "metadata": {},
   "outputs": [
    {
     "data": {
      "text/html": [
       "<div>\n",
       "<style scoped>\n",
       "    .dataframe tbody tr th:only-of-type {\n",
       "        vertical-align: middle;\n",
       "    }\n",
       "\n",
       "    .dataframe tbody tr th {\n",
       "        vertical-align: top;\n",
       "    }\n",
       "\n",
       "    .dataframe thead th {\n",
       "        text-align: right;\n",
       "    }\n",
       "</style>\n",
       "<table border=\"1\" class=\"dataframe\">\n",
       "  <thead>\n",
       "    <tr style=\"text-align: right;\">\n",
       "      <th></th>\n",
       "      <th>msno</th>\n",
       "      <th>month_year</th>\n",
       "      <th>total_secs</th>\n",
       "      <th>total_secs_count</th>\n",
       "      <th>num_25</th>\n",
       "      <th>num_50</th>\n",
       "      <th>num_75</th>\n",
       "      <th>num_985</th>\n",
       "      <th>num_100</th>\n",
       "      <th>num_unq</th>\n",
       "      <th>total_count</th>\n",
       "    </tr>\n",
       "  </thead>\n",
       "  <tbody>\n",
       "    <tr>\n",
       "      <th>0</th>\n",
       "      <td>////SJZL1C7NrCXGlhnW3lm7vuKDbfB+ALl99xDbSlE=</td>\n",
       "      <td>2016-07-01 00:00:00-04:00</td>\n",
       "      <td>36.808</td>\n",
       "      <td>2</td>\n",
       "      <td>2</td>\n",
       "      <td>0</td>\n",
       "      <td>0</td>\n",
       "      <td>0</td>\n",
       "      <td>0</td>\n",
       "      <td>2</td>\n",
       "      <td>2</td>\n",
       "    </tr>\n",
       "    <tr>\n",
       "      <th>1</th>\n",
       "      <td>///2pAPKetZe8zPqAwkYBjAUr+4pS8Rc6bsO4eGAlWI=</td>\n",
       "      <td>2016-07-01 00:00:00-04:00</td>\n",
       "      <td>292876.000</td>\n",
       "      <td>31</td>\n",
       "      <td>128</td>\n",
       "      <td>45</td>\n",
       "      <td>45</td>\n",
       "      <td>92</td>\n",
       "      <td>982</td>\n",
       "      <td>825</td>\n",
       "      <td>31</td>\n",
       "    </tr>\n",
       "    <tr>\n",
       "      <th>2</th>\n",
       "      <td>///2pAPKetZe8zPqAwkYBjAUr+4pS8Rc6bsO4eGAlWI=</td>\n",
       "      <td>2016-08-01 00:00:00-04:00</td>\n",
       "      <td>212593.000</td>\n",
       "      <td>31</td>\n",
       "      <td>88</td>\n",
       "      <td>56</td>\n",
       "      <td>42</td>\n",
       "      <td>70</td>\n",
       "      <td>708</td>\n",
       "      <td>766</td>\n",
       "      <td>31</td>\n",
       "    </tr>\n",
       "    <tr>\n",
       "      <th>3</th>\n",
       "      <td>///2pAPKetZe8zPqAwkYBjAUr+4pS8Rc6bsO4eGAlWI=</td>\n",
       "      <td>2016-09-01 00:00:00-04:00</td>\n",
       "      <td>370245.000</td>\n",
       "      <td>30</td>\n",
       "      <td>314</td>\n",
       "      <td>59</td>\n",
       "      <td>60</td>\n",
       "      <td>76</td>\n",
       "      <td>1283</td>\n",
       "      <td>1478</td>\n",
       "      <td>30</td>\n",
       "    </tr>\n",
       "    <tr>\n",
       "      <th>4</th>\n",
       "      <td>///2pAPKetZe8zPqAwkYBjAUr+4pS8Rc6bsO4eGAlWI=</td>\n",
       "      <td>2016-10-01 00:00:00-04:00</td>\n",
       "      <td>300341.000</td>\n",
       "      <td>31</td>\n",
       "      <td>68</td>\n",
       "      <td>46</td>\n",
       "      <td>34</td>\n",
       "      <td>28</td>\n",
       "      <td>1080</td>\n",
       "      <td>1016</td>\n",
       "      <td>31</td>\n",
       "    </tr>\n",
       "  </tbody>\n",
       "</table>\n",
       "</div>"
      ],
      "text/plain": [
       "                                           msno                 month_year  \\\n",
       "0  ////SJZL1C7NrCXGlhnW3lm7vuKDbfB+ALl99xDbSlE=  2016-07-01 00:00:00-04:00   \n",
       "1  ///2pAPKetZe8zPqAwkYBjAUr+4pS8Rc6bsO4eGAlWI=  2016-07-01 00:00:00-04:00   \n",
       "2  ///2pAPKetZe8zPqAwkYBjAUr+4pS8Rc6bsO4eGAlWI=  2016-08-01 00:00:00-04:00   \n",
       "3  ///2pAPKetZe8zPqAwkYBjAUr+4pS8Rc6bsO4eGAlWI=  2016-09-01 00:00:00-04:00   \n",
       "4  ///2pAPKetZe8zPqAwkYBjAUr+4pS8Rc6bsO4eGAlWI=  2016-10-01 00:00:00-04:00   \n",
       "\n",
       "   total_secs  total_secs_count  num_25  num_50  num_75  num_985  num_100  \\\n",
       "0      36.808                 2       2       0       0        0        0   \n",
       "1  292876.000                31     128      45      45       92      982   \n",
       "2  212593.000                31      88      56      42       70      708   \n",
       "3  370245.000                30     314      59      60       76     1283   \n",
       "4  300341.000                31      68      46      34       28     1080   \n",
       "\n",
       "   num_unq  total_count  \n",
       "0        2            2  \n",
       "1      825           31  \n",
       "2      766           31  \n",
       "3     1478           30  \n",
       "4     1016           31  "
      ]
     },
     "execution_count": 6,
     "metadata": {},
     "output_type": "execute_result"
    }
   ],
   "source": [
    "df_activity.head()"
   ]
  },
  {
   "cell_type": "markdown",
   "metadata": {},
   "source": [
    "#### Retrieve eligible users for prediction"
   ]
  },
  {
   "cell_type": "code",
   "execution_count": 7,
   "metadata": {},
   "outputs": [],
   "source": [
    "train_dir = os.path.join(os.pardir, 'data', 'processed', 'train.csv')\n",
    "s_users = pd.read_csv(train_dir, usecols = ['msno'])"
   ]
  },
  {
   "cell_type": "code",
   "execution_count": 8,
   "metadata": {},
   "outputs": [],
   "source": [
    "# keep data from eligible users\n",
    "df_activity = df_activity[df_activity.msno.isin(s_users.msno)]"
   ]
  },
  {
   "cell_type": "code",
   "execution_count": 9,
   "metadata": {},
   "outputs": [
    {
     "data": {
      "text/plain": [
       "(5694375, 11)"
      ]
     },
     "execution_count": 9,
     "metadata": {},
     "output_type": "execute_result"
    }
   ],
   "source": [
    "df_activity.shape"
   ]
  },
  {
   "cell_type": "markdown",
   "metadata": {},
   "source": [
    "Convert month_year to datetime object and eliminate time"
   ]
  },
  {
   "cell_type": "code",
   "execution_count": 10,
   "metadata": {},
   "outputs": [],
   "source": [
    "df_activity.month_year = pd.to_datetime(df_activity.month_year, utc=True)"
   ]
  },
  {
   "cell_type": "code",
   "execution_count": 11,
   "metadata": {},
   "outputs": [],
   "source": [
    "df_activity.month_year = df_activity.month_year.values.astype('<M8[D]')"
   ]
  },
  {
   "cell_type": "markdown",
   "metadata": {},
   "source": [
    "Set hierarchical indexes"
   ]
  },
  {
   "cell_type": "code",
   "execution_count": 12,
   "metadata": {},
   "outputs": [],
   "source": [
    "df_activity = df_activity.set_index(['msno', 'month_year'])"
   ]
  },
  {
   "cell_type": "markdown",
   "metadata": {},
   "source": [
    "Create cumulative sum of song count"
   ]
  },
  {
   "cell_type": "code",
   "execution_count": 13,
   "metadata": {},
   "outputs": [],
   "source": [
    "# capture song count column (intervals, not num_unq)\n",
    "num_column = [col for col in df_activity.columns if re.match('num_\\d\\d+', col)]"
   ]
  },
  {
   "cell_type": "code",
   "execution_count": 14,
   "metadata": {},
   "outputs": [],
   "source": [
    "for sl in range(2,len(num_column)+1):\n",
    "    \n",
    "    # get the number of song length to accumulate\n",
    "    cum_length = num_column[:sl]\n",
    "    \n",
    "    # create new level name\n",
    "    last_num_digits = cum_length[-1].split('_')[-1]\n",
    "    cum_name = ''.join(['cum_', last_num_digits])\n",
    "    \n",
    "    # sum along columns\n",
    "    df_activity[cum_name] = df_activity.loc[:, cum_length].sum(axis = 1)"
   ]
  },
  {
   "cell_type": "markdown",
   "metadata": {},
   "source": [
    "Create fraction of unique songs"
   ]
  },
  {
   "cell_type": "code",
   "execution_count": 15,
   "metadata": {},
   "outputs": [],
   "source": [
    "df_activity['frac_unq'] = df_activity.num_unq / df_activity.cum_100"
   ]
  },
  {
   "cell_type": "markdown",
   "metadata": {},
   "source": [
    "Normalize song count by number of activity days, same for total listening time"
   ]
  },
  {
   "cell_type": "code",
   "execution_count": 16,
   "metadata": {},
   "outputs": [],
   "source": [
    "column2norm = [col for col in df_activity.columns if col[:3] in ['num', 'cum']]\n",
    "# normalize song count\n",
    "for col in column2norm:\n",
    "    df_activity.loc[:, col] = df_activity.loc[:, col] / df_activity.total_count"
   ]
  },
  {
   "cell_type": "code",
   "execution_count": 17,
   "metadata": {},
   "outputs": [],
   "source": [
    "# normalize listening time\n",
    "df_activity.total_secs = df_activity.total_secs/df_activity.total_secs_count"
   ]
  },
  {
   "cell_type": "markdown",
   "metadata": {},
   "source": [
    "Drop total columns"
   ]
  },
  {
   "cell_type": "code",
   "execution_count": 18,
   "metadata": {},
   "outputs": [],
   "source": [
    "df_activity.drop(['total_secs_count', 'total_count'], axis = 1, inplace=True)"
   ]
  },
  {
   "cell_type": "markdown",
   "metadata": {},
   "source": [
    "Calculate percentage change from one month to another"
   ]
  },
  {
   "cell_type": "code",
   "execution_count": 19,
   "metadata": {},
   "outputs": [],
   "source": [
    "# faster to use shift -1 rather than pct_change()\n",
    "df_percent = df_activity / df_activity.groupby(level='msno', sort = False).shift() - 1"
   ]
  },
  {
   "cell_type": "code",
   "execution_count": 20,
   "metadata": {},
   "outputs": [],
   "source": [
    "# rename columns\n",
    "df_percent.columns = ['_'.join([col, 'pct']) for col in df_percent.columns]\n",
    "# we don't have a percentage change for the first month, fill it with 0\n",
    "df_percent = df_percent.fillna(0)\n",
    "# when the previous activity is 0 and current activity is not, it will yield an infinite increase!\n",
    "# set inf to 1 instead\n",
    "df_percent = df_percent.replace(to_replace = np.inf, value = 1)"
   ]
  },
  {
   "cell_type": "markdown",
   "metadata": {},
   "source": [
    "Combine percentage increase with raw count"
   ]
  },
  {
   "cell_type": "code",
   "execution_count": 21,
   "metadata": {},
   "outputs": [],
   "source": [
    "df_activity = pd.concat([df_activity, df_percent], axis = 1)"
   ]
  },
  {
   "cell_type": "markdown",
   "metadata": {},
   "source": [
    "Unstack to create feature for each month. When data was not available for that month, replace by 0"
   ]
  },
  {
   "cell_type": "code",
   "execution_count": 22,
   "metadata": {},
   "outputs": [],
   "source": [
    "df_activity = df_activity.unstack(fill_value=0)"
   ]
  },
  {
   "cell_type": "code",
   "execution_count": null,
   "metadata": {},
   "outputs": [],
   "source": []
  },
  {
   "cell_type": "code",
   "execution_count": null,
   "metadata": {},
   "outputs": [],
   "source": []
  },
  {
   "cell_type": "code",
   "execution_count": null,
   "metadata": {},
   "outputs": [],
   "source": []
  },
  {
   "cell_type": "markdown",
   "metadata": {},
   "source": [
    "# TODO: Check if total_secs columns have Nan after unstacking"
   ]
  },
  {
   "cell_type": "code",
   "execution_count": 23,
   "metadata": {},
   "outputs": [],
   "source": [
    "Activity_proc_dir = os.path.join(os.pardir, 'data', 'processed', 'activity_features.p34')\n",
    "df_activity.to_pickle(Activity_proc_dir)"
   ]
  }
 ],
 "metadata": {
  "kernelspec": {
   "display_name": "kkbox_churn_kernel",
   "language": "python",
   "name": "kkbox_churn"
  },
  "language_info": {
   "codemirror_mode": {
    "name": "ipython",
    "version": 3
   },
   "file_extension": ".py",
   "mimetype": "text/x-python",
   "name": "python",
   "nbconvert_exporter": "python",
   "pygments_lexer": "ipython3",
   "version": "3.6.4"
  }
 },
 "nbformat": 4,
 "nbformat_minor": 2
}
