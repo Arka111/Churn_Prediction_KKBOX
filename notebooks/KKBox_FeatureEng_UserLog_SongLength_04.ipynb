{
 "cells": [
  {
   "cell_type": "code",
   "execution_count": 1,
   "metadata": {
    "collapsed": true
   },
   "outputs": [],
   "source": [
    "import os\n",
    "import pandas as pd\n",
    "import numpy as np\n",
    "from time import time\n",
    "from datetime import timedelta"
   ]
  },
  {
   "cell_type": "markdown",
   "metadata": {},
   "source": [
    "#### Retrieve eligible users for prediction"
   ]
  },
  {
   "cell_type": "code",
   "execution_count": 2,
   "metadata": {
    "collapsed": true
   },
   "outputs": [],
   "source": [
    "train_dir = os.path.join(os.pardir, 'data', 'raw', 'train.csv')\n",
    "s_users = pd.read_csv(train_dir, usecols = ['msno'])"
   ]
  },
  {
   "cell_type": "code",
   "execution_count": 3,
   "metadata": {
    "collapsed": true
   },
   "outputs": [],
   "source": [
    "current_users = s_users.msno.values"
   ]
  },
  {
   "cell_type": "markdown",
   "metadata": {},
   "source": [
    "#### Compute monthly activity (song length count per month)"
   ]
  },
  {
   "cell_type": "code",
   "execution_count": 4,
   "metadata": {},
   "outputs": [
    {
     "name": "stdout",
     "output_type": "stream",
     "text": [
      "Number of rows =  392106544\n"
     ]
    }
   ],
   "source": [
    "# create file path and compute total number of lines\n",
    "user_log_dir = os.path.join(os.pardir, 'data', 'raw', 'user_logs.csv')\n",
    "Total_rows = sum(1 for line in open(user_log_dir))\n",
    "print('Number of rows = ', Total_rows)"
   ]
  },
  {
   "cell_type": "code",
   "execution_count": 5,
   "metadata": {
    "collapsed": true
   },
   "outputs": [],
   "source": [
    "# number of rows\n",
    "# Num_rows = 1e6\n",
    "Num_rows = 20e6"
   ]
  },
  {
   "cell_type": "code",
   "execution_count": 6,
   "metadata": {
    "collapsed": true
   },
   "outputs": [],
   "source": [
    "reader_iter = pd.read_csv(user_log_dir, index_col = 'date', parse_dates=['date'], chunksize=Num_rows,\\\n",
    "        usecols = ['msno', 'date', 'num_25', 'num_50', 'num_75', 'num_985', 'num_100'])"
   ]
  },
  {
   "cell_type": "code",
   "execution_count": 7,
   "metadata": {
    "collapsed": true
   },
   "outputs": [],
   "source": [
    "df_song_length = pd.DataFrame(index= pd.MultiIndex( levels=[[]]*2, labels = [[]]*2, names=['msno', 'date']), \\\n",
    "                 columns=['num_25', 'num_50', 'num_75', 'num_985', 'num_100']).astype('int64')\n",
    "# dtype matches reader_iter inferred type (int64)"
   ]
  },
  {
   "cell_type": "code",
   "execution_count": 8,
   "metadata": {},
   "outputs": [
    {
     "name": "stdout",
     "output_type": "stream",
     "text": [
      "      100.0% done \t--- 0:36:02.802240 seconds ellapsed ---"
     ]
    }
   ],
   "source": [
    "# get start time of timer for processing time\n",
    "start_time = time()\n",
    "row_counter = 0\n",
    "\n",
    "for df_chunk in reader_iter:\n",
    "    \n",
    "    # keep track of progress\n",
    "    row_counter += df_chunk.shape[0]\n",
    "    \n",
    "    # keep only eligible users\n",
    "    df_chunk = df_chunk[df_chunk.msno.isin(current_users)]\n",
    "    \n",
    "#     # convert msno to category for our eligible users\n",
    "#     df_chunk.msno = df_chunk.msno.astype(CategoricalDtype(categories=current_users))\n",
    "#     # category codes of -1 means user is not eligible (msno will be Nan), filter them out\n",
    "#     df_chunk = df_chunk[df_chunk.msno.cat.codes >= 0]\n",
    "\n",
    "    # group by user and month\n",
    "    df_song_length_chunk = df_chunk.groupby(['msno', pd.Grouper(level='date', freq='M')], sort = False).sum()\n",
    "    \n",
    "    # add last time serie to global time serie\n",
    "    df_song_length = df_song_length.add(df_song_length_chunk, fill_value = 0)\n",
    "    \n",
    "    # print progress after each processed chunk\n",
    "    print('\\r {:10.1f}% done \\t--- {} seconds ellapsed ---'.format(row_counter/Total_rows*100,\\\n",
    "                                timedelta(seconds = time() - start_time)) ,end='', flush=True)"
   ]
  },
  {
   "cell_type": "markdown",
   "metadata": {
    "collapsed": true
   },
   "source": [
    "#### Pivot dates"
   ]
  },
  {
   "cell_type": "code",
   "execution_count": 9,
   "metadata": {
    "collapsed": true
   },
   "outputs": [],
   "source": [
    "df_unstack = df_song_length.unstack(level='date', fill_value=0)"
   ]
  },
  {
   "cell_type": "code",
   "execution_count": 10,
   "metadata": {
    "collapsed": true
   },
   "outputs": [],
   "source": [
    "Userlog_inter_dir = os.path.join(os.pardir, 'data', 'interim', 'song_length_fulldate_rawcount.p34')\n",
    "df_unstack.to_pickle(Userlog_inter_dir)\n",
    "# df_unstack = pd.read_pickle('song_length_fulldate_rawcount.p34')"
   ]
  },
  {
   "cell_type": "code",
   "execution_count": 11,
   "metadata": {
    "collapsed": true
   },
   "outputs": [],
   "source": [
    "# recover only the last 6 months labels\n",
    "past_6_month = df_unstack.columns.get_level_values(level = 1).unique()[:-6]"
   ]
  },
  {
   "cell_type": "code",
   "execution_count": 12,
   "metadata": {
    "collapsed": true
   },
   "outputs": [],
   "source": [
    "# discard months prior to 6 months\n",
    "df_unstack = df_unstack.drop(labels=past_6_month, axis = 1, level = 1)"
   ]
  },
  {
   "cell_type": "markdown",
   "metadata": {},
   "source": [
    "NOTE: There are users who have a membership but did not show any activity"
   ]
  },
  {
   "cell_type": "code",
   "execution_count": 13,
   "metadata": {},
   "outputs": [
    {
     "name": "stdout",
     "output_type": "stream",
     "text": [
      "Number of missing users = 123005\n"
     ]
    }
   ],
   "source": [
    "# number of eligible users who have no activity\n",
    "num_missing_users = len(current_users) - df_unstack.shape[0]\n",
    "print('Number of missing users =', num_missing_users)"
   ]
  },
  {
   "cell_type": "markdown",
   "metadata": {},
   "source": [
    "#### Add cumulative sum of count for each song length. \n",
    "For instance `cumu50` will be the number of songs played up to 50% of its length."
   ]
  },
  {
   "cell_type": "code",
   "execution_count": 14,
   "metadata": {
    "collapsed": true
   },
   "outputs": [],
   "source": [
    "# retrieve levels of song length\n",
    "song_length_level = df_unstack.columns.get_level_values(level = 0).unique()"
   ]
  },
  {
   "cell_type": "code",
   "execution_count": 15,
   "metadata": {
    "collapsed": true
   },
   "outputs": [],
   "source": [
    "# used for multi-indexing\n",
    "idx = pd.IndexSlice\n",
    "\n",
    "# derive cumulative count for each song length\n",
    "for sl in range(2,len(song_length_level)+1):\n",
    "    \n",
    "    # get the number of song length to accumulate\n",
    "    cum_length = song_length_level[:sl]\n",
    "\n",
    "    # cumulative sum over specified song length for each month (level 1)\n",
    "    df_cum = df_unstack.loc[:, idx[cum_length, :]].sum(axis = 1, level = 1)\n",
    "\n",
    "    # create new level name\n",
    "    cum_name = ''.join(['cum',cum_length[-1]])\n",
    "    \n",
    "    # add higher hierarchical index\n",
    "    df_cum.columns = pd.MultiIndex.from_product([[cum_name], df_cum.columns])\n",
    "\n",
    "    # concatenate new features with the others\n",
    "    df_unstack = pd.concat([df_unstack[:3], df_cum], axis = 1)"
   ]
  },
  {
   "cell_type": "markdown",
   "metadata": {},
   "source": [
    "#### Average count per day over monthly period"
   ]
  },
  {
   "cell_type": "code",
   "execution_count": 16,
   "metadata": {
    "collapsed": true
   },
   "outputs": [],
   "source": [
    "# average count by number of days\n",
    "df_unstack = df_unstack.divide(df_unstack.columns.get_level_values(level = 1).daysinmonth)"
   ]
  },
  {
   "cell_type": "code",
   "execution_count": 17,
   "metadata": {
    "collapsed": true
   },
   "outputs": [],
   "source": [
    "Userlog_proc_dir = os.path.join(os.pardir, 'data', 'processed', 'song_length.p34')\n",
    "df_unstack.to_pickle(Userlog_proc_dir)"
   ]
  }
 ],
 "metadata": {
  "kernelspec": {
   "display_name": "kkbox_churn_kernel",
   "language": "python",
   "name": "kkbox_churn"
  },
  "language_info": {
   "codemirror_mode": {
    "name": "ipython",
    "version": 3
   },
   "file_extension": ".py",
   "mimetype": "text/x-python",
   "name": "python",
   "nbconvert_exporter": "python",
   "pygments_lexer": "ipython3",
   "version": "3.6.4"
  }
 },
 "nbformat": 4,
 "nbformat_minor": 2
}
